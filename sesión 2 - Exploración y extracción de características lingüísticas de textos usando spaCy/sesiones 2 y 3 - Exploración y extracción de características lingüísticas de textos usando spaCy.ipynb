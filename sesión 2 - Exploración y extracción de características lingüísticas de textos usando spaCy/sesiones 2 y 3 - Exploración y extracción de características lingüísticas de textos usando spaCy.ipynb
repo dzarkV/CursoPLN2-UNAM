{
  "nbformat": 4,
  "nbformat_minor": 0,
  "metadata": {
    "colab": {
      "name": "2. Exploración y extracción de características lingüísticas de textos usando spaCy",
      "provenance": []
    },
    "kernelspec": {
      "name": "python3",
      "display_name": "Python 3"
    },
    "language_info": {
      "name": "python"
    }
  },
  "cells": [
    {
      "cell_type": "markdown",
      "source": [
        "# 1.  El objeto `doc` en spaCy. \n",
        "\n",
        "`Doc` es una variable que contiene una secuencia de tokens. Al pasarle un texto a `nlp`, se genera una variable `Doc` automáticamente. Luego esa variable `Doc` nos permite trabajar con tokens sin necesidad de hacer ningún procesamiento posterior.\n",
        "\n",
        "Recordemos que debemos **siempre** comenzar nuestras notebooks descargando el modelo de spaCy que vayamos a ocupar. Los modelos están en la página de spaCy, así como la instrucción que debemos copiar/pegar en la notebook.\n",
        "\n",
        "En este caso usaremos el modelo `es_core_news_sm`.\n",
        "\n",
        "* No olvidar siempre poner un `!` al inicio de la instrucción, pues Colab lo requiere para saber que es un comando de descarga y no de Python."
      ],
      "metadata": {
        "id": "gPp8ycwkoy27"
      }
    },
    {
      "cell_type": "code",
      "source": [
        "! python -m spacy download es_core_news_sm"
      ],
      "metadata": {
        "id": "yh4g890jpZkw",
        "colab": {
          "base_uri": "https://localhost:8080/"
        },
        "outputId": "8492b4a7-179f-4506-9443-62e2330233a7"
      },
      "execution_count": null,
      "outputs": [
        {
          "output_type": "stream",
          "name": "stdout",
          "text": [
            "Collecting es_core_news_sm==2.2.5\n",
            "  Downloading https://github.com/explosion/spacy-models/releases/download/es_core_news_sm-2.2.5/es_core_news_sm-2.2.5.tar.gz (16.2 MB)\n",
            "\u001b[K     |████████████████████████████████| 16.2 MB 12.1 MB/s \n",
            "\u001b[?25hRequirement already satisfied: spacy>=2.2.2 in /usr/local/lib/python3.7/dist-packages (from es_core_news_sm==2.2.5) (2.2.4)\n",
            "Requirement already satisfied: setuptools in /usr/local/lib/python3.7/dist-packages (from spacy>=2.2.2->es_core_news_sm==2.2.5) (57.4.0)\n",
            "Requirement already satisfied: plac<1.2.0,>=0.9.6 in /usr/local/lib/python3.7/dist-packages (from spacy>=2.2.2->es_core_news_sm==2.2.5) (1.1.3)\n",
            "Requirement already satisfied: cymem<2.1.0,>=2.0.2 in /usr/local/lib/python3.7/dist-packages (from spacy>=2.2.2->es_core_news_sm==2.2.5) (2.0.6)\n",
            "Requirement already satisfied: catalogue<1.1.0,>=0.0.7 in /usr/local/lib/python3.7/dist-packages (from spacy>=2.2.2->es_core_news_sm==2.2.5) (1.0.0)\n",
            "Requirement already satisfied: wasabi<1.1.0,>=0.4.0 in /usr/local/lib/python3.7/dist-packages (from spacy>=2.2.2->es_core_news_sm==2.2.5) (0.9.1)\n",
            "Requirement already satisfied: thinc==7.4.0 in /usr/local/lib/python3.7/dist-packages (from spacy>=2.2.2->es_core_news_sm==2.2.5) (7.4.0)\n",
            "Requirement already satisfied: requests<3.0.0,>=2.13.0 in /usr/local/lib/python3.7/dist-packages (from spacy>=2.2.2->es_core_news_sm==2.2.5) (2.23.0)\n",
            "Requirement already satisfied: numpy>=1.15.0 in /usr/local/lib/python3.7/dist-packages (from spacy>=2.2.2->es_core_news_sm==2.2.5) (1.21.6)\n",
            "Requirement already satisfied: murmurhash<1.1.0,>=0.28.0 in /usr/local/lib/python3.7/dist-packages (from spacy>=2.2.2->es_core_news_sm==2.2.5) (1.0.6)\n",
            "Requirement already satisfied: tqdm<5.0.0,>=4.38.0 in /usr/local/lib/python3.7/dist-packages (from spacy>=2.2.2->es_core_news_sm==2.2.5) (4.64.0)\n",
            "Requirement already satisfied: blis<0.5.0,>=0.4.0 in /usr/local/lib/python3.7/dist-packages (from spacy>=2.2.2->es_core_news_sm==2.2.5) (0.4.1)\n",
            "Requirement already satisfied: preshed<3.1.0,>=3.0.2 in /usr/local/lib/python3.7/dist-packages (from spacy>=2.2.2->es_core_news_sm==2.2.5) (3.0.6)\n",
            "Requirement already satisfied: srsly<1.1.0,>=1.0.2 in /usr/local/lib/python3.7/dist-packages (from spacy>=2.2.2->es_core_news_sm==2.2.5) (1.0.5)\n",
            "Requirement already satisfied: importlib-metadata>=0.20 in /usr/local/lib/python3.7/dist-packages (from catalogue<1.1.0,>=0.0.7->spacy>=2.2.2->es_core_news_sm==2.2.5) (4.11.3)\n",
            "Requirement already satisfied: zipp>=0.5 in /usr/local/lib/python3.7/dist-packages (from importlib-metadata>=0.20->catalogue<1.1.0,>=0.0.7->spacy>=2.2.2->es_core_news_sm==2.2.5) (3.8.0)\n",
            "Requirement already satisfied: typing-extensions>=3.6.4 in /usr/local/lib/python3.7/dist-packages (from importlib-metadata>=0.20->catalogue<1.1.0,>=0.0.7->spacy>=2.2.2->es_core_news_sm==2.2.5) (4.2.0)\n",
            "Requirement already satisfied: chardet<4,>=3.0.2 in /usr/local/lib/python3.7/dist-packages (from requests<3.0.0,>=2.13.0->spacy>=2.2.2->es_core_news_sm==2.2.5) (3.0.4)\n",
            "Requirement already satisfied: idna<3,>=2.5 in /usr/local/lib/python3.7/dist-packages (from requests<3.0.0,>=2.13.0->spacy>=2.2.2->es_core_news_sm==2.2.5) (2.10)\n",
            "Requirement already satisfied: certifi>=2017.4.17 in /usr/local/lib/python3.7/dist-packages (from requests<3.0.0,>=2.13.0->spacy>=2.2.2->es_core_news_sm==2.2.5) (2021.10.8)\n",
            "Requirement already satisfied: urllib3!=1.25.0,!=1.25.1,<1.26,>=1.21.1 in /usr/local/lib/python3.7/dist-packages (from requests<3.0.0,>=2.13.0->spacy>=2.2.2->es_core_news_sm==2.2.5) (1.24.3)\n",
            "\u001b[38;5;2m✔ Download and installation successful\u001b[0m\n",
            "You can now load the model via spacy.load('es_core_news_sm')\n"
          ]
        }
      ]
    },
    {
      "cell_type": "markdown",
      "source": [
        "Comenzaremos por analizar un tuit guardado como string en una variable."
      ],
      "metadata": {
        "id": "LXYEFegbw5rS"
      }
    },
    {
      "cell_type": "code",
      "execution_count": null,
      "metadata": {
        "id": "yT44086Kn4zz"
      },
      "outputs": [],
      "source": [
        "import spacy\n",
        "import es_core_news_sm\n",
        "\n",
        "nlp = es_core_news_sm.load()\n",
        "\n",
        "texto = \" Los anuncios de los conciertos en México son cada vez más y aunque nuestra cartera ya no sabe cómo sobreponerse, uno hace lo que sea con tal de poder asistir. Este 18 de abril tres shows más se agregaron a la interminable lista de conciertos de este año (que pueden checar por acá), pues Rosalía anunció su regreso oficial a tierras mexicanas. \"\n",
        "\n",
        "doc = nlp(texto)"
      ]
    },
    {
      "cell_type": "code",
      "source": [
        "len(doc)"
      ],
      "metadata": {
        "colab": {
          "base_uri": "https://localhost:8080/"
        },
        "id": "82_xcb1gghrQ",
        "outputId": "3a4ced5e-8ead-4eec-f3b7-51d503a624eb"
      },
      "execution_count": null,
      "outputs": [
        {
          "output_type": "execute_result",
          "data": {
            "text/plain": [
              "69"
            ]
          },
          "metadata": {},
          "execution_count": 117
        }
      ]
    },
    {
      "cell_type": "markdown",
      "source": [
        "`doc` contiene a todos los tokens del texto que se le pasó a `nlp`. Por lo tanto, para acceder a un token en particular, se indica la posición del token con corchetes (recordemos que la variable `doc` contiene muchos elementos dentro de ella; por lo tanto se accede a sus elementos como si fuera una variable tipo lista)"
      ],
      "metadata": {
        "id": "BibeAxi8lcut"
      }
    },
    {
      "cell_type": "code",
      "source": [
        "doc[31]"
      ],
      "metadata": {
        "colab": {
          "base_uri": "https://localhost:8080/"
        },
        "id": "3baN1Kryqqd_",
        "outputId": "bfcc8862-7bf7-490c-8e08-a81175ba046c"
      },
      "execution_count": null,
      "outputs": [
        {
          "output_type": "execute_result",
          "data": {
            "text/plain": [
              "asistir"
            ]
          },
          "metadata": {},
          "execution_count": 118
        }
      ]
    },
    {
      "cell_type": "markdown",
      "source": [
        "Si se añade `.sent` a un token en específico, Python muestra la oración a la cual pertenece ese token.\n",
        "\n",
        "En el siguiente ejemplo indicamos a Python **un solo token** al señalar el ínice de dicho token dento de la variable `doc`."
      ],
      "metadata": {
        "id": "fgmWKKkUlxHy"
      }
    },
    {
      "cell_type": "code",
      "source": [
        "doc[31].sent"
      ],
      "metadata": {
        "colab": {
          "base_uri": "https://localhost:8080/"
        },
        "id": "12TIId0Dpskv",
        "outputId": "ccbb6fa4-529f-4b42-cd84-c0f515639617"
      },
      "execution_count": null,
      "outputs": [
        {
          "output_type": "execute_result",
          "data": {
            "text/plain": [
              " Los anuncios de los conciertos en México son cada vez más y aunque nuestra cartera ya no sabe cómo sobreponerse, uno hace lo que sea con tal de poder asistir."
            ]
          },
          "metadata": {},
          "execution_count": 119
        }
      ]
    },
    {
      "cell_type": "markdown",
      "source": [
        "Recordemos que para imprimir todos los tokens dentro del objeto `doc` neceesitamos escribir un ciclo `for`, pues esto nos permite recorrer todos los elementos dentro de una variable que contenga varios elementos (en este caso, `doc` contiene varios elementos)."
      ],
      "metadata": {
        "id": "WRLArcXTmBPh"
      }
    },
    {
      "cell_type": "code",
      "source": [
        "for token in doc:\n",
        "  print(token.text)"
      ],
      "metadata": {
        "colab": {
          "base_uri": "https://localhost:8080/"
        },
        "id": "oYr_0QKKrlcV",
        "outputId": "527f3914-7791-4167-d10b-eb4ac03d2d47"
      },
      "execution_count": null,
      "outputs": [
        {
          "output_type": "stream",
          "name": "stdout",
          "text": [
            " \n",
            "Los\n",
            "anuncios\n",
            "de\n",
            "los\n",
            "conciertos\n",
            "en\n",
            "México\n",
            "son\n",
            "cada\n",
            "vez\n",
            "más\n",
            "y\n",
            "aunque\n",
            "nuestra\n",
            "cartera\n",
            "ya\n",
            "no\n",
            "sabe\n",
            "cómo\n",
            "sobreponerse\n",
            ",\n",
            "uno\n",
            "hace\n",
            "lo\n",
            "que\n",
            "sea\n",
            "con\n",
            "tal\n",
            "de\n",
            "poder\n",
            "asistir\n",
            ".\n",
            "Este\n",
            "18\n",
            "de\n",
            "abril\n",
            "tres\n",
            "shows\n",
            "más\n",
            "se\n",
            "agregaron\n",
            "a\n",
            "la\n",
            "interminable\n",
            "lista\n",
            "de\n",
            "conciertos\n",
            "de\n",
            "este\n",
            "año\n",
            "(\n",
            "que\n",
            "pueden\n",
            "checar\n",
            "por\n",
            "acá\n",
            ")\n",
            ",\n",
            "pues\n",
            "Rosalía\n",
            "anunció\n",
            "su\n",
            "regreso\n",
            "oficial\n",
            "a\n",
            "tierras\n",
            "mexicanas\n",
            ".\n"
          ]
        }
      ]
    },
    {
      "cell_type": "markdown",
      "source": [
        "# 2. `doc.noun_chunks`\n",
        "\n",
        "El método `.noun_chunks` regresa todos los tokens con sustantivos."
      ],
      "metadata": {
        "id": "os9SM7Skrz88"
      }
    },
    {
      "cell_type": "markdown",
      "source": [
        "Guardamos el resultado de `doc.noun_chunks` en una lista. Luego guardamos esa lista en la variable llamada `chunks`."
      ],
      "metadata": {
        "id": "DpEKRxUymS1T"
      }
    },
    {
      "cell_type": "code",
      "source": [
        "tokens_sustantivos = list(doc.noun_chunks)"
      ],
      "metadata": {
        "id": "0Jf6Z-6crxGy"
      },
      "execution_count": null,
      "outputs": []
    },
    {
      "cell_type": "markdown",
      "source": [
        "Imprimimos la lista `tokens_sustantivos`"
      ],
      "metadata": {
        "id": "vMjvfPOnmZ8b"
      }
    },
    {
      "cell_type": "code",
      "source": [
        "tokens_sustantivos"
      ],
      "metadata": {
        "colab": {
          "base_uri": "https://localhost:8080/"
        },
        "id": "1VDBLc-dsWeQ",
        "outputId": "08eef3ca-9800-44df-a6c3-8ff5905cc6aa"
      },
      "execution_count": null,
      "outputs": [
        {
          "output_type": "execute_result",
          "data": {
            "text/plain": [
              "[Los anuncios,\n",
              " los conciertos,\n",
              " México,\n",
              " cada vez,\n",
              " nuestra cartera,\n",
              " cómo,\n",
              " sobreponerse,\n",
              " uno,\n",
              " que,\n",
              " tal,\n",
              " Este,\n",
              " abril,\n",
              " shows,\n",
              " se,\n",
              " la interminable lista,\n",
              " conciertos,\n",
              " este año,\n",
              " que,\n",
              " acá,\n",
              " Rosalía,\n",
              " su regreso,\n",
              " tierras]"
            ]
          },
          "metadata": {},
          "execution_count": 122
        }
      ]
    },
    {
      "cell_type": "markdown",
      "source": [
        "# 3. `span`\n",
        "\n",
        "`span` es un objeto que contiene un pedazo de `Doc`. Si `Doc` son todos los tokens de un texto, `span` es sólo algunos tokens de ese `Doc`.\n"
      ],
      "metadata": {
        "id": "KefwPsrJsXfe"
      }
    },
    {
      "cell_type": "code",
      "source": [
        "texto = \"Los niños juegan en el parque con los adultos.\"\n",
        "\n",
        "doc = nlp(texto)\n",
        "\n",
        "span = doc[1:4]"
      ],
      "metadata": {
        "id": "GxM7ggMUsmhW"
      },
      "execution_count": null,
      "outputs": []
    },
    {
      "cell_type": "markdown",
      "source": [
        "Imprimios la variable `span`"
      ],
      "metadata": {
        "id": "1l54HIWgmeg3"
      }
    },
    {
      "cell_type": "code",
      "source": [
        "span"
      ],
      "metadata": {
        "colab": {
          "base_uri": "https://localhost:8080/"
        },
        "id": "ZBdYXkv4sy-u",
        "outputId": "fce6f67f-6d68-4783-b2c7-fcaa28209dba"
      },
      "execution_count": null,
      "outputs": [
        {
          "output_type": "execute_result",
          "data": {
            "text/plain": [
              "niños juegan en"
            ]
          },
          "metadata": {},
          "execution_count": 124
        }
      ]
    },
    {
      "cell_type": "markdown",
      "source": [
        "Para obtener la similitud semántica entre dos spans, primero creamos dos variables spans. Luego usamos `.similarity` para calcular dicha similitud."
      ],
      "metadata": {
        "id": "Ilj86Kxymgjj"
      }
    },
    {
      "cell_type": "code",
      "source": [
        "span1 = doc[0:2]\n",
        "span2 = doc[7:9]\n",
        "\n",
        "print(span1, span2)"
      ],
      "metadata": {
        "colab": {
          "base_uri": "https://localhost:8080/"
        },
        "id": "hZWhK6n_s6i2",
        "outputId": "718a6b0d-c63f-4c80-8961-6f5396731d96"
      },
      "execution_count": null,
      "outputs": [
        {
          "output_type": "stream",
          "name": "stdout",
          "text": [
            "Los niños los adultos\n"
          ]
        }
      ]
    },
    {
      "cell_type": "code",
      "source": [
        "span1.similarity(span2)"
      ],
      "metadata": {
        "colab": {
          "base_uri": "https://localhost:8080/"
        },
        "id": "FKUhsfUmtDFu",
        "outputId": "85daf13a-3370-4e16-f403-7ed7f04d439c"
      },
      "execution_count": null,
      "outputs": [
        {
          "output_type": "stream",
          "name": "stderr",
          "text": [
            "/usr/lib/python3.7/runpy.py:193: ModelsWarning: [W007] The model you're using has no word vectors loaded, so the result of the Span.similarity method will be based on the tagger, parser and NER, which may not give useful similarity judgements. This may happen if you're using one of the small models, e.g. `en_core_web_sm`, which don't ship with word vectors and only use context-sensitive tensors. You can always add your own word vectors, or use one of the larger models instead if available.\n",
            "  \"__main__\", mod_spec)\n"
          ]
        },
        {
          "output_type": "execute_result",
          "data": {
            "text/plain": [
              "0.7908761"
            ]
          },
          "metadata": {},
          "execution_count": 126
        }
      ]
    },
    {
      "cell_type": "markdown",
      "source": [
        "El resultado de `.similarity` va de `0` a `1`. Entre más cerca del `1` este el resultado, mayor similitud semántica entre los spans analizados."
      ],
      "metadata": {
        "id": "QjPW0WiZmse-"
      }
    },
    {
      "cell_type": "markdown",
      "source": [
        "# 4. Modelos en spaCy\n",
        "\n",
        "- Qué son: Algoritmos entrenados con un conjunto de datos. El algoritmo 'aprende' de los textos, y spaCy pone a disposición esos algoritmos entrenados. Estos modelos nos permiten analizar texto usando esos algoritmos, sin necesidad de nosotros mismos hacer algoritmos.\n",
        "- Cómo cargarlos: Con `import nombre_del_modelo`\n",
        "- Cómo identificar sus diferencias: En la página de spaCy se indican el tamaño, corpora de entrenamiento, y lengua de los modelos disponibles.\n"
      ],
      "metadata": {
        "id": "ikaxs6SiAoo0"
      }
    },
    {
      "cell_type": "markdown",
      "source": [
        "[Modelos de spaCy en español](https://spacy.io/models/es)"
      ],
      "metadata": {
        "id": "98Q9YTptBnZW"
      }
    },
    {
      "cell_type": "markdown",
      "source": [
        "# 5. Dependencias sintácticas\n",
        "\n",
        "Las dependencias sintácticas de spaCy nos permiten hacer análisis léxico de nuestros textos. Cada token es etiquetado con un dependencia sintáctica, la cual se obtiene dependiendo de la estructura de las oraciones ingresadas."
      ],
      "metadata": {
        "id": "QXWNeqLfBykU"
      }
    },
    {
      "cell_type": "code",
      "source": [
        "import spacy\n",
        "import en_core_web_sm\n",
        "\n",
        "nlp = en_core_web_sm.load()"
      ],
      "metadata": {
        "id": "2dTAvVLaB9AN"
      },
      "execution_count": null,
      "outputs": []
    },
    {
      "cell_type": "markdown",
      "source": [
        "En la siguiente celda de código, el índice de `doc` permite obtener las dependencias sintácticas de la token a la **izquierda** del token indicado con el índice. En el ejemplo siguiente, `.left` le indica a Python que nos devuelva sólo los tokens dependietes sintácticamente a la izquierda del token en la posición `4`."
      ],
      "metadata": {
        "id": "wKd3OHo7nho7"
      }
    },
    {
      "cell_type": "code",
      "source": [
        "doc = nlp('I want a green apple.')\n",
        "\n",
        "[w for w in doc[4].lefts]"
      ],
      "metadata": {
        "colab": {
          "base_uri": "https://localhost:8080/"
        },
        "id": "Gr0I-DJPBVe5",
        "outputId": "15fc51ce-82d0-43e9-d415-cce5aaefae31"
      },
      "execution_count": null,
      "outputs": [
        {
          "output_type": "execute_result",
          "data": {
            "text/plain": [
              "[a, green]"
            ]
          },
          "metadata": {},
          "execution_count": 131
        }
      ]
    },
    {
      "cell_type": "markdown",
      "source": [
        "![Screen Shot 2022-04-25 at 13.43.05.png](data:image/png;base64,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)"
      ],
      "metadata": {
        "id": "mysvUtk-CQSm"
      }
    },
    {
      "cell_type": "markdown",
      "source": [
        "# 6. Extacción de tokens a partir de sus dependencias sintácticas"
      ],
      "metadata": {
        "id": "jrXfiAaoC31U"
      }
    },
    {
      "cell_type": "markdown",
      "source": [
        "Similar al ejemplo anterior, en la celda siguiente indicamos a Python que nos devuelva todas las tokens dependientes sintácticamente a ambos lados del token indicado en el índice de la variable `doc`."
      ],
      "metadata": {
        "id": "sbgc6fMRoXZu"
      }
    },
    {
      "cell_type": "code",
      "source": [
        "[w for w in doc[4].children]"
      ],
      "metadata": {
        "colab": {
          "base_uri": "https://localhost:8080/"
        },
        "id": "-dhvhmDEAw8s",
        "outputId": "cf492e9d-3aab-4889-9f12-e06c81bb795f"
      },
      "execution_count": null,
      "outputs": [
        {
          "output_type": "execute_result",
          "data": {
            "text/plain": [
              "[a, green]"
            ]
          },
          "metadata": {},
          "execution_count": 132
        }
      ]
    },
    {
      "cell_type": "markdown",
      "source": [
        "A continuación obtenemos todos los tokens de dos oraciones pasadas a la variable `nlp`. Luego imprimimos los tokens, pero segmentados por oraciones. Por eso obtenemos al final dos listas: cada una contiene los tokens de cada oración.\n",
        "\n",
        "En los ejemplos anteriores habíamos obtenido los tokens de varias oraciones sin separarlas en varias listas de acuerdo a sus oraciones."
      ],
      "metadata": {
        "id": "oQF_2aM2olbA"
      }
    },
    {
      "cell_type": "code",
      "source": [
        "doc = nlp('A severe storm hit the beach. It started to rain.')\n",
        "\n",
        "for sent in doc.sents:\n",
        "  print([sent[i] for i in range(len(sent))])"
      ],
      "metadata": {
        "colab": {
          "base_uri": "https://localhost:8080/"
        },
        "id": "XPy5OQ0aCjpm",
        "outputId": "ffdde381-0524-43c4-dfb8-cbc5f7c8690a"
      },
      "execution_count": null,
      "outputs": [
        {
          "output_type": "stream",
          "name": "stdout",
          "text": [
            "[A, severe, storm, hit, the, beach, .]\n",
            "[It, started, to, rain, .]\n"
          ]
        }
      ]
    },
    {
      "cell_type": "markdown",
      "source": [
        "# 7. Ejercicio de repaso: Extracción de características lingüísticas de un texto"
      ],
      "metadata": {
        "id": "63SdoHeWC9I5"
      }
    },
    {
      "cell_type": "markdown",
      "source": [
        "Paso 1: Definir la ruta de Drive en la cual esta guardado nuestro archivo.\n",
        "\n",
        "Paso 2: Cargar esos datos en una variable llamada `datos`. En este caso el comando `sep=\"\\t\"` es necesario cuando nuestros datos están en formato `.tsv`.\n",
        "\n",
        "Paso 3: Imprimir la variable `datos`."
      ],
      "metadata": {
        "id": "uVggYnjVo_mN"
      }
    },
    {
      "cell_type": "code",
      "source": [
        "import pandas as pd\n",
        "\n",
        "ruta = '.../EXIST2021_training.tsv'\n",
        "\n",
        "datos = pd.read_csv(ruta, sep=\"\\t\")\n",
        "datos"
      ],
      "metadata": {
        "colab": {
          "base_uri": "https://localhost:8080/",
          "height": 423
        },
        "id": "JwpmiUKbEBPc",
        "outputId": "7b3e6453-a714-408f-8926-ecbed1d7542a"
      },
      "execution_count": null,
      "outputs": [
        {
          "output_type": "execute_result",
          "data": {
            "text/plain": [
              "      test_case    id   source language  \\\n",
              "0     EXIST2021     1  twitter       en   \n",
              "1     EXIST2021     2  twitter       en   \n",
              "2     EXIST2021     3  twitter       en   \n",
              "3     EXIST2021     4  twitter       en   \n",
              "4     EXIST2021     5  twitter       en   \n",
              "...         ...   ...      ...      ...   \n",
              "6972  EXIST2021  6973  twitter       es   \n",
              "6973  EXIST2021  6974  twitter       es   \n",
              "6974  EXIST2021  6975  twitter       es   \n",
              "6975  EXIST2021  6976  twitter       es   \n",
              "6976  EXIST2021  6977  twitter       es   \n",
              "\n",
              "                                                   text       task1  \\\n",
              "0     She calls herself \"anti-feminazi\" how about sh...      sexist   \n",
              "1     Now, back to these women, the brave and the be...  non-sexist   \n",
              "2     @CurvyBandida @Xalynne_B Wow, your skirt is ve...      sexist   \n",
              "3     @AurelieGuiboud Incredible!  Beautiful!But I l...  non-sexist   \n",
              "4     i find it extremely hard to believe that kelly...  non-sexist   \n",
              "...                                                 ...         ...   \n",
              "6972  Estamos igual sin pareja, pero puedes besar a ...  non-sexist   \n",
              "6973                          2020 hijo de re mil putas  non-sexist   \n",
              "6974  SEGURAMENTE ESTA CHICA NO COBRA EL DINERO QUE ...  non-sexist   \n",
              "6975     @safetyaitana mi madre dice q va fea y i agree      sexist   \n",
              "6976  ¿En vuestras casas también tenéis esa tradició...      sexist   \n",
              "\n",
              "                       task2  \n",
              "0     ideological-inequality  \n",
              "1                 non-sexist  \n",
              "2            objectification  \n",
              "3                 non-sexist  \n",
              "4                 non-sexist  \n",
              "...                      ...  \n",
              "6972              non-sexist  \n",
              "6973              non-sexist  \n",
              "6974              non-sexist  \n",
              "6975         objectification  \n",
              "6976  stereotyping-dominance  \n",
              "\n",
              "[6977 rows x 7 columns]"
            ],
            "text/html": [
              "\n",
              "  <div id=\"df-0ef30bdd-ea38-4990-82aa-dbc5a929661c\">\n",
              "    <div class=\"colab-df-container\">\n",
              "      <div>\n",
              "<style scoped>\n",
              "    .dataframe tbody tr th:only-of-type {\n",
              "        vertical-align: middle;\n",
              "    }\n",
              "\n",
              "    .dataframe tbody tr th {\n",
              "        vertical-align: top;\n",
              "    }\n",
              "\n",
              "    .dataframe thead th {\n",
              "        text-align: right;\n",
              "    }\n",
              "</style>\n",
              "<table border=\"1\" class=\"dataframe\">\n",
              "  <thead>\n",
              "    <tr style=\"text-align: right;\">\n",
              "      <th></th>\n",
              "      <th>test_case</th>\n",
              "      <th>id</th>\n",
              "      <th>source</th>\n",
              "      <th>language</th>\n",
              "      <th>text</th>\n",
              "      <th>task1</th>\n",
              "      <th>task2</th>\n",
              "    </tr>\n",
              "  </thead>\n",
              "  <tbody>\n",
              "    <tr>\n",
              "      <th>0</th>\n",
              "      <td>EXIST2021</td>\n",
              "      <td>1</td>\n",
              "      <td>twitter</td>\n",
              "      <td>en</td>\n",
              "      <td>She calls herself \"anti-feminazi\" how about sh...</td>\n",
              "      <td>sexist</td>\n",
              "      <td>ideological-inequality</td>\n",
              "    </tr>\n",
              "    <tr>\n",
              "      <th>1</th>\n",
              "      <td>EXIST2021</td>\n",
              "      <td>2</td>\n",
              "      <td>twitter</td>\n",
              "      <td>en</td>\n",
              "      <td>Now, back to these women, the brave and the be...</td>\n",
              "      <td>non-sexist</td>\n",
              "      <td>non-sexist</td>\n",
              "    </tr>\n",
              "    <tr>\n",
              "      <th>2</th>\n",
              "      <td>EXIST2021</td>\n",
              "      <td>3</td>\n",
              "      <td>twitter</td>\n",
              "      <td>en</td>\n",
              "      <td>@CurvyBandida @Xalynne_B Wow, your skirt is ve...</td>\n",
              "      <td>sexist</td>\n",
              "      <td>objectification</td>\n",
              "    </tr>\n",
              "    <tr>\n",
              "      <th>3</th>\n",
              "      <td>EXIST2021</td>\n",
              "      <td>4</td>\n",
              "      <td>twitter</td>\n",
              "      <td>en</td>\n",
              "      <td>@AurelieGuiboud Incredible!  Beautiful!But I l...</td>\n",
              "      <td>non-sexist</td>\n",
              "      <td>non-sexist</td>\n",
              "    </tr>\n",
              "    <tr>\n",
              "      <th>4</th>\n",
              "      <td>EXIST2021</td>\n",
              "      <td>5</td>\n",
              "      <td>twitter</td>\n",
              "      <td>en</td>\n",
              "      <td>i find it extremely hard to believe that kelly...</td>\n",
              "      <td>non-sexist</td>\n",
              "      <td>non-sexist</td>\n",
              "    </tr>\n",
              "    <tr>\n",
              "      <th>...</th>\n",
              "      <td>...</td>\n",
              "      <td>...</td>\n",
              "      <td>...</td>\n",
              "      <td>...</td>\n",
              "      <td>...</td>\n",
              "      <td>...</td>\n",
              "      <td>...</td>\n",
              "    </tr>\n",
              "    <tr>\n",
              "      <th>6972</th>\n",
              "      <td>EXIST2021</td>\n",
              "      <td>6973</td>\n",
              "      <td>twitter</td>\n",
              "      <td>es</td>\n",
              "      <td>Estamos igual sin pareja, pero puedes besar a ...</td>\n",
              "      <td>non-sexist</td>\n",
              "      <td>non-sexist</td>\n",
              "    </tr>\n",
              "    <tr>\n",
              "      <th>6973</th>\n",
              "      <td>EXIST2021</td>\n",
              "      <td>6974</td>\n",
              "      <td>twitter</td>\n",
              "      <td>es</td>\n",
              "      <td>2020 hijo de re mil putas</td>\n",
              "      <td>non-sexist</td>\n",
              "      <td>non-sexist</td>\n",
              "    </tr>\n",
              "    <tr>\n",
              "      <th>6974</th>\n",
              "      <td>EXIST2021</td>\n",
              "      <td>6975</td>\n",
              "      <td>twitter</td>\n",
              "      <td>es</td>\n",
              "      <td>SEGURAMENTE ESTA CHICA NO COBRA EL DINERO QUE ...</td>\n",
              "      <td>non-sexist</td>\n",
              "      <td>non-sexist</td>\n",
              "    </tr>\n",
              "    <tr>\n",
              "      <th>6975</th>\n",
              "      <td>EXIST2021</td>\n",
              "      <td>6976</td>\n",
              "      <td>twitter</td>\n",
              "      <td>es</td>\n",
              "      <td>@safetyaitana mi madre dice q va fea y i agree</td>\n",
              "      <td>sexist</td>\n",
              "      <td>objectification</td>\n",
              "    </tr>\n",
              "    <tr>\n",
              "      <th>6976</th>\n",
              "      <td>EXIST2021</td>\n",
              "      <td>6977</td>\n",
              "      <td>twitter</td>\n",
              "      <td>es</td>\n",
              "      <td>¿En vuestras casas también tenéis esa tradició...</td>\n",
              "      <td>sexist</td>\n",
              "      <td>stereotyping-dominance</td>\n",
              "    </tr>\n",
              "  </tbody>\n",
              "</table>\n",
              "<p>6977 rows × 7 columns</p>\n",
              "</div>\n",
              "      <button class=\"colab-df-convert\" onclick=\"convertToInteractive('df-0ef30bdd-ea38-4990-82aa-dbc5a929661c')\"\n",
              "              title=\"Convert this dataframe to an interactive table.\"\n",
              "              style=\"display:none;\">\n",
              "        \n",
              "  <svg xmlns=\"http://www.w3.org/2000/svg\" height=\"24px\"viewBox=\"0 0 24 24\"\n",
              "       width=\"24px\">\n",
              "    <path d=\"M0 0h24v24H0V0z\" fill=\"none\"/>\n",
              "    <path d=\"M18.56 5.44l.94 2.06.94-2.06 2.06-.94-2.06-.94-.94-2.06-.94 2.06-2.06.94zm-11 1L8.5 8.5l.94-2.06 2.06-.94-2.06-.94L8.5 2.5l-.94 2.06-2.06.94zm10 10l.94 2.06.94-2.06 2.06-.94-2.06-.94-.94-2.06-.94 2.06-2.06.94z\"/><path d=\"M17.41 7.96l-1.37-1.37c-.4-.4-.92-.59-1.43-.59-.52 0-1.04.2-1.43.59L10.3 9.45l-7.72 7.72c-.78.78-.78 2.05 0 2.83L4 21.41c.39.39.9.59 1.41.59.51 0 1.02-.2 1.41-.59l7.78-7.78 2.81-2.81c.8-.78.8-2.07 0-2.86zM5.41 20L4 18.59l7.72-7.72 1.47 1.35L5.41 20z\"/>\n",
              "  </svg>\n",
              "      </button>\n",
              "      \n",
              "  <style>\n",
              "    .colab-df-container {\n",
              "      display:flex;\n",
              "      flex-wrap:wrap;\n",
              "      gap: 12px;\n",
              "    }\n",
              "\n",
              "    .colab-df-convert {\n",
              "      background-color: #E8F0FE;\n",
              "      border: none;\n",
              "      border-radius: 50%;\n",
              "      cursor: pointer;\n",
              "      display: none;\n",
              "      fill: #1967D2;\n",
              "      height: 32px;\n",
              "      padding: 0 0 0 0;\n",
              "      width: 32px;\n",
              "    }\n",
              "\n",
              "    .colab-df-convert:hover {\n",
              "      background-color: #E2EBFA;\n",
              "      box-shadow: 0px 1px 2px rgba(60, 64, 67, 0.3), 0px 1px 3px 1px rgba(60, 64, 67, 0.15);\n",
              "      fill: #174EA6;\n",
              "    }\n",
              "\n",
              "    [theme=dark] .colab-df-convert {\n",
              "      background-color: #3B4455;\n",
              "      fill: #D2E3FC;\n",
              "    }\n",
              "\n",
              "    [theme=dark] .colab-df-convert:hover {\n",
              "      background-color: #434B5C;\n",
              "      box-shadow: 0px 1px 3px 1px rgba(0, 0, 0, 0.15);\n",
              "      filter: drop-shadow(0px 1px 2px rgba(0, 0, 0, 0.3));\n",
              "      fill: #FFFFFF;\n",
              "    }\n",
              "  </style>\n",
              "\n",
              "      <script>\n",
              "        const buttonEl =\n",
              "          document.querySelector('#df-0ef30bdd-ea38-4990-82aa-dbc5a929661c button.colab-df-convert');\n",
              "        buttonEl.style.display =\n",
              "          google.colab.kernel.accessAllowed ? 'block' : 'none';\n",
              "\n",
              "        async function convertToInteractive(key) {\n",
              "          const element = document.querySelector('#df-0ef30bdd-ea38-4990-82aa-dbc5a929661c');\n",
              "          const dataTable =\n",
              "            await google.colab.kernel.invokeFunction('convertToInteractive',\n",
              "                                                     [key], {});\n",
              "          if (!dataTable) return;\n",
              "\n",
              "          const docLinkHtml = 'Like what you see? Visit the ' +\n",
              "            '<a target=\"_blank\" href=https://colab.research.google.com/notebooks/data_table.ipynb>data table notebook</a>'\n",
              "            + ' to learn more about interactive tables.';\n",
              "          element.innerHTML = '';\n",
              "          dataTable['output_type'] = 'display_data';\n",
              "          await google.colab.output.renderOutput(dataTable, element);\n",
              "          const docLink = document.createElement('div');\n",
              "          docLink.innerHTML = docLinkHtml;\n",
              "          element.appendChild(docLink);\n",
              "        }\n",
              "      </script>\n",
              "    </div>\n",
              "  </div>\n",
              "  "
            ]
          },
          "metadata": {},
          "execution_count": 151
        }
      ]
    },
    {
      "cell_type": "markdown",
      "source": [
        "`nombre_variable.columns` imprime las columnas de la variable que contiene nuestros datos."
      ],
      "metadata": {
        "id": "FC80R4C4pZNZ"
      }
    },
    {
      "cell_type": "code",
      "source": [
        "datos.columns"
      ],
      "metadata": {
        "colab": {
          "base_uri": "https://localhost:8080/"
        },
        "id": "YZMu26jBeY-v",
        "outputId": "6e9c353b-f35e-4ab8-81a8-807cafaee88a"
      },
      "execution_count": null,
      "outputs": [
        {
          "output_type": "execute_result",
          "data": {
            "text/plain": [
              "Index(['test_case', 'id', 'source', 'language', 'text', 'task1', 'task2'], dtype='object')"
            ]
          },
          "metadata": {},
          "execution_count": 152
        }
      ]
    },
    {
      "cell_type": "markdown",
      "source": [
        "Paso 5: Eliminar las columnas que no nos sirvan. En este caso eliminaremos `test_case`, `id`, `source`, y `task2` con ayuda de `.drop`. \n",
        "\n",
        "Para cambiar las columnas que queremos quitar de la variable `datos`, sólo debemos modificar los nombres escritos dentro de `.drop`."
      ],
      "metadata": {
        "id": "iE_COUQuElkf"
      }
    },
    {
      "cell_type": "code",
      "source": [
        "datos.drop(['test_case', 'id', 'source', 'task1', 'task2'], axis=1, inplace=True)\n",
        "datos"
      ],
      "metadata": {
        "colab": {
          "base_uri": "https://localhost:8080/",
          "height": 423
        },
        "id": "ZmNo_G5NE_tI",
        "outputId": "28026101-417c-43df-8662-b64bd5b8ec80"
      },
      "execution_count": null,
      "outputs": [
        {
          "output_type": "execute_result",
          "data": {
            "text/plain": [
              "     language                                               text\n",
              "0          en  She calls herself \"anti-feminazi\" how about sh...\n",
              "1          en  Now, back to these women, the brave and the be...\n",
              "2          en  @CurvyBandida @Xalynne_B Wow, your skirt is ve...\n",
              "3          en  @AurelieGuiboud Incredible!  Beautiful!But I l...\n",
              "4          en  i find it extremely hard to believe that kelly...\n",
              "...       ...                                                ...\n",
              "6972       es  Estamos igual sin pareja, pero puedes besar a ...\n",
              "6973       es                          2020 hijo de re mil putas\n",
              "6974       es  SEGURAMENTE ESTA CHICA NO COBRA EL DINERO QUE ...\n",
              "6975       es     @safetyaitana mi madre dice q va fea y i agree\n",
              "6976       es  ¿En vuestras casas también tenéis esa tradició...\n",
              "\n",
              "[6977 rows x 2 columns]"
            ],
            "text/html": [
              "\n",
              "  <div id=\"df-d85b2dfc-9026-4b2b-afee-317ffbd71e0b\">\n",
              "    <div class=\"colab-df-container\">\n",
              "      <div>\n",
              "<style scoped>\n",
              "    .dataframe tbody tr th:only-of-type {\n",
              "        vertical-align: middle;\n",
              "    }\n",
              "\n",
              "    .dataframe tbody tr th {\n",
              "        vertical-align: top;\n",
              "    }\n",
              "\n",
              "    .dataframe thead th {\n",
              "        text-align: right;\n",
              "    }\n",
              "</style>\n",
              "<table border=\"1\" class=\"dataframe\">\n",
              "  <thead>\n",
              "    <tr style=\"text-align: right;\">\n",
              "      <th></th>\n",
              "      <th>language</th>\n",
              "      <th>text</th>\n",
              "    </tr>\n",
              "  </thead>\n",
              "  <tbody>\n",
              "    <tr>\n",
              "      <th>0</th>\n",
              "      <td>en</td>\n",
              "      <td>She calls herself \"anti-feminazi\" how about sh...</td>\n",
              "    </tr>\n",
              "    <tr>\n",
              "      <th>1</th>\n",
              "      <td>en</td>\n",
              "      <td>Now, back to these women, the brave and the be...</td>\n",
              "    </tr>\n",
              "    <tr>\n",
              "      <th>2</th>\n",
              "      <td>en</td>\n",
              "      <td>@CurvyBandida @Xalynne_B Wow, your skirt is ve...</td>\n",
              "    </tr>\n",
              "    <tr>\n",
              "      <th>3</th>\n",
              "      <td>en</td>\n",
              "      <td>@AurelieGuiboud Incredible!  Beautiful!But I l...</td>\n",
              "    </tr>\n",
              "    <tr>\n",
              "      <th>4</th>\n",
              "      <td>en</td>\n",
              "      <td>i find it extremely hard to believe that kelly...</td>\n",
              "    </tr>\n",
              "    <tr>\n",
              "      <th>...</th>\n",
              "      <td>...</td>\n",
              "      <td>...</td>\n",
              "    </tr>\n",
              "    <tr>\n",
              "      <th>6972</th>\n",
              "      <td>es</td>\n",
              "      <td>Estamos igual sin pareja, pero puedes besar a ...</td>\n",
              "    </tr>\n",
              "    <tr>\n",
              "      <th>6973</th>\n",
              "      <td>es</td>\n",
              "      <td>2020 hijo de re mil putas</td>\n",
              "    </tr>\n",
              "    <tr>\n",
              "      <th>6974</th>\n",
              "      <td>es</td>\n",
              "      <td>SEGURAMENTE ESTA CHICA NO COBRA EL DINERO QUE ...</td>\n",
              "    </tr>\n",
              "    <tr>\n",
              "      <th>6975</th>\n",
              "      <td>es</td>\n",
              "      <td>@safetyaitana mi madre dice q va fea y i agree</td>\n",
              "    </tr>\n",
              "    <tr>\n",
              "      <th>6976</th>\n",
              "      <td>es</td>\n",
              "      <td>¿En vuestras casas también tenéis esa tradició...</td>\n",
              "    </tr>\n",
              "  </tbody>\n",
              "</table>\n",
              "<p>6977 rows × 2 columns</p>\n",
              "</div>\n",
              "      <button class=\"colab-df-convert\" onclick=\"convertToInteractive('df-d85b2dfc-9026-4b2b-afee-317ffbd71e0b')\"\n",
              "              title=\"Convert this dataframe to an interactive table.\"\n",
              "              style=\"display:none;\">\n",
              "        \n",
              "  <svg xmlns=\"http://www.w3.org/2000/svg\" height=\"24px\"viewBox=\"0 0 24 24\"\n",
              "       width=\"24px\">\n",
              "    <path d=\"M0 0h24v24H0V0z\" fill=\"none\"/>\n",
              "    <path d=\"M18.56 5.44l.94 2.06.94-2.06 2.06-.94-2.06-.94-.94-2.06-.94 2.06-2.06.94zm-11 1L8.5 8.5l.94-2.06 2.06-.94-2.06-.94L8.5 2.5l-.94 2.06-2.06.94zm10 10l.94 2.06.94-2.06 2.06-.94-2.06-.94-.94-2.06-.94 2.06-2.06.94z\"/><path d=\"M17.41 7.96l-1.37-1.37c-.4-.4-.92-.59-1.43-.59-.52 0-1.04.2-1.43.59L10.3 9.45l-7.72 7.72c-.78.78-.78 2.05 0 2.83L4 21.41c.39.39.9.59 1.41.59.51 0 1.02-.2 1.41-.59l7.78-7.78 2.81-2.81c.8-.78.8-2.07 0-2.86zM5.41 20L4 18.59l7.72-7.72 1.47 1.35L5.41 20z\"/>\n",
              "  </svg>\n",
              "      </button>\n",
              "      \n",
              "  <style>\n",
              "    .colab-df-container {\n",
              "      display:flex;\n",
              "      flex-wrap:wrap;\n",
              "      gap: 12px;\n",
              "    }\n",
              "\n",
              "    .colab-df-convert {\n",
              "      background-color: #E8F0FE;\n",
              "      border: none;\n",
              "      border-radius: 50%;\n",
              "      cursor: pointer;\n",
              "      display: none;\n",
              "      fill: #1967D2;\n",
              "      height: 32px;\n",
              "      padding: 0 0 0 0;\n",
              "      width: 32px;\n",
              "    }\n",
              "\n",
              "    .colab-df-convert:hover {\n",
              "      background-color: #E2EBFA;\n",
              "      box-shadow: 0px 1px 2px rgba(60, 64, 67, 0.3), 0px 1px 3px 1px rgba(60, 64, 67, 0.15);\n",
              "      fill: #174EA6;\n",
              "    }\n",
              "\n",
              "    [theme=dark] .colab-df-convert {\n",
              "      background-color: #3B4455;\n",
              "      fill: #D2E3FC;\n",
              "    }\n",
              "\n",
              "    [theme=dark] .colab-df-convert:hover {\n",
              "      background-color: #434B5C;\n",
              "      box-shadow: 0px 1px 3px 1px rgba(0, 0, 0, 0.15);\n",
              "      filter: drop-shadow(0px 1px 2px rgba(0, 0, 0, 0.3));\n",
              "      fill: #FFFFFF;\n",
              "    }\n",
              "  </style>\n",
              "\n",
              "      <script>\n",
              "        const buttonEl =\n",
              "          document.querySelector('#df-d85b2dfc-9026-4b2b-afee-317ffbd71e0b button.colab-df-convert');\n",
              "        buttonEl.style.display =\n",
              "          google.colab.kernel.accessAllowed ? 'block' : 'none';\n",
              "\n",
              "        async function convertToInteractive(key) {\n",
              "          const element = document.querySelector('#df-d85b2dfc-9026-4b2b-afee-317ffbd71e0b');\n",
              "          const dataTable =\n",
              "            await google.colab.kernel.invokeFunction('convertToInteractive',\n",
              "                                                     [key], {});\n",
              "          if (!dataTable) return;\n",
              "\n",
              "          const docLinkHtml = 'Like what you see? Visit the ' +\n",
              "            '<a target=\"_blank\" href=https://colab.research.google.com/notebooks/data_table.ipynb>data table notebook</a>'\n",
              "            + ' to learn more about interactive tables.';\n",
              "          element.innerHTML = '';\n",
              "          dataTable['output_type'] = 'display_data';\n",
              "          await google.colab.output.renderOutput(dataTable, element);\n",
              "          const docLink = document.createElement('div');\n",
              "          docLink.innerHTML = docLinkHtml;\n",
              "          element.appendChild(docLink);\n",
              "        }\n",
              "      </script>\n",
              "    </div>\n",
              "  </div>\n",
              "  "
            ]
          },
          "metadata": {},
          "execution_count": 153
        }
      ]
    },
    {
      "cell_type": "markdown",
      "source": [
        "Ahora checamos que efectivamente las columnas que queríamos eliminar ya no esten en la variable `datos`."
      ],
      "metadata": {
        "id": "RSOnF6W8pyvQ"
      }
    },
    {
      "cell_type": "code",
      "source": [
        "datos.columns"
      ],
      "metadata": {
        "colab": {
          "base_uri": "https://localhost:8080/"
        },
        "id": "Ek-5wVSreetw",
        "outputId": "c176b0c4-00bc-4b82-ccc2-5d17d2ae1a78"
      },
      "execution_count": null,
      "outputs": [
        {
          "output_type": "execute_result",
          "data": {
            "text/plain": [
              "Index(['language', 'text'], dtype='object')"
            ]
          },
          "metadata": {},
          "execution_count": 154
        }
      ]
    },
    {
      "cell_type": "markdown",
      "source": [
        "Paso 6: Obtener el número de celdas de la columna `language` que contienen a los valores `es` y `en` utilizando `.value_counts(normalize=True) * 100`.\n",
        "\n",
        "Si quisieramos cambiar la columna a analizar, debemos cambiar sólo `language`."
      ],
      "metadata": {
        "id": "5KMVRresp4k_"
      }
    },
    {
      "cell_type": "code",
      "source": [
        "datos['language'].value_counts(normalize=True) * 100"
      ],
      "metadata": {
        "colab": {
          "base_uri": "https://localhost:8080/"
        },
        "id": "BkRTWHcVdYBD",
        "outputId": "31f34cd1-446f-49a1-ef96-a5558d3708f8"
      },
      "execution_count": null,
      "outputs": [
        {
          "output_type": "execute_result",
          "data": {
            "text/plain": [
              "es    50.752472\n",
              "en    49.247528\n",
              "Name: language, dtype: float64"
            ]
          },
          "metadata": {},
          "execution_count": 155
        }
      ]
    },
    {
      "cell_type": "markdown",
      "source": [
        "Paso 7: Eliminar los tuits que esten en inglés. Para esto, borraremos todos aquellos que se encuentren en la columna `language` con la palabra `en`.\n",
        "\n",
        "Para borrar valores diferentes a `en`, sólo debemos cambiar eso en la celda siguiente.\n",
        "\n",
        "Para cambiar la columna en la cual queremos borrar un valor en específico sólo debemos cambiar `language`."
      ],
      "metadata": {
        "id": "8UERlBI1FPWL"
      }
    },
    {
      "cell_type": "code",
      "source": [
        "datos = datos[datos['language'] != 'en']\n",
        "datos"
      ],
      "metadata": {
        "colab": {
          "base_uri": "https://localhost:8080/",
          "height": 423
        },
        "id": "Y1ymgLL4GnfC",
        "outputId": "6422734e-578d-48d2-ea2d-aa8bbc5a8e86"
      },
      "execution_count": null,
      "outputs": [
        {
          "output_type": "execute_result",
          "data": {
            "text/plain": [
              "     language                                               text\n",
              "3436       es  Nadie te va a tratar tan bien como un hombre q...\n",
              "3437       es  @lindagisela74 Que rica putita obediente, afor...\n",
              "3438       es  @BicireporteraDF Yo lo hice a los 18 años por ...\n",
              "3439       es  las cosas q sueño son indicios de que yo enrea...\n",
              "3440       es  Pero a la niña le gustó desde que lo vió, así ...\n",
              "...       ...                                                ...\n",
              "6972       es  Estamos igual sin pareja, pero puedes besar a ...\n",
              "6973       es                          2020 hijo de re mil putas\n",
              "6974       es  SEGURAMENTE ESTA CHICA NO COBRA EL DINERO QUE ...\n",
              "6975       es     @safetyaitana mi madre dice q va fea y i agree\n",
              "6976       es  ¿En vuestras casas también tenéis esa tradició...\n",
              "\n",
              "[3541 rows x 2 columns]"
            ],
            "text/html": [
              "\n",
              "  <div id=\"df-b5485bd0-66ff-49dd-a3ed-bb32580e667c\">\n",
              "    <div class=\"colab-df-container\">\n",
              "      <div>\n",
              "<style scoped>\n",
              "    .dataframe tbody tr th:only-of-type {\n",
              "        vertical-align: middle;\n",
              "    }\n",
              "\n",
              "    .dataframe tbody tr th {\n",
              "        vertical-align: top;\n",
              "    }\n",
              "\n",
              "    .dataframe thead th {\n",
              "        text-align: right;\n",
              "    }\n",
              "</style>\n",
              "<table border=\"1\" class=\"dataframe\">\n",
              "  <thead>\n",
              "    <tr style=\"text-align: right;\">\n",
              "      <th></th>\n",
              "      <th>language</th>\n",
              "      <th>text</th>\n",
              "    </tr>\n",
              "  </thead>\n",
              "  <tbody>\n",
              "    <tr>\n",
              "      <th>3436</th>\n",
              "      <td>es</td>\n",
              "      <td>Nadie te va a tratar tan bien como un hombre q...</td>\n",
              "    </tr>\n",
              "    <tr>\n",
              "      <th>3437</th>\n",
              "      <td>es</td>\n",
              "      <td>@lindagisela74 Que rica putita obediente, afor...</td>\n",
              "    </tr>\n",
              "    <tr>\n",
              "      <th>3438</th>\n",
              "      <td>es</td>\n",
              "      <td>@BicireporteraDF Yo lo hice a los 18 años por ...</td>\n",
              "    </tr>\n",
              "    <tr>\n",
              "      <th>3439</th>\n",
              "      <td>es</td>\n",
              "      <td>las cosas q sueño son indicios de que yo enrea...</td>\n",
              "    </tr>\n",
              "    <tr>\n",
              "      <th>3440</th>\n",
              "      <td>es</td>\n",
              "      <td>Pero a la niña le gustó desde que lo vió, así ...</td>\n",
              "    </tr>\n",
              "    <tr>\n",
              "      <th>...</th>\n",
              "      <td>...</td>\n",
              "      <td>...</td>\n",
              "    </tr>\n",
              "    <tr>\n",
              "      <th>6972</th>\n",
              "      <td>es</td>\n",
              "      <td>Estamos igual sin pareja, pero puedes besar a ...</td>\n",
              "    </tr>\n",
              "    <tr>\n",
              "      <th>6973</th>\n",
              "      <td>es</td>\n",
              "      <td>2020 hijo de re mil putas</td>\n",
              "    </tr>\n",
              "    <tr>\n",
              "      <th>6974</th>\n",
              "      <td>es</td>\n",
              "      <td>SEGURAMENTE ESTA CHICA NO COBRA EL DINERO QUE ...</td>\n",
              "    </tr>\n",
              "    <tr>\n",
              "      <th>6975</th>\n",
              "      <td>es</td>\n",
              "      <td>@safetyaitana mi madre dice q va fea y i agree</td>\n",
              "    </tr>\n",
              "    <tr>\n",
              "      <th>6976</th>\n",
              "      <td>es</td>\n",
              "      <td>¿En vuestras casas también tenéis esa tradició...</td>\n",
              "    </tr>\n",
              "  </tbody>\n",
              "</table>\n",
              "<p>3541 rows × 2 columns</p>\n",
              "</div>\n",
              "      <button class=\"colab-df-convert\" onclick=\"convertToInteractive('df-b5485bd0-66ff-49dd-a3ed-bb32580e667c')\"\n",
              "              title=\"Convert this dataframe to an interactive table.\"\n",
              "              style=\"display:none;\">\n",
              "        \n",
              "  <svg xmlns=\"http://www.w3.org/2000/svg\" height=\"24px\"viewBox=\"0 0 24 24\"\n",
              "       width=\"24px\">\n",
              "    <path d=\"M0 0h24v24H0V0z\" fill=\"none\"/>\n",
              "    <path d=\"M18.56 5.44l.94 2.06.94-2.06 2.06-.94-2.06-.94-.94-2.06-.94 2.06-2.06.94zm-11 1L8.5 8.5l.94-2.06 2.06-.94-2.06-.94L8.5 2.5l-.94 2.06-2.06.94zm10 10l.94 2.06.94-2.06 2.06-.94-2.06-.94-.94-2.06-.94 2.06-2.06.94z\"/><path d=\"M17.41 7.96l-1.37-1.37c-.4-.4-.92-.59-1.43-.59-.52 0-1.04.2-1.43.59L10.3 9.45l-7.72 7.72c-.78.78-.78 2.05 0 2.83L4 21.41c.39.39.9.59 1.41.59.51 0 1.02-.2 1.41-.59l7.78-7.78 2.81-2.81c.8-.78.8-2.07 0-2.86zM5.41 20L4 18.59l7.72-7.72 1.47 1.35L5.41 20z\"/>\n",
              "  </svg>\n",
              "      </button>\n",
              "      \n",
              "  <style>\n",
              "    .colab-df-container {\n",
              "      display:flex;\n",
              "      flex-wrap:wrap;\n",
              "      gap: 12px;\n",
              "    }\n",
              "\n",
              "    .colab-df-convert {\n",
              "      background-color: #E8F0FE;\n",
              "      border: none;\n",
              "      border-radius: 50%;\n",
              "      cursor: pointer;\n",
              "      display: none;\n",
              "      fill: #1967D2;\n",
              "      height: 32px;\n",
              "      padding: 0 0 0 0;\n",
              "      width: 32px;\n",
              "    }\n",
              "\n",
              "    .colab-df-convert:hover {\n",
              "      background-color: #E2EBFA;\n",
              "      box-shadow: 0px 1px 2px rgba(60, 64, 67, 0.3), 0px 1px 3px 1px rgba(60, 64, 67, 0.15);\n",
              "      fill: #174EA6;\n",
              "    }\n",
              "\n",
              "    [theme=dark] .colab-df-convert {\n",
              "      background-color: #3B4455;\n",
              "      fill: #D2E3FC;\n",
              "    }\n",
              "\n",
              "    [theme=dark] .colab-df-convert:hover {\n",
              "      background-color: #434B5C;\n",
              "      box-shadow: 0px 1px 3px 1px rgba(0, 0, 0, 0.15);\n",
              "      filter: drop-shadow(0px 1px 2px rgba(0, 0, 0, 0.3));\n",
              "      fill: #FFFFFF;\n",
              "    }\n",
              "  </style>\n",
              "\n",
              "      <script>\n",
              "        const buttonEl =\n",
              "          document.querySelector('#df-b5485bd0-66ff-49dd-a3ed-bb32580e667c button.colab-df-convert');\n",
              "        buttonEl.style.display =\n",
              "          google.colab.kernel.accessAllowed ? 'block' : 'none';\n",
              "\n",
              "        async function convertToInteractive(key) {\n",
              "          const element = document.querySelector('#df-b5485bd0-66ff-49dd-a3ed-bb32580e667c');\n",
              "          const dataTable =\n",
              "            await google.colab.kernel.invokeFunction('convertToInteractive',\n",
              "                                                     [key], {});\n",
              "          if (!dataTable) return;\n",
              "\n",
              "          const docLinkHtml = 'Like what you see? Visit the ' +\n",
              "            '<a target=\"_blank\" href=https://colab.research.google.com/notebooks/data_table.ipynb>data table notebook</a>'\n",
              "            + ' to learn more about interactive tables.';\n",
              "          element.innerHTML = '';\n",
              "          dataTable['output_type'] = 'display_data';\n",
              "          await google.colab.output.renderOutput(dataTable, element);\n",
              "          const docLink = document.createElement('div');\n",
              "          docLink.innerHTML = docLinkHtml;\n",
              "          element.appendChild(docLink);\n",
              "        }\n",
              "      </script>\n",
              "    </div>\n",
              "  </div>\n",
              "  "
            ]
          },
          "metadata": {},
          "execution_count": 156
        }
      ]
    },
    {
      "cell_type": "markdown",
      "source": [
        "Obtenemos nuevamente el porcentaje de celdas de la variable `valores` en la columna `language` para revisar que efectivamente borramos todas las celdas que contenían a `en`."
      ],
      "metadata": {
        "id": "Ez2sSFoCqoII"
      }
    },
    {
      "cell_type": "code",
      "source": [
        "datos['language'].value_counts(normalize=True) * 100"
      ],
      "metadata": {
        "colab": {
          "base_uri": "https://localhost:8080/"
        },
        "id": "bey1UDAldP7t",
        "outputId": "be18157f-062e-4a97-ecf9-c59f9bf8b73b"
      },
      "execution_count": null,
      "outputs": [
        {
          "output_type": "execute_result",
          "data": {
            "text/plain": [
              "es    100.0\n",
              "Name: language, dtype: float64"
            ]
          },
          "metadata": {},
          "execution_count": 157
        }
      ]
    },
    {
      "cell_type": "markdown",
      "source": [
        "Paso 8: Haremos una lista que contenga sólo lo que está en la columna `text`.\n",
        "\n",
        "`str` indica que lo que este en `tuit` sea un string. Esto es sólo una manera de asegurar que estamos trabajando con texto y así evitar problemas en caso de que hubiera números en `datos['text']`."
      ],
      "metadata": {
        "id": "g9we4gsRHR2i"
      }
    },
    {
      "cell_type": "code",
      "source": [
        "tuits = []\n",
        "\n",
        "for tuit in datos['text']:\n",
        "  tuits.append(str(tuit))\n",
        "\n",
        "tuits"
      ],
      "metadata": {
        "id": "uY1S-8NJG_Sy"
      },
      "execution_count": null,
      "outputs": []
    },
    {
      "cell_type": "markdown",
      "source": [
        "Revisamos lo que está en la posición `3` de la nueva lista `tuits`."
      ],
      "metadata": {
        "id": "U3Kci-xDrIGX"
      }
    },
    {
      "cell_type": "code",
      "source": [
        "tuits[2]"
      ],
      "metadata": {
        "colab": {
          "base_uri": "https://localhost:8080/",
          "height": 36
        },
        "id": "LwKriXsFfo5Z",
        "outputId": "b235ca9a-39ab-4fc3-ddc1-d20559b3498b"
      },
      "execution_count": null,
      "outputs": [
        {
          "output_type": "execute_result",
          "data": {
            "text/plain": [
              "'@BicireporteraDF Yo lo hice a los 18 años por la carretera libre a Veracruz y ahora hay más carreteras veras que si puedes mujer'"
            ],
            "application/vnd.google.colaboratory.intrinsic+json": {
              "type": "string"
            }
          },
          "metadata": {},
          "execution_count": 162
        }
      ]
    },
    {
      "cell_type": "markdown",
      "source": [
        "Revisamos la longitud de la lista `tuits` con la función `len`."
      ],
      "metadata": {
        "id": "JjOMvYF0rPWG"
      }
    },
    {
      "cell_type": "code",
      "source": [
        "len(tuits)"
      ],
      "metadata": {
        "colab": {
          "base_uri": "https://localhost:8080/"
        },
        "id": "AavCd4JVDiKV",
        "outputId": "71cc5a4d-0aab-436d-8a6b-dc301a67e54f"
      },
      "execution_count": null,
      "outputs": [
        {
          "output_type": "execute_result",
          "data": {
            "text/plain": [
              "3541"
            ]
          },
          "metadata": {},
          "execution_count": 159
        }
      ]
    },
    {
      "cell_type": "markdown",
      "source": [
        "Paso 9: Sacaremos los tokens de todos los tuits, y los guardaremos en una lista.\n",
        "\n",
        "Tenemos dos `for`s; uno recorre cada elemento dentro de la lista `tuits`, y el otro recorre cada token dentro de cada elemento.\n",
        "\n",
        "Por ejemplo, el elemento en la posición `2` de `tuits`, es todo el tuit \n",
        "\n",
        "*@BicireporteraDF Yo lo hice a los 18 años por la carretera libre a Veracruz y ahora hay más carreteras veras que si puedes mujer*. \n",
        "\n",
        "En el primer ciclo `for` se analiza ese tuit, y en el segundo `for` se analiza **cada token** de ese tuit. O sea, ese segundo `for` primero analiza *@BicireporteraDF*, luego `Yo`, etc. hasta que analiza todos los elementos de ese tuit. Una vez terminado, sigue a `tuit[3]` y repite lo mismo hasta que llega al final de `tuit`."
      ],
      "metadata": {
        "id": "bCJB7LTxFmZZ"
      }
    },
    {
      "cell_type": "code",
      "source": [
        "import spacy\n",
        "import es_core_news_sm\n",
        "\n",
        "nlp = es_core_news_sm.load()\n",
        "\n",
        "tokens_texto = []\n",
        "\n",
        "for tuit in tuits:\n",
        "  doc = nlp(tuit)\n",
        "  for token in doc:\n",
        "    tokens_texto.append(token.text)"
      ],
      "metadata": {
        "id": "anbUdaawDiM1"
      },
      "execution_count": null,
      "outputs": []
    },
    {
      "cell_type": "code",
      "source": [
        "tokens_texto"
      ],
      "metadata": {
        "id": "fvO8He6IIYql"
      },
      "execution_count": null,
      "outputs": []
    },
    {
      "cell_type": "code",
      "source": [
        "len(tokens_texto)"
      ],
      "metadata": {
        "colab": {
          "base_uri": "https://localhost:8080/"
        },
        "id": "Nux9M1kGKdeT",
        "outputId": "1afe6f22-bfda-477f-956b-56ccdb8f8c70"
      },
      "execution_count": null,
      "outputs": [
        {
          "output_type": "execute_result",
          "data": {
            "text/plain": [
              "115775"
            ]
          },
          "metadata": {},
          "execution_count": 164
        }
      ]
    },
    {
      "cell_type": "markdown",
      "source": [
        "Pequeño paréntesis: si pasamos una lista a `set()`, obtenemos sólo los elementos únicos de esa lista. En el ejemplo siguiente, al pasar a `lista1` por `set` obtenermos `a, b, c`, pues `a` estaba repetido en `lista1`."
      ],
      "metadata": {
        "id": "T16sGh4lsIjo"
      }
    },
    {
      "cell_type": "code",
      "source": [
        "lista1 = ['a', 'b', 'c', 'a']\n",
        "len(lista1)"
      ],
      "metadata": {
        "colab": {
          "base_uri": "https://localhost:8080/"
        },
        "id": "DKhO3h_KgQjt",
        "outputId": "2b560e03-ef83-49a1-e090-7dc43d14e9e7"
      },
      "execution_count": null,
      "outputs": [
        {
          "output_type": "execute_result",
          "data": {
            "text/plain": [
              "4"
            ]
          },
          "metadata": {},
          "execution_count": 165
        }
      ]
    },
    {
      "cell_type": "code",
      "source": [
        "set(lista1)"
      ],
      "metadata": {
        "colab": {
          "base_uri": "https://localhost:8080/"
        },
        "id": "FL6ZRHQPgUx4",
        "outputId": "91d4b012-521c-49b8-8ef5-120ade357c15"
      },
      "execution_count": null,
      "outputs": [
        {
          "output_type": "execute_result",
          "data": {
            "text/plain": [
              "{'a', 'b', 'c'}"
            ]
          },
          "metadata": {},
          "execution_count": 166
        }
      ]
    },
    {
      "cell_type": "code",
      "source": [
        "len(set(lista1))"
      ],
      "metadata": {
        "colab": {
          "base_uri": "https://localhost:8080/"
        },
        "id": "ie93vlI5gZuC",
        "outputId": "e58305d7-e620-4721-9dcd-187965de9f7d"
      },
      "execution_count": null,
      "outputs": [
        {
          "output_type": "execute_result",
          "data": {
            "text/plain": [
              "3"
            ]
          },
          "metadata": {},
          "execution_count": 167
        }
      ]
    },
    {
      "cell_type": "markdown",
      "source": [
        "Volviendo a los datos de análisis de lenguaje sexista, pasamos todos los tokens de `tokens_textop` por un `set` para obtener los tokens únicos. "
      ],
      "metadata": {
        "id": "ZLFKJEbGshey"
      }
    },
    {
      "cell_type": "code",
      "source": [
        "numero_palabras_unicas = len(set(tokens_texto))\n",
        "numero_palabras_unicas"
      ],
      "metadata": {
        "colab": {
          "base_uri": "https://localhost:8080/"
        },
        "id": "wciprp6Ngg8K",
        "outputId": "efb9172f-1e81-49a1-9daf-7aa3e808e472"
      },
      "execution_count": null,
      "outputs": [
        {
          "output_type": "execute_result",
          "data": {
            "text/plain": [
              "21716"
            ]
          },
          "metadata": {},
          "execution_count": 168
        }
      ]
    },
    {
      "cell_type": "markdown",
      "source": [
        "Veamos la diversidad léxica en los tuits. Para esto dividiremos el número de palabras únicas entre el número total de palabras.\n",
        "\n",
        "$diversidad \\, léxica = \\frac{número \\, de  \\, palabras \\, únicas}{número \\, total \\, de \\, palabras \\, en \\, todos \\, los \\, tuits}$"
      ],
      "metadata": {
        "id": "bVbzHgInKfuU"
      }
    },
    {
      "cell_type": "markdown",
      "source": [
        "Dividimos los tokens únicos entre todos los tokens para obtener la diversidad léxica en nuestros datos. Entre más elevado sea el número (de `0` a `100`) obtenido, eso indica que nuestro texto tiene menos diversidad léxica.\n",
        "\n",
        "Entre menos diversidad léxica, menos palabras únicas tenemos."
      ],
      "metadata": {
        "id": "gz31CBoLswB9"
      }
    },
    {
      "cell_type": "code",
      "source": [
        "numero_palabras_unicas = len(set(tokens_texto))\n",
        "numero_total_palabras = len(tokens_texto)"
      ],
      "metadata": {
        "id": "kiUi5KkYKevf"
      },
      "execution_count": null,
      "outputs": []
    },
    {
      "cell_type": "code",
      "source": [
        "diversidad_lexica = numero_palabras_unicas / numero_total_palabras\n",
        "diversidad_lexica * 100"
      ],
      "metadata": {
        "colab": {
          "base_uri": "https://localhost:8080/"
        },
        "id": "7aXh7C2vLVAE",
        "outputId": "74a7c634-2b2b-4218-e98b-89ad96d92672"
      },
      "execution_count": null,
      "outputs": [
        {
          "output_type": "execute_result",
          "data": {
            "text/plain": [
              "18.757071906715613"
            ]
          },
          "metadata": {},
          "execution_count": 170
        }
      ]
    },
    {
      "cell_type": "markdown",
      "source": [
        "Paso 10: Obtenemos las partes del discurso de cada token en nuestro texto. Repetimos el proceso anterior con el cual obtuvimos los tokens, pero esta vez con `token.pos_` que devuelve las partes del discurso, y con `token.tag_` que regresa la explicación de cada `token.pos_`."
      ],
      "metadata": {
        "id": "E7f4BaO-tGkr"
      }
    },
    {
      "cell_type": "code",
      "source": [
        "partes_del_discurso = []\n",
        "explicacion = []\n",
        "\n",
        "for tuit in tuits:\n",
        "  doc = nlp(tuit)\n",
        "  for token in doc:\n",
        "    partes_del_discurso.append(token.pos_)\n",
        "    explicacion.append(token.tag_)"
      ],
      "metadata": {
        "id": "KWmh4DiLGAYJ"
      },
      "execution_count": null,
      "outputs": []
    },
    {
      "cell_type": "code",
      "source": [
        "len(partes_del_discurso)"
      ],
      "metadata": {
        "colab": {
          "base_uri": "https://localhost:8080/"
        },
        "id": "fz5UBxJEi-ez",
        "outputId": "6109c1f5-14f2-421e-a3ba-23e02d238c18"
      },
      "execution_count": null,
      "outputs": [
        {
          "output_type": "execute_result",
          "data": {
            "text/plain": [
              "115802"
            ]
          },
          "metadata": {},
          "execution_count": 181
        }
      ]
    },
    {
      "cell_type": "markdown",
      "source": [
        "`Counter` es una función de la librería `collections` que toma una lista y nos permite obtener los elementos más frecuentes en esa lista utilizando sólamente `.most_common(número de elementos que queremos ver)`.\n",
        "\n",
        "En el siguiente caso usamos un `Counter` en nuestra lista que contiene las partes del discurso de nuestros datos para obtener las `10` partes más comunes."
      ],
      "metadata": {
        "id": "NlhdTX2wtYZn"
      }
    },
    {
      "cell_type": "code",
      "source": [
        "from collections import Counter\n",
        "\n",
        "contador_partes_del_discurso = Counter(partes_del_discurso)\n",
        "contador_partes_del_discurso.most_common(10)"
      ],
      "metadata": {
        "colab": {
          "base_uri": "https://localhost:8080/"
        },
        "id": "MjmVea-tQAdP",
        "outputId": "2655fdcb-50cc-4cac-933d-a73ef92eadea"
      },
      "execution_count": null,
      "outputs": [
        {
          "output_type": "execute_result",
          "data": {
            "text/plain": [
              "[('PROPN', 74616),\n",
              " ('PUNCT', 11847),\n",
              " ('NOUN', 10605),\n",
              " ('DET', 4219),\n",
              " ('X', 3395),\n",
              " ('VERB', 3173),\n",
              " ('ADP', 2064),\n",
              " ('ADJ', 1475),\n",
              " ('INTJ', 1185),\n",
              " ('PRON', 1107)]"
            ]
          },
          "metadata": {},
          "execution_count": 182
        }
      ]
    },
    {
      "cell_type": "markdown",
      "source": [
        "Paso 11: Repetimos los pasos anteriores sólo cambiando `token.pos_` por `token.dep_`, y `token.tag_` por `spacy.explain(token.dep_)`."
      ],
      "metadata": {
        "id": "JRwqvHxpt1Mp"
      }
    },
    {
      "cell_type": "code",
      "source": [
        "etiquetas_dependencias_gramaticales = []\n",
        "explicacion_dependencias = []\n",
        "\n",
        "for tuit in tuits:\n",
        "  doc = nlp(tuit)\n",
        "  for token in doc:\n",
        "    etiquetas_dependencias_gramaticales.append(token.dep_)\n",
        "    explicacion_dependencias.append(spacy.explain(token.dep_))"
      ],
      "metadata": {
        "id": "k8WdAHVIGRU_"
      },
      "execution_count": null,
      "outputs": []
    },
    {
      "cell_type": "code",
      "source": [
        "etiquetas_dependencias_gramaticales"
      ],
      "metadata": {
        "id": "nr--FvlGMRwd"
      },
      "execution_count": null,
      "outputs": []
    },
    {
      "cell_type": "code",
      "source": [
        "contador_etiquetas_dependencias_gramaticales  = Counter(etiquetas_dependencias_gramaticales )\n",
        "contador_etiquetas_dependencias_gramaticales.most_common(10)"
      ],
      "metadata": {
        "colab": {
          "base_uri": "https://localhost:8080/"
        },
        "id": "qVbpAR7MQHqo",
        "outputId": "b549fde6-6221-4f32-9d6f-323d4b20dafe"
      },
      "execution_count": null,
      "outputs": [
        {
          "output_type": "execute_result",
          "data": {
            "text/plain": [
              "[('compound', 48933),\n",
              " ('ROOT', 15278),\n",
              " ('punct', 12396),\n",
              " ('nmod', 5586),\n",
              " ('dobj', 4358),\n",
              " ('det', 4312),\n",
              " ('nsubj', 4165),\n",
              " ('appos', 3594),\n",
              " ('pobj', 2967),\n",
              " ('prep', 2949)]"
            ]
          },
          "metadata": {},
          "execution_count": 189
        }
      ]
    },
    {
      "cell_type": "markdown",
      "source": [
        "Paso 12: Repetimos los pasos anteriores sólo cambiando `token.tag_` por `list(doc.noun_chunks)` para obtener los `noun_chunks` de nuestros datos dentro de una lista (por eso el `list`)."
      ],
      "metadata": {
        "id": "FElVAjEwuGyy"
      }
    },
    {
      "cell_type": "code",
      "source": [
        "tokens_sustantivos = []\n",
        "\n",
        "for tuit in tuits:\n",
        "  doc = nlp(tuit)\n",
        "  tokens_sustantivos.append(list(doc.noun_chunks))"
      ],
      "metadata": {
        "id": "qgj7uEidMsWE"
      },
      "execution_count": null,
      "outputs": []
    },
    {
      "cell_type": "code",
      "source": [
        "tokens_sustantivos"
      ],
      "metadata": {
        "id": "4SAPuGHBM5vq"
      },
      "execution_count": null,
      "outputs": []
    },
    {
      "cell_type": "markdown",
      "source": [
        "Paso 13: Repetimos los pasos anteriores sólo cambiando `list(doc.noun_chunks)` por `token.is_alpha` para obtener **sólo** los tokens que contienen caracteres alfanuméricos (letras y/o números)."
      ],
      "metadata": {
        "id": "DJEsKgcLuaHA"
      }
    },
    {
      "cell_type": "code",
      "source": [
        "tokens_con_alfanumericos = []\n",
        "\n",
        "for tuit in tuits:\n",
        "  doc = nlp(tuit)\n",
        "  for token in doc:\n",
        "    tokens_con_alfanumericos.append(token.is_alpha)"
      ],
      "metadata": {
        "id": "Qq6SgvgjN_Ij"
      },
      "execution_count": null,
      "outputs": []
    },
    {
      "cell_type": "code",
      "source": [
        "contador_tokens_con_alfanumericos  = Counter(tokens_con_alfanumericos)\n",
        "contador_tokens_con_alfanumericos.most_common(10)"
      ],
      "metadata": {
        "colab": {
          "base_uri": "https://localhost:8080/"
        },
        "id": "okxelpH4QTH-",
        "outputId": "805cbb9e-2627-4484-bc19-3a4048b43d8a"
      },
      "execution_count": null,
      "outputs": [
        {
          "output_type": "execute_result",
          "data": {
            "text/plain": [
              "[(True, 96648), (False, 19154)]"
            ]
          },
          "metadata": {},
          "execution_count": 195
        }
      ]
    },
    {
      "cell_type": "markdown",
      "source": [
        "Paso 14: Repetimos los pasos anteriores sólo cambiando `token.is_alpha` por `token.is_lower` para obtener **sólo** los tokens que contienen caracteres con minúsculas."
      ],
      "metadata": {
        "id": "goSF7TxrupJm"
      }
    },
    {
      "cell_type": "code",
      "source": [
        "tokens_con_minusculas = []\n",
        "\n",
        "for tuit in tuits:\n",
        "  doc = nlp(tuit)\n",
        "  for token in doc:\n",
        "    tokens_con_minusculas.append(token.is_lower)"
      ],
      "metadata": {
        "id": "L9lgian0OS03"
      },
      "execution_count": null,
      "outputs": []
    },
    {
      "cell_type": "code",
      "source": [
        "contador_tokens_con_minusculas  = Counter(tokens_con_minusculas)\n",
        "contador_tokens_con_minusculas.most_common(10)"
      ],
      "metadata": {
        "colab": {
          "base_uri": "https://localhost:8080/"
        },
        "id": "q0t19nCtQYB-",
        "outputId": "6a607890-5ad1-4bcf-d191-4decac795e06"
      },
      "execution_count": null,
      "outputs": [
        {
          "output_type": "execute_result",
          "data": {
            "text/plain": [
              "[(True, 87954), (False, 27848)]"
            ]
          },
          "metadata": {},
          "execution_count": 197
        }
      ]
    },
    {
      "cell_type": "markdown",
      "source": [
        "Paso 15: Repetimos los pasos anteriores sólo cambiando `token.is_lower` por `token.is_upper` para obtener **sólo** los tokens que contienen caracteres con mayúsculas."
      ],
      "metadata": {
        "id": "Llx2trCZu3sx"
      }
    },
    {
      "cell_type": "code",
      "source": [
        "tokens_con_mayusculas = []\n",
        "\n",
        "for tuit in tuits:\n",
        "  doc = nlp(tuit)\n",
        "  for token in doc:\n",
        "    tokens_con_mayusculas.append(token.is_upper)"
      ],
      "metadata": {
        "id": "rP-nK8UsOXcm"
      },
      "execution_count": null,
      "outputs": []
    },
    {
      "cell_type": "code",
      "source": [
        "contador_tokens_con_mayusculas  = Counter(tokens_con_mayusculas)\n",
        "contador_tokens_con_mayusculas.most_common(10)"
      ],
      "metadata": {
        "colab": {
          "base_uri": "https://localhost:8080/"
        },
        "id": "pD-ODPzXQZMi",
        "outputId": "b669eab2-e68e-4c2d-c5b8-78536ef8339f"
      },
      "execution_count": null,
      "outputs": [
        {
          "output_type": "execute_result",
          "data": {
            "text/plain": [
              "[(False, 112690), (True, 3085)]"
            ]
          },
          "metadata": {},
          "execution_count": 108
        }
      ]
    },
    {
      "cell_type": "markdown",
      "source": [
        "Paso 16: Repetimos los pasos anteriores sólo cambiando `token.is_upper` por `token.is_punct` para obtener **sólo** los tokens que contienen caracteres con puntuación."
      ],
      "metadata": {
        "id": "sXobOUg3u8UV"
      }
    },
    {
      "cell_type": "code",
      "source": [
        "tokens_de_signos_de_puntuacion = []\n",
        "\n",
        "for tuit in tuits:\n",
        "  doc = nlp(tuit)\n",
        "  for token in doc:\n",
        "    tokens_de_signos_de_puntuacion.append(token.is_punct)"
      ],
      "metadata": {
        "id": "yii6MMLyOXe8"
      },
      "execution_count": null,
      "outputs": []
    },
    {
      "cell_type": "code",
      "source": [
        "contador_tokens_de_signos_de_puntuacion = Counter(tokens_de_signos_de_puntuacion)\n",
        "contador_tokens_de_signos_de_puntuacion.most_common(10)"
      ],
      "metadata": {
        "colab": {
          "base_uri": "https://localhost:8080/"
        },
        "id": "8z-h9K41QZwS",
        "outputId": "35a1491a-5729-4760-ea90-ea45f5dbd0cc"
      },
      "execution_count": null,
      "outputs": [
        {
          "output_type": "execute_result",
          "data": {
            "text/plain": [
              "[(False, 103189), (True, 12586)]"
            ]
          },
          "metadata": {},
          "execution_count": 100
        }
      ]
    },
    {
      "cell_type": "markdown",
      "source": [
        "Paso 17: Repetimos los pasos anteriores sólo cambiando `token.is_punct` por `token.like_email` para obtener **sólo** los tokens que contienen caracteres que podrían ser de la forma de un email (por ejemplo, un token `nombre@gmail.com` muy probablemente sería marcado como True)."
      ],
      "metadata": {
        "id": "Z63823qgvDMc"
      }
    },
    {
      "cell_type": "code",
      "source": [
        "tokens_email = []\n",
        "\n",
        "for tuit in tuits:\n",
        "  doc = nlp(tuit)\n",
        "  for token in doc:\n",
        "    tokens_email.append(token.like_email)"
      ],
      "metadata": {
        "id": "IAjOx4ZfOXhi"
      },
      "execution_count": null,
      "outputs": []
    },
    {
      "cell_type": "code",
      "source": [
        "contador_emails = Counter(tokens_email)\n",
        "contador_emails.most_common(10)"
      ],
      "metadata": {
        "colab": {
          "base_uri": "https://localhost:8080/"
        },
        "id": "lQZNaT0pPg8z",
        "outputId": "94609702-d48a-4fda-83f5-c9038dc9c259"
      },
      "execution_count": null,
      "outputs": [
        {
          "output_type": "execute_result",
          "data": {
            "text/plain": [
              "[(False, 115775)]"
            ]
          },
          "metadata": {},
          "execution_count": 91
        }
      ]
    },
    {
      "cell_type": "markdown",
      "source": [
        "Paso 18: Repetimos los pasos anteriores sólo cambiando `token.is_punct` por `token.is_oov` para obtener **sólo** los tokens que están fuera del vocabulario del modelo de spaCy que estamos utilizando.\n",
        "\n",
        "Recordemos que los tokens *out of vocabulary (oov)* son aquellos que no se encuentran dentro del conjunto de datos con el que entrenaron al algoritmo, pero que sí están en nuestros datos. Por lo tanto spaCy marca como `oov` a aquellos tokens que no reconoce dentro de su modelo."
      ],
      "metadata": {
        "id": "16fulxXCvSXS"
      }
    },
    {
      "cell_type": "code",
      "source": [
        "tokens_fuera_de_vocabulario = []\n",
        "\n",
        "for tuit in tuits:\n",
        "  doc = nlp(tuit)\n",
        "  for token in doc:\n",
        "    tokens_fuera_de_vocabulario.append(token.is_oov)"
      ],
      "metadata": {
        "id": "4leao6K_OpVk"
      },
      "execution_count": null,
      "outputs": []
    },
    {
      "cell_type": "code",
      "source": [
        "contador_tokens_fuera_de_vocabulario = Counter(tokens_fuera_de_vocabulario)\n",
        "contador_tokens_fuera_de_vocabulario.most_common(10)"
      ],
      "metadata": {
        "colab": {
          "base_uri": "https://localhost:8080/"
        },
        "id": "3OeTfqgNP4L9",
        "outputId": "d8e381bc-bc03-4323-a847-bd5cac596620"
      },
      "execution_count": null,
      "outputs": [
        {
          "output_type": "execute_result",
          "data": {
            "text/plain": [
              "[(True, 115802)]"
            ]
          },
          "metadata": {},
          "execution_count": 200
        }
      ]
    },
    {
      "cell_type": "markdown",
      "source": [
        "Paso 19: Repetimos los pasos anteriores pero ahora para obtener los lemas.\n",
        "\n",
        "Recordemos que los lemas son la forma base de las tokens."
      ],
      "metadata": {
        "id": "2NfnIOzYPOTU"
      }
    },
    {
      "cell_type": "code",
      "source": [
        "lemmas = []\n",
        "\n",
        "for tuit in tuits:\n",
        "  doc = nlp(tuit)\n",
        "  for token in doc:\n",
        "    lemmas.append(token.lemma_)"
      ],
      "metadata": {
        "id": "0JmiNxghPEX3"
      },
      "execution_count": null,
      "outputs": []
    },
    {
      "cell_type": "code",
      "source": [
        "lemmas"
      ],
      "metadata": {
        "id": "mXllf6NynYB2"
      },
      "execution_count": null,
      "outputs": []
    },
    {
      "cell_type": "markdown",
      "source": [
        "Paso 20: Repetimos los pasos anteriores sólo cambiando `token.lemma` por `token.is_prefix` para obtener **sólo** los prefijos de los lemas en nuestros datos."
      ],
      "metadata": {
        "id": "lynE5Dcfv4yU"
      }
    },
    {
      "cell_type": "code",
      "source": [
        "for tuit in tuits:\n",
        "  doc = nlp(tuit)\n",
        "  for token in doc:\n",
        "    print(token.prefix_)"
      ],
      "metadata": {
        "id": "A29N9zFmnPyH"
      },
      "execution_count": null,
      "outputs": []
    },
    {
      "cell_type": "markdown",
      "source": [
        "Paso 21: Obtenemos la diversidad léxica de nuestros datos, pero esta vez sólo considerando lemas y no todos los tokens. \n",
        "\n",
        "¿Cómo cambia este resultado a comparación de usar tokens?"
      ],
      "metadata": {
        "id": "C7gFA-vowLfa"
      }
    },
    {
      "cell_type": "code",
      "source": [
        "numero_palabras_unicas = len(set(lemmas))\n",
        "numero_total_palabras = len(lemmas)"
      ],
      "metadata": {
        "id": "nH8Lh5qGPEw2"
      },
      "execution_count": null,
      "outputs": []
    },
    {
      "cell_type": "code",
      "source": [
        "diversidad_lexica = numero_palabras_unicas / numero_total_palabras\n",
        "diversidad_lexica * 100"
      ],
      "metadata": {
        "colab": {
          "base_uri": "https://localhost:8080/"
        },
        "id": "Fc3FXiyWPKhO",
        "outputId": "f6b8489e-4d6c-4657-be3d-3870bd6eeca3"
      },
      "execution_count": null,
      "outputs": [
        {
          "output_type": "execute_result",
          "data": {
            "text/plain": [
              "18.588625412341756"
            ]
          },
          "metadata": {},
          "execution_count": 204
        }
      ]
    }
  ]
}