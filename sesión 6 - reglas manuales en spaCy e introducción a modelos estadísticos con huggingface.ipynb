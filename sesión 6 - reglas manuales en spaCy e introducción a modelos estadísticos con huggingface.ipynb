{
  "nbformat": 4,
  "nbformat_minor": 0,
  "metadata": {
    "colab": {
      "name": "sesión 6 - introducción a modelos estadísticos.ipynb",
      "provenance": [],
      "collapsed_sections": []
    },
    "kernelspec": {
      "name": "python3",
      "display_name": "Python 3"
    },
    "language_info": {
      "name": "python"
    }
  },
  "cells": [
    {
      "cell_type": "markdown",
      "source": [
        "Retomando los datos con los que hemos estado trabajando hasta ahora ..."
      ],
      "metadata": {
        "id": "hXdDyDAFQbVH"
      }
    },
    {
      "cell_type": "code",
      "source": [
        "! pip install -U spacy\n",
        "! python -m spacy download es_core_news_lg"
      ],
      "metadata": {
        "id": "wP25fPzuTPTk"
      },
      "execution_count": null,
      "outputs": []
    },
    {
      "cell_type": "code",
      "source": [
        "import spacy\n",
        "nlp = spacy.load(\"es_core_news_lg\")"
      ],
      "metadata": {
        "id": "6-7c2coIflmX"
      },
      "execution_count": 1,
      "outputs": []
    },
    {
      "cell_type": "markdown",
      "source": [
        "Para las secciones `1`, `2` y `3` utilizaremos funciones creadas en sesiones pasadas."
      ],
      "metadata": {
        "id": "XhR7f4feZxA_"
      }
    },
    {
      "cell_type": "markdown",
      "source": [
        "## 1. Carga de datos\n"
      ],
      "metadata": {
        "id": "h_zDbnJpQqQs"
      }
    },
    {
      "cell_type": "code",
      "source": [
        "def cargar_datos(ruta_con_datos):\n",
        "  import pandas as pd\n",
        "  datos = pd.read_csv(ruta_con_datos, sep=\"\\t\")\n",
        "  return datos"
      ],
      "metadata": {
        "id": "581OZfx5Vjbx"
      },
      "execution_count": 2,
      "outputs": []
    },
    {
      "cell_type": "code",
      "source": [
        "#ruta = 'datos_deteccion_sexismo'\n",
        "ruta = '/datos_deteccion_sexismo.tsv'\n",
        "datos = cargar_datos(ruta)"
      ],
      "metadata": {
        "id": "PFDz5O5DSYm9"
      },
      "execution_count": 3,
      "outputs": []
    },
    {
      "cell_type": "code",
      "source": [
        "datos"
      ],
      "metadata": {
        "colab": {
          "base_uri": "https://localhost:8080/",
          "height": 423
        },
        "id": "yQGC90JK9EUf",
        "outputId": "945f809d-802b-43fc-f1be-e0bb56572241"
      },
      "execution_count": 4,
      "outputs": [
        {
          "output_type": "execute_result",
          "data": {
            "text/plain": [
              "      test_case    id   source language  \\\n",
              "0     EXIST2021     1  twitter       en   \n",
              "1     EXIST2021     2  twitter       en   \n",
              "2     EXIST2021     3  twitter       en   \n",
              "3     EXIST2021     4  twitter       en   \n",
              "4     EXIST2021     5  twitter       en   \n",
              "...         ...   ...      ...      ...   \n",
              "6972  EXIST2021  6973  twitter       es   \n",
              "6973  EXIST2021  6974  twitter       es   \n",
              "6974  EXIST2021  6975  twitter       es   \n",
              "6975  EXIST2021  6976  twitter       es   \n",
              "6976  EXIST2021  6977  twitter       es   \n",
              "\n",
              "                                                   text       task1  \\\n",
              "0     She calls herself \"anti-feminazi\" how about sh...      sexist   \n",
              "1     Now, back to these women, the brave and the be...  non-sexist   \n",
              "2     @CurvyBandida @Xalynne_B Wow, your skirt is ve...      sexist   \n",
              "3     @AurelieGuiboud Incredible!  Beautiful!But I l...  non-sexist   \n",
              "4     i find it extremely hard to believe that kelly...  non-sexist   \n",
              "...                                                 ...         ...   \n",
              "6972  Estamos igual sin pareja, pero puedes besar a ...  non-sexist   \n",
              "6973                          2020 hijo de re mil putas  non-sexist   \n",
              "6974  SEGURAMENTE ESTA CHICA NO COBRA EL DINERO QUE ...  non-sexist   \n",
              "6975     @safetyaitana mi madre dice q va fea y i agree      sexist   \n",
              "6976  ¿En vuestras casas también tenéis esa tradició...      sexist   \n",
              "\n",
              "                       task2  \n",
              "0     ideological-inequality  \n",
              "1                 non-sexist  \n",
              "2            objectification  \n",
              "3                 non-sexist  \n",
              "4                 non-sexist  \n",
              "...                      ...  \n",
              "6972              non-sexist  \n",
              "6973              non-sexist  \n",
              "6974              non-sexist  \n",
              "6975         objectification  \n",
              "6976  stereotyping-dominance  \n",
              "\n",
              "[6977 rows x 7 columns]"
            ],
            "text/html": [
              "\n",
              "  <div id=\"df-19a53b1c-126f-4a4a-bd7d-0625f4f27a98\">\n",
              "    <div class=\"colab-df-container\">\n",
              "      <div>\n",
              "<style scoped>\n",
              "    .dataframe tbody tr th:only-of-type {\n",
              "        vertical-align: middle;\n",
              "    }\n",
              "\n",
              "    .dataframe tbody tr th {\n",
              "        vertical-align: top;\n",
              "    }\n",
              "\n",
              "    .dataframe thead th {\n",
              "        text-align: right;\n",
              "    }\n",
              "</style>\n",
              "<table border=\"1\" class=\"dataframe\">\n",
              "  <thead>\n",
              "    <tr style=\"text-align: right;\">\n",
              "      <th></th>\n",
              "      <th>test_case</th>\n",
              "      <th>id</th>\n",
              "      <th>source</th>\n",
              "      <th>language</th>\n",
              "      <th>text</th>\n",
              "      <th>task1</th>\n",
              "      <th>task2</th>\n",
              "    </tr>\n",
              "  </thead>\n",
              "  <tbody>\n",
              "    <tr>\n",
              "      <th>0</th>\n",
              "      <td>EXIST2021</td>\n",
              "      <td>1</td>\n",
              "      <td>twitter</td>\n",
              "      <td>en</td>\n",
              "      <td>She calls herself \"anti-feminazi\" how about sh...</td>\n",
              "      <td>sexist</td>\n",
              "      <td>ideological-inequality</td>\n",
              "    </tr>\n",
              "    <tr>\n",
              "      <th>1</th>\n",
              "      <td>EXIST2021</td>\n",
              "      <td>2</td>\n",
              "      <td>twitter</td>\n",
              "      <td>en</td>\n",
              "      <td>Now, back to these women, the brave and the be...</td>\n",
              "      <td>non-sexist</td>\n",
              "      <td>non-sexist</td>\n",
              "    </tr>\n",
              "    <tr>\n",
              "      <th>2</th>\n",
              "      <td>EXIST2021</td>\n",
              "      <td>3</td>\n",
              "      <td>twitter</td>\n",
              "      <td>en</td>\n",
              "      <td>@CurvyBandida @Xalynne_B Wow, your skirt is ve...</td>\n",
              "      <td>sexist</td>\n",
              "      <td>objectification</td>\n",
              "    </tr>\n",
              "    <tr>\n",
              "      <th>3</th>\n",
              "      <td>EXIST2021</td>\n",
              "      <td>4</td>\n",
              "      <td>twitter</td>\n",
              "      <td>en</td>\n",
              "      <td>@AurelieGuiboud Incredible!  Beautiful!But I l...</td>\n",
              "      <td>non-sexist</td>\n",
              "      <td>non-sexist</td>\n",
              "    </tr>\n",
              "    <tr>\n",
              "      <th>4</th>\n",
              "      <td>EXIST2021</td>\n",
              "      <td>5</td>\n",
              "      <td>twitter</td>\n",
              "      <td>en</td>\n",
              "      <td>i find it extremely hard to believe that kelly...</td>\n",
              "      <td>non-sexist</td>\n",
              "      <td>non-sexist</td>\n",
              "    </tr>\n",
              "    <tr>\n",
              "      <th>...</th>\n",
              "      <td>...</td>\n",
              "      <td>...</td>\n",
              "      <td>...</td>\n",
              "      <td>...</td>\n",
              "      <td>...</td>\n",
              "      <td>...</td>\n",
              "      <td>...</td>\n",
              "    </tr>\n",
              "    <tr>\n",
              "      <th>6972</th>\n",
              "      <td>EXIST2021</td>\n",
              "      <td>6973</td>\n",
              "      <td>twitter</td>\n",
              "      <td>es</td>\n",
              "      <td>Estamos igual sin pareja, pero puedes besar a ...</td>\n",
              "      <td>non-sexist</td>\n",
              "      <td>non-sexist</td>\n",
              "    </tr>\n",
              "    <tr>\n",
              "      <th>6973</th>\n",
              "      <td>EXIST2021</td>\n",
              "      <td>6974</td>\n",
              "      <td>twitter</td>\n",
              "      <td>es</td>\n",
              "      <td>2020 hijo de re mil putas</td>\n",
              "      <td>non-sexist</td>\n",
              "      <td>non-sexist</td>\n",
              "    </tr>\n",
              "    <tr>\n",
              "      <th>6974</th>\n",
              "      <td>EXIST2021</td>\n",
              "      <td>6975</td>\n",
              "      <td>twitter</td>\n",
              "      <td>es</td>\n",
              "      <td>SEGURAMENTE ESTA CHICA NO COBRA EL DINERO QUE ...</td>\n",
              "      <td>non-sexist</td>\n",
              "      <td>non-sexist</td>\n",
              "    </tr>\n",
              "    <tr>\n",
              "      <th>6975</th>\n",
              "      <td>EXIST2021</td>\n",
              "      <td>6976</td>\n",
              "      <td>twitter</td>\n",
              "      <td>es</td>\n",
              "      <td>@safetyaitana mi madre dice q va fea y i agree</td>\n",
              "      <td>sexist</td>\n",
              "      <td>objectification</td>\n",
              "    </tr>\n",
              "    <tr>\n",
              "      <th>6976</th>\n",
              "      <td>EXIST2021</td>\n",
              "      <td>6977</td>\n",
              "      <td>twitter</td>\n",
              "      <td>es</td>\n",
              "      <td>¿En vuestras casas también tenéis esa tradició...</td>\n",
              "      <td>sexist</td>\n",
              "      <td>stereotyping-dominance</td>\n",
              "    </tr>\n",
              "  </tbody>\n",
              "</table>\n",
              "<p>6977 rows × 7 columns</p>\n",
              "</div>\n",
              "      <button class=\"colab-df-convert\" onclick=\"convertToInteractive('df-19a53b1c-126f-4a4a-bd7d-0625f4f27a98')\"\n",
              "              title=\"Convert this dataframe to an interactive table.\"\n",
              "              style=\"display:none;\">\n",
              "        \n",
              "  <svg xmlns=\"http://www.w3.org/2000/svg\" height=\"24px\"viewBox=\"0 0 24 24\"\n",
              "       width=\"24px\">\n",
              "    <path d=\"M0 0h24v24H0V0z\" fill=\"none\"/>\n",
              "    <path d=\"M18.56 5.44l.94 2.06.94-2.06 2.06-.94-2.06-.94-.94-2.06-.94 2.06-2.06.94zm-11 1L8.5 8.5l.94-2.06 2.06-.94-2.06-.94L8.5 2.5l-.94 2.06-2.06.94zm10 10l.94 2.06.94-2.06 2.06-.94-2.06-.94-.94-2.06-.94 2.06-2.06.94z\"/><path d=\"M17.41 7.96l-1.37-1.37c-.4-.4-.92-.59-1.43-.59-.52 0-1.04.2-1.43.59L10.3 9.45l-7.72 7.72c-.78.78-.78 2.05 0 2.83L4 21.41c.39.39.9.59 1.41.59.51 0 1.02-.2 1.41-.59l7.78-7.78 2.81-2.81c.8-.78.8-2.07 0-2.86zM5.41 20L4 18.59l7.72-7.72 1.47 1.35L5.41 20z\"/>\n",
              "  </svg>\n",
              "      </button>\n",
              "      \n",
              "  <style>\n",
              "    .colab-df-container {\n",
              "      display:flex;\n",
              "      flex-wrap:wrap;\n",
              "      gap: 12px;\n",
              "    }\n",
              "\n",
              "    .colab-df-convert {\n",
              "      background-color: #E8F0FE;\n",
              "      border: none;\n",
              "      border-radius: 50%;\n",
              "      cursor: pointer;\n",
              "      display: none;\n",
              "      fill: #1967D2;\n",
              "      height: 32px;\n",
              "      padding: 0 0 0 0;\n",
              "      width: 32px;\n",
              "    }\n",
              "\n",
              "    .colab-df-convert:hover {\n",
              "      background-color: #E2EBFA;\n",
              "      box-shadow: 0px 1px 2px rgba(60, 64, 67, 0.3), 0px 1px 3px 1px rgba(60, 64, 67, 0.15);\n",
              "      fill: #174EA6;\n",
              "    }\n",
              "\n",
              "    [theme=dark] .colab-df-convert {\n",
              "      background-color: #3B4455;\n",
              "      fill: #D2E3FC;\n",
              "    }\n",
              "\n",
              "    [theme=dark] .colab-df-convert:hover {\n",
              "      background-color: #434B5C;\n",
              "      box-shadow: 0px 1px 3px 1px rgba(0, 0, 0, 0.15);\n",
              "      filter: drop-shadow(0px 1px 2px rgba(0, 0, 0, 0.3));\n",
              "      fill: #FFFFFF;\n",
              "    }\n",
              "  </style>\n",
              "\n",
              "      <script>\n",
              "        const buttonEl =\n",
              "          document.querySelector('#df-19a53b1c-126f-4a4a-bd7d-0625f4f27a98 button.colab-df-convert');\n",
              "        buttonEl.style.display =\n",
              "          google.colab.kernel.accessAllowed ? 'block' : 'none';\n",
              "\n",
              "        async function convertToInteractive(key) {\n",
              "          const element = document.querySelector('#df-19a53b1c-126f-4a4a-bd7d-0625f4f27a98');\n",
              "          const dataTable =\n",
              "            await google.colab.kernel.invokeFunction('convertToInteractive',\n",
              "                                                     [key], {});\n",
              "          if (!dataTable) return;\n",
              "\n",
              "          const docLinkHtml = 'Like what you see? Visit the ' +\n",
              "            '<a target=\"_blank\" href=https://colab.research.google.com/notebooks/data_table.ipynb>data table notebook</a>'\n",
              "            + ' to learn more about interactive tables.';\n",
              "          element.innerHTML = '';\n",
              "          dataTable['output_type'] = 'display_data';\n",
              "          await google.colab.output.renderOutput(dataTable, element);\n",
              "          const docLink = document.createElement('div');\n",
              "          docLink.innerHTML = docLinkHtml;\n",
              "          element.appendChild(docLink);\n",
              "        }\n",
              "      </script>\n",
              "    </div>\n",
              "  </div>\n",
              "  "
            ]
          },
          "metadata": {},
          "execution_count": 4
        }
      ]
    },
    {
      "cell_type": "markdown",
      "source": [
        "# 2. Eliminación de columnas"
      ],
      "metadata": {
        "id": "mEuW1wmBVtnS"
      }
    },
    {
      "cell_type": "code",
      "source": [
        "def elimina_columna_en_pandas(variable_pandas, columnas_a_eliminar):\n",
        "  import pandas as pd\n",
        "  variable_pandas.drop(columnas_a_eliminar, axis=1, inplace=True)\n",
        "  return variable_pandas"
      ],
      "metadata": {
        "id": "XyhfY-dvVvUi"
      },
      "execution_count": 5,
      "outputs": []
    },
    {
      "cell_type": "code",
      "source": [
        "columnas_a_eliminar = ['test_case', 'id', 'source']\n",
        "datos_nuevos = elimina_columna_en_pandas(datos, columnas_a_eliminar)"
      ],
      "metadata": {
        "id": "nnMmfxwuTwo8"
      },
      "execution_count": 6,
      "outputs": []
    },
    {
      "cell_type": "code",
      "source": [
        "# Revisamos que efectivamente las columnas test_case, id y source hayan sido\n",
        "# eliminadas de la variable datos_nuevos.\n",
        "datos_nuevos"
      ],
      "metadata": {
        "colab": {
          "base_uri": "https://localhost:8080/",
          "height": 423
        },
        "id": "cGHBg69-T3Lz",
        "outputId": "05239671-c771-4be1-e349-bcab83cfa35c"
      },
      "execution_count": 7,
      "outputs": [
        {
          "output_type": "execute_result",
          "data": {
            "text/plain": [
              "     language                                               text       task1  \\\n",
              "0          en  She calls herself \"anti-feminazi\" how about sh...      sexist   \n",
              "1          en  Now, back to these women, the brave and the be...  non-sexist   \n",
              "2          en  @CurvyBandida @Xalynne_B Wow, your skirt is ve...      sexist   \n",
              "3          en  @AurelieGuiboud Incredible!  Beautiful!But I l...  non-sexist   \n",
              "4          en  i find it extremely hard to believe that kelly...  non-sexist   \n",
              "...       ...                                                ...         ...   \n",
              "6972       es  Estamos igual sin pareja, pero puedes besar a ...  non-sexist   \n",
              "6973       es                          2020 hijo de re mil putas  non-sexist   \n",
              "6974       es  SEGURAMENTE ESTA CHICA NO COBRA EL DINERO QUE ...  non-sexist   \n",
              "6975       es     @safetyaitana mi madre dice q va fea y i agree      sexist   \n",
              "6976       es  ¿En vuestras casas también tenéis esa tradició...      sexist   \n",
              "\n",
              "                       task2  \n",
              "0     ideological-inequality  \n",
              "1                 non-sexist  \n",
              "2            objectification  \n",
              "3                 non-sexist  \n",
              "4                 non-sexist  \n",
              "...                      ...  \n",
              "6972              non-sexist  \n",
              "6973              non-sexist  \n",
              "6974              non-sexist  \n",
              "6975         objectification  \n",
              "6976  stereotyping-dominance  \n",
              "\n",
              "[6977 rows x 4 columns]"
            ],
            "text/html": [
              "\n",
              "  <div id=\"df-ffa146e7-de47-4a7e-96e7-da9ba9677cec\">\n",
              "    <div class=\"colab-df-container\">\n",
              "      <div>\n",
              "<style scoped>\n",
              "    .dataframe tbody tr th:only-of-type {\n",
              "        vertical-align: middle;\n",
              "    }\n",
              "\n",
              "    .dataframe tbody tr th {\n",
              "        vertical-align: top;\n",
              "    }\n",
              "\n",
              "    .dataframe thead th {\n",
              "        text-align: right;\n",
              "    }\n",
              "</style>\n",
              "<table border=\"1\" class=\"dataframe\">\n",
              "  <thead>\n",
              "    <tr style=\"text-align: right;\">\n",
              "      <th></th>\n",
              "      <th>language</th>\n",
              "      <th>text</th>\n",
              "      <th>task1</th>\n",
              "      <th>task2</th>\n",
              "    </tr>\n",
              "  </thead>\n",
              "  <tbody>\n",
              "    <tr>\n",
              "      <th>0</th>\n",
              "      <td>en</td>\n",
              "      <td>She calls herself \"anti-feminazi\" how about sh...</td>\n",
              "      <td>sexist</td>\n",
              "      <td>ideological-inequality</td>\n",
              "    </tr>\n",
              "    <tr>\n",
              "      <th>1</th>\n",
              "      <td>en</td>\n",
              "      <td>Now, back to these women, the brave and the be...</td>\n",
              "      <td>non-sexist</td>\n",
              "      <td>non-sexist</td>\n",
              "    </tr>\n",
              "    <tr>\n",
              "      <th>2</th>\n",
              "      <td>en</td>\n",
              "      <td>@CurvyBandida @Xalynne_B Wow, your skirt is ve...</td>\n",
              "      <td>sexist</td>\n",
              "      <td>objectification</td>\n",
              "    </tr>\n",
              "    <tr>\n",
              "      <th>3</th>\n",
              "      <td>en</td>\n",
              "      <td>@AurelieGuiboud Incredible!  Beautiful!But I l...</td>\n",
              "      <td>non-sexist</td>\n",
              "      <td>non-sexist</td>\n",
              "    </tr>\n",
              "    <tr>\n",
              "      <th>4</th>\n",
              "      <td>en</td>\n",
              "      <td>i find it extremely hard to believe that kelly...</td>\n",
              "      <td>non-sexist</td>\n",
              "      <td>non-sexist</td>\n",
              "    </tr>\n",
              "    <tr>\n",
              "      <th>...</th>\n",
              "      <td>...</td>\n",
              "      <td>...</td>\n",
              "      <td>...</td>\n",
              "      <td>...</td>\n",
              "    </tr>\n",
              "    <tr>\n",
              "      <th>6972</th>\n",
              "      <td>es</td>\n",
              "      <td>Estamos igual sin pareja, pero puedes besar a ...</td>\n",
              "      <td>non-sexist</td>\n",
              "      <td>non-sexist</td>\n",
              "    </tr>\n",
              "    <tr>\n",
              "      <th>6973</th>\n",
              "      <td>es</td>\n",
              "      <td>2020 hijo de re mil putas</td>\n",
              "      <td>non-sexist</td>\n",
              "      <td>non-sexist</td>\n",
              "    </tr>\n",
              "    <tr>\n",
              "      <th>6974</th>\n",
              "      <td>es</td>\n",
              "      <td>SEGURAMENTE ESTA CHICA NO COBRA EL DINERO QUE ...</td>\n",
              "      <td>non-sexist</td>\n",
              "      <td>non-sexist</td>\n",
              "    </tr>\n",
              "    <tr>\n",
              "      <th>6975</th>\n",
              "      <td>es</td>\n",
              "      <td>@safetyaitana mi madre dice q va fea y i agree</td>\n",
              "      <td>sexist</td>\n",
              "      <td>objectification</td>\n",
              "    </tr>\n",
              "    <tr>\n",
              "      <th>6976</th>\n",
              "      <td>es</td>\n",
              "      <td>¿En vuestras casas también tenéis esa tradició...</td>\n",
              "      <td>sexist</td>\n",
              "      <td>stereotyping-dominance</td>\n",
              "    </tr>\n",
              "  </tbody>\n",
              "</table>\n",
              "<p>6977 rows × 4 columns</p>\n",
              "</div>\n",
              "      <button class=\"colab-df-convert\" onclick=\"convertToInteractive('df-ffa146e7-de47-4a7e-96e7-da9ba9677cec')\"\n",
              "              title=\"Convert this dataframe to an interactive table.\"\n",
              "              style=\"display:none;\">\n",
              "        \n",
              "  <svg xmlns=\"http://www.w3.org/2000/svg\" height=\"24px\"viewBox=\"0 0 24 24\"\n",
              "       width=\"24px\">\n",
              "    <path d=\"M0 0h24v24H0V0z\" fill=\"none\"/>\n",
              "    <path d=\"M18.56 5.44l.94 2.06.94-2.06 2.06-.94-2.06-.94-.94-2.06-.94 2.06-2.06.94zm-11 1L8.5 8.5l.94-2.06 2.06-.94-2.06-.94L8.5 2.5l-.94 2.06-2.06.94zm10 10l.94 2.06.94-2.06 2.06-.94-2.06-.94-.94-2.06-.94 2.06-2.06.94z\"/><path d=\"M17.41 7.96l-1.37-1.37c-.4-.4-.92-.59-1.43-.59-.52 0-1.04.2-1.43.59L10.3 9.45l-7.72 7.72c-.78.78-.78 2.05 0 2.83L4 21.41c.39.39.9.59 1.41.59.51 0 1.02-.2 1.41-.59l7.78-7.78 2.81-2.81c.8-.78.8-2.07 0-2.86zM5.41 20L4 18.59l7.72-7.72 1.47 1.35L5.41 20z\"/>\n",
              "  </svg>\n",
              "      </button>\n",
              "      \n",
              "  <style>\n",
              "    .colab-df-container {\n",
              "      display:flex;\n",
              "      flex-wrap:wrap;\n",
              "      gap: 12px;\n",
              "    }\n",
              "\n",
              "    .colab-df-convert {\n",
              "      background-color: #E8F0FE;\n",
              "      border: none;\n",
              "      border-radius: 50%;\n",
              "      cursor: pointer;\n",
              "      display: none;\n",
              "      fill: #1967D2;\n",
              "      height: 32px;\n",
              "      padding: 0 0 0 0;\n",
              "      width: 32px;\n",
              "    }\n",
              "\n",
              "    .colab-df-convert:hover {\n",
              "      background-color: #E2EBFA;\n",
              "      box-shadow: 0px 1px 2px rgba(60, 64, 67, 0.3), 0px 1px 3px 1px rgba(60, 64, 67, 0.15);\n",
              "      fill: #174EA6;\n",
              "    }\n",
              "\n",
              "    [theme=dark] .colab-df-convert {\n",
              "      background-color: #3B4455;\n",
              "      fill: #D2E3FC;\n",
              "    }\n",
              "\n",
              "    [theme=dark] .colab-df-convert:hover {\n",
              "      background-color: #434B5C;\n",
              "      box-shadow: 0px 1px 3px 1px rgba(0, 0, 0, 0.15);\n",
              "      filter: drop-shadow(0px 1px 2px rgba(0, 0, 0, 0.3));\n",
              "      fill: #FFFFFF;\n",
              "    }\n",
              "  </style>\n",
              "\n",
              "      <script>\n",
              "        const buttonEl =\n",
              "          document.querySelector('#df-ffa146e7-de47-4a7e-96e7-da9ba9677cec button.colab-df-convert');\n",
              "        buttonEl.style.display =\n",
              "          google.colab.kernel.accessAllowed ? 'block' : 'none';\n",
              "\n",
              "        async function convertToInteractive(key) {\n",
              "          const element = document.querySelector('#df-ffa146e7-de47-4a7e-96e7-da9ba9677cec');\n",
              "          const dataTable =\n",
              "            await google.colab.kernel.invokeFunction('convertToInteractive',\n",
              "                                                     [key], {});\n",
              "          if (!dataTable) return;\n",
              "\n",
              "          const docLinkHtml = 'Like what you see? Visit the ' +\n",
              "            '<a target=\"_blank\" href=https://colab.research.google.com/notebooks/data_table.ipynb>data table notebook</a>'\n",
              "            + ' to learn more about interactive tables.';\n",
              "          element.innerHTML = '';\n",
              "          dataTable['output_type'] = 'display_data';\n",
              "          await google.colab.output.renderOutput(dataTable, element);\n",
              "          const docLink = document.createElement('div');\n",
              "          docLink.innerHTML = docLinkHtml;\n",
              "          element.appendChild(docLink);\n",
              "        }\n",
              "      </script>\n",
              "    </div>\n",
              "  </div>\n",
              "  "
            ]
          },
          "metadata": {},
          "execution_count": 7
        }
      ]
    },
    {
      "cell_type": "markdown",
      "source": [
        "## 3. Eliminación de tuits en inglés"
      ],
      "metadata": {
        "id": "0om57LgOWjjN"
      }
    },
    {
      "cell_type": "code",
      "source": [
        "datos_espanol = datos_nuevos[datos_nuevos['language'] != 'en']"
      ],
      "metadata": {
        "id": "2KE6zlKAWjyT"
      },
      "execution_count": 8,
      "outputs": []
    },
    {
      "cell_type": "code",
      "source": [
        "# Revisamos el tuit en el índice 3532 en la columna text de la variable datos_espanol.\n",
        "datos_espanol['text'][3532]"
      ],
      "metadata": {
        "colab": {
          "base_uri": "https://localhost:8080/",
          "height": 36
        },
        "id": "rBqJiq5VXNnn",
        "outputId": "e234d3d4-31f9-4871-99fe-15005b1cf552"
      },
      "execution_count": 9,
      "outputs": [
        {
          "output_type": "execute_result",
          "data": {
            "text/plain": [
              "'Miranda Cosgrove paso de ser una perra mala a una mojigata aljsdalkjdsd https://t.co/uT8Sb7dr2g'"
            ],
            "application/vnd.google.colaboratory.intrinsic+json": {
              "type": "string"
            }
          },
          "metadata": {},
          "execution_count": 9
        }
      ]
    },
    {
      "cell_type": "code",
      "source": [
        "# Revisamos qué tokens del tuit en el índice 3532 en la columna text de la variable datos_espanol\n",
        "# no reconoce spaCy. Recordemos que spaCy marca un token como token.is_oov == True si ese token\n",
        "# no se encuentra dentro de los tokens que se le metieron al modelo durante su entrenamiento.\n",
        "doc = nlp(datos_espanol['text'][3532])\n",
        "for token in doc:\n",
        "  if token.is_oov == True:\n",
        "    print(token.text)"
      ],
      "metadata": {
        "colab": {
          "base_uri": "https://localhost:8080/"
        },
        "id": "-9W-ngVu-vjZ",
        "outputId": "3ecc429b-7880-4ff7-8fe8-f8dc6febb9ab"
      },
      "execution_count": 10,
      "outputs": [
        {
          "output_type": "stream",
          "name": "stdout",
          "text": [
            "aljsdalkjdsd\n",
            "https://t.co/uT8Sb7dr2\n"
          ]
        }
      ]
    },
    {
      "cell_type": "markdown",
      "source": [
        "Observamos que hay dos tokens que spaCy marca como fuera de vocabulario (out of vocabulary): `aljsdalkjdsd` y `https://t.co/uT8Sb7dr2`. Esto era de esperarse, pues difícilmente un conjunto de datos de notas periodísticas (que es el qe se indica en la página de spaCy que se usó para entrenar el modelo que estamos usando en esta notebook) contendría estos dos términos,"
      ],
      "metadata": {
        "id": "mfNJtGe5ZX5m"
      }
    },
    {
      "cell_type": "markdown",
      "source": [
        "## 4. Funciones para corrección de ortografía"
      ],
      "metadata": {
        "id": "VMBYQ-FebhWB"
      }
    },
    {
      "cell_type": "markdown",
      "source": [
        "La función `corrige_errores_ortograficos` ayuda a la función `aplica_diccionario` a introducir sustituciones ortográficas manualmente a un conjunto de datos.\n",
        "\n",
        "En este caso se usa `aplica_diccionario` con la variable `datos_espanol` sobre la columna `text`. También se le pasa como argumento `diccionario_corregido`, el cual contiene pares de palabras: la primera palabra es la que queremos sustituir, y la que esta después de los `:` es por la que la queremos sustituir.\n",
        "\n",
        "Para modificar estas reglas de sustitución ortográfica, simplemente debemos agregar manualmente los pares *sustituir-sustitución* dentro de la variable `diccionario_corregido`. Se pueden ingresar tantos pares se desee.\n"
      ],
      "metadata": {
        "id": "amDyXUgZVimY"
      }
    },
    {
      "cell_type": "code",
      "source": [
        "def corrige_errores_ortograficos(x, dic):\n",
        "    for word in dic.keys():\n",
        "        x = x.replace(word, dic[word])\n",
        "    return x\n",
        "\n",
        "def aplica_diccionario(datos, columna, diccionario):\n",
        "  datos[columna] = datos[columna].apply(lambda x: corrige_errores_ortograficos(x, diccionario))\n",
        "  return "
      ],
      "metadata": {
        "id": "ZHNiEUtKaG8u"
      },
      "execution_count": 16,
      "outputs": []
    },
    {
      "cell_type": "code",
      "source": [
        "diccionario_corregido = {'aljsdalkjdsd': 'jajaja', 'https://t.co/uT8Sb7dr2g': 'link'}\n",
        "\n",
        "aplica_diccionario(datos_espanol, 'text', diccionario_corregido)"
      ],
      "metadata": {
        "id": "PMsE8300bUsX"
      },
      "execution_count": null,
      "outputs": []
    },
    {
      "cell_type": "markdown",
      "source": [
        "Verificamos que efectivamente se hayan sustituido los términos *aljsdalkjdsd* y *https://t.co/uT8Sb7dr2g* por *jajaja* y *link*:"
      ],
      "metadata": {
        "id": "jg4QQJmpWVl7"
      }
    },
    {
      "cell_type": "code",
      "source": [
        "datos_espanol['text'][3532]"
      ],
      "metadata": {
        "colab": {
          "base_uri": "https://localhost:8080/",
          "height": 36
        },
        "id": "YVUo1tJWbd5y",
        "outputId": "3a0a5841-76b2-4aae-81c5-e7adfe609b00"
      },
      "execution_count": 18,
      "outputs": [
        {
          "output_type": "execute_result",
          "data": {
            "text/plain": [
              "'Miranda Cosgrove paso de ser una perra mala a una mojigata jajaja link'"
            ],
            "application/vnd.google.colaboratory.intrinsic+json": {
              "type": "string"
            }
          },
          "metadata": {},
          "execution_count": 18
        }
      ]
    },
    {
      "cell_type": "markdown",
      "source": [
        "## 5. Etiquetar las tokens en los tuits\n",
        "\n",
        "En esta sección definieremos clases de tokens manualmente. Hasta ahora sólo hemos extraído las tokens que spaCy tiene por defecto. Si queremos introducirle al modelo algún tipo de token en particular debemos hacer lo siguiente:"
      ],
      "metadata": {
        "id": "3xFPs0CrdasZ"
      }
    },
    {
      "cell_type": "code",
      "source": [
        "def crea_tipo_de_token(nombre_tipo_token, ejemplos):\n",
        "  from spacy.tokens import Token\n",
        "  tokens_nuevos = lambda token: token.text in (\"Rosalía\", \"Madonna\")\n",
        "  Token.set_extension(str(nombre_tipo_token), getter=tokens_nuevos, force=True)\n",
        "  return "
      ],
      "metadata": {
        "id": "vUHvl_bXiIPj"
      },
      "execution_count": 19,
      "outputs": []
    },
    {
      "cell_type": "markdown",
      "source": [
        "En la celda anterior obtenemos un error, pues el modelo de spaCy que cargamos en esta libreta NO contiene el token `es_musico`. \n",
        "\n",
        "Por lo tanto introducimos este tipo de token con la celda siguiente:"
      ],
      "metadata": {
        "id": "Ij37sKYUibIP"
      }
    },
    {
      "cell_type": "code",
      "source": [
        "es_musico = 'es_musico'\n",
        "musicos = (\"Rosalía\", \"BTS\")"
      ],
      "metadata": {
        "id": "dKwxLUhUltYx"
      },
      "execution_count": 20,
      "outputs": []
    },
    {
      "cell_type": "code",
      "source": [
        "doc = nlp('Me gusta Rosalía.')\n",
        "\n",
        "## Llamamos a la función crea_tipo_token y le pasamos nuestros parámetros definidos\n",
        "# en la celda anterior.\n",
        "crea_tipo_de_token(es_musico, musicos)"
      ],
      "metadata": {
        "id": "7D2zc8syl63Y"
      },
      "execution_count": 21,
      "outputs": []
    },
    {
      "cell_type": "markdown",
      "source": [
        "Finalmente revisamos que el token `Rosalía` efectivamente haya sido etiquetado como `es_musico`; esto es, que `token._.es_musico` devuelva `True` sólo para el `token.text == Rosalía`."
      ],
      "metadata": {
        "id": "J2CwxojFmPKl"
      }
    },
    {
      "cell_type": "code",
      "source": [
        "print('Tokens | Si es True significa que el token es de tipo .es_musico')\n",
        "for token in doc:\n",
        "  print(token.text, token._.es_musico)"
      ],
      "metadata": {
        "colab": {
          "base_uri": "https://localhost:8080/"
        },
        "id": "1yPYKHrlkqmd",
        "outputId": "47b18873-d539-4059-89bb-73174e7aef95"
      },
      "execution_count": 22,
      "outputs": [
        {
          "output_type": "stream",
          "name": "stdout",
          "text": [
            "Tokens | Si es True significa que el token es de tipo .es_musico\n",
            "Me False\n",
            "gusta False\n",
            "Rosalía True\n",
            ". False\n"
          ]
        }
      ]
    },
    {
      "cell_type": "markdown",
      "source": [
        "Ahora introduciremos otra regla manualmente al modelo de spaCy cargado en esta libreta. \n",
        "\n",
        "Esta vez le diremos que al generar los `doc.sents` (recordemos: estos son tokens por oración y no por palabra como los que genera `token.text`) segmente las oraciones cuando encuentre un `...`"
      ],
      "metadata": {
        "id": "ekpa8sKojNBG"
      }
    },
    {
      "cell_type": "code",
      "source": [
        "from spacy.language import Language\n",
        "import spacy\n",
        "\n",
        "texto = \"esta es una oración...ahora...ésta es otra.\"\n",
        "\n",
        "doc = nlp(texto)\n",
        "print(\"Antes:\", [sent.text for sent in doc.sents])"
      ],
      "metadata": {
        "colab": {
          "base_uri": "https://localhost:8080/"
        },
        "id": "sE0zOvQcnRI6",
        "outputId": "4d120660-0613-47a6-dc58-96c2ab5833a8"
      },
      "execution_count": 23,
      "outputs": [
        {
          "output_type": "stream",
          "name": "stdout",
          "text": [
            "Antes: ['esta es una oración...ahora...ésta es otra.']\n"
          ]
        }
      ]
    },
    {
      "cell_type": "markdown",
      "source": [
        "En la celda enterior observamos que `doc.sents` genera sólo una lista con un token de oración, pues no considera que `...` separe a dos oraciones.\n",
        "\n",
        "En el siguiente bloque de código definimos una función que luego introducimos a spaCy con la ayuda de `nlp.add_pipe`. Para cambiar el funcionamiento de este bloque de código e introducir otra regla a partir de la cual segmentar oraciones (diferente a `...`), sólo hay que cambiar la línea `4` por nuestra nueva regla."
      ],
      "metadata": {
        "id": "v-fz08gEm3V-"
      }
    },
    {
      "cell_type": "code",
      "source": [
        "@Language.component(\"limites_manuales_de_oraciones\")\n",
        "def limites_manuales_de_oraciones(doc):\n",
        "    for token in doc[:-1]:\n",
        "        if token.text == \"...\":\n",
        "            doc[token.i + 1].is_sent_start = True\n",
        "    return doc\n",
        "\n",
        "nlp.add_pipe(\"limites_manuales_de_oraciones\", before=\"parser\")\n",
        "\n",
        "doc = nlp(texto)\n",
        "print(\"Después:\", [sent.text for sent in doc.sents])"
      ],
      "metadata": {
        "colab": {
          "base_uri": "https://localhost:8080/"
        },
        "id": "3Uy6Gt0SnR8O",
        "outputId": "c64d5270-14ef-4d79-c8dc-054f6bbd583d"
      },
      "execution_count": 24,
      "outputs": [
        {
          "output_type": "stream",
          "name": "stdout",
          "text": [
            "Después: ['esta es una oración...', 'ahora...', 'ésta es otra.']\n"
          ]
        }
      ]
    },
    {
      "cell_type": "markdown",
      "source": [
        "Lo siguiente que haremos en esta libreta es revisar cuántos tokens fuera de vocabulario (out of vocabulary - oov) tenemos entre nuestros datos en la variable `datos_espanol`, columna `text`."
      ],
      "metadata": {
        "id": "xbqyje9GoUMV"
      }
    },
    {
      "cell_type": "code",
      "source": [
        "palabras_fuera_de_vocabulario = []\n",
        "\n",
        "for tuit in datos_espanol['text']:\n",
        "  doc = nlp(tuit)\n",
        "  for token in doc:\n",
        "    if token.is_oov == True:\n",
        "      palabras_fuera_de_vocabulario.append(token.text)"
      ],
      "metadata": {
        "id": "xtrbEZWNnuJr"
      },
      "execution_count": 25,
      "outputs": []
    },
    {
      "cell_type": "code",
      "source": [
        "palabras_fuera_de_vocabulario"
      ],
      "metadata": {
        "id": "fqLhA0PXE_wa",
        "colab": {
          "base_uri": "https://localhost:8080/"
        },
        "outputId": "27af9073-d47c-4736-d1e6-3e12789654fd"
      },
      "execution_count": 26,
      "outputs": [
        {
          "output_type": "execute_result",
          "data": {
            "text/plain": [
              "['@lindagisela74',\n",
              " '@BicireporteraDF',\n",
              " '@Agus_Martinez58',\n",
              " '@AlmeidaPP',\n",
              " 'ALCALDESPRETENDEN',\n",
              " 'CABELO',\n",
              " 'CABELA',\n",
              " 'ESTRECHA',\n",
              " 'EXPRESASUBTERRANEA',\n",
              " 'https://t.co/xY9smufSdS',\n",
              " 'https://t.co/rhuvSXhypu',\n",
              " '@6Asca',\n",
              " '@ladycristall',\n",
              " 'lagartona',\n",
              " 'conchalalora',\n",
              " 'https://t.co/N19KHrYztB',\n",
              " '@houstontexans',\n",
              " '#nfl',\n",
              " 'futbolamericano',\n",
              " 'willfuller',\n",
              " 'texans',\n",
              " 'texansnation',\n",
              " 'pedpolicy',\n",
              " 'https://t.co/cD3y8SyslO',\n",
              " 'bailando.son',\n",
              " 'NiUnEuroACruzRoja',\n",
              " 'preciones',\n",
              " '@Rexmas1alterno',\n",
              " '@AdryMJ',\n",
              " ' ',\n",
              " 'https://t.co/Cb4Ldqlxgv',\n",
              " 'sexualicen',\n",
              " '@marianavelezga',\n",
              " 'guebon',\n",
              " '@AKO72842870',\n",
              " ' ',\n",
              " '@Noticia_Libre',\n",
              " '@JulySeEs',\n",
              " '@AnibelcaRosario',\n",
              " '@SusanaGautreau',\n",
              " '@holi_matos',\n",
              " '@pousuazo',\n",
              " '@laluzjose',\n",
              " '@carlosgabrielgc',\n",
              " '@LaNacion_RD',\n",
              " '@SueroDanielUnt',\n",
              " '@Porfiriogc',\n",
              " '@Suedita',\n",
              " '@LaVozDelPRM',\n",
              " 'nadie?Que',\n",
              " 'SALISTE',\n",
              " 'PARECES',\n",
              " 'https://t.co/dS5baUS4Jw',\n",
              " '@EdwardMa2558',\n",
              " '@Cydonia99790009',\n",
              " '@La_SER',\n",
              " '@adelamolina',\n",
              " '@elmundoes',\n",
              " '@Google',\n",
              " '@goohle',\n",
              " 'YoSiTeCreo',\n",
              " '@SoyEnigmah',\n",
              " '@Hoyuelicos',\n",
              " '@FachaFlauta',\n",
              " '@bouenmastodon',\n",
              " 'https://t.co/ibTpRG2Kd7Leetelo',\n",
              " 'DENUNCIA.Estamos',\n",
              " 'PorTíPorMíPorTodas#DenunciaLaViolencia',\n",
              " 'YoSiTeCreo',\n",
              " 'NoEsNo',\n",
              " 'https://t.co/eDVDG9tWtG',\n",
              " '@oreja_de_reno',\n",
              " '@ArtemisNymph',\n",
              " 'mansplaining:3',\n",
              " 'Señoros',\n",
              " 'estudiao',\n",
              " 'Simp',\n",
              " 'mangina',\n",
              " 'mgtow',\n",
              " 'pildoraroja',\n",
              " 'redpill',\n",
              " 'https://t.co/AGXRAY62FH',\n",
              " '@Juanmjh1',\n",
              " '@Macarena_Olona',\n",
              " 'https://t.co/gU0tPutbdc',\n",
              " '@v1ctoriasensual',\n",
              " 'serradita',\n",
              " 'Acuña)\"Mujer',\n",
              " 'soñadoraLlena',\n",
              " 'virtudesLlena',\n",
              " 'comprensiónLlena',\n",
              " 'convicciónDe',\n",
              " 'revolución\"#DiciembreVictorioso',\n",
              " 'https://t.co/yZyNbQ3Lt9',\n",
              " 'no?En',\n",
              " '@CarlosGarcia09',\n",
              " ' ',\n",
              " '@glaseadodementa',\n",
              " 'https://t.co/yWSYGLX6GP',\n",
              " 'rígidadel',\n",
              " 'emanadichosa',\n",
              " 'desmiembra',\n",
              " 'calmacada',\n",
              " 'sábanascreadas',\n",
              " 'costurasde',\n",
              " 'https://t.co/JzUiXPFo3',\n",
              " 'https://t.co/bq2I4IDIkl',\n",
              " '@flormolina30',\n",
              " 'frigida',\n",
              " 'felizrequisistos',\n",
              " 'dumrauf:*edad:16-30*estatura:1,60-1.79*tetas',\n",
              " 'igual*q',\n",
              " 'dientes*q',\n",
              " 'mm)*q',\n",
              " 'Pedicabo',\n",
              " 'irrumabo',\n",
              " 'Paedico',\n",
              " 'irrumo',\n",
              " 'https://t.co/soZy7uWf2N',\n",
              " 'satisfyer',\n",
              " '@elenaaabon',\n",
              " '@Conde_Macula',\n",
              " 'castrarnos',\n",
              " '@ElHuffPost',\n",
              " '@eltelevisero',\n",
              " 'mujerme',\n",
              " ' ',\n",
              " 'https://t.co/rf7DNQomSN',\n",
              " 'https://t.co/FWok7WsNRc',\n",
              " '@jho',\n",
              " 'https://t.co/F5wGpsHTUN',\n",
              " 'mal.¿Sacar',\n",
              " 'Perfecto.¿Que',\n",
              " 'Bien.¿Que',\n",
              " 'corta?muy',\n",
              " 'puta.¿Delgada',\n",
              " 'Gorda?Perdedora¿Que',\n",
              " 'llora?Infantil',\n",
              " '@dianathamara3',\n",
              " '@Flor19705',\n",
              " '@NicolasdelCano',\n",
              " '@gaspipd',\n",
              " 'recuérdales',\n",
              " 'https://t.co/oNhfoAqC6',\n",
              " '@AnaMontaa8',\n",
              " 'feminismo.-',\n",
              " 'Rae.-',\n",
              " 'patriarcado.-',\n",
              " 'patriarcado?-',\n",
              " 'Doleras-',\n",
              " '@This_Juliana',\n",
              " '@estibalizfeito',\n",
              " 'Jodeme',\n",
              " 'embarazadahttps://t.co/6PWeH0OLjd',\n",
              " '@emuyshondt',\n",
              " '@alcaldia_ss',\n",
              " '@ssestuyo',\n",
              " 'pendejoHay',\n",
              " '@laCuerda2',\n",
              " 'Amigas:¿Por',\n",
              " '@TH1KYOO',\n",
              " 'ayññ',\n",
              " 'mogolico',\n",
              " '@vivicanosaok',\n",
              " '@tumbaburross',\n",
              " '@BaksLive',\n",
              " '@EstefaniaVeloz',\n",
              " 'ViviendaSiRepresionNo',\n",
              " '@izquierdadiario',\n",
              " 'GuernicaDePie',\n",
              " 'https://t.co/15uMidIiVd',\n",
              " 'verdadesocultas',\n",
              " '@MaraBrawer',\n",
              " 'feminismo.#AbortoLegal2020',\n",
              " 'https://t.co/ufOLTqDizZ',\n",
              " '@Libr_Benedetti',\n",
              " '@sabinaberman',\n",
              " 'QueSeaLey',\n",
              " '@BacBiblioteca',\n",
              " '@andiscapacidad',\n",
              " '@redi_derechos',\n",
              " 'https://t.co/HK2epKxl7j',\n",
              " 'EducaciónInclusiva',\n",
              " '@Educacion_Ec',\n",
              " 'SembramosFuturo',\n",
              " 'https://t.co/CSYLH8ULUE',\n",
              " '@Mdazcrdba',\n",
              " 'https://t.co/qKOWE7rXhK',\n",
              " 'https://t.co/G9q8JZzusi',\n",
              " 'https://t.co/OggSuQuXor',\n",
              " 'elegancia¨',\n",
              " 'https://t.co/8wR8h9LCm1',\n",
              " 'Fregar',\n",
              " 'DíaInternacionalDiscapacidad',\n",
              " '@Presidencia_Ec',\n",
              " '@Salud_Ecson',\n",
              " 'https://t.co/5iGOi7f7Lh',\n",
              " 'Morelianas',\n",
              " 'AbortoLas',\n",
              " 'https://t.co/aszGVc8dKg',\n",
              " 'https://t.co/IKQq147mtb',\n",
              " ' ',\n",
              " 'hdrmp',\n",
              " '@DeepConu',\n",
              " '@SR_OK',\n",
              " 'LaManada',\n",
              " 'LaHijaDelMariachi',\n",
              " 'https://t.co/O37E8u1oO7',\n",
              " '@rennoaltocampoo',\n",
              " 'ASESINAR',\n",
              " '@_PabloFdez',\n",
              " 'azotas',\n",
              " ' ',\n",
              " 'YoDigoNoMas',\n",
              " 'https://t.co/OoMRFqnx5I',\n",
              " 'YoSiTeCreo',\n",
              " 'https://t.co/lvFwmBnkmT',\n",
              " '@UnionDeLuchas',\n",
              " 'casarseA',\n",
              " '@gabrielboric',\n",
              " 'gímeme',\n",
              " '/rugirle',\n",
              " '@pedroferriz3',\n",
              " '@alegraa10',\n",
              " 'jajajajajajaaj',\n",
              " 'clandestino.#QueSeaLey',\n",
              " ' ',\n",
              " '@CECILIAMOREAU',\n",
              " 'https://t.co/2MsSGbTxPr',\n",
              " 'Delinquir',\n",
              " 'https://t.co/94slIXX5Kv',\n",
              " '@Budaenperu',\n",
              " '@eloymarchan',\n",
              " '@ensustrece',\n",
              " ' ',\n",
              " '@Vkthery',\n",
              " '@clarincom',\n",
              " 'lugerita',\n",
              " '@lebiram34980787',\n",
              " '@asifuevalencia',\n",
              " ' ',\n",
              " '.tú',\n",
              " '@SobrinoV_Edu',\n",
              " '  ',\n",
              " '#MujeresInvisibles#Pioneras',\n",
              " '@cero',\n",
              " 'https://t.co/leBisfxyck',\n",
              " '@agencia_sinc',\n",
              " 'LAGARTONA',\n",
              " 'CONSERVADORA',\n",
              " 'anös',\n",
              " 'GeneraciónASILO',\n",
              " 'enviémoslos',\n",
              " 'good!@CoordinadoraRep',\n",
              " 'https://t.co/t5vjjz86tI',\n",
              " '@FBuenAbad',\n",
              " '@andres_trasado',\n",
              " '@KyriosCV',\n",
              " 'majorettes',\n",
              " 'majorettes',\n",
              " '@gmpsantander',\n",
              " '900.116.016',\n",
              " 'SVisual',\n",
              " 'Telesor',\n",
              " 'ATENPRO',\n",
              " 'PorMí',\n",
              " '112Accesible',\n",
              " 'SVIsual',\n",
              " 'AlertCops',\n",
              " 'ViolenciaMachista',\n",
              " 'https://t.co/5Ug61DOLZP',\n",
              " '@IreneMontero',\n",
              " '@EstefaniaVeloz',\n",
              " 'Fakeministas',\n",
              " '@Paolita_ocean',\n",
              " '@fabiss84',\n",
              " 'ElJuegoDeChileEnTVN',\n",
              " 'Despistados',\n",
              " ' ',\n",
              " 'https://t.co/6klJxtqFSM',\n",
              " 'https://t.co/pZgu9tRHcA',\n",
              " '@CesarAlvCa',\n",
              " 'https://t.co/Vf9lIqRa6k',\n",
              " 'ChaoFrenteAmplio',\n",
              " '@ParejitaVeracr2',\n",
              " 'SUMMERWITHCHARMIST',\n",
              " 'SummerWithKyoka',\n",
              " 'CHARMISTAKESUMMER',\n",
              " 'https://t.co/1Sw8T3xDtm',\n",
              " '@ezeyvero',\n",
              " '@ObedFloresmx',\n",
              " '@rochaperiodista',\n",
              " '@YeniBerenice',\n",
              " 'https://t.co/aGhMuyqKn4',\n",
              " '35).MARÍA',\n",
              " 'rebelde.#Sociedad',\n",
              " 'https://t.co/Bs9c5cJqmm',\n",
              " 'https://t.co/Fzf7Fo5XNm',\n",
              " 'https://t.co/YeXKMI0KAN',\n",
              " '@TocawebsReal',\n",
              " '@Alvisepf',\n",
              " '@Yolanda_Diaz',\n",
              " '8???',\n",
              " '@cristinamedinav',\n",
              " '@luisalfredogarc',\n",
              " '@atownsendk',\n",
              " ' ',\n",
              " 'Chantajean',\n",
              " '@JCrackTV',\n",
              " 'lleguenhttps://t.co/RJJ5qcsU2A',\n",
              " 'Grandísimos',\n",
              " ' ',\n",
              " 'https://t.co/tJHV2xJksc',\n",
              " 'pariu',\n",
              " 'hein',\n",
              " 'https://t.co/8ArUK370fy',\n",
              " '@polopugamx',\n",
              " '@ExatlonMx',\n",
              " 'fuerapato',\n",
              " '@Espeto82',\n",
              " 'mediático.¿Realmente',\n",
              " 'desventaja?¿o',\n",
              " '@carlosjose0968',\n",
              " 'opinaste',\n",
              " '@MexKrispyKreme',\n",
              " '@WharfRat_DE',\n",
              " 'manspreading',\n",
              " '@luchadisidente',\n",
              " '@Txikiteros',\n",
              " 'Notallmen',\n",
              " 'SATISTECHA',\n",
              " 'FelizInicioDeSemana',\n",
              " 'LEGENDARIO',\n",
              " 'ADAME',\n",
              " 'https://t.co/mjb5wA3GMb',\n",
              " '@thiagowo',\n",
              " '@_xCain',\n",
              " '@MaxKaiser75',\n",
              " 'fraudediputado',\n",
              " 'milagroNOTICIAS',\n",
              " '  ',\n",
              " '1LAGENTESIEMPRE',\n",
              " 'https://t.co/JlPcajPx4',\n",
              " 'https://t.co/RdFdDs6Svh',\n",
              " '@aracelibs',\n",
              " '@Anaro74',\n",
              " '@malusita76',\n",
              " '@Laucaba',\n",
              " '@AztecaNoticias',\n",
              " '@JosLuis70921676',\n",
              " 'https://t.co/WG4V09XxEK',\n",
              " '@carlosmcnamara',\n",
              " '@PabloWende',\n",
              " '@infobae',\n",
              " 'https://t.co/hzYDBb0Pxo',\n",
              " '@todosemosETB',\n",
              " '@DinaBousselham',\n",
              " 'hablas??Hice',\n",
              " 'metistes',\n",
              " 'conspiraciones?Soy',\n",
              " 'dia!!!Som-hi',\n",
              " 'aamb',\n",
              " \"l'#endevinalla\",\n",
              " 'núm.764Bien',\n",
              " 'ymuchas',\n",
              " 'astaxa',\n",
              " 'sirvoa',\n",
              " 'ytrabajo',\n",
              " 'és?Normes',\n",
              " 'https://t.co',\n",
              " 'Ks2x78P9PdDemàx531/12x5',\n",
              " 'https://t.co/OOt8lcB6Lq',\n",
              " '@mantonieta1536',\n",
              " '@awizor',\n",
              " '@MIAREsproject',\n",
              " '@Poppymrb',\n",
              " '@MikiDavinci7',\n",
              " '@piensolibre21',\n",
              " '@yulychira',\n",
              " '@UnaAlienada',\n",
              " '@Alaz_elorriaga',\n",
              " '@MikiDavinci7',\n",
              " 'drog*dict',\n",
              " 'pr*stitut',\n",
              " 'jaksjak',\n",
              " 'jkasjks',\n",
              " 'para+',\n",
              " 'arbitras',\n",
              " 'culias',\n",
              " 'p*to',\n",
              " 'LoÚltimo',\n",
              " '@SeguridadSV',\n",
              " '@AsambleaSV',\n",
              " 'https://t.co/QkSrGhkiI1',\n",
              " '@fanzinero',\n",
              " '@manguitoo',\n",
              " '@inmoon_vk',\n",
              " 'ENRUMBAO',\n",
              " 'CHOCHA',\n",
              " '@SofiaBVilla',\n",
              " 'lamanada',\n",
              " 'usostic',\n",
              " 'transfobo',\n",
              " 'terf',\n",
              " 'dejennos',\n",
              " 'Nosotres',\n",
              " 'mal(+',\n",
              " 'https://t.co/PyPyGLBRHA',\n",
              " '@GenioShow',\n",
              " 'noviazgo\"Muy',\n",
              " 'ginocentrismo',\n",
              " '@ParDandalucia',\n",
              " '@MISERYRI0',\n",
              " 'noNo',\n",
              " '@MartinSalaMdp',\n",
              " '@gmontenegro_ok',\n",
              " ' ',\n",
              " '@publico_es',\n",
              " '@DanielHabif',\n",
              " 'a-vienta',\n",
              " 'https://t.co/cPCrtorlaf',\n",
              " '@HOLLMANMORRIS',\n",
              " '@csvsantillan',\n",
              " '@Tercer_Canal',\n",
              " '@Amlodip',\n",
              " 'crimínales',\n",
              " 'GarciaLuna',\n",
              " '@almitalares',\n",
              " 'alcohol,',\n",
              " '@VEchegui',\n",
              " 'https://t.co/NLBWAosaUV',\n",
              " 'prianista',\n",
              " '@ZilOliv',\n",
              " '542.226.000.000',\n",
              " 'robandosela',\n",
              " 'https://t.co/ZiSzV9X1lB',\n",
              " '@Connie_ta',\n",
              " 'Orinoterapia',\n",
              " '@zonacero',\n",
              " 'justiciaparaElenayDani',\n",
              " 'NoticieroHechos',\n",
              " '@Javier_Alatorre',\n",
              " '@CiroGomezL',\n",
              " '@Canal22',\n",
              " 'ViolenciaMachista',\n",
              " 'https://t.co/dy0ARqVR4d',\n",
              " 'https://t.co/UoLUdQRweg',\n",
              " 'https://t.co/XB1gHHE38j',\n",
              " '@lucympars',\n",
              " 'JAJAJAJAJAJAJAJAJAJAJAJA',\n",
              " 'lagartona',\n",
              " 'vidas.¿Cuantas',\n",
              " 'YoSiTeCreo',\n",
              " 'NotAllMen',\n",
              " 'https://t.co/tsDcCY99U3',\n",
              " 'legradas',\n",
              " '@WayneRojas12',\n",
              " '@TurtleBlind',\n",
              " '@MonederoJC',\n",
              " '@gilestremlett',\n",
              " '@mujer_alienada',\n",
              " 'Mangina\"?¿Los',\n",
              " 'https://t.co/sigZTceMm6',\n",
              " 'https://t.co/HniosVapDW',\n",
              " '@telecincoes',\n",
              " '@MiguelFrigenti',\n",
              " 'vayaMediaset',\n",
              " 'radfem',\n",
              " '@abc_es',\n",
              " '@Spain_Libre',\n",
              " '@emontanes',\n",
              " '@ANAISANCHEZABC',\n",
              " 'hambre:-Mamáaa',\n",
              " 'hoy?-No',\n",
              " 'alimentos.-¿Cariño',\n",
              " 'piropees',\n",
              " 'machista.-¡Pero',\n",
              " 'hija!-¡No',\n",
              " '@MiercolesyVier',\n",
              " '@macu2_0',\n",
              " '@FranGRX1979',\n",
              " '@Josefine_Table',\n",
              " '@Mcape7',\n",
              " '@Persefoneoflove',\n",
              " '@Luisreef',\n",
              " '@LordWalden',\n",
              " '@gabycollado',\n",
              " '@TrolAitrol',\n",
              " '@firufirulais13',\n",
              " '@FinaOstia',\n",
              " '@MisifuNews',\n",
              " '@JotaDeGata',\n",
              " '@ElGato_Fisgon',\n",
              " '@Gatoweb22',\n",
              " '@Gato_Gafotas',\n",
              " '@Kelaa46',\n",
              " '@VillanaReport',\n",
              " '@sugalaxl',\n",
              " '@ZorraVegana',\n",
              " '@zenior_rojo',\n",
              " '@Sr_Churchill',\n",
              " '@Pa__tty',\n",
              " 'FeriadelLibroÑuñoa',\n",
              " ' ',\n",
              " ' ',\n",
              " ' ',\n",
              " ' ',\n",
              " 'https://t.co/ef6S2yNZtL',\n",
              " 'https://t.co/680IRuCDs3',\n",
              " 'mutuals',\n",
              " '@infobae',\n",
              " '@Chica_belica2',\n",
              " '@Joopaas',\n",
              " '@PxblooFN',\n",
              " '@Uretaa',\n",
              " 'homies',\n",
              " '@catalonngo',\n",
              " 'Yyy',\n",
              " 'Paraguay]@Horacio_Cartes',\n",
              " '5777/16',\n",
              " 'izquierda.#nonosengañanmás',\n",
              " 'alguientienequedecirlo',\n",
              " 'https://t.co/LDsfOOsCW5',\n",
              " '@SOYLUZ591',\n",
              " '#DiosConNosotras',\n",
              " 'DulcesSueños',\n",
              " 'https://t.co/Vlhg68lbHg',\n",
              " '@edufeiok',\n",
              " '@cristianfoche',\n",
              " '@vivicanosaok',\n",
              " 'CronicaAnunciada:\"Hoy',\n",
              " 'https://t.co/xcdhVvLYwb',\n",
              " '@vaninosa',\n",
              " 'Redoblante',\n",
              " ' ',\n",
              " ' ',\n",
              " 'https://t.co/2Wk99jDEMb',\n",
              " 'https://t.co/RblGbLWvcM',\n",
              " '@MarkJaume',\n",
              " '@paulitacarasa',\n",
              " '@_ZShould_I',\n",
              " '@Abigail74Y',\n",
              " 'SalarioRosa',\n",
              " 'https://t.co/FI1ShlDozc',\n",
              " 'kokichi',\n",
              " 'kokichicanceled2020',\n",
              " '@Mar18blink',\n",
              " '@angelisapinks',\n",
              " '@livexlive',\n",
              " '@BLACKPINK',\n",
              " 'HYLTWORLDWIDESTREAMING',\n",
              " 'HYLT',\n",
              " 'HYLTWORLDWIDESTREAMING',\n",
              " ' ',\n",
              " 'https://t.co/YGhj9s9V9s',\n",
              " '@mariamadzam1',\n",
              " '50%Espermatozoide',\n",
              " 'Ovulo',\n",
              " '@Hebesac23',\n",
              " '@matuk',\n",
              " 'paki',\n",
              " 'Sagastegui',\n",
              " 'https://t.co/Py1j2Y9mkg',\n",
              " '@LuciaAlvites',\n",
              " ' ',\n",
              " 'cortese',\n",
              " 'falopioQuiénes',\n",
              " '@lunaysol01234',\n",
              " '@DINGO40378066',\n",
              " '@basi2021',\n",
              " '@KarenRi51542403',\n",
              " '@te_corrijo',\n",
              " '@ReyesFdez',\n",
              " '@IrinaMoncherie',\n",
              " '@RayDonovan8812',\n",
              " '@leveltgn',\n",
              " '@CarlosSinMas4',\n",
              " '@francandeira',\n",
              " '@Asquidistancia',\n",
              " 'chepas',\n",
              " '@c4jimenez',\n",
              " '@TuAlcaldiaGAM',\n",
              " '@SSC_CDMX',\n",
              " '@PDI_FGJCDMX',\n",
              " '@FiscaliaCDMX',\n",
              " 'PoR',\n",
              " 'EsO',\n",
              " 'dEBemOs',\n",
              " 'MTarLos',\n",
              " 'BiEntre',\n",
              " 'Avorto',\n",
              " 'gratiS',\n",
              " '@FRA305MJU86',\n",
              " '@SUSANAMMLPQTP',\n",
              " '@Agoslagos19',\n",
              " '@MascioNorberto',\n",
              " 'avisadoLa',\n",
              " 'https://t.co/u7WjHkhE0k',\n",
              " 'Hdpt',\n",
              " 'caraj0s',\n",
              " 'https://t.co/ZiNt8Uas5',\n",
              " 'RAPDER',\n",
              " 'ZORRAS',\n",
              " 'azhra',\n",
              " 'https://t.co/4QXgSKpqQS',\n",
              " 'futuro.https://t.co/K0toVRbzSy',\n",
              " '@el_tio_jett',\n",
              " 'borrala',\n",
              " 'https://t.co/GYfNI2v5ps',\n",
              " ' ',\n",
              " '@AzulAnubis',\n",
              " '@Quisqueyano56',\n",
              " 'pariguayo',\n",
              " 'domimicanas',\n",
              " 'DOMINICANAS',\n",
              " 'soldano',\n",
              " '@gomidinosaurio',\n",
              " '@mbatistarios',\n",
              " '@Jeancfv03',\n",
              " '@TReporta',\n",
              " ' ',\n",
              " '@AveMonarchist',\n",
              " '@vivicanosaok',\n",
              " '@AgustinLaje',\n",
              " 'adocttrinado',\n",
              " '@espartaco_II',\n",
              " 'tellez',\n",
              " '@t0npare',\n",
              " '@ahijadojj',\n",
              " '@_ANAMILAN',\n",
              " ' ',\n",
              " 'tiktok',\n",
              " '@dalessamauricio',\n",
              " 'BOMBO',\n",
              " ' ',\n",
              " 'ANOMA',\n",
              " 'MARIMACHO',\n",
              " 'DECADENCIA',\n",
              " 'JOBENES',\n",
              " 'https://t.co/FMFZNtUZPc',\n",
              " '@LauraDanielaCM',\n",
              " '@LeMamerte',\n",
              " '@Indignara',\n",
              " 'Calmadas',\n",
              " '@elgasogeno',\n",
              " '@soyneonormal',\n",
              " 'Covid',\n",
              " '@franvera87',\n",
              " 'Cocodrila',\n",
              " 'lagartona',\n",
              " 'ProhibidoOlvidar',\n",
              " '@Lenin',\n",
              " 'ElPeorPresidenteDeLaHistoria',\n",
              " 'LassoEsMoreno',\n",
              " 'https://t.co/vBE44PZxgg',\n",
              " 'https://t.co/JmlgMEEhTt',\n",
              " 'https://t.co/qxdTNChasR',\n",
              " '@neron50outlook1',\n",
              " '@ale_gordon',\n",
              " 'asíNunca',\n",
              " 'igualdadTal',\n",
              " '@ValdebenitoNata',\n",
              " 'FEMINAZI',\n",
              " '@TeoNoPelirrojo',\n",
              " '@IsmaaSZN',\n",
              " '@trxpixrr',\n",
              " '@D1zZyFN',\n",
              " '@trxpixrr',\n",
              " 'carrileado',\n",
              " 'labia.¿Y',\n",
              " 'Comprenme',\n",
              " '@changdanikyun',\n",
              " 'Pero-Mira',\n",
              " '@ii_eu',\n",
              " ' ',\n",
              " '@iiBxblxsIsa',\n",
              " '@Its_Mochi_UwU',\n",
              " 'https://t.co/QkRAm0VJAv',\n",
              " '2020)Un',\n",
              " 'para...https://t.co/djth45kR8h',\n",
              " 'sensaciom',\n",
              " 'no?Es',\n",
              " 'https://t.co/0asTIlMCna',\n",
              " 'LaManada',\n",
              " '@MjosePintor',\n",
              " 'https://t.co/Arowe3Gsn3',\n",
              " '@CamiloFilartiga',\n",
              " '@el_puto_lemur',\n",
              " '@IdiazAyuso',\n",
              " '@elmundoes',\n",
              " 'https://t.co/6j4hOwGHUZ',\n",
              " '@LaVicoRules',\n",
              " '@cisco_anonimo',\n",
              " '@_ANAMILAN',\n",
              " 'Seguidlo',\n",
              " '@laishawilkins',\n",
              " '@brozoxmiswebs',\n",
              " '@EsleyTkcosplay',\n",
              " '@Kthee',\n",
              " '@grisasexual',\n",
              " 'goril@s',\n",
              " 'CasoEndémico',\n",
              " 'YoSiTeCreo',\n",
              " 'https://t.co/FKMqSSaM86',\n",
              " '@niafrnandez',\n",
              " '@diegoacvdot',\n",
              " '@CancilleriaCol',\n",
              " '@MigracionCol',\n",
              " '@SenadoGovCo',\n",
              " 'plan-demia',\n",
              " 'https://t.co/xsWQdEWcwC',\n",
              " 'diganmen',\n",
              " 'https://t.co/yQaLpd6ubX',\n",
              " '@MarGallegosO',\n",
              " 'provida+proarmas',\n",
              " 'promuerte',\n",
              " '@Angry__cat',\n",
              " 'DNI?Sacando',\n",
              " '@Parejaswbogot11',\n",
              " 'géneros!!Feminismo',\n",
              " ' ',\n",
              " ' ',\n",
              " '@otra_crespa_mas',\n",
              " '\"Indignado',\n",
              " 'https://t.co/tX9x60G2Yf',\n",
              " '@TRIHCULLEN',\n",
              " 'https://t.co/K69IA64ZFP',\n",
              " '@Nebride3',\n",
              " '@Nievessebastia1',\n",
              " '@RUBEN_CSANCHEZ2',\n",
              " '@mariu_tf',\n",
              " '@Detrasdelaslet1',\n",
              " '@helenishere1',\n",
              " '@mpivila',\n",
              " '@feministes_cat',\n",
              " 'empaticos',\n",
              " '@Cooperativa',\n",
              " 'qlias',\n",
              " '@CCesaroni',\n",
              " '@Gregorik27',\n",
              " 'casiii',\n",
              " 'Júpiter-Saturno',\n",
              " ' ',\n",
              " 'https://t.co/Rrzwj8HIZ7',\n",
              " 'masterchefjunior',\n",
              " 'https://t.co/iOZEngxLQl',\n",
              " 'https://t.co/cCRCzDaH8s',\n",
              " '@SugoiDoppai',\n",
              " 'simpearias',\n",
              " '@rodrisdg',\n",
              " 'jajajajajajajajjajaajajajaja',\n",
              " '@ZYTJavier',\n",
              " '@RadioJoaquin',\n",
              " '@bondonikey',\n",
              " ' ',\n",
              " 'Bondoni',\n",
              " 'https://t.co/WRJ8BxR3Th',\n",
              " '@I_am_a_Nephilim',\n",
              " '@VilgrePatricia',\n",
              " '@meli_block',\n",
              " '@edvolpa',\n",
              " 'fiestarse',\n",
              " 'rechachaaa',\n",
              " 'https://t.co/xNfklbk8HW',\n",
              " '@Adrilastra',\n",
              " '@pelayonna',\n",
              " '@iconic31',\n",
              " '@Toni0084',\n",
              " '@amagorri',\n",
              " '@Paulafraga',\n",
              " '@LauraRdondo',\n",
              " 'imagen-objeto-sexual',\n",
              " '@crealdigital',\n",
              " '@Pilarcallado',\n",
              " '900.116.016',\n",
              " 'SVisual',\n",
              " 'Telesor',\n",
              " 'ATENPRO',\n",
              " 'PorMí',\n",
              " '112Accesible',\n",
              " 'SVIsual',\n",
              " 'AlertCops',\n",
              " 'ViolenciaMachista',\n",
              " '@ely_blancarte',\n",
              " 'vividita',\n",
              " 'lagartona',\n",
              " 'kimbypooh',\n",
              " '@desert_or',\n",
              " '@mercedesmaria5',\n",
              " '@Deundummie',\n",
              " '@FerVazquezCast',\n",
              " '@julia_iriarte',\n",
              " 'joon',\n",
              " ' ',\n",
              " '@innerswan',\n",
              " ' ',\n",
              " 'https://t.co/bYJirxVbaL',\n",
              " '@ProtegeryServir',\n",
              " 'ViolenciaDeGenero',\n",
              " '@ONUMujeres',\n",
              " '@CIDH',\n",
              " '@ermAtzaki',\n",
              " 'incel',\n",
              " 'chiscar',\n",
              " 'imposible.+¿Cuál?-En',\n",
              " '@qtf',\n",
              " 'https://t.co/I9jKfiwG36',\n",
              " 'algoooo',\n",
              " 'ayudaaaa',\n",
              " 'rosmello',\n",
              " ' ',\n",
              " '@dignidad_col',\n",
              " '@RevistaEmancipa',\n",
              " 'tíasPor',\n",
              " '@oerre',\n",
              " '@MPSnoserinde',\n",
              " '@pastafariian',\n",
              " '@mire_palenzuela',\n",
              " '@christocasas',\n",
              " 'terfs',\n",
              " 'lgtbiq',\n",
              " 'feminsitas',\n",
              " 'abusosexual',\n",
              " '20Hs',\n",
              " 'https://t.co/PBZiTTpR5I',\n",
              " 'YoSiTeCreo',\n",
              " 'NoMataras',\n",
              " 'https://t.co/CCoJg2CA7k',\n",
              " 'Saqueadoras',\n",
              " 'https://t.co/jQVLCAKiiO',\n",
              " '@PutitaMerello',\n",
              " '@nowherefrau',\n",
              " '@nataliavolosin',\n",
              " ' ',\n",
              " ' ',\n",
              " 'mamitaaEspero',\n",
              " '@joanmena',\n",
              " '@CrzMarin',\n",
              " '@queenbuenrostro',\n",
              " '@aliveforagus',\n",
              " 'flashees',\n",
              " '@Lucxs_0',\n",
              " 'jamaaas',\n",
              " ' ',\n",
              " ' ',\n",
              " '@Miami_Diariohttps://t.co/2Os3QtA0AC',\n",
              " 'smegma',\n",
              " 'Descerebrada',\n",
              " ' ',\n",
              " ' ',\n",
              " 'https://t.co/dy8erBNL7y',\n",
              " '@mambe12xd',\n",
              " 'hije',\n",
              " 'aborto+',\n",
              " '@JorLopezP',\n",
              " 'https://t.co/AzUnoTunXz',\n",
              " '@JuliaLuz98',\n",
              " '@YoFermina',\n",
              " 'Mansplaining',\n",
              " '@psenseve',\n",
              " 'manspreading',\n",
              " '¿hay',\n",
              " '@MaraEugeniaNav5',\n",
              " '@Alicia_PC',\n",
              " '@KelpieOz',\n",
              " '@clmarreromFP',\n",
              " '@rluis60',\n",
              " '@RCamachoVzla',\n",
              " '@AlvaroMunoz',\n",
              " '@dazzacamilo',\n",
              " '@FolieSoul',\n",
              " '@mariangelauc',\n",
              " 'Mansplaining',\n",
              " 'manspreading',\n",
              " '@amairanirussell',\n",
              " 'Jahajajajaja',\n",
              " '@alexandertamu',\n",
              " 'moots',\n",
              " 'lagartona',\n",
              " '@Carlabernaal',\n",
              " '@joelfernandezz',\n",
              " '@PotiPotiInLove',\n",
              " 'o...https://t.co/zl8GyFhCEa',\n",
              " '@evasanztoro',\n",
              " 'Jajjaj',\n",
              " 'perra!Nunca',\n",
              " 'machism0',\n",
              " 'https://t.co/LEUCSm3D2z',\n",
              " 'DARKDREAMSDToca',\n",
              " 'https://t.co/bCDstiXss5',\n",
              " '@Mine_Jam',\n",
              " 'https://t.co/MbZGZsgz8',\n",
              " '@lolilalesca',\n",
              " '@ChCarreraLeal',\n",
              " '@Frente_Amplio',\n",
              " 'https://t.co/BVODvvQeYH',\n",
              " '@baudomine',\n",
              " '@unholy_bat',\n",
              " 'ISSSO',\n",
              " 'REFUTA',\n",
              " 'ELAS!!!!1',\n",
              " '@CHATYUSHA',\n",
              " '@im_reborn3d',\n",
              " 'manspreading',\n",
              " 'https://t.co/jqP5pOd3Lc',\n",
              " '@RiveraBass',\n",
              " '@juanrallo',\n",
              " 'ondeas',\n",
              " 'Duermase',\n",
              " 'LaManada',\n",
              " ' ',\n",
              " 'https://t.co/hjenVqqBVL',\n",
              " '@AnaPofemi_nista',\n",
              " 'LaManada',\n",
              " 'https://t.co/lVQJUGCdsO',\n",
              " 'abrigaos',\n",
              " 'frigida',\n",
              " '@rosssitablanca',\n",
              " '@zascas7',\n",
              " ' ',\n",
              " 'lagartona',\n",
              " ' ',\n",
              " 'https://t.co/B4tLKAc4bp',\n",
              " 'gymnasia',\n",
              " '@feIixpov',\n",
              " 'novio:-',\n",
              " 'pueda.-',\n",
              " 'Viajar.-',\n",
              " 'ricas.-',\n",
              " 'borrachos.-',\n",
              " 'importante.-',\n",
              " 'vital.-',\n",
              " 'privilegioalso',\n",
              " 'leebada',\n",
              " '@NoVayanaLlorar',\n",
              " 'pa-te-ti-ca',\n",
              " ' ',\n",
              " '@naia_sub',\n",
              " 'vrg',\n",
              " 'psh',\n",
              " '@LegendarioSise',\n",
              " '@Rubea_27',\n",
              " '.Ella',\n",
              " '@abiortigosa',\n",
              " '@albinoperezrod1',\n",
              " '@Pam_Angela',\n",
              " '@MiliBerkana',\n",
              " '@elsaruizcomica',\n",
              " '@COGAM',\n",
              " '@Susamj',\n",
              " '@Archel_6',\n",
              " '@PabloEchenique',\n",
              " '@IreneMontero',\n",
              " 'sí.https://t.co/anpdT7RXh7',\n",
              " 'https://t.co/h34xovsnj6',\n",
              " 'https://t.co/7hAfwdkurR',\n",
              " '@Rubiapeleona',\n",
              " '@nat_solis',\n",
              " '@El_Mati_Fernand',\n",
              " '@Cooperativa',\n",
              " 'Presisamente',\n",
              " '@Cazatalentos',\n",
              " '@Cecilio_Martos',\n",
              " 'https://t.co/ykITxnZivZ',\n",
              " '@CuentaMister',\n",
              " '@Zona_Blaugrana',\n",
              " 'culerda',\n",
              " ' ',\n",
              " 'https://t.co/zOmWhY7rk0',\n",
              " '@RotelippenSpain',\n",
              " '@ElenaArmesto',\n",
              " ' ',\n",
              " 'https://t.co/2wMl22C6ex',\n",
              " 'todoLISA',\n",
              " 'LOVED',\n",
              " '블랙핑크',\n",
              " '리사',\n",
              " '리사',\n",
              " 'CIBERACTIVISMO',\n",
              " 'ViajoSola',\n",
              " 'LaManada',\n",
              " 'AMiTambien',\n",
              " 'FuimosTodas',\n",
              " 'https://t.co/s2P2TGikbi',\n",
              " '@goconqr',\n",
              " 'hatea',\n",
              " 'metooTe',\n",
              " '@peyo54',\n",
              " '@CorreAlexandra',\n",
              " '@danny8002',\n",
              " 'ocasiones.¡Usera',\n",
              " ' ',\n",
              " 'https://t.co/dPGNYaHJkA',\n",
              " '@Sabrillosa',\n",
              " '@aguedegue',\n",
              " '@peyo54',\n",
              " '@CorreAlexandra',\n",
              " '@danny8002',\n",
              " 'DEFINASE',\n",
              " 'estupid+.Claro',\n",
              " ...]"
            ]
          },
          "metadata": {},
          "execution_count": 26
        }
      ]
    },
    {
      "cell_type": "markdown",
      "source": [
        "Tiene sentido que los tokens deplegados en la celda anterior no estén dentro del modelo de spaCy, pues son arrobas de twitter, y links (en su mayoría).\n",
        "\n",
        "\n",
        "Ahora obtengamos el porcentaje de token fuera de vocabulario. Para esto, primero meteremos en la lista `palabras` todos los tokens en `datos_espanol['text']`. \n",
        "\n",
        "Luego usaremos la longitud de la lista `palabras`, y la de la lista `palabras_fuera_de_vocabulario` para obtener el pocentaje de tokens fuera de vocabulario.\n"
      ],
      "metadata": {
        "id": "-x7VrHGtoxsx"
      }
    },
    {
      "cell_type": "code",
      "source": [
        "palabras = []\n",
        "for tuit in datos_espanol['text']:\n",
        "  for palabra in tuit:\n",
        "    palabras.append(palabras)"
      ],
      "metadata": {
        "id": "SqTF8GV3Dvz1"
      },
      "execution_count": null,
      "outputs": []
    },
    {
      "cell_type": "code",
      "source": [
        "print(len(palabras), len(palabras_fuera_de_vocabulario))"
      ],
      "metadata": {
        "colab": {
          "base_uri": "https://localhost:8080/"
        },
        "id": "_CYnXsCAoM1K",
        "outputId": "da48d245-a5e1-40c7-ff9d-8c2de03d5c81"
      },
      "execution_count": null,
      "outputs": [
        {
          "output_type": "stream",
          "name": "stdout",
          "text": [
            "623536 8191\n"
          ]
        }
      ]
    },
    {
      "cell_type": "code",
      "source": [
        "((8191*100)/623536)"
      ],
      "metadata": {
        "colab": {
          "base_uri": "https://localhost:8080/"
        },
        "id": "ASVJdtw0EPAs",
        "outputId": "d06b1cb8-740f-4c2c-f57f-181e45fc0fed"
      },
      "execution_count": null,
      "outputs": [
        {
          "output_type": "execute_result",
          "data": {
            "text/plain": [
              "1.3136370634574428"
            ]
          },
          "metadata": {},
          "execution_count": 29
        }
      ]
    },
    {
      "cell_type": "markdown",
      "source": [
        "Observamos que sólo tenemos `1.3%` tokens fuera de vocabulario. \n",
        "\n",
        "Al ser un porcentaje muy bajo, dejaremos esos tokens en la variable `datos_espanol`.\n",
        "\n",
        "\n",
        "Después del análisis anterior crearemos dos listas; una con los tuits originales, y otra con los tuits que contienen tokens marcados como fuera de vocabulario. \n",
        "\n",
        "La lista con los tokens fuera de vocabulario los sustituiremos por el texto `TOKEN ELIMINADA`. Estos cambios NO afectarán a la variable `datos_espanol`, pues los haremos en la nueva lista creada (`tuits_viejos`)."
      ],
      "metadata": {
        "id": "7KJJlLXspVW3"
      }
    },
    {
      "cell_type": "code",
      "source": [
        "tuits_nuevos = []\n",
        "tuits_viejos = []\n",
        "\n",
        "for tuit, palabra in zip(datos_espanol['text'], palabras_fuera_de_vocabulario):\n",
        "  if palabra in tuit:\n",
        "    tuits_nuevos.append(tuit.replace(palabra, 'TOKEN ELIMINADA'))\n",
        "    tuits_viejos.append(tuit)"
      ],
      "metadata": {
        "id": "rRIMnSLMoiEP"
      },
      "execution_count": null,
      "outputs": []
    },
    {
      "cell_type": "code",
      "source": [
        "len(tuits_nuevos)"
      ],
      "metadata": {
        "colab": {
          "base_uri": "https://localhost:8080/"
        },
        "id": "3fBUJW7eqMmd",
        "outputId": "ccb37db1-9da8-450c-b566-5839dab0ef44"
      },
      "execution_count": null,
      "outputs": [
        {
          "output_type": "execute_result",
          "data": {
            "text/plain": [
              "185"
            ]
          },
          "metadata": {},
          "execution_count": 32
        }
      ]
    },
    {
      "cell_type": "code",
      "source": [
        "tuits_nuevos"
      ],
      "metadata": {
        "colab": {
          "base_uri": "https://localhost:8080/"
        },
        "id": "srtuLqrKFaEe",
        "outputId": "df73f312-196c-4769-a35d-3f08f8a71be6"
      },
      "execution_count": null,
      "outputs": [
        {
          "output_type": "execute_result",
          "data": {
            "text/plain": [
              "['LA ALCALDESA CLAUDIA LOPEZ Y DEMAS ALCALDESPRETENDEN METER POR LA SEPTIMA LO QUE NO CABELO QUE NO CABE NO TOKEN ELIMINADA SEPTIMA DESDE LA CALLE 32 A LA CALLE 100 ES MUY ESTRECHA HAY QUE HACER UNA VIA EXPRESASUBTERRANEA O AEREA https://t.co/xY9smufSdS https://t.co/rhuvSXhypu',\n",
              " 'MiTOKEN ELIMINADAcuerpoTOKEN ELIMINADAnoTOKEN ELIMINADAseTOKEN ELIMINADAtoca,TOKEN ELIMINADAnoTOKEN ELIMINADAseTOKEN ELIMINADAviola,noTOKEN ELIMINADAseTOKEN ELIMINADAmata.SiTOKEN ELIMINADAconocesTOKEN ELIMINADAalgúnTOKEN ELIMINADAcasoTOKEN ELIMINADAoTOKEN ELIMINADAsufresTOKEN ELIMINADAdeTOKEN ELIMINADAviolenciaTOKEN ELIMINADADENUNCIA.EstamosTOKEN ELIMINADAparaTOKEN ELIMINADAayudarteTOKEN ELIMINADA#PorTíPorMíPorTodas#DenunciaLaViolenciaTOKEN ELIMINADA#JusticiaTOKEN ELIMINADA#YoSiTeCreoTOKEN ELIMINADA#NoEsNoTOKEN ELIMINADAhttps://t.co/eDVDG9tWtG',\n",
              " '¡ATOKEN ELIMINADAti,TOKEN ELIMINADAmujerTOKEN ELIMINADAluchadora!TOKEN ELIMINADA(JorgeTOKEN ELIMINADAAcuña)\"MujerTOKEN ELIMINADAtrabajadora,TOKEN ELIMINADArebeldeTOKEN ELIMINADAyTOKEN ELIMINADAsoñadoraLlenaTOKEN ELIMINADAdeTOKEN ELIMINADAdefectosTOKEN ELIMINADAyTOKEN ELIMINADAgrandesTOKEN ELIMINADAvirtudesLlenaTOKEN ELIMINADAdeTOKEN ELIMINADAamorTOKEN ELIMINADAyTOKEN ELIMINADAcomprensiónLlenaTOKEN ELIMINADAdeTOKEN ELIMINADAcoherenciaTOKEN ELIMINADAyTOKEN ELIMINADAfirmeTOKEN ELIMINADAconvicciónDeTOKEN ELIMINADAunTOKEN ELIMINADAprofundoTOKEN ELIMINADAcompromisoTOKEN ELIMINADAconTOKEN ELIMINADAlaTOKEN ELIMINADArevolución\"#DiciembreVictorioso',\n",
              " 'MirandaTOKEN ELIMINADACosgroveTOKEN ELIMINADApasoTOKEN ELIMINADAdeTOKEN ELIMINADAserTOKEN ELIMINADAunaTOKEN ELIMINADAperraTOKEN ELIMINADAmalaTOKEN ELIMINADAaTOKEN ELIMINADAunaTOKEN ELIMINADAmojigataTOKEN ELIMINADAjajajaTOKEN ELIMINADAlink',\n",
              " '@ParejitaVeracr2TOKEN ELIMINADAAmigoTOKEN ELIMINADAestáTOKEN ELIMINADAbuenísimaTOKEN ELIMINADAtuTOKEN ELIMINADAmujer!!TOKEN ELIMINADAMeTOKEN ELIMINADAencantó!!TOKEN ELIMINADAQueTOKEN ELIMINADAbuenTOKEN ELIMINADAparTOKEN ELIMINADAdeTOKEN ELIMINADAtetas!!!TOKEN ELIMINADASimplementeTOKEN ELIMINADAperfecta!!',\n",
              " 'CondenanTOKEN ELIMINADAaTOKEN ELIMINADAlaTOKEN ELIMINADAmujerTOKEN ELIMINADAjuzgadaTOKEN ELIMINADAporTOKEN ELIMINADA‘elTOKEN ELIMINADAchuminoTOKEN ELIMINADArebelde’TOKEN ELIMINADAporTOKEN ELIMINADAunTOKEN ELIMINADAdelitoTOKEN ELIMINADAcontraTOKEN ELIMINADAlosTOKEN ELIMINADAsentimientos\\xa0religiososTOKEN ELIMINADAhttps://t.co/XB1gHHE38j',\n",
              " '@abc_esTOKEN ELIMINADA@Spain_LibreTOKEN ELIMINADA@emontanesTOKEN ELIMINADA@ANAISANCHEZABCTOKEN ELIMINADAInteresanteTOKEN ELIMINADAconversaciónTOKEN ELIMINADAhoyTOKEN ELIMINADAenTOKEN ELIMINADAlasTOKEN ELIMINADAcolasTOKEN ELIMINADAdelTOKEN ELIMINADAhambre:-Mamáaa.TOKEN ELIMINADA¿QuéTOKEN ELIMINADAtenemosTOKEN ELIMINADAparaTOKEN ELIMINADAcomerTOKEN ELIMINADAhoy?-NoTOKEN ELIMINADAloTOKEN ELIMINADAsé,TOKEN ELIMINADAcariño.TOKEN ELIMINADALoTOKEN ELIMINADAqueTOKEN ELIMINADAnosTOKEN ELIMINADAdenTOKEN ELIMINADAenTOKEN ELIMINADAelTOKEN ELIMINADAbancoTOKEN ELIMINADAdeTOKEN ELIMINADAalimentos.-¿Cariño?TOKEN ELIMINADANoTOKEN ELIMINADAmeTOKEN ELIMINADApiropees,TOKEN ELIMINADAmachista.-¡PeroTOKEN ELIMINADAsiTOKEN ELIMINADAeresTOKEN ELIMINADAmiTOKEN ELIMINADAhija!-¡NoTOKEN ELIMINADAmeTOKEN ELIMINADAcalifiques!TOKEN ELIMINADADéjameTOKEN ELIMINADAdecidirTOKEN ELIMINADAsiTOKEN ELIMINADAmeTOKEN ELIMINADAsientoTOKEN ELIMINADAhombreTOKEN ELIMINADAoTOKEN ELIMINADAmujer.',\n",
              " '@vaninosaTOKEN ELIMINADARedoblanteTOKEN ELIMINADAporTOKEN ELIMINADAmedio,TOKEN ELIMINADAfestejandoTOKEN ELIMINADAunTOKEN ELIMINADAgenocidio.TOKEN ELIMINADAElTOKEN ELIMINADAdíaTOKEN ELIMINADAmásTOKEN ELIMINADAtristeTOKEN ELIMINADA,TOKEN ELIMINADAesasTOKEN ELIMINADAmujeresTOKEN ELIMINADAabrazándose,TOKEN ELIMINADATOKEN ELIMINADAfestejandoTOKEN ELIMINADAlaTOKEN ELIMINADAmuerteTOKEN ELIMINADAdeTOKEN ELIMINADAunTOKEN ELIMINADAbebé,TOKEN ELIMINADAangelitoTOKEN ELIMINADATOKEN ELIMINADAsinTOKEN ELIMINADApoderTOKEN ELIMINADAdefenderseTOKEN ELIMINADA!!TOKEN ELIMINADACuantaTOKEN ELIMINADAtristezaTOKEN ELIMINADA!!',\n",
              " 'TantoTOKEN ELIMINADAvasTOKEN ELIMINADAaTOKEN ELIMINADAmirarTOKEN ELIMINADAgordaTOKEN ELIMINADAlechón??',\n",
              " 'ElTOKEN ELIMINADAAbortoTOKEN ELIMINADAnoTOKEN ELIMINADAesTOKEN ELIMINADAreponsabilidadTOKEN ELIMINADAexclusivaTOKEN ELIMINADAdeTOKEN ELIMINADAlaTOKEN ELIMINADAmujer.TOKEN ELIMINADALaTOKEN ELIMINADAculpaTOKEN ELIMINADAseTOKEN ELIMINADAcomparteTOKEN ELIMINADAmitadTOKEN ELIMINADAmujeresTOKEN ELIMINADAyTOKEN ELIMINADAmitadTOKEN ELIMINADAhombresTOKEN ELIMINADAelTOKEN ELIMINADAfetoTOKEN ELIMINADAesTOKEN ELIMINADA50%EspermatozoideTOKEN ELIMINADAyTOKEN ELIMINADA50%TOKEN ELIMINADAOvulo.TOKEN ELIMINADANoTOKEN ELIMINADAloTOKEN ELIMINADAolvidenTOKEN ELIMINADAyTOKEN ELIMINADAsiTOKEN ELIMINADAloTOKEN ELIMINADAhacenTOKEN ELIMINADAseanTOKEN ELIMINADAresponsablesTOKEN ELIMINADAtomenTOKEN ELIMINADAlasTOKEN ELIMINADApastillasTOKEN ELIMINADAyTOKEN ELIMINADAusenTOKEN ELIMINADAcondonTOKEN ELIMINADAparaTOKEN ELIMINADAevitarTOKEN ELIMINADAllamarTOKEN ELIMINADAaTOKEN ELIMINADAsuTOKEN ELIMINADAhijoTOKEN ELIMINADA\"Problema\"TOKEN ELIMINADAenTOKEN ELIMINADAelTOKEN ELIMINADAfuturo.',\n",
              " 'TantaTOKEN ELIMINADAmáscaraTOKEN ELIMINADAdeTOKEN ELIMINADAempoderamientoTOKEN ELIMINADAparaTOKEN ELIMINADApasarTOKEN ELIMINADAencimaTOKEN ELIMINADAdeTOKEN ELIMINADAlosTOKEN ELIMINADAdemás',\n",
              " 'AsíTOKEN ELIMINADAcomoTOKEN ELIMINADAesteTOKEN ELIMINADAzurdoTOKEN ELIMINADAadoradorTOKEN ELIMINADAyTOKEN ELIMINADAobedienteTOKEN ELIMINADAdeTOKEN ELIMINADApolíticos,TOKEN ELIMINADAhayTOKEN ELIMINADAmuchos.\"Indignado\"TOKEN ELIMINADAporqueTOKEN ELIMINADAlaTOKEN ELIMINADAmujerTOKEN ELIMINADAnoTOKEN ELIMINADAestáTOKEN ELIMINADAusandoTOKEN ELIMINADAmascarilla,TOKEN ELIMINADAperoTOKEN ELIMINADApocoTOKEN ELIMINADAleTOKEN ELIMINADAimportaTOKEN ELIMINADAacercarseTOKEN ELIMINADAaTOKEN ELIMINADAellaTOKEN ELIMINADAparaTOKEN ELIMINADAintimidarlaTOKEN ELIMINADAyTOKEN ELIMINADAacosarla.TOKEN ELIMINADAhttps://t.co/tX9x60G2Yf',\n",
              " '@Gregorik27TOKEN ELIMINADAEsTOKEN ELIMINADAqueTOKEN ELIMINADAmeTOKEN ELIMINADAtienenTOKEN ELIMINADAlivingTOKEN ELIMINADAconTOKEN ELIMINADAlasTOKEN ELIMINADAalianzasTOKEN ELIMINADAenTOKEN ELIMINADAmodoTOKEN ELIMINADA#SurvivorTOKEN ELIMINADAperoTOKEN ELIMINADAconTOKEN ELIMINADAelTOKEN ELIMINADAfondoTOKEN ELIMINADAdelTOKEN ELIMINADA#MeToo.',\n",
              " 'Un claro ejemplo de machism0, se piensa que por ser hombre le va a explicar cómo ser feminista a una mujer TOKEN ELIMINADA/LEUCSm3D2z',\n",
              " 'PeseTOKEN ELIMINADAaTOKEN ELIMINADAtodoTOKEN ELIMINADAestoTOKEN ELIMINADAqueremosTOKEN ELIMINADAtransmitirosTOKEN ELIMINADAqueTOKEN ELIMINADApróximamenteTOKEN ELIMINADAosTOKEN ELIMINADAinformaremosTOKEN ELIMINADAdeTOKEN ELIMINADAotraTOKEN ELIMINADArecogidaTOKEN ELIMINADAyaTOKEN ELIMINADAqueTOKEN ELIMINADAnoTOKEN ELIMINADAvamosTOKEN ELIMINADAaTOKEN ELIMINADApermitirTOKEN ELIMINADAqueTOKEN ELIMINADAunaTOKEN ELIMINADAiniciativaTOKEN ELIMINADAsolidariaTOKEN ELIMINADAseTOKEN ELIMINADAveaTOKEN ELIMINADAreprimidaTOKEN ELIMINADAenTOKEN ELIMINADAdosTOKEN ELIMINADAocasiones.¡UseraTOKEN ELIMINADAesTOKEN ELIMINADAdeTOKEN ELIMINADAsuTOKEN ELIMINADAgenteTOKEN ELIMINADAsolidariaTOKEN ELIMINADAyTOKEN ELIMINADAnoTOKEN ELIMINADAdeTOKEN ELIMINADAquienTOKEN ELIMINADAsoloTOKEN ELIMINADAvieneTOKEN ELIMINADAaTOKEN ELIMINADAreprimir!',\n",
              " 'imagínateTOKEN ELIMINADAaTOKEN ELIMINADAlaTOKEN ELIMINADAyayaTOKEN ELIMINADAdiciendo:TOKEN ELIMINADA\"buahTOKEN ELIMINADApuesTOKEN ELIMINADAsameTOKEN ELIMINADAoseaTOKEN ELIMINADAmenudoTOKEN ELIMINADAchuteTOKEN ELIMINADAmeTOKEN ELIMINADAheTOKEN ELIMINADApegaoTOKEN ELIMINADAconTOKEN ELIMINADAlaTOKEN ELIMINADAvacuna,TOKEN ELIMINADAestoTOKEN ELIMINADAesTOKEN ELIMINADAmejorTOKEN ELIMINADAkTOKEN ELIMINADAinyectarseTOKEN ELIMINADAfairyTOKEN ELIMINADAdespuésTOKEN ELIMINADAdeTOKEN ELIMINADAfregarTOKEN ELIMINADAlosTOKEN ELIMINADAplatosTOKEN ELIMINADAolee\"TOKEN ELIMINADAhttps://t.co/njqaGwb202',\n",
              " 'MeTOKEN ELIMINADAencantaTOKEN ELIMINADAqueTOKEN ELIMINADApeliemosTOKEN ELIMINADAzorrasTOKEN ELIMINADAlosTOKEN ELIMINADAkieroTOKEN ELIMINADAaunkeTOKEN ELIMINADAseTOKEN ELIMINADAmojenTOKEN ELIMINADAconTOKEN ELIMINADAmessiTOKEN ELIMINADAseTOKEN ELIMINADAvenTOKEN ELIMINADAhastaTOKEN ELIMINADAtiernos',\n",
              " 'EmpoderaTOKEN ELIMINADAtuTOKEN ELIMINADAmenteTOKEN ELIMINADAyTOKEN ELIMINADAponteTOKEN ELIMINADAenTOKEN ELIMINADAacción.TOKEN ELIMINADAEsteTOKEN ELIMINADAesTOKEN ELIMINADAtuTOKEN ELIMINADAmomentoTOKEN ELIMINADAhttps://t.co/C4Fm7it6CtTOKEN ELIMINADAaTOKEN ELIMINADAtravésTOKEN ELIMINADAdeTOKEN ELIMINADA@YouTubeTOKEN ELIMINADA#franquiciasTOKEN ELIMINADA#cleanironTOKEN ELIMINADA#empoderamientoTOKEN ELIMINADA#emprender',\n",
              " '@1wiliamnTOKEN ELIMINADAEstásTOKEN ELIMINADAreTOKEN ELIMINADAardidoTOKEN ELIMINADAWilliam,TOKEN ELIMINADAnoTOKEN ELIMINADAsabíaTOKEN ELIMINADAdelTOKEN ELIMINADAmasculinismoTOKEN ELIMINADApqTOKEN ELIMINADAesTOKEN ELIMINADAunaTOKEN ELIMINADApelotudes,TOKEN ELIMINADAsoyTOKEN ELIMINADAfeministaTOKEN ELIMINADAenTOKEN ELIMINADAserioTOKEN ELIMINADAnoTOKEN ELIMINADAcomoTOKEN ELIMINADAvosTOKEN ELIMINADAqTOKEN ELIMINADAniTOKEN ELIMINADAteTOKEN ELIMINADAgastasTOKEN ELIMINADAenTOKEN ELIMINADAinformarteTOKEN ELIMINADAdeTOKEN ELIMINADAcomoTOKEN ELIMINADAvivenTOKEN ELIMINADAlasTOKEN ELIMINADAprostitutas',\n",
              " '@politicomxTOKEN ELIMINADA@JLozanoATOKEN ELIMINADA@RicardoAnayaCTOKEN ELIMINADA@Mariana_MoguelTOKEN ELIMINADA@ruizmassieuTOKEN ELIMINADA@osoriochongTOKEN ELIMINADAEsTOKEN ELIMINADAobvioTOKEN ELIMINADAdeTOKEN ELIMINADAalguienTOKEN ELIMINADAqueTOKEN ELIMINADAtieneTOKEN ELIMINADAunaTOKEN ELIMINADAmenteTOKEN ELIMINADAmediocreTOKEN ELIMINADAyTOKEN ELIMINADApequeñitaTOKEN ELIMINADAcomoTOKEN ELIMINADA@lopezobrador_SuTOKEN ELIMINADApolíticaTOKEN ELIMINADAdeTOKEN ELIMINADAvictimismoTOKEN ELIMINADAyTOKEN ELIMINADAvictimariosTOKEN ELIMINADAsonTOKEN ELIMINADAsuTOKEN ELIMINADAestandarte.SuTOKEN ELIMINADAgobiernitoTOKEN ELIMINADAestáTOKEN ELIMINADAtanTOKEN ELIMINADAescasoTOKEN ELIMINADAdeTOKEN ELIMINADAlogrosTOKEN ELIMINADAqueTOKEN ELIMINADAnecesitaTOKEN ELIMINADAdesviarTOKEN ELIMINADAlaTOKEN ELIMINADAatención.TOKEN ELIMINADAEsteTOKEN ELIMINADAgobiernoTOKEN ELIMINADAyaTOKEN ELIMINADAnoTOKEN ELIMINADAdaTOKEN ELIMINADAniTOKEN ELIMINADAlastima.PobresTOKEN ELIMINADAMexicanos.Despierten!',\n",
              " '@KellixelTOKEN ELIMINADADiscrepo,TOKEN ELIMINADAsiTOKEN ELIMINADAmuyTOKEN ELIMINADAguapa,TOKEN ELIMINADAperoTOKEN ELIMINADAaúnTOKEN ELIMINADAmásTOKEN ELIMINADAatractivaTOKEN ELIMINADAtuTOKEN ELIMINADAactitudTOKEN ELIMINADAyTOKEN ELIMINADAtuTOKEN ELIMINADApersonalidad',\n",
              " 'YaTOKEN ELIMINADAestáTOKEN ELIMINADAenTOKEN ELIMINADANetflixTOKEN ELIMINADAlaTOKEN ELIMINADApelículaTOKEN ELIMINADA#MGTOWTOKEN ELIMINADA\"AmorTOKEN ELIMINADAsinTOKEN ELIMINADAescalas\"TOKEN ELIMINADAElTOKEN ELIMINADAamorTOKEN ELIMINADAnoTOKEN ELIMINADAexiste,TOKEN ELIMINADAnoTOKEN ELIMINADAseTOKEN ELIMINADAcasen,TOKEN ELIMINADAnoTOKEN ELIMINADAtenganTOKEN ELIMINADAhijos..TOKEN ELIMINADAhttps://t.co/znjxlp7S83',\n",
              " '@Mariana28615054TOKEN ELIMINADA@AfraArtsTOKEN ELIMINADA@LaraGalvez9TOKEN ELIMINADAChicas..TOKEN ELIMINADAPeroTOKEN ELIMINADAdeTOKEN ELIMINADAqueTOKEN ELIMINADAcloacaTOKEN ELIMINADAsalióTOKEN ELIMINADAestaTOKEN ELIMINADAqueTOKEN ELIMINADAaTOKEN ELIMINADAveoTOKEN ELIMINADAcadaTOKEN ELIMINADA2TOKEN ELIMINADAtuits??TOKEN ELIMINADAhttps://t.co/oYTALtCwdZ',\n",
              " '@CovaThabitaTOKEN ELIMINADASupongoTOKEN ELIMINADAqueTOKEN ELIMINADAtienesTOKEN ELIMINADArazón.YoTOKEN ELIMINADAadorariaTOKEN ELIMINADAescaparmeTOKEN ELIMINADAcontigo,TOKEN ELIMINADAperoTOKEN ELIMINADAsencillamenteTOKEN ELIMINADAnoTOKEN ELIMINADApuedoTOKEN ELIMINADAirme...TOKEN ELIMINADACreoTOKEN ELIMINADAqueTOKEN ELIMINADApuedoTOKEN ELIMINADAserTOKEN ELIMINADAdeTOKEN ELIMINADAayudaTOKEN ELIMINADAaquí.SeráTOKEN ELIMINADAextrañoTOKEN ELIMINADAnoTOKEN ELIMINADAverteTOKEN ELIMINADAtodosTOKEN ELIMINADAlosTOKEN ELIMINADAdías,TOKEN ELIMINADAoTOKEN ELIMINADAestarTOKEN ELIMINADAsinTOKEN ELIMINADAtusTOKEN ELIMINADAmacarons.TOKEN ELIMINADA¿VolverásTOKEN ELIMINADAenTOKEN ELIMINADAalgúnTOKEN ELIMINADAmomento?',\n",
              " 'teTOKEN ELIMINADAodioTOKEN ELIMINADAodioTOKEN ELIMINADAmeTOKEN ELIMINADAparecesTOKEN ELIMINADAnefastaTOKEN ELIMINADAsosTOKEN ELIMINADAunaTOKEN ELIMINADAreverendaTOKEN ELIMINADAhijaTOKEN ELIMINADAdeTOKEN ELIMINADAreTOKEN ELIMINADAmilTOKEN ELIMINADAputaTOKEN ELIMINADAteTOKEN ELIMINADAdetestoTOKEN ELIMINADAteTOKEN ELIMINADAcagasteTOKEN ELIMINADAsiempreTOKEN ELIMINADAenTOKEN ELIMINADAelTOKEN ELIMINADAasquerosaTOKEN ELIMINADAlagartaTOKEN ELIMINADAinmundaaaaTOKEN ELIMINADAalejateTOKEN ELIMINADAdeTOKEN ELIMINADAelTOKEN ELIMINADAnoTOKEN ELIMINADAtTOKEN ELIMINADApuedoTOKEN ELIMINADAniTOKEN ELIMINADAverTOKEN ELIMINADAdelTOKEN ELIMINADAascoTOKEN ELIMINADAqueTOKEN ELIMINADAmeTOKEN ELIMINADAcausaTOKEN ELIMINADAtuTOKEN ELIMINADAcaraTOKEN ELIMINADATOKEN ELIMINADAhttps://t.co/ODgHcu582m',\n",
              " 'ParaTOKEN ELIMINADAhablarTOKEN ELIMINADAdelTOKEN ELIMINADATurismoTOKEN ELIMINADAcomoTOKEN ELIMINADAherramientaTOKEN ELIMINADAdeTOKEN ELIMINADAempoderamientoTOKEN ELIMINADAyTOKEN ELIMINADAdiversidadTOKEN ELIMINADAelTOKEN ELIMINADA10TOKEN ELIMINADADIC,TOKEN ELIMINADAcompartiremosTOKEN ELIMINADApanelTOKEN ELIMINADAjuntoTOKEN ELIMINADAaTOKEN ELIMINADA@NinaMartinez_TOKEN ELIMINADASec.TOKEN ELIMINADAdeTOKEN ELIMINADAPromociónTOKEN ELIMINADATurísticaTOKEN ELIMINADAdelTOKEN ELIMINADA@TurDepARTOKEN ELIMINADAyTOKEN ELIMINADAaTOKEN ELIMINADA@MatiasLammensTOKEN ELIMINADAMinistroTOKEN ELIMINADAdeTOKEN ELIMINADATurismoTOKEN ELIMINADAyTOKEN ELIMINADADeportes.TOKEN ELIMINADAInscripciónTOKEN ELIMINADAGRATUITATOKEN ELIMINADAenTOKEN ELIMINADAhttps://t.co/xN2PvweqBPTOKEN ELIMINADA\\u200dTOKEN ELIMINADAhttps://t.co/1C05ZcKvLB',\n",
              " '@D0MINOGAMERTOKEN ELIMINADA«TOKEN ELIMINADAperfectoTOKEN ELIMINADAqueTOKEN ELIMINADAlesTOKEN ELIMINADApermitióTOKEN ELIMINADAaTOKEN ELIMINADAlasTOKEN ELIMINADAmujeresTOKEN ELIMINADAdisfrutarTOKEN ELIMINADAcomoTOKEN ELIMINADAfamilia.ElTOKEN ELIMINADAdíaTOKEN ELIMINADAhabíaTOKEN ELIMINADAsidoTOKEN ELIMINADAperfecto,TOKEN ELIMINADAalTOKEN ELIMINADAmenosTOKEN ELIMINADAsinTOKEN ELIMINADAdiscusionesTOKEN ELIMINADAniTOKEN ELIMINADAmalasTOKEN ELIMINADAcarasTOKEN ELIMINADAcomoTOKEN ELIMINADAelTOKEN ELIMINADAdíaTOKEN ELIMINADAanterior,TOKEN ELIMINADAloTOKEN ELIMINADAqueTOKEN ELIMINADAhabíaTOKEN ELIMINADArelajadoTOKEN ELIMINADAporTOKEN ELIMINADAcompletoTOKEN ELIMINADAaTOKEN ELIMINADAAlicia.TOKEN ELIMINADATodosTOKEN ELIMINADAvolvieronTOKEN ELIMINADAalTOKEN ELIMINADAhotelTOKEN ELIMINADAparaTOKEN ELIMINADAcambiarseTOKEN ELIMINADAdebíanTOKEN ELIMINADAcerrarTOKEN ELIMINADAconTOKEN ELIMINADAunTOKEN ELIMINADA»',\n",
              " 'LaTOKEN ELIMINADANavidadTOKEN ELIMINADAseTOKEN ELIMINADAescuchaTOKEN ELIMINADAmejorTOKEN ELIMINADAconTOKEN ELIMINADAtusTOKEN ELIMINADAartistasTOKEN ELIMINADAfavoritos,TOKEN ELIMINADAasíTOKEN ELIMINADAqueTOKEN ELIMINADAteTOKEN ELIMINADAdejamosTOKEN ELIMINADAunaTOKEN ELIMINADAcenaTOKEN ELIMINADAmusicalTOKEN ELIMINADAparaTOKEN ELIMINADAdivertirteTOKEN ELIMINADAporTOKEN ELIMINADAestosTOKEN ELIMINADAdíasTOKEN ELIMINADAenTOKEN ELIMINADAlaTOKEN ELIMINADAplaylistTOKEN ELIMINADA\"MúsicaTOKEN ELIMINADAdelTOKEN ELIMINADADiciembre\"TOKEN ELIMINADAdeTOKEN ELIMINADA@DigsterMusicaTOKEN ELIMINADAaquíTOKEN ELIMINADATOKEN ELIMINADATOKEN ELIMINADAhttps://t.co/zGXe4BzRnO.@juanesTOKEN ELIMINADA@SebastianYatraTOKEN ELIMINADA@gwenstefaniTOKEN ELIMINADA@justinbieberTOKEN ELIMINADAhttps://t.co/krR7rFD9n9',\n",
              " 'LaTOKEN ELIMINADAtristeTOKEN ELIMINADArealidadTOKEN ELIMINADAdeTOKEN ELIMINADAcontratarTOKEN ELIMINADAtusTOKEN ELIMINADAserviciosTOKEN ELIMINADAconTOKEN ELIMINADAunTOKEN ELIMINADAoperadorTOKEN ELIMINADAinoperante,TOKEN ELIMINADAcomoTOKEN ELIMINADAloTOKEN ELIMINADAesTOKEN ELIMINADA@Tigo_ColombiaTOKEN ELIMINADAasíTOKEN ELIMINADAesTOKEN ELIMINADAtodoTOKEN ELIMINADAelTOKEN ELIMINADAdíaTOKEN ELIMINADAtodosTOKEN ELIMINADAlosTOKEN ELIMINADAdías,TOKEN ELIMINADAtodoTOKEN ELIMINADAelTOKEN ELIMINADAdía,TOKEN ELIMINADAvaTOKEN ELIMINADAyTOKEN ELIMINADAviene,TOKEN ELIMINADAlógicoTOKEN ELIMINADAporqueTOKEN ELIMINADAsiTOKEN ELIMINADAdejanTOKEN ELIMINADAdeTOKEN ELIMINADAprestarTOKEN ELIMINADA48TOKEN ELIMINADAhrsTOKEN ELIMINADAseguidas,TOKEN ELIMINADAtienenTOKEN ELIMINADAqueTOKEN ELIMINADAcompensar,TOKEN ELIMINADAsonTOKEN ELIMINADAunosTOKEN ELIMINADAdesgraciados,TOKEN ELIMINADAojoTOKEN ELIMINADAesTOKEN ELIMINADAenTOKEN ELIMINADAtodoTOKEN ELIMINADAelTOKEN ELIMINADAbarrioTOKEN ELIMINADAhttps://t.co/1Ft9nj3x2b',\n",
              " '@rebecazahnerTOKEN ELIMINADAEstásTOKEN ELIMINADAembarazadaTOKEN ELIMINADAamiga???',\n",
              " '@Vin_Polo29TOKEN ELIMINADA@Lexybecerra1TOKEN ELIMINADA@valerieicaza03TOKEN ELIMINADA@lezkteam1964TOKEN ELIMINADA@ethereaaalTOKEN ELIMINADAYoTOKEN ELIMINADAleTOKEN ELIMINADAcreoTOKEN ELIMINADAaTOKEN ELIMINADALina,TOKEN ELIMINADAporqueTOKEN ELIMINADAmeTOKEN ELIMINADAhaTOKEN ELIMINADApasadoTOKEN ELIMINADAyTOKEN ELIMINADAesTOKEN ELIMINADAmás,TOKEN ELIMINADAnosTOKEN ELIMINADAcriticanTOKEN ELIMINADAcuandoTOKEN ELIMINADAnoTOKEN ELIMINADAdenunciamosTOKEN ELIMINADAyTOKEN ELIMINADAcuandoTOKEN ELIMINADAloTOKEN ELIMINADAhacemosTOKEN ELIMINADAtambién.TOKEN ELIMINADA¿QuiénTOKEN ELIMINADAlosTOKEN ELIMINADAentiende?TOKEN ELIMINADAElTOKEN ELIMINADAacosoTOKEN ELIMINADAcallejeroTOKEN ELIMINADAesTOKEN ELIMINADArealTOKEN ELIMINADAyTOKEN ELIMINADAnadieTOKEN ELIMINADAdeberíaTOKEN ELIMINADApadecerTOKEN ELIMINADAdelTOKEN ELIMINADAmismo.TOKEN ELIMINADAUnTOKEN ELIMINADAchiflido,TOKEN ELIMINADAunTOKEN ELIMINADAcomentarioTOKEN ELIMINADAsexualTOKEN ELIMINADAoTOKEN ELIMINADAsobreTOKEN ELIMINADAelTOKEN ELIMINADAcuerpoTOKEN ELIMINADAnoTOKEN ELIMINADAsolicitadoTOKEN ELIMINADAesTOKEN ELIMINADAacoso.TOKEN ELIMINADASlds.',\n",
              " '@tm_zaiko_oficialTOKEN ELIMINADATOKEN ELIMINADAusandoTOKEN ELIMINADAnuestraTOKEN ELIMINADA#tiedyeshirtTOKEN ELIMINADATOKEN ELIMINADA.#simplementeequiseslamarcaTOKEN ELIMINADA#lamanadaTOKEN ELIMINADA#guadalajaraTOKEN ELIMINADA#rapmexicoTOKEN ELIMINADA#streetwearmexicoTOKEN ELIMINADA#mexastreetTOKEN ELIMINADAenTOKEN ELIMINADAGuadalajara,TOKEN ELIMINADAJaliscoTOKEN ELIMINADAhttps://t.co/CYmwBC4U8T',\n",
              " '@Agusbatalla05TOKEN ELIMINADAvosTOKEN ELIMINADAcallateTOKEN ELIMINADAfeminaziTOKEN ELIMINADAmataTOKEN ELIMINADAbebes',\n",
              " 'laTOKEN ELIMINADAgenteTOKEN ELIMINADAqueTOKEN ELIMINADAseTOKEN ELIMINADAponeTOKEN ELIMINADAaTOKEN ELIMINADAacosarTOKEN ELIMINADAaTOKEN ELIMINADAotrosTOKEN ELIMINADAporqueTOKEN ELIMINADAsiTOKEN ELIMINADAnoTOKEN ELIMINADAhagasTOKEN ELIMINADAaTOKEN ELIMINADAlosTOKEN ELIMINADAdemasTOKEN ELIMINADAloTOKEN ELIMINADAqueTOKEN ELIMINADAnoTOKEN ELIMINADAteTOKEN ELIMINADAgustariaTOKEN ELIMINADAqueTOKEN ELIMINADAteTOKEN ELIMINADAhiciesenTOKEN ELIMINADAaTOKEN ELIMINADAti.TOKEN ELIMINADAteTOKEN ELIMINADApuedeTOKEN ELIMINADAcaerTOKEN ELIMINADAcomoTOKEN ELIMINADAelTOKEN ELIMINADAculoTOKEN ELIMINADAalguien,TOKEN ELIMINADAperoTOKEN ELIMINADAsuperaloTOKEN ELIMINADAyTOKEN ELIMINADApasaTOKEN ELIMINADAdelTOKEN ELIMINADAtema.TOKEN ELIMINADAviveTOKEN ELIMINADAtuTOKEN ELIMINADAvida',\n",
              " '@Juagei1TOKEN ELIMINADA@prayforleonardoTOKEN ELIMINADA@FioranyFeeTOKEN ELIMINADA@StarrrboonTOKEN ELIMINADACandela,TOKEN ELIMINADAdeTOKEN ELIMINADAFilosofía.TOKEN ELIMINADARaquel,TOKEN ELIMINADAdeTOKEN ELIMINADAadministración,TOKEN ELIMINADADoscientosTOKEN ELIMINADAsetentaTOKEN ELIMINADAeurosTOKEN ELIMINADAalTOKEN ELIMINADAmes,TOKEN ELIMINADAlaTOKEN ELIMINADAfacturaTOKEN ELIMINADAqueTOKEN ELIMINADAabonoTOKEN ELIMINADAyoTOKEN ELIMINADAenTOKEN ELIMINADAexclusivaTOKEN ELIMINADAporqueTOKEN ELIMINADAsuTOKEN ELIMINADAmadreTOKEN ELIMINADAdiceTOKEN ELIMINADAqueTOKEN ELIMINADAnoTOKEN ELIMINADAtiene.MuchosTOKEN ELIMINADAsoportamosTOKEN ELIMINADAlasTOKEN ELIMINADAcargasTOKEN ELIMINADAyTOKEN ELIMINADAtareasTOKEN ELIMINADAdeTOKEN ELIMINADAunaTOKEN ELIMINADAcasaTOKEN ELIMINADAyTOKEN ELIMINADAaTOKEN ELIMINADAcambioTOKEN ELIMINADAtenemosTOKEN ELIMINADAmujeresTOKEN ELIMINADAyTOKEN ELIMINADAexTOKEN ELIMINADAqueTOKEN ELIMINADAsoloTOKEN ELIMINADAsabenTOKEN ELIMINADAelTOKEN ELIMINADAnombreTOKEN ELIMINADAdelTOKEN ELIMINADApediatra.',\n",
              " '@monicaocanaTOKEN ELIMINADA@samharoTOKEN ELIMINADA@aaronhellyeahTOKEN ELIMINADAUnaTOKEN ELIMINADAmujerTOKEN ELIMINADArebeldeTOKEN ELIMINADAdefiendeTOKEN ELIMINADAaTOKEN ELIMINADAsuTOKEN ELIMINADAmujerTOKEN ELIMINADAhastaTOKEN ELIMINADAelTOKEN ELIMINADAfinal..yoTOKEN ELIMINADAquieroTOKEN ELIMINADAaTOKEN ELIMINADAquienTOKEN ELIMINADAquieroTOKEN ELIMINADAyTOKEN ELIMINADAseTOKEN ELIMINADAacabo',\n",
              " '@Loulogio_PiTOKEN ELIMINADACursillosTOKEN ELIMINADAdeTOKEN ELIMINADApérdidaTOKEN ELIMINADAdeTOKEN ELIMINADAhabilidadesTOKEN ELIMINADAsocialesTOKEN ELIMINADAeTOKEN ELIMINADAintroducciónTOKEN ELIMINADAalTOKEN ELIMINADAacoso.NoTOKEN ELIMINADAtodoTOKEN ELIMINADAelTOKEN ELIMINADAmundoTOKEN ELIMINADApuedeTOKEN ELIMINADAdarTOKEN ELIMINADAcursosTOKEN ELIMINADAlaTOKEN ELIMINADAverdad,TOKEN ELIMINADAnoTOKEN ELIMINADAsabenTOKEN ELIMINADAelTOKEN ELIMINADAdañoTOKEN ELIMINADAqueTOKEN ELIMINADAhacenTOKEN ELIMINADAcon:TOKEN ELIMINADAelTOKEN ELIMINADAqueTOKEN ELIMINADApiensaTOKEN ELIMINADAqueTOKEN ELIMINADAaprendeTOKEN ELIMINADAaTOKEN ELIMINADAligarTOKEN ELIMINADAyTOKEN ELIMINADAtodoTOKEN ELIMINADAestáTOKEN ELIMINADAjustificadoTOKEN ELIMINADA(aprendenTOKEN ELIMINADAaTOKEN ELIMINADAserTOKEN ELIMINADAinsensibles),TOKEN ELIMINADAyTOKEN ELIMINADAaTOKEN ELIMINADAlasTOKEN ELIMINADAmujeresTOKEN ELIMINADAqueTOKEN ELIMINADAseTOKEN ELIMINADAencuentranTOKEN ELIMINADAconTOKEN ELIMINADAesto',\n",
              " 'diosTOKEN ELIMINADAqTOKEN ELIMINADAcalorTOKEN ELIMINADApocoTOKEN ELIMINADAmasTOKEN ELIMINADAyTOKEN ELIMINADAmeTOKEN ELIMINADAtranspiranTOKEN ELIMINADAlasTOKEN ELIMINADAtetas',\n",
              " 'MeTOKEN ELIMINADAacaboTOKEN ELIMINADAdeTOKEN ELIMINADAenterarTOKEN ELIMINADAqueTOKEN ELIMINADAEmmaTOKEN ELIMINADAStoneTOKEN ELIMINADAestáTOKEN ELIMINADAembarazadaTOKEN ELIMINADAhttps://t.co/JRujIK37Pq',\n",
              " 'IgualTOKEN ELIMINADArompíTOKEN ELIMINADAlaTOKEN ELIMINADAúltimaTOKEN ELIMINADAparedTOKEN ELIMINADAdeTOKEN ELIMINADAdemenciaTOKEN ELIMINADAestaTOKEN ELIMINADAmañanaTOKEN ELIMINADAcuandoTOKEN ELIMINADADECIDÍTOKEN ELIMINADATOKEN ELIMINADAcomoTOKEN ELIMINADAmujerTOKEN ELIMINADAempoderadaTOKEN ELIMINADAseguirTOKEN ELIMINADAdurmiendoTOKEN ELIMINADAsoloTOKEN ELIMINADApqTOKEN ELIMINADAestabaTOKEN ELIMINADAsoñandoTOKEN ELIMINADAconTOKEN ELIMINADAqueTOKEN ELIMINADAabrazabaTOKEN ELIMINADAaTOKEN ELIMINADAyoongiTOKEN ELIMINADAaTOKEN ELIMINADApesarTOKEN ELIMINADAdeTOKEN ELIMINADAqueTOKEN ELIMINADAyaTOKEN ELIMINADAestabaTOKEN ELIMINADAllegandoTOKEN ELIMINADAtardeTOKEN ELIMINADAalTOKEN ELIMINADAtTOKEN ELIMINADAworld',\n",
              " '@Juandedios_PTOKEN ELIMINADADiosaTOKEN ELIMINADAEmpoderada,TOKEN ELIMINADAlaTOKEN ELIMINADAmujerTOKEN ELIMINADAmásTOKEN ELIMINADAhermosaTOKEN ELIMINADATOKEN ELIMINADAhttps://t.co/Y3CoogBhY7',\n",
              " '@elchiringuitotvTOKEN ELIMINADA@RonaldKoemanTOKEN ELIMINADA@SergioRamosTOKEN ELIMINADARecurrirTOKEN ELIMINADAalTOKEN ELIMINADAmanidoTOKEN ELIMINADAvictimismoTOKEN ELIMINADAnoTOKEN ELIMINADAteTOKEN ELIMINADAvaTOKEN ELIMINADAaTOKEN ELIMINADAsalvarTOKEN ELIMINADARonald...',\n",
              " '@sxrareTOKEN ELIMINADAAhTOKEN ELIMINADAah!NoTOKEN ELIMINADAenTOKEN ELIMINADAcontraTOKEN ELIMINADAdeTOKEN ELIMINADAlasTOKEN ELIMINADAmujeres,TOKEN ELIMINADAniTOKEN ELIMINADAenTOKEN ELIMINADAcontraTOKEN ELIMINADAdeTOKEN ELIMINADAlasTOKEN ELIMINADAfeministas.EnTOKEN ELIMINADAcontraTOKEN ELIMINADAdeTOKEN ELIMINADAlocasTOKEN ELIMINADAqueTOKEN ELIMINADAdeseanTOKEN ELIMINADAelTOKEN ELIMINADAodioTOKEN ELIMINADAmundialTOKEN ELIMINADAaTOKEN ELIMINADAlosTOKEN ELIMINADAhombres,TOKEN ELIMINADAqueTOKEN ELIMINADAseTOKEN ELIMINADAofendenTOKEN ELIMINADAhastaTOKEN ELIMINADAdeTOKEN ELIMINADAellasTOKEN ELIMINADAmismas,TOKEN ELIMINADAqueTOKEN ELIMINADAnoTOKEN ELIMINADAtienenTOKEN ELIMINADAelTOKEN ELIMINADAcorazónTOKEN ELIMINADAenTOKEN ELIMINADAlosTOKEN ELIMINADAbebésTOKEN ELIMINADAyTOKEN ELIMINADAdeclaranTOKEN ELIMINADAabortoTOKEN ELIMINADAlegalTOKEN ELIMINADAsinTOKEN ELIMINADAdarTOKEN ELIMINADAmuchoTOKEN ELIMINADAfundamento.ActualmenteTOKEN ELIMINADAestoyTOKEN ELIMINADAenTOKEN ELIMINADA+',\n",
              " '@Faitelson_ESPNTOKEN ELIMINADAEnTOKEN ELIMINADAvelaTOKEN ELIMINADAquedasteTOKEN ELIMINADAvariosTOKEN ELIMINADAdías,TOKEN ELIMINADAdespuésTOKEN ELIMINADAdeTOKEN ELIMINADAqueTOKEN ELIMINADAlaTOKEN ELIMINADAfuerzaTOKEN ELIMINADAdeTOKEN ELIMINADAcuasimodoTOKEN ELIMINADA(LAFC)TOKEN ELIMINADAfueraTOKEN ELIMINADAproyectadaTOKEN ELIMINADAenTOKEN ELIMINADAunTOKEN ELIMINADA“TOKEN ELIMINADApoderosoTOKEN ELIMINADA“TOKEN ELIMINADAvoladoTOKEN ELIMINADAdeTOKEN ELIMINADAderechaTOKEN ELIMINADAdispuestoTOKEN ELIMINADAaTOKEN ELIMINADAeliminarTOKEN ELIMINADAtusTOKEN ELIMINADAmuelas,TOKEN ELIMINADAhaceTOKEN ELIMINADAcasiTOKEN ELIMINADA18TOKEN ELIMINADAañosTOKEN ELIMINADAenTOKEN ELIMINADAelTOKEN ELIMINADALuisTOKEN ELIMINADAPirataTOKEN ELIMINADAFuente.',\n",
              " 'TeTOKEN ELIMINADAacompañoTOKEN ELIMINADAaTOKEN ELIMINADAdenunciarlo,TOKEN ELIMINADAmeTOKEN ELIMINADAhaTOKEN ELIMINADAhechoTOKEN ELIMINADAloTOKEN ELIMINADAmismo,TOKEN ELIMINADA#MeTooTOKEN ELIMINADAhttps://t.co/vAsu2WRxq6',\n",
              " '@JazminRamirez57TOKEN ELIMINADA@hipalaTOKEN ELIMINADA@ModeloGestionPTOKEN ELIMINADA@rcavadaTOKEN ELIMINADA@CDN37TOKEN ELIMINADA@SIN24HorasTOKEN ELIMINADA@ProcuraduriaRDTOKEN ELIMINADAYaTOKEN ELIMINADAfueronTOKEN ELIMINADAsentenciados,TOKEN ELIMINADAcondenadosTOKEN ELIMINADAalTOKEN ELIMINADApagoTOKEN ELIMINADAdeTOKEN ELIMINADAunTOKEN ELIMINADAastreinte.TOKEN ELIMINADAAparteTOKEN ELIMINADAdeTOKEN ELIMINADAlaTOKEN ELIMINADAacciónTOKEN ELIMINADAdeTOKEN ELIMINADAamparo,TOKEN ELIMINADAelTOKEN ELIMINADAlunesTOKEN ELIMINADAsometeréTOKEN ELIMINADAaTOKEN ELIMINADA@hipalaTOKEN ELIMINADAporTOKEN ELIMINADAviolarTOKEN ELIMINADAciertasTOKEN ELIMINADAdisposicionesTOKEN ELIMINADAlegales.TOKEN ELIMINADATOKEN ELIMINADAEsTOKEN ELIMINADAcansadoTOKEN ELIMINADAqueTOKEN ELIMINADAmeTOKEN ELIMINADAtienenTOKEN ELIMINADAconTOKEN ELIMINADAsusTOKEN ELIMINADAabusosTOKEN ELIMINADAyTOKEN ELIMINADAyoTOKEN ELIMINADAlosTOKEN ELIMINADAignorabaTOKEN ELIMINADApqTOKEN ELIMINADAnoTOKEN ELIMINADAtengoTOKEN ELIMINADAtiempoTOKEN ELIMINADAparaTOKEN ELIMINADAesosTOKEN ELIMINADAasuntosTOKEN ELIMINADAadministrativosTOKEN ELIMINADAyTOKEN ELIMINADAdisc.TOKEN ELIMINADAhttps://t.co/X73zB9wrFM',\n",
              " 'MeTOKEN ELIMINADAentristeceTOKEN ELIMINADAverTOKEN ELIMINADAqueTOKEN ELIMINADAelTOKEN ELIMINADAserTOKEN ELIMINADAhumanoTOKEN ELIMINADAseaTOKEN ELIMINADAcapazTOKEN ELIMINADAdeTOKEN ELIMINADAsemejanteTOKEN ELIMINADAsalvajada.HuboTOKEN ELIMINADAunTOKEN ELIMINADAtiempo,haceTOKEN ELIMINADAmilesTOKEN ELIMINADAdeTOKEN ELIMINADAañosTOKEN ELIMINADAenTOKEN ELIMINADAqueTOKEN ELIMINADAelTOKEN ELIMINADAhombreTOKEN ELIMINADAcazabaTOKEN ELIMINADAporTOKEN ELIMINADAnecesidad.PeroTOKEN ELIMINADAahoraTOKEN ELIMINADATOKEN ELIMINADAnoTOKEN ELIMINADAentiendoTOKEN ELIMINADAloTOKEN ELIMINADAdeTOKEN ELIMINADAexterminarTOKEN ELIMINADAanimalesTOKEN ELIMINADATOKEN ELIMINADAenTOKEN ELIMINADAmasa.SencilloTOKEN ELIMINADAlaTOKEN ELIMINADANaturalezaTOKEN ELIMINADAnecesitaTOKEN ELIMINADAalTOKEN ELIMINADAhombreTOKEN ELIMINADAoTOKEN ELIMINADAesTOKEN ELIMINADAalTOKEN ELIMINADArevés:TOKEN ELIMINADAhttps://t.co/ThvKjdEwhrTOKEN ELIMINADAhttps://t.co/12NbBpiC7S',\n",
              " 'meTOKEN ELIMINADAescribióTOKEN ELIMINADAunaTOKEN ELIMINADAchicaTOKEN ELIMINADAporTOKEN ELIMINADAig,TOKEN ELIMINADAtonsTOKEN ELIMINADAleTOKEN ELIMINADApreguntoTOKEN ELIMINADAqueTOKEN ELIMINADAsiTOKEN ELIMINADAnosTOKEN ELIMINADAconocemos,TOKEN ELIMINADAmeTOKEN ELIMINADArespondeTOKEN ELIMINADAqueTOKEN ELIMINADAsi,TOKEN ELIMINADAporTOKEN ELIMINADAwattpadTOKEN ELIMINADAlpm',\n",
              " 'TuTOKEN ELIMINADAirresponsabilidadTOKEN ELIMINADAalTOKEN ELIMINADAvolanteTOKEN ELIMINADAtambiénTOKEN ELIMINADAlaTOKEN ELIMINADApagamosTOKEN ELIMINADAtodosTOKEN ELIMINADAconTOKEN ELIMINADAnuestrosTOKEN ELIMINADAimpuestos.TOKEN ELIMINADAElTOKEN ELIMINADAjuicioTOKEN ELIMINADAmoralTOKEN ELIMINADAsiempreTOKEN ELIMINADAesTOKEN ELIMINADAcontraTOKEN ELIMINADAlaTOKEN ELIMINADAmujerTOKEN ELIMINADA#HartaTOKEN ELIMINADA#HipocresiaTOKEN ELIMINADA#EsLEY',\n",
              " 'HayTOKEN ELIMINADAdíasTOKEN ELIMINADAqueTOKEN ELIMINADAnosTOKEN ELIMINADAlevantamosTOKEN ELIMINADAenojados,TOKEN ELIMINADAcansadosTOKEN ELIMINADAoTOKEN ELIMINADAsinTOKEN ELIMINADAganasTOKEN ELIMINADAdeTOKEN ELIMINADAhacerTOKEN ELIMINADAalgo,TOKEN ELIMINADAporTOKEN ELIMINADAesoTOKEN ELIMINADAlesTOKEN ELIMINADAcompartimosTOKEN ELIMINADAtipsTOKEN ELIMINADAdeTOKEN ELIMINADAcomoTOKEN ELIMINADAempezarTOKEN ELIMINADAunTOKEN ELIMINADAdíaTOKEN ELIMINADAconTOKEN ELIMINADAtodo.TOKEN ELIMINADA6TOKEN ELIMINADAconsejosTOKEN ELIMINADAparaTOKEN ELIMINADAempezarTOKEN ELIMINADAbienTOKEN ELIMINADAelTOKEN ELIMINADAdíaTOKEN ELIMINADA-&gt;TOKEN ELIMINADA(https://t.co/48WzRmfpvJ)TOKEN ELIMINADA@mntemaravillosaTOKEN ELIMINADA#BuenosDíasTOKEN ELIMINADA#MujeresTOKEN ELIMINADA#CDMX',\n",
              " '@LautydiotaTOKEN ELIMINADAclaramenteTOKEN ELIMINADAesoTOKEN ELIMINADAesTOKEN ELIMINADAhipócritaTOKEN ELIMINADAyTOKEN ELIMINADAcontradecirseTOKEN ELIMINADAaTOKEN ELIMINADAsiTOKEN ELIMINADAmismo,TOKEN ELIMINADAperoTOKEN ELIMINADAnoTOKEN ELIMINADAporTOKEN ELIMINADAesoTOKEN ELIMINADAdebesTOKEN ELIMINADAmeterTOKEN ELIMINADAaTOKEN ELIMINADAtodosTOKEN ELIMINADAenTOKEN ELIMINADAelTOKEN ELIMINADAmismoTOKEN ELIMINADAsaco.TOKEN ELIMINADASoloTOKEN ELIMINADAbuscoTOKEN ELIMINADAqueTOKEN ELIMINADAentiendasTOKEN ELIMINADAporqueTOKEN ELIMINADAlasTOKEN ELIMINADAmujeresTOKEN ELIMINADAnosTOKEN ELIMINADAsentimosTOKEN ELIMINADAasíTOKEN ELIMINADAyTOKEN ELIMINADAreaccionamosTOKEN ELIMINADAdeTOKEN ELIMINADAesaTOKEN ELIMINADAformaTOKEN ELIMINADAcuandoTOKEN ELIMINADAvemosTOKEN ELIMINADAaTOKEN ELIMINADAgenteTOKEN ELIMINADAidolatrarTOKEN ELIMINADAaTOKEN ELIMINADAalguienTOKEN ELIMINADAqueTOKEN ELIMINADAhizoTOKEN ELIMINADAtantoTOKEN ELIMINADAdaño',\n",
              " 'OmarTOKEN ELIMINADAAyusoTOKEN ELIMINADAloTOKEN ELIMINADAlogra:TOKEN ELIMINADA¡yaTOKEN ELIMINADAesTOKEN ELIMINADAchicaTOKEN ELIMINADAAlmodóvar!ElTOKEN ELIMINADAactorTOKEN ELIMINADAdeTOKEN ELIMINADA‘Élite’TOKEN ELIMINADAOmarTOKEN ELIMINADAAyusoTOKEN ELIMINADAcomparteTOKEN ELIMINADAenTOKEN ELIMINADAInstagramTOKEN ELIMINADAunaTOKEN ELIMINADAfotoTOKEN ELIMINADAenTOKEN ELIMINADAlaTOKEN ELIMINADAqueTOKEN ELIMINADAseTOKEN ELIMINADAtravisteTOKEN ELIMINADAparaTOKEN ELIMINADAserTOKEN ELIMINADAunaTOKEN ELIMINADAdeTOKEN ELIMINADAlasTOKEN ELIMINADA‘MujeresTOKEN ELIMINADAalTOKEN ELIMINADAbordeTOKEN ELIMINADAdeTOKEN ELIMINADAunTOKEN ELIMINADAataqueTOKEN ELIMINADAdeTOKEN ELIMINADAnervios’https://t.co/xW5uFXC4An',\n",
              " '@FelixPortesTOKEN ELIMINADAFueTOKEN ELIMINADAhumillante,TOKEN ELIMINADAaunTOKEN ELIMINADAqueTOKEN ELIMINADAtodoTOKEN ELIMINADAelTOKEN ELIMINADAqueTOKEN ELIMINADAesTOKEN ELIMINADAculpableTOKEN ELIMINADAtieneTOKEN ELIMINADAqueTOKEN ELIMINADApagarTOKEN ELIMINADAperoTOKEN ELIMINADAsinTOKEN ELIMINADAviolarTOKEN ELIMINADAsusTOKEN ELIMINADAderechos,.TOKEN ELIMINADAPorTOKEN ELIMINADAqueTOKEN ELIMINADAentoncesTOKEN ELIMINADAnoTOKEN ELIMINADAestamosTOKEN ELIMINADAenTOKEN ELIMINADAnada,',\n",
              " '@PODEMOSTOKEN ELIMINADA@PabloEcheniqueTOKEN ELIMINADAATOKEN ELIMINADAtusTOKEN ELIMINADAsociosTOKEN ELIMINADAlesTOKEN ELIMINADApillaronTOKEN ELIMINADAdeTOKEN ELIMINADAputasTOKEN ELIMINADAyTOKEN ELIMINADAconTOKEN ELIMINADAdrogasTOKEN ELIMINADAconTOKEN ELIMINADAdineroTOKEN ELIMINADApúblicoTOKEN ELIMINADAenTOKEN ELIMINADAlosTOKEN ELIMINADAprostibulosTOKEN ELIMINADAdeTOKEN ELIMINADAmediaTOKEN ELIMINADAAndalucía...TOKEN ELIMINADAYTOKEN ELIMINADAtuTOKEN ELIMINADAjefeTOKEN ELIMINADAprefiereTOKEN ELIMINADAazotarTOKEN ELIMINADAmujeresTOKEN ELIMINADAhastaTOKEN ELIMINADAqueTOKEN ELIMINADAsangren!!TOKEN ELIMINADAÁnimoTOKEN ELIMINADAconTOKEN ELIMINADAlaTOKEN ELIMINADAmoral',\n",
              " '@MayyMorel1TOKEN ELIMINADAtodasTOKEN ELIMINADAputas',\n",
              " '@EmpresarioVoxTOKEN ELIMINADANiñataTOKEN ELIMINADAmalnacidaTOKEN ELIMINADAeTOKEN ELIMINADAhdp.ConTOKEN ELIMINADAestosTOKEN ELIMINADAmimbresTOKEN ELIMINADAtenemosTOKEN ELIMINADAqueTOKEN ELIMINADAatajarTOKEN ELIMINADAlaTOKEN ELIMINADApandemia,habráTOKEN ELIMINADAqueTOKEN ELIMINADAverTOKEN ELIMINADAaTOKEN ELIMINADAlosTOKEN ELIMINADApadres.TenemosTOKEN ELIMINADAloTOKEN ELIMINADAqueTOKEN ELIMINADAnosTOKEN ELIMINADAmerecemos.',\n",
              " 'UnaTOKEN ELIMINADAmenciónTOKEN ELIMINADAmásTOKEN ELIMINADApreguntandoTOKEN ELIMINADAsiTOKEN ELIMINADApreferimosTOKEN ELIMINADAqueTOKEN ELIMINADAnoTOKEN ELIMINADAseaTOKEN ELIMINADAleyTOKEN ELIMINADAyTOKEN ELIMINADAcierroTOKEN ELIMINADAtuiter.TOKEN ELIMINADASomosTOKEN ELIMINADAfeministas,TOKEN ELIMINADAqueremosTOKEN ELIMINADAqueTOKEN ELIMINADAelTOKEN ELIMINADAabortoTOKEN ELIMINADAseaTOKEN ELIMINADAlegalTOKEN ELIMINADAyTOKEN ELIMINADAqueTOKEN ELIMINADAseaTOKEN ELIMINADAmaterialmenteTOKEN ELIMINADAviableTOKEN ELIMINADAparaTOKEN ELIMINADAtodasTOKEN ELIMINADAlasTOKEN ELIMINADApersonas.TOKEN ELIMINADANoTOKEN ELIMINADAnosTOKEN ELIMINADAcorranTOKEN ELIMINADAmásTOKEN ELIMINADAconTOKEN ELIMINADA\"esTOKEN ELIMINADAloTOKEN ELIMINADAposible\"TOKEN ELIMINADAoTOKEN ELIMINADAconTOKEN ELIMINADAqueTOKEN ELIMINADAnoTOKEN ELIMINADAqueremosTOKEN ELIMINADAqueTOKEN ELIMINADAhayaTOKEN ELIMINADAley.',\n",
              " '@HairywhxreTOKEN ELIMINADAAcasoTOKEN ELIMINADAesTOKEN ELIMINADAculpaTOKEN ELIMINADAmíaTOKEN ELIMINADAqueTOKEN ELIMINADAeseTOKEN ELIMINADAenormeTOKEN ELIMINADAculoTOKEN ELIMINADAmeTOKEN ELIMINADAgusteTOKEN ELIMINADAtanto?~TOKEN ELIMINADAtuTOKEN ELIMINADAsabesTOKEN ELIMINADAbienTOKEN ELIMINADAqueTOKEN ELIMINADAeseTOKEN ELIMINADAcoñoTOKEN ELIMINADAdebeTOKEN ELIMINADAserTOKEN ELIMINADAexpuestoTOKEN ELIMINADAparaTOKEN ELIMINADAqueTOKEN ELIMINADAsepanTOKEN ELIMINADAqueTOKEN ELIMINADAunaTOKEN ELIMINADAmujerTOKEN ELIMINADAmaduraTOKEN ELIMINADAaúnTOKEN ELIMINADApuedeTOKEN ELIMINADAserTOKEN ELIMINADAusadaTOKEN ELIMINADAhastaTOKEN ELIMINADAmásTOKEN ELIMINADAnoTOKEN ELIMINADApoder~',\n",
              " '@dinareziTOKEN ELIMINADAYTOKEN ELIMINADAlaTOKEN ELIMINADAculpaTOKEN ELIMINADAseTOKEN ELIMINADAlaTOKEN ELIMINADAatribuísTOKEN ELIMINADAaTOKEN ELIMINADAtodasTOKEN ELIMINADAlasTOKEN ELIMINADAmujeres?TOKEN ELIMINADANoTOKEN ELIMINADAgeneralices,TOKEN ELIMINADAyTOKEN ELIMINADAaTOKEN ELIMINADApesarTOKEN ELIMINADAdeTOKEN ELIMINADAqueTOKEN ELIMINADApocoTOKEN ELIMINADAteTOKEN ELIMINADAimportaTOKEN ELIMINADAqueTOKEN ELIMINADAlasTOKEN ELIMINADApibasTOKEN ELIMINADAseTOKEN ELIMINADAmueranTOKEN ELIMINADAabortandoTOKEN ELIMINADAenTOKEN ELIMINADAlaTOKEN ELIMINADAclandestinidad,TOKEN ELIMINADAdeTOKEN ELIMINADAcorazónTOKEN ELIMINADAdeseoTOKEN ELIMINADAqueTOKEN ELIMINADAalgúnTOKEN ELIMINADAdíaTOKEN ELIMINADAseTOKEN ELIMINADAacabeTOKEN ELIMINADAlaTOKEN ELIMINADAgordofobia.TOKEN ELIMINADAPorqueTOKEN ELIMINADAesoTOKEN ELIMINADAhacemos,TOKEN ELIMINADAnosTOKEN ELIMINADAapoyamos,TOKEN ELIMINADAnosTOKEN ELIMINADAqueremosTOKEN ELIMINADAlibresTOKEN ELIMINADAyTOKEN ELIMINADAfelices.',\n",
              " '@Alexa35443347TOKEN ELIMINADAteTOKEN ELIMINADAmuyTOKEN ELIMINADAsexiTOKEN ELIMINADAyTOKEN ELIMINADAatractivaTOKEN ELIMINADAbellaTOKEN ELIMINADAmujer',\n",
              " '@AlexSanchez_26TOKEN ELIMINADAesoTOKEN ELIMINADAesTOKEN ELIMINADAmanspreadingTOKEN ELIMINADAJAJAJAJAJA',\n",
              " 'LoTOKEN ELIMINADAprometidoTOKEN ELIMINADAesTOKEN ELIMINADAdeudaTOKEN ELIMINADAlistoTOKEN ELIMINADAelTOKEN ELIMINADAwallpaperTOKEN ELIMINADAdeTOKEN ELIMINADA#LaManadaTOKEN ELIMINADATOKEN ELIMINADATOKEN ELIMINADAhttps://t.co/y5iBhGkJIG',\n",
              " 'EnTOKEN ELIMINADAtusTOKEN ELIMINADAdíasTOKEN ELIMINADAmalosTOKEN ELIMINADAteTOKEN ELIMINADAvoyTOKEN ELIMINADAaTOKEN ELIMINADAquererTOKEN ELIMINADAelTOKEN ELIMINADAdoble...',\n",
              " '@Oscar_rozadioTOKEN ELIMINADA@SaltandoAlPrauTOKEN ELIMINADASiTOKEN ELIMINADAalgúnTOKEN ELIMINADAdíaTOKEN ELIMINADAhacéisTOKEN ELIMINADAunTOKEN ELIMINADAprogramaTOKEN ELIMINADApolideportivo,TOKEN ELIMINADAyoTOKEN ELIMINADAcontroloTOKEN ELIMINADAdeTOKEN ELIMINADAciclismoTOKEN ELIMINADAcántabro,TOKEN ELIMINADAdesdeTOKEN ELIMINADAcadetesTOKEN ELIMINADAaTOKEN ELIMINADAprofesionales,TOKEN ELIMINADAhombresTOKEN ELIMINADAoTOKEN ELIMINADAmujeres,TOKEN ELIMINADApodéisTOKEN ELIMINADAcontarTOKEN ELIMINADAconmigoTOKEN ELIMINADAsinTOKEN ELIMINADAproblema.TOKEN ELIMINADAAbrazos',\n",
              " 'SiTOKEN ELIMINADAdiceTOKEN ELIMINADAburradasTOKEN ELIMINADAcomoTOKEN ELIMINADAqueTOKEN ELIMINADAMarilynTOKEN ELIMINADAMonroeTOKEN ELIMINADAnomásTOKEN ELIMINADAeraTOKEN ELIMINADAunaTOKEN ELIMINADArubiaTOKEN ELIMINADAtonta,TOKEN ELIMINADAAHÍTOKEN ELIMINADANOTOKEN ELIMINADAES.',\n",
              " 'LiteralTOKEN ELIMINADAestaisTOKEN ELIMINADAaTOKEN ELIMINADAfavorTOKEN ELIMINADAdeTOKEN ELIMINADAqueTOKEN ELIMINADAlaTOKEN ELIMINADAgenteTOKEN ELIMINADAqueTOKEN ELIMINADAatraviesaTOKEN ELIMINADAelTOKEN ELIMINADAmarTOKEN ELIMINADAenTOKEN ELIMINADApateraTOKEN ELIMINADAseTOKEN ELIMINADAmuera.TOKEN ELIMINADAVosotrosTOKEN ELIMINADAsiTOKEN ELIMINADAcreeisTOKEN ELIMINADAqueTOKEN ELIMINADAhayTOKEN ELIMINADAvidasTOKEN ELIMINADAqueTOKEN ELIMINADAvalenTOKEN ELIMINADAmásTOKEN ELIMINADAqueTOKEN ELIMINADAotras,TOKEN ELIMINADApandaTOKEN ELIMINADAdeTOKEN ELIMINADAescoria.TOKEN ELIMINADAhttps://t.co/tAIDmjbQQm',\n",
              " '@DarKunorsTOKEN ELIMINADAShhhhhhhhh,TOKEN ELIMINADASiTOKEN ELIMINADAesTOKEN ELIMINADAmujerTOKEN ELIMINADAnoTOKEN ELIMINADAesTOKEN ELIMINADAacosoTOKEN ELIMINADAsexual,TOKEN ELIMINADAmeTOKEN ELIMINADAloTOKEN ELIMINADAdijoTOKEN ELIMINADAunaTOKEN ELIMINADAfeminista',\n",
              " 'GenerarTOKEN ELIMINADAunTOKEN ELIMINADAodioTOKEN ELIMINADAsemejanteTOKEN ELIMINADAhaciaTOKEN ELIMINADAunTOKEN ELIMINADAcolectivo,TOKEN ELIMINADAmofarse,TOKEN ELIMINADAhacerTOKEN ELIMINADAburla,TOKEN ELIMINADAoTOKEN ELIMINADAdecirTOKEN ELIMINADAqueTOKEN ELIMINADAseTOKEN ELIMINADAadoctrinaTOKEN ELIMINADAteniendoTOKEN ELIMINADAcomoTOKEN ELIMINADAargumentosTOKEN ELIMINADAqueTOKEN ELIMINADAlasTOKEN ELIMINADAmujeresTOKEN ELIMINADAtransTOKEN ELIMINADAsonTOKEN ELIMINADAhombresTOKEN ELIMINADAconTOKEN ELIMINADApene,TOKEN ELIMINADAesTOKEN ELIMINADAtransfobia.SiTOKEN ELIMINADAcreesTOKEN ELIMINADAqueTOKEN ELIMINADAhacerTOKEN ELIMINADAesteTOKEN ELIMINADAdañoTOKEN ELIMINADAaTOKEN ELIMINADAlasTOKEN ELIMINADApersonasTOKEN ELIMINADAtransTOKEN ELIMINADAesTOKEN ELIMINADAfeminismo,TOKEN ELIMINADAesTOKEN ELIMINADAqueTOKEN ELIMINADAnoTOKEN ELIMINADAsabesTOKEN ELIMINADAquéTOKEN ELIMINADAesTOKEN ELIMINADAelTOKEN ELIMINADAfeminismo.TOKEN ELIMINADAhttps://t.co/PLpn1QMeGV',\n",
              " 'MiraTOKEN ELIMINADAqTOKEN ELIMINADAquieroTOKEN ELIMINADAqTOKEN ELIMINADAseTOKEN ELIMINADAquedenTOKEN ELIMINADAMahiTOKEN ELIMINADAyTOKEN ELIMINADARafa.TOKEN ELIMINADAPeroTOKEN ELIMINADAesteTOKEN ELIMINADAvictimismo?TOKEN ELIMINADAHijosTOKEN ELIMINADAvinieronTOKEN ELIMINADAaTOKEN ELIMINADAunTOKEN ELIMINADArealityTOKEN ELIMINADA#LaCasaFuerte20',\n",
              " '@ClaudiaLopezTOKEN ELIMINADAMarimachoTOKEN ELIMINADAtripleifueputa',\n",
              " \"ElTOKEN ELIMINADACC.TOKEN ELIMINADAElTOKEN ELIMINADAPozoTOKEN ELIMINADAcelebróTOKEN ELIMINADAlaTOKEN ELIMINADAfunciónTOKEN ELIMINADA'EntreTOKEN ELIMINADADivas',TOKEN ELIMINADAunTOKEN ELIMINADAespectáculo,TOKEN ELIMINADAconTOKEN ELIMINADA3TOKEN ELIMINADAsopranos,TOKEN ELIMINADA1TOKEN ELIMINADAtenorTOKEN ELIMINADAyTOKEN ELIMINADA1TOKEN ELIMINADApianoTOKEN ELIMINADAenTOKEN ELIMINADAdirecto.TOKEN ELIMINADAÓpera,TOKEN ELIMINADAzarzuela,TOKEN ELIMINADAbolerosTOKEN ELIMINADAyTOKEN ELIMINADAfragmentosTOKEN ELIMINADAdeTOKEN ELIMINADAlosTOKEN ELIMINADAmejoresTOKEN ELIMINADAmusicalesTOKEN ELIMINADAparaTOKEN ELIMINADAdemostrarTOKEN ELIMINADAcómoTOKEN ELIMINADAlaTOKEN ELIMINADAluchaTOKEN ELIMINADAporTOKEN ELIMINADAlaTOKEN ELIMINADAigualdadTOKEN ELIMINADAyTOKEN ELIMINADAlogradoTOKEN ELIMINADAelTOKEN ELIMINADAempoderamientoTOKEN ELIMINADAdeTOKEN ELIMINADAlaTOKEN ELIMINADAmujer.TOKEN ELIMINADAhttps://t.co/bvf5JCVzbh\",\n",
              " \"@ThelemaDeSagaTOKEN ELIMINADAEsTOKEN ELIMINADAunTOKEN ELIMINADAhorrorTOKEN ELIMINADAqueTOKEN ELIMINADAexistanTOKEN ELIMINADAaunTOKEN ELIMINADAesasTOKEN ELIMINADAcosas.TOKEN ELIMINADASuficienteTOKEN ELIMINADAcoñazoTOKEN ELIMINADAesTOKEN ELIMINADAelTOKEN ELIMINADAmundoTOKEN ELIMINADAcomoTOKEN ELIMINADAparaTOKEN ELIMINADAencimaTOKEN ELIMINADAtenerTOKEN ELIMINADAqueTOKEN ELIMINADAsentirTOKEN ELIMINADAinseguridadTOKEN ELIMINADAporTOKEN ELIMINADAserTOKEN ELIMINADAmujer,TOKEN ELIMINADAdeTOKEN ELIMINADAcolorTOKEN ELIMINADAoTOKEN ELIMINADAcualquierTOKEN ELIMINADAotraTOKEN ELIMINADAcosaTOKEN ELIMINADA'distinta'.Offtopic:TOKEN ELIMINADAodioTOKEN ELIMINADAelTOKEN ELIMINADAtopicazoTOKEN ELIMINADAdeTOKEN ELIMINADAJackieTOKEN ELIMINADAenTOKEN ELIMINADAinglésTOKEN ELIMINADAmetiendoTOKEN ELIMINADApalabrasTOKEN ELIMINADAlatinasTOKEN ELIMINADAdeTOKEN ELIMINADAporTOKEN ELIMINADAmedioTOKEN ELIMINADAenTOKEN ELIMINADAcadaTOKEN ELIMINADAfrase.\",\n",
              " '@ANMO_SugoiTOKEN ELIMINADA@ca_noskeTOKEN ELIMINADAEsTOKEN ELIMINADAinjustoTOKEN ELIMINADAelTOKEN ELIMINADAtratoTOKEN ELIMINADAqueTOKEN ELIMINADAhaTOKEN ELIMINADArecibido,TOKEN ELIMINADAniTOKEN ELIMINADAlasTOKEN ELIMINADAmismasTOKEN ELIMINADA\"feministas\"TOKEN ELIMINADAapoyanTOKEN ELIMINADAaTOKEN ELIMINADAlasTOKEN ELIMINADAmujeresTOKEN ELIMINADAenTOKEN ELIMINADAsusTOKEN ELIMINADAéxitos.',\n",
              " 'MujerTOKEN ELIMINADAalTOKEN ELIMINADAvolanteTOKEN ELIMINADApeligroTOKEN ELIMINADAconstante.',\n",
              " '@osmerganTOKEN ELIMINADA@GirautaOficialTOKEN ELIMINADAEsTOKEN ELIMINADAunaTOKEN ELIMINADAcenutriaTOKEN ELIMINADAimportante,TOKEN ELIMINADAyTOKEN ELIMINADAporTOKEN ELIMINADAciertoTOKEN ELIMINADAbastanteTOKEN ELIMINADAiletrada.TOKEN ELIMINADASeTOKEN ELIMINADAleTOKEN ELIMINADAnotaTOKEN ELIMINADAmuchoTOKEN ELIMINADAaTOKEN ELIMINADApesarTOKEN ELIMINADAdeTOKEN ELIMINADAqueTOKEN ELIMINADAimpostaTOKEN ELIMINADAlaTOKEN ELIMINADAvozTOKEN ELIMINADAyTOKEN ELIMINADAelTOKEN ELIMINADAgestoTOKEN ELIMINADAcomoTOKEN ELIMINADAsiTOKEN ELIMINADAtuvieraTOKEN ELIMINADAalgoTOKEN ELIMINADAdeTOKEN ELIMINADAnivel.TOKEN ELIMINADAEsTOKEN ELIMINADApuraTOKEN ELIMINADAfachada,TOKEN ELIMINADApuraTOKEN ELIMINADAimpostura.TOKEN ELIMINADAAlTOKEN ELIMINADAmenosTOKEN ELIMINADAMarilóTOKEN ELIMINADAMonteroTOKEN ELIMINADAibaTOKEN ELIMINADAmásTOKEN ELIMINADAdeTOKEN ELIMINADAmujerTOKEN ELIMINADAdelTOKEN ELIMINADApueblo.',\n",
              " '@aresvsvTOKEN ELIMINADA@MigueMigue1313TOKEN ELIMINADAMachismoTOKEN ELIMINADAno,siTOKEN ELIMINADAunoTOKEN ELIMINADAdiceTOKEN ELIMINADAqTOKEN ELIMINADAseTOKEN ELIMINADAlaTOKEN ELIMINADAfollabaTOKEN ELIMINADAporqueTOKEN ELIMINADAleTOKEN ELIMINADAponeTOKEN ELIMINADApuesTOKEN ELIMINADAesTOKEN ELIMINADAunTOKEN ELIMINADAgustoTOKEN ELIMINADAyTOKEN ELIMINADAunaTOKEN ELIMINADAexpresiónTOKEN ELIMINADAelTOKEN ELIMINADAdeseoTOKEN ELIMINADAformaTOKEN ELIMINADAparteTOKEN ELIMINADAdelTOKEN ELIMINADAADNTOKEN ELIMINADAhumanoTOKEN ELIMINADAyTOKEN ELIMINADAseTOKEN ELIMINADAdiceTOKEN ELIMINADAsinTOKEN ELIMINADAningúnTOKEN ELIMINADAproblemaSiTOKEN ELIMINADAunaTOKEN ELIMINADAchicaTOKEN ELIMINADAleTOKEN ELIMINADAdiceTOKEN ELIMINADAaTOKEN ELIMINADAunTOKEN ELIMINADAtíoTOKEN ELIMINADAleTOKEN ELIMINADAechabaTOKEN ELIMINADAunTOKEN ELIMINADApolvoTOKEN ELIMINADAqTOKEN ELIMINADAnoTOKEN ELIMINADAveasTOKEN ELIMINADA(qTOKEN ELIMINADAmuchasTOKEN ELIMINADAloTOKEN ELIMINADAdice)TOKEN ELIMINADAEsoTOKEN ELIMINADAqTOKEN ELIMINADAesTOKEN ELIMINADAhembrismo?VengaTOKEN ELIMINADAyaTOKEN ELIMINADAmenosTOKEN ELIMINADAhipócresia',\n",
              " '@Lola14262397TOKEN ELIMINADA@sanchezcastejonTOKEN ELIMINADA@DefensagobTOKEN ELIMINADA@EjercitoAireTOKEN ELIMINADALasTOKEN ELIMINADAleyesTOKEN ELIMINADApromovidasTOKEN ELIMINADAporTOKEN ELIMINADAelTOKEN ELIMINADAgobiernoTOKEN ELIMINADAayudanTOKEN ELIMINADAaTOKEN ELIMINADAlaTOKEN ELIMINADAlaTOKEN ELIMINADAmujeresTOKEN ELIMINADAaTOKEN ELIMINADAqueTOKEN ELIMINADAsalganTOKEN ELIMINADAaTOKEN ELIMINADAfloteTOKEN ELIMINADAyTOKEN ELIMINADAasíTOKEN ELIMINADAestarTOKEN ELIMINADAenTOKEN ELIMINADAunTOKEN ELIMINADAfuturoTOKEN ELIMINADAenTOKEN ELIMINADAigualdadTOKEN ELIMINADAdeTOKEN ELIMINADAcondicionesTOKEN ELIMINADAconTOKEN ELIMINADAelTOKEN ELIMINADAhombre,TOKEN ELIMINADAperoTOKEN ELIMINADAparaTOKEN ELIMINADAelloTOKEN ELIMINADAseTOKEN ELIMINADAnecesitaTOKEN ELIMINADAunidad',\n",
              " '@andrefelgiraldoTOKEN ELIMINADAATOKEN ELIMINADAmiTOKEN ELIMINADAsiTOKEN ELIMINADAmeTOKEN ELIMINADAgustaTOKEN ELIMINADAmandarTOKEN ELIMINADAaTOKEN ELIMINADAcomerTOKEN ELIMINADAmierdaTOKEN ELIMINADAalTOKEN ELIMINADAqueTOKEN ELIMINADAseTOKEN ELIMINADAloTOKEN ELIMINADAmereceTOKEN ELIMINADAyTOKEN ELIMINADAmeTOKEN ELIMINADAimportaTOKEN ELIMINADAunTOKEN ELIMINADAculoTOKEN ELIMINADAloTOKEN ELIMINADAqueTOKEN ELIMINADAdigan,TOKEN ELIMINADAlosTOKEN ELIMINADAidiomasTOKEN ELIMINADAsonTOKEN ELIMINADAlibertadTOKEN ELIMINADAsiTOKEN ELIMINADAnoTOKEN ELIMINADAloTOKEN ELIMINADAfueraTOKEN ELIMINADAnoTOKEN ELIMINADAexistiríanTOKEN ELIMINADAesasTOKEN ELIMINADApalabras.',\n",
              " '@ConMalTalanteTOKEN ELIMINADA@neill_lidiaTOKEN ELIMINADADespacito,TOKEN ELIMINADAsuaveTOKEN ELIMINADAsuavecito...TOKEN ELIMINADASonTOKEN ELIMINADAmanipuladoresTOKEN ELIMINADAdeTOKEN ELIMINADAlibroTOKEN ELIMINADAqueTOKEN ELIMINADAvanTOKEN ELIMINADAengañandoTOKEN ELIMINADAaTOKEN ELIMINADAincautosTOKEN ELIMINADAhastaTOKEN ELIMINADAconseguirTOKEN ELIMINADAsuTOKEN ELIMINADAobjetivo.TOKEN ELIMINADANoTOKEN ELIMINADAesTOKEN ELIMINADAqueTOKEN ELIMINADApuedanTOKEN ELIMINADAentrar,TOKEN ELIMINADAesTOKEN ELIMINADAqueTOKEN ELIMINADAyaTOKEN ELIMINADAestánTOKEN ELIMINADAdentro.TOKEN ELIMINADAObliganTOKEN ELIMINADAaTOKEN ELIMINADAlosTOKEN ELIMINADAprofanosTOKEN ELIMINADAaTOKEN ELIMINADAtomarTOKEN ELIMINADAlaTOKEN ELIMINADAparteTOKEN ELIMINADAporTOKEN ELIMINADAelTOKEN ELIMINADAtodoTOKEN ELIMINADAconTOKEN ELIMINADAsuTOKEN ELIMINADAvenenosoTOKEN ELIMINADAvictimismo.',\n",
              " '@yogurin007TOKEN ELIMINADA@SombreroDePizzaTOKEN ELIMINADA@papitoflowbaknoTOKEN ELIMINADA@nouhaila_14TOKEN ELIMINADALasTOKEN ELIMINADAmujeresTOKEN ELIMINADAnoTOKEN ELIMINADAestánTOKEN ELIMINADAmejorTOKEN ELIMINADAconTOKEN ELIMINADAmásTOKEN ELIMINADAoTOKEN ELIMINADAmenosTOKEN ELIMINADAkg,TOKEN ELIMINADAtodosTOKEN ELIMINADAlosTOKEN ELIMINADAcuerposTOKEN ELIMINADAdeberíanTOKEN ELIMINADAserTOKEN ELIMINADArespetadosTOKEN ELIMINADAyTOKEN ELIMINADAqueridosTOKEN ELIMINADAporTOKEN ELIMINADAigual.',\n",
              " 'YoTOKEN ELIMINADAenTOKEN ELIMINADA3°TOKEN ELIMINADAdeTOKEN ELIMINADAlaTOKEN ELIMINADAESOTOKEN ELIMINADAhiceTOKEN ELIMINADAunaTOKEN ELIMINADApollaTOKEN ELIMINADAyTOKEN ELIMINADAunTOKEN ELIMINADAcoñoTOKEN ELIMINADAconTOKEN ELIMINADAplastilinaTOKEN ELIMINADAyTOKEN ELIMINADAaTOKEN ELIMINADAdíaTOKEN ELIMINADAdeTOKEN ELIMINADAhoyTOKEN ELIMINADAsigoTOKEN ELIMINADAorgullosoTOKEN ELIMINADAdeTOKEN ELIMINADAmiTOKEN ELIMINADAtrabajo.TOKEN ELIMINADANoTOKEN ELIMINADAmeTOKEN ELIMINADAcomparesTOKEN ELIMINADAunasTOKEN ELIMINADAcasasTOKEN ELIMINADAconTOKEN ELIMINADAsemejanteTOKEN ELIMINADAobraTOKEN ELIMINADAdeTOKEN ELIMINADAarteTOKEN ELIMINADAhttps://t.co/4lKRYyx3BQ',\n",
              " 'IsmaTOKEN ELIMINADAenTOKEN ELIMINADAelTOKEN ELIMINADAAssetto:TOKEN ELIMINADATusTOKEN ELIMINADAmuertosTOKEN ELIMINADAputoTOKEN ELIMINADAJorgeTOKEN ELIMINADAmiraTOKEN ELIMINADAporTOKEN ELIMINADAdondeTOKEN ELIMINADAvasTOKEN ELIMINADAqueTOKEN ELIMINADAmeTOKEN ELIMINADAhasTOKEN ELIMINADArotoTOKEN ELIMINADAelTOKEN ELIMINADAalerónTOKEN ELIMINADAtrozoTOKEN ELIMINADApollaGuiriTOKEN ELIMINADArandomTOKEN ELIMINADAdeTOKEN ELIMINADAlaTOKEN ELIMINADAcarrera:TOKEN ELIMINADAWellTOKEN ELIMINADAiTOKEN ELIMINADAgottaTOKEN ELIMINADAgerTOKEN ELIMINADAsomeTOKEN ELIMINADAsleepTOKEN ELIMINADAgn!',\n",
              " '#1DicTOKEN ELIMINADA#Diáspora@dsmolansky:TOKEN ELIMINADAElTOKEN ELIMINADAcierreTOKEN ELIMINADAdeTOKEN ELIMINADAfronterasTOKEN ELIMINADAnoTOKEN ELIMINADAhaTOKEN ELIMINADAimpedidoTOKEN ELIMINADAqueTOKEN ELIMINADAlosTOKEN ELIMINADAvenezolanosTOKEN ELIMINADAhuyanTOKEN ELIMINADAanteTOKEN ELIMINADAelTOKEN ELIMINADAcolapsoTOKEN ELIMINADAdeTOKEN ELIMINADAservicios,TOKEN ELIMINADAhambrunaTOKEN ELIMINADAyTOKEN ELIMINADAlaTOKEN ELIMINADAviolaciónTOKEN ELIMINADAmasivaTOKEN ELIMINADAdeTOKEN ELIMINADADDHHTOKEN ELIMINADAdeTOKEN ELIMINADAMaduro.TOKEN ELIMINADACadaTOKEN ELIMINADAvezTOKEN ELIMINADAsonTOKEN ELIMINADAmásTOKEN ELIMINADAquienesTOKEN ELIMINADAcruzanTOKEN ELIMINADAporTOKEN ELIMINADAtrochasTOKEN ELIMINADAoTOKEN ELIMINADAtomanTOKEN ELIMINADAunTOKEN ELIMINADApeñeroTOKEN ELIMINADAparaTOKEN ELIMINADAsalirTOKEN ELIMINADAdelTOKEN ELIMINADApaíshttps://t.co/PGkJosTkGr',\n",
              " 'Noooo,TOKEN ELIMINADAnoTOKEN ELIMINADAmeTOKEN ELIMINADAgustaTOKEN ELIMINADAshippearTOKEN ELIMINADAenTOKEN ELIMINADAsi....TOKEN ELIMINADACuandoTOKEN ELIMINADAeraTOKEN ELIMINADAmásTOKEN ELIMINADAchicaTOKEN ELIMINADA(15TOKEN ELIMINADAoTOKEN ELIMINADA17TOKEN ELIMINADAaños)TOKEN ELIMINADAsiTOKEN ELIMINADAloTOKEN ELIMINADAhacíaTOKEN ELIMINADAperoTOKEN ELIMINADAcomprendíTOKEN ELIMINADAqueTOKEN ELIMINADApuedeTOKEN ELIMINADAserTOKEN ELIMINADAextremadamenteTOKEN ELIMINADAincómodoTOKEN ELIMINADAyTOKEN ELIMINADAmolestoTOKEN ELIMINADAparaTOKEN ELIMINADAesasTOKEN ELIMINADApersonasTOKEN ELIMINADAasíTOKEN ELIMINADAqueTOKEN ELIMINADAdejeTOKEN ELIMINADAdeTOKEN ELIMINADAhacerlo.TOKEN ELIMINADAhttps://t.co/HQfoUFGCwE',\n",
              " 'HoyTOKEN ELIMINADAmeTOKEN ELIMINADApararonTOKEN ELIMINADAlosTOKEN ELIMINADAmismo.TOKEN ELIMINADAUnTOKEN ELIMINADAbebéTOKEN ELIMINADAyTOKEN ELIMINADAmiTOKEN ELIMINADAesposaTOKEN ELIMINADAembarazada...TOKEN ELIMINADATOKEN ELIMINADAhttps://t.co/muIo491o8a',\n",
              " '@ValosoliscTOKEN ELIMINADAUnaTOKEN ELIMINADAmonjaTOKEN ELIMINADAembarazadaTOKEN ELIMINADAqueTOKEN ELIMINADAsaltoTOKEN ELIMINADAdeTOKEN ELIMINADAunTOKEN ELIMINADAcarroTOKEN ELIMINADAenTOKEN ELIMINADAmovimiento,TOKEN ELIMINADAneverTOKEN ELIMINADAforget',\n",
              " '@GobiernodeChileTOKEN ELIMINADADeberíanTOKEN ELIMINADAdecirTOKEN ELIMINADAqueTOKEN ELIMINADAelTOKEN ELIMINADApermisoTOKEN ELIMINADAesTOKEN ELIMINADAparaTOKEN ELIMINADAvisitarTOKEN ELIMINADAaTOKEN ELIMINADAadultosTOKEN ELIMINADAmayoresTOKEN ELIMINADAsobreTOKEN ELIMINADA75años!!!!!TOKEN ELIMINADAPorTOKEN ELIMINADAleyTOKEN ELIMINADAadultoTOKEN ELIMINADAmayorTOKEN ELIMINADAesTOKEN ELIMINADAsobreTOKEN ELIMINADA60TOKEN ELIMINADAañosTOKEN ELIMINADAlasTOKEN ELIMINADAmujeresTOKEN ELIMINADAyTOKEN ELIMINADA65TOKEN ELIMINADAlosTOKEN ELIMINADAhombres!!!!TOKEN ELIMINADAQuiseTOKEN ELIMINADAvisitarTOKEN ELIMINADAaTOKEN ELIMINADAmiTOKEN ELIMINADAmamáTOKEN ELIMINADAqueTOKEN ELIMINADAtieneTOKEN ELIMINADA70TOKEN ELIMINADAañosTOKEN ELIMINADAyTOKEN ELIMINADAnoTOKEN ELIMINADAloTOKEN ELIMINADApudeTOKEN ELIMINADAhacer!!!!!',\n",
              " '@kitganseyblueTOKEN ELIMINADA@marveloushawxTOKEN ELIMINADA@KenjiwarbotTOKEN ELIMINADAchicasTOKEN ELIMINADAigualTOKEN ELIMINADApodemosTOKEN ELIMINADAcasarnosTOKEN ELIMINADAentreTOKEN ELIMINADAmásTOKEN ELIMINADAdeTOKEN ELIMINADAunaTOKEN ELIMINADAeh',\n",
              " '@makoto911TOKEN ELIMINADA@el_paisTOKEN ELIMINADASiTOKEN ELIMINADAseñorTOKEN ELIMINADAnadieTOKEN ELIMINADAsabeTOKEN ELIMINADAlaTOKEN ELIMINADAsituaciónTOKEN ELIMINADAdeTOKEN ELIMINADAestasTOKEN ELIMINADAmujeresTOKEN ELIMINADAparaTOKEN ELIMINADAllegarTOKEN ELIMINADAaTOKEN ELIMINADAestoTOKEN ELIMINADAnosotrosTOKEN ELIMINADAsiempreTOKEN ELIMINADAjuzgamosTOKEN ELIMINADAsinTOKEN ELIMINADAconocerTOKEN ELIMINADAlosTOKEN ELIMINADAproblemasTOKEN ELIMINADAdeTOKEN ELIMINADAlaTOKEN ELIMINADAdeTOKEN ELIMINADAmásTOKEN ELIMINADApersonasTOKEN ELIMINADAtodaTOKEN ELIMINADAacciónTOKEN ELIMINADAqueTOKEN ELIMINADAunoTOKEN ELIMINADAhagaTOKEN ELIMINADAsiempreTOKEN ELIMINADAtieneTOKEN ELIMINADAporquéTOKEN ELIMINADAleTOKEN ELIMINADAdeseoTOKEN ELIMINADAunTOKEN ELIMINADAbuenTOKEN ELIMINADAdíaTOKEN ELIMINADAsr',\n",
              " 'TengaTOKEN ELIMINADApresenteTOKEN ELIMINADAqTOKEN ELIMINADAsiTOKEN ELIMINADAustedTOKEN ELIMINADAesTOKEN ELIMINADAhombreTOKEN ELIMINADAyTOKEN ELIMINADAplaneaTOKEN ELIMINADApintarseTOKEN ELIMINADAelTOKEN ELIMINADAcabelloTOKEN ELIMINADAdeTOKEN ELIMINADArubioTOKEN ELIMINADA(yaTOKEN ELIMINADAqueTOKEN ELIMINADAestaTOKEN ELIMINADAtanTOKEN ELIMINADAdeTOKEN ELIMINADAmoda),TOKEN ELIMINADAhágaseTOKEN ELIMINADAprimeroTOKEN ELIMINADAunTOKEN ELIMINADAestudioTOKEN ELIMINADAdigitalTOKEN ELIMINADAparaTOKEN ELIMINADAverTOKEN ELIMINADAquéTOKEN ELIMINADAtanTOKEN ELIMINADAopcionadoTOKEN ELIMINADAesTOKEN ELIMINADAaTOKEN ELIMINADAverseTOKEN ELIMINADAbien,TOKEN ELIMINADAnoTOKEN ELIMINADAseTOKEN ELIMINADApongaTOKEN ELIMINADAaTOKEN ELIMINADAprobar,TOKEN ELIMINADAesoTOKEN ELIMINADAnoTOKEN ELIMINADAseTOKEN ELIMINADAleTOKEN ELIMINADAveTOKEN ELIMINADAbienTOKEN ELIMINADAaTOKEN ELIMINADAtodoTOKEN ELIMINADAelTOKEN ELIMINADAmundo.PuedeTOKEN ELIMINADAqueTOKEN ELIMINADAquedeTOKEN ELIMINADAcomoTOKEN ELIMINADAunTOKEN ELIMINADAreverendoTOKEN ELIMINADAñero.',\n",
              " '@andresguzbjTOKEN ELIMINADAMeTOKEN ELIMINADAcagaTOKEN ELIMINADAcuandoTOKEN ELIMINADAlasTOKEN ELIMINADAmujeresTOKEN ELIMINADAabusanTOKEN ELIMINADAdeTOKEN ELIMINADAsuTOKEN ELIMINADA\"condiciónTOKEN ELIMINADAdeTOKEN ELIMINADAserTOKEN ELIMINADAmujer\"TOKEN ELIMINADAteTOKEN ELIMINADApuedenTOKEN ELIMINADApegar,TOKEN ELIMINADAmaldecirTOKEN ELIMINADAeTOKEN ELIMINADAinclusoTOKEN ELIMINADAescupirTOKEN ELIMINADAyTOKEN ELIMINADAsiempreTOKEN ELIMINADATOKEN ELIMINADAsaleTOKEN ELIMINADAconTOKEN ELIMINADA\"estoyTOKEN ELIMINADAenTOKEN ELIMINADAabrazadaTOKEN ELIMINADAoTOKEN ELIMINADAsoyTOKEN ELIMINADAmujerTOKEN ELIMINADA\"TOKEN ELIMINADAyTOKEN ELIMINADAmientrasTOKEN ELIMINADAloTOKEN ELIMINADAputazosTOKEN ELIMINADATOKEN ELIMINADAqueTOKEN ELIMINADAyaTOKEN ELIMINADAremitieronTOKEN ELIMINADATOKEN ELIMINADAsonTOKEN ELIMINADAdeTOKEN ELIMINADAgratis',\n",
              " '@PereziRanaTOKEN ELIMINADAelTOKEN ELIMINADAmachismoTOKEN ELIMINADAvaTOKEN ELIMINADAcontraTOKEN ELIMINADAlasTOKEN ELIMINADAmujeres,TOKEN ELIMINADAyTOKEN ELIMINADAelTOKEN ELIMINADAfeminismoTOKEN ELIMINADAesTOKEN ELIMINADAporTOKEN ELIMINADAyTOKEN ELIMINADAparaTOKEN ELIMINADAellas,TOKEN ELIMINADAsinTOKEN ELIMINADAimportarTOKEN ELIMINADAlaTOKEN ELIMINADAclaseTOKEN ELIMINADAaTOKEN ELIMINADAlaTOKEN ELIMINADAqueTOKEN ELIMINADApertenezcan.TOKEN ELIMINADAcierraTOKEN ELIMINADAelTOKEN ELIMINADAculo,TOKEN ELIMINADAqueTOKEN ELIMINADAhueleTOKEN ELIMINADAaTOKEN ELIMINADArancio.',\n",
              " '@Marckitos__TOKEN ELIMINADANoTOKEN ELIMINADAteTOKEN ELIMINADAquejesTOKEN ELIMINADAaTOKEN ELIMINADAmiTOKEN ELIMINADAmeTOKEN ELIMINADAgustariaTOKEN ELIMINADAfollarTOKEN ELIMINADAeh',\n",
              " '@felidiezz84TOKEN ELIMINADA@T00BIOTOKEN ELIMINADAOTOKEN ELIMINADAseaTOKEN ELIMINADAqueTOKEN ELIMINADAsegúnTOKEN ELIMINADAvosTOKEN ELIMINADAelTOKEN ELIMINADA#yositecreoTOKEN ELIMINADAfuncionaTOKEN ELIMINADAsoloTOKEN ELIMINADAparaTOKEN ELIMINADAmujeres.TOKEN ELIMINADACurioso,TOKEN ELIMINADAperdónTOKEN ELIMINADAnoTOKEN ELIMINADAhabíaTOKEN ELIMINADAentendidoTOKEN ELIMINADAbienTOKEN ELIMINADAelTOKEN ELIMINADAconceptoTOKEN ELIMINADAdeTOKEN ELIMINADAequidad.',\n",
              " '@XxiJusticiaTOKEN ELIMINADA@Sir_NebleTOKEN ELIMINADA@GiuliaVdeSautuRTOKEN ELIMINADAyTOKEN ELIMINADAsi,TOKEN ELIMINADAantesTOKEN ELIMINADAqueTOKEN ELIMINADAunaTOKEN ELIMINADAgordaTOKEN ELIMINADAconTOKEN ELIMINADAbarbijoTOKEN ELIMINADAamarilloTOKEN ELIMINADAmeTOKEN ELIMINADAquedoTOKEN ELIMINADAconTOKEN ELIMINADAunaTOKEN ELIMINADAflaquitaTOKEN ELIMINADAqueTOKEN ELIMINADAbaileTOKEN ELIMINADAalTOKEN ELIMINADAmenos.TOKEN ELIMINADAvosTOKEN ELIMINADAteTOKEN ELIMINADAdebesTOKEN ELIMINADAmoverTOKEN ELIMINADAsóloTOKEN ELIMINADAparaTOKEN ELIMINADAagarrarTOKEN ELIMINADApanTOKEN ELIMINADAdulce',\n",
              " 'BreveTOKEN ELIMINADArecuentoTOKEN ELIMINADAdeTOKEN ELIMINADAPALÍNDROMOSTOKEN ELIMINADAhalladosTOKEN ELIMINADAenTOKEN ELIMINADAlasTOKEN ELIMINADAredesTOKEN ELIMINADAsociales:1.TOKEN ELIMINADA“LaTOKEN ELIMINADArutaTOKEN ELIMINADAnosTOKEN ELIMINADAaportóTOKEN ELIMINADAotroTOKEN ELIMINADApasoTOKEN ELIMINADAnatural”.2.TOKEN ELIMINADA“AnitaTOKEN ELIMINADAlaTOKEN ELIMINADAgordaTOKEN ELIMINADAlagartonaTOKEN ELIMINADAnoTOKEN ELIMINADAtragaTOKEN ELIMINADAlaTOKEN ELIMINADAdrogaTOKEN ELIMINADAlatina”.3.TOKEN ELIMINADA\"ArribaTOKEN ELIMINADAlaTOKEN ELIMINADAbirraTOKEN ELIMINADA\".4.TOKEN ELIMINADA\"AnitaTOKEN ELIMINADAlavaTOKEN ELIMINADAlaTOKEN ELIMINADAtina\".5.TOKEN ELIMINADA\"DábaleTOKEN ELIMINADAarrozTOKEN ELIMINADAaTOKEN ELIMINADAlaTOKEN ELIMINADAzorraTOKEN ELIMINADAelTOKEN ELIMINADAabad\".',\n",
              " '@LauraCr62814414TOKEN ELIMINADA@NotasJukilop2TOKEN ELIMINADAYoTOKEN ELIMINADAcreoTOKEN ELIMINADAqueTOKEN ELIMINADAelTOKEN ELIMINADAsalirTOKEN ELIMINADAenTOKEN ELIMINADAeseTOKEN ELIMINADAroastTOKEN ELIMINADAsinTOKEN ELIMINADAtirar,TOKEN ELIMINADAnoTOKEN ELIMINADAseTOKEN ELIMINADAcomparaTOKEN ELIMINADAconTOKEN ELIMINADAtodoTOKEN ELIMINADAloTOKEN ELIMINADAqueTOKEN ELIMINADAaTOKEN ELIMINADAellaTOKEN ELIMINADAleTOKEN ELIMINADAhicieronTOKEN ELIMINADAantes,TOKEN ELIMINADANADATOKEN ELIMINADAqueTOKEN ELIMINADAver,TOKEN ELIMINADAfueTOKEN ELIMINADAsúperTOKEN ELIMINADAfuerteTOKEN ELIMINADAloTOKEN ELIMINADAqueTOKEN ELIMINADAleTOKEN ELIMINADAhicieron,TOKEN ELIMINADAdebenTOKEN ELIMINADAestarTOKEN ELIMINADAmalTOKEN ELIMINADAdeTOKEN ELIMINADAlaTOKEN ELIMINADAcabezaTOKEN ELIMINADAparaTOKEN ELIMINADAnoTOKEN ELIMINADAentenderTOKEN ELIMINADAeso,TOKEN ELIMINADALizbethTOKEN ELIMINADAnoTOKEN ELIMINADArespetaTOKEN ELIMINADAaTOKEN ELIMINADAlasTOKEN ELIMINADAmujeresTOKEN ELIMINADAnoTOKEN ELIMINADAseTOKEN ELIMINADAhagan',\n",
              " 'EllaTOKEN ELIMINADAnoTOKEN ELIMINADAesTOKEN ELIMINADAlaTOKEN ELIMINADAqueTOKEN ELIMINADAindicaTOKEN ELIMINADAqueTOKEN ELIMINADAlasTOKEN ELIMINADAmujeresTOKEN ELIMINADAseTOKEN ELIMINADApuedenTOKEN ELIMINADAembarazarTOKEN ELIMINADAporTOKEN ELIMINADAsexoTOKEN ELIMINADAanal?EnTOKEN ELIMINADAfin,TOKEN ELIMINADAPartidoTOKEN ELIMINADAMoradoTOKEN ELIMINADATOKEN ELIMINADAhttps://t.co/hoXvlYoQMe',\n",
              " 'EXPRESIONTOKEN ELIMINADAPARA,ELTOKEN ELIMINADAREINOTOKEN ELIMINADADETOKEN ELIMINADALOSTOKEN ELIMINADACIELOS,,ESTOKEN ELIMINADALATOKEN ELIMINADALEYTOKEN ELIMINADANOTOKEN ELIMINADAVIOLESTOKEN ELIMINADAALTOKEN ELIMINADALIBRETOKEN ELIMINADAABEDRIO,SITOKEN ELIMINADANOTOKEN ELIMINADASOYTOKEN ELIMINADAPUTATOKEN ELIMINADAENTOKEN ELIMINADALATOKEN ELIMINADACAMATOKEN ELIMINADACONTOKEN ELIMINADAMITOKEN ELIMINADAMARIDO,SETOKEN ELIMINADAIRS,DETOKEN ELIMINADAPUTASTOKEN ELIMINADACONTOKEN ELIMINADAJACOB,QUETOKEN ELIMINADACASUALMENTE,ERA,ELTOKEN ELIMINADAUNICOTOKEN ELIMINADAENTOKEN ELIMINADASUTOKEN ELIMINADAUNIVRSOTOKEN ELIMINADAPARALELO!!!!!!!!QUETOKEN ELIMINADATENIA,ACCESOTOKEN ELIMINADAATOKEN ELIMINADATUTOKEN ELIMINADAERESTOKEN ELIMINADAMITOKEN ELIMINADAAMIGUITO,POLLATOKEN ELIMINADASI,SOLOTOKEN ELIMINADACONTOKEN ELIMINADAMITOKEN ELIMINADARAKEL',\n",
              " '@evilside222TOKEN ELIMINADAHayTOKEN ELIMINADAqueTOKEN ELIMINADAaventarnosTOKEN ELIMINADAlaTOKEN ELIMINADAlagartonaTOKEN ELIMINADAjajaaTOKEN ELIMINADAhttps://t.co/LJqNzW9c0t',\n",
              " '@MaripoSiltaTOKEN ELIMINADA@leocapo_TOKEN ELIMINADA@GJ04quinTOKEN ELIMINADAClaro,TOKEN ELIMINADAsi,TOKEN ELIMINADAsi,TOKEN ELIMINADAClaro...TOKEN ELIMINADASoloTOKEN ELIMINADAloTOKEN ELIMINADAqueTOKEN ELIMINADAlesTOKEN ELIMINADApasaTOKEN ELIMINADAaTOKEN ELIMINADAlasTOKEN ELIMINADAmujeresTOKEN ELIMINADAimporta.TOKEN ELIMINADAmisandriaTOKEN ELIMINADAteniaTOKEN ELIMINADAqTOKEN ELIMINADAser.TOKEN ELIMINADArepresentasTOKEN ELIMINADAloTOKEN ELIMINADAmasTOKEN ELIMINADAquemadoTOKEN ELIMINADAdelTOKEN ELIMINADAhembrismo.,TOKEN ELIMINADAbuenoTOKEN ELIMINADAcasi,TOKEN ELIMINADAsoloTOKEN ELIMINADAfaltaTOKEN ELIMINADAqueTOKEN ELIMINADApostesTOKEN ELIMINADAmuerteTOKEN ELIMINADAalTOKEN ELIMINADAmachoTOKEN ELIMINADAenTOKEN ELIMINADAesteTOKEN ELIMINADAhiloTOKEN ELIMINADAyTOKEN ELIMINADAyaTOKEN ELIMINADAestas.',\n",
              " 'EnTOKEN ELIMINADAArgentinaTOKEN ELIMINADAhaceTOKEN ELIMINADAtiempoTOKEN ELIMINADAdejaronTOKEN ELIMINADAlibreTOKEN ELIMINADAaTOKEN ELIMINADAunTOKEN ELIMINADAgrupoTOKEN ELIMINADAdeTOKEN ELIMINADAseisTOKEN ELIMINADAchicosTOKEN ELIMINADAqueTOKEN ELIMINADAviolaronTOKEN ELIMINADAaTOKEN ELIMINADAunaTOKEN ELIMINADApiba,TOKEN ELIMINADAbajoTOKEN ELIMINADAelTOKEN ELIMINADApretextoTOKEN ELIMINADAde《desahogoTOKEN ELIMINADAsexual》OTOKEN ELIMINADAsea,TOKEN ELIMINADAparaTOKEN ELIMINADAlaTOKEN ELIMINADAjusticiaTOKEN ELIMINADAviolarTOKEN ELIMINADAenTOKEN ELIMINADAgrupoTOKEN ELIMINADAaTOKEN ELIMINADAunaTOKEN ELIMINADAmujer,TOKEN ELIMINADAesTOKEN ELIMINADAloTOKEN ELIMINADAmismoTOKEN ELIMINADAqueTOKEN ELIMINADAestarTOKEN ELIMINADAcalienteTOKEN ELIMINADAyTOKEN ELIMINADAhacerseTOKEN ELIMINADAunaTOKEN ELIMINADApaja.',\n",
              " '@CTercermundistaTOKEN ELIMINADAAHTOKEN ELIMINADAPEROTOKEN ELIMINADAQUETOKEN ELIMINADATALTOKEN ELIMINADASITOKEN ELIMINADAFUERATOKEN ELIMINADAMASCULINISMOTOKEN ELIMINADAHUH?',\n",
              " '@pacopolitTOKEN ELIMINADAPuesTOKEN ELIMINADAyoTOKEN ELIMINADAenTOKEN ELIMINADAOnwardTOKEN ELIMINADAlloréTOKEN ELIMINADAcomoTOKEN ELIMINADAunaTOKEN ELIMINADAMagdalena....igualTOKEN ELIMINADAtieneTOKEN ELIMINADAqueTOKEN ELIMINADAverTOKEN ELIMINADAqueTOKEN ELIMINADAmiTOKEN ELIMINADApadreTOKEN ELIMINADAfallecióTOKEN ELIMINADAcuandoTOKEN ELIMINADAteníaTOKEN ELIMINADA2TOKEN ELIMINADAaños.TOKEN ELIMINADALlamadmeTOKEN ELIMINADAnenaza.',\n",
              " '@kinkywifemidTOKEN ELIMINADAQueTOKEN ELIMINADAbonitasTOKEN ELIMINADAmanosTOKEN ELIMINADAyTOKEN ELIMINADAuñas.TOKEN ELIMINADAEh.TOKEN ELIMINADATOKEN ELIMINADAEsoTOKEN ELIMINADAhablanTOKEN ELIMINADAdeTOKEN ELIMINADAqueTOKEN ELIMINADAeresTOKEN ELIMINADAunaTOKEN ELIMINADAmujerTOKEN ELIMINADAsuperTOKEN ELIMINADAatractiva.',\n",
              " '@hoaxstlsTOKEN ELIMINADAJSKSKTOKEN ELIMINADASITOKEN ELIMINADAencimaTOKEN ELIMINADAhayTOKEN ELIMINADAciertoTOKEN ELIMINADAsectorTOKEN ELIMINADAqueTOKEN ELIMINADAdiceTOKEN ELIMINADAqueTOKEN ELIMINADAlasTOKEN ELIMINADAlesbianasTOKEN ELIMINADAnoTOKEN ELIMINADAsonTOKEN ELIMINADAmujeresTOKEN ELIMINADAyTOKEN ELIMINADAqueTOKEN ELIMINADAhayTOKEN ELIMINADAvaronesTOKEN ELIMINADAqueTOKEN ELIMINADApuedenTOKEN ELIMINADAserTOKEN ELIMINADAlesbianasTOKEN ELIMINADAhttps://t.co/4VnHzkD9fD',\n",
              " '@SatoshiJimenezTOKEN ELIMINADA@lublo8TOKEN ELIMINADA@elconfidencialTOKEN ELIMINADA@vox_esTOKEN ELIMINADACierto..yTOKEN ELIMINADATOKEN ELIMINADAhablaTOKEN ELIMINADAdeTOKEN ELIMINADAloTOKEN ELIMINADAqueTOKEN ELIMINADAleTOKEN ELIMINADAinteresa,TOKEN ELIMINADAdeTOKEN ELIMINADAlasTOKEN ELIMINADAdenunciasTOKEN ELIMINADAfalsasTOKEN ELIMINADAporTOKEN ELIMINADAacosoTOKEN ELIMINADAsexualTOKEN ELIMINADAmuyTOKEN ELIMINADAgraveTOKEN ELIMINADAaTOKEN ELIMINADAacompañerosTOKEN ELIMINADA,TOKEN ELIMINADATOKEN ELIMINADAoTOKEN ELIMINADAdeTOKEN ELIMINADAcadaTOKEN ELIMINADAdiaTOKEN ELIMINADAtienenTOKEN ELIMINADAmenosTOKEN ELIMINADAvotos....noTOKEN ELIMINADAdiceTOKEN ELIMINADAnada',\n",
              " '@dollysoobTOKEN ELIMINADAqnTOKEN ELIMINADAdiríaTOKEN ELIMINADAparecesTOKEN ELIMINADAqTOKEN ELIMINADAnoTOKEN ELIMINADAmatasTOKEN ELIMINADAniTOKEN ELIMINADAunaTOKEN ELIMINADAmoscaTOKEN ELIMINADAperoTOKEN ELIMINADAluegoTOKEN ELIMINADAahíTOKEN ELIMINADAvaTOKEN ELIMINADAdiciendomeTOKEN ELIMINADAputa',\n",
              " 'AcaboTOKEN ELIMINADAdeTOKEN ELIMINADApillarTOKEN ELIMINADAloTOKEN ELIMINADAdeTOKEN ELIMINADAlasTOKEN ELIMINADAmujeres:-NoTOKEN ELIMINADAlasTOKEN ELIMINADAmiras:gay-LasTOKEN ELIMINADAmiras:TOKEN ELIMINADAsalido-LasTOKEN ELIMINADAinvitas:baboso-NoTOKEN ELIMINADAlasTOKEN ELIMINADAentiendes:antiguo-LasTOKEN ELIMINADApiropeas:acosador-LasTOKEN ELIMINADAignoras:creído-LesTOKEN ELIMINADAdasTOKEN ELIMINADAlaTOKEN ELIMINADArazón:nenazaTOKEN ELIMINADAsinTOKEN ELIMINADAcriterio.-LesTOKEN ELIMINADAllevasTOKEN ELIMINADAlaTOKEN ELIMINADAcontraria:TOKEN ELIMINADAmachista.-NoTOKEN ELIMINADAteTOKEN ELIMINADAcasas:cobarde-TeTOKEN ELIMINADAcasas:TOKEN ELIMINADAgilipollas',\n",
              " 'TOKEN ELIMINADA Y como llevas lo de azotar mujeres milhouse?O no te adjuntaban a ti en ese chat https://t.co/n3BLgDISbB',\n",
              " 'tuveTOKEN ELIMINADAgenteTOKEN ELIMINADAenTOKEN ELIMINADAmiTOKEN ELIMINADAvidaTOKEN ELIMINADAqueTOKEN ELIMINADAdijoTOKEN ELIMINADAunaTOKEN ELIMINADAvezTOKEN ELIMINADAenTOKEN ELIMINADAlosTOKEN ELIMINADAvestuariosTOKEN ELIMINADA:TOKEN ELIMINADA\"TOKEN ELIMINADAsiTOKEN ELIMINADAtienesTOKEN ELIMINADA17TOKEN ELIMINADAañosTOKEN ELIMINADAyTOKEN ELIMINADAnoTOKEN ELIMINADAteTOKEN ELIMINADAhasTOKEN ELIMINADAliadoTOKEN ELIMINADAconTOKEN ELIMINADAnadieTOKEN ELIMINADAesTOKEN ELIMINADAqueTOKEN ELIMINADAeresTOKEN ELIMINADAunaTOKEN ELIMINADAmojigataTOKEN ELIMINADAyTOKEN ELIMINADAademásTOKEN ELIMINADAfeaTOKEN ELIMINADAjjaja\"TOKEN ELIMINADAyTOKEN ELIMINADAliteralmenteTOKEN ELIMINADAqueTOKEN ELIMINADAtodoTOKEN ELIMINADAelTOKEN ELIMINADAcirculoTOKEN ELIMINADAcercanoTOKEN ELIMINADAeraTOKEN ELIMINADAaTOKEN ELIMINADAloTOKEN ELIMINADAbuahTOKEN ELIMINADAyTOKEN ELIMINADAaTOKEN ELIMINADAcuantosTOKEN ELIMINADAteTOKEN ELIMINADAhasTOKEN ELIMINADAfolladoTOKEN ELIMINADAnoseq',\n",
              " '@UltimaHoracomTOKEN ELIMINADA@D10pyTOKEN ELIMINADAATOKEN ELIMINADAsteTOKEN ELIMINADAsexoTOKEN ELIMINADAdébil,disfrazadoTOKEN ELIMINADAdeTOKEN ELIMINADAmacho,hayTOKEN ELIMINADAqueTOKEN ELIMINADArajarloTOKEN ELIMINADAdelTOKEN ELIMINADAclub,seTOKEN ELIMINADAnotaTOKEN ELIMINADAqueTOKEN ELIMINADAsuTOKEN ELIMINADAcalenturaTOKEN ELIMINADAalTOKEN ELIMINADAverTOKEN ELIMINADAmachoTOKEN ELIMINADAlSeTOKEN ELIMINADAdispara,yTOKEN ELIMINADAelTOKEN ELIMINADAmuyTOKEN ELIMINADAdegeneradoTOKEN ELIMINADAqueTOKEN ELIMINADAnoTOKEN ELIMINADAdisimula,HDPTOKEN ELIMINADASOSTOKEN ELIMINADAUNATOKEN ELIMINADAVERGUENZA,shaqueTOKEN ELIMINADAndeTOKEN ELIMINADAvia,ndeTOKEN ELIMINADAOFRECIDOTOKEN ELIMINADAMATOKEN ELIMINADAAVEÍ,TENDRIASTOKEN ELIMINADAQUETOKEN ELIMINADADISIMULARTOKEN ELIMINADAMASTOKEN ELIMINADALOCA,TETOKEN ELIMINADASALISTETOKEN ELIMINADADETOKEN ELIMINADALATOKEN ELIMINADAJAULATOKEN ELIMINADAYTOKEN ELIMINADAPIRASTETOKEN ELIMINADAZORRA',\n",
              " '@Joe28292849TOKEN ELIMINADAUnTOKEN ELIMINADAhombreTOKEN ELIMINADAnoTOKEN ELIMINADAtieneTOKEN ELIMINADAporTOKEN ELIMINADAqueTOKEN ELIMINADATOKEN ELIMINADAexijirleTOKEN ELIMINADAaTOKEN ELIMINADAunaTOKEN ELIMINADAmujerTOKEN ELIMINADAqueTOKEN ELIMINADAseTOKEN ELIMINADA\"corteTOKEN ELIMINADAlosTOKEN ELIMINADAovarios\"TOKEN ELIMINADAsiTOKEN ELIMINADAnoTOKEN ELIMINADAexijeTOKEN ELIMINADAtambienTOKEN ELIMINADAqueTOKEN ELIMINADAseTOKEN ELIMINADAcastreTOKEN ELIMINADAaTOKEN ELIMINADAlosTOKEN ELIMINADAvioladores.TOKEN ELIMINADALASTOKEN ELIMINADAMUJERESTOKEN ELIMINADANOTOKEN ELIMINADATOKEN ELIMINADASONTOKEN ELIMINADAOBJETOS.TOKEN ELIMINADAPazTOKEN ELIMINADAyTOKEN ELIMINADAbien.',\n",
              " '@ananamontTOKEN ELIMINADA@rsumenTOKEN ELIMINADA@Ka_ef2TOKEN ELIMINADAComaTOKEN ELIMINADApasas,TOKEN ELIMINADAasíTOKEN ELIMINADAnoTOKEN ELIMINADAseTOKEN ELIMINADAleTOKEN ELIMINADAolvidaTOKEN ELIMINADAloTOKEN ELIMINADAqueTOKEN ELIMINADAtwittea,TOKEN ELIMINADAmojigata.',\n",
              " '“TOKEN ELIMINADATeTOKEN ELIMINADAvezTOKEN ELIMINADAmuyTOKEN ELIMINADAmojigataTOKEN ELIMINADAparaTOKEN ELIMINADApedirTOKEN ELIMINADAalgoTOKEN ELIMINADAtanTOKEN ELIMINADAvulgarTOKEN ELIMINADA”TOKEN ELIMINADAhttps://t.co/9zawNoJIXl',\n",
              " 'MiTOKEN ELIMINADAmamá:TOKEN ELIMINADAporTOKEN ELIMINADAquéTOKEN ELIMINADAponesTOKEN ELIMINADAlaTOKEN ELIMINADAcaraTOKEN ELIMINADAasí?TOKEN ELIMINADAEsTOKEN ELIMINADAalgoTOKEN ELIMINADAqueTOKEN ELIMINADAestaTOKEN ELIMINADAdeTOKEN ELIMINADAmoda?TOKEN ELIMINADAParecesTOKEN ELIMINADAunaTOKEN ELIMINADAputaTOKEN ELIMINADAhttps://t.co/edTzBoGU4L',\n",
              " '@Azu_puppoTOKEN ELIMINADA@LycanLord1TOKEN ELIMINADA@EnzoFerrara22TOKEN ELIMINADA@anaecorreaTOKEN ELIMINADA@gstregerTOKEN ELIMINADAAdemásTOKEN ELIMINADAvosTOKEN ELIMINADAmismaTOKEN ELIMINADAloTOKEN ELIMINADAdijiste.TOKEN ELIMINADALaTOKEN ELIMINADAmujerTOKEN ELIMINADAPUEDETOKEN ELIMINADAdecidirTOKEN ELIMINADAperoTOKEN ELIMINADAsobreTOKEN ELIMINADASUTOKEN ELIMINADAvida,TOKEN ELIMINADAnoTOKEN ELIMINADAsobreTOKEN ELIMINADAlaTOKEN ELIMINADAdelTOKEN ELIMINADAniñoTOKEN ELIMINADAporTOKEN ELIMINADAnacer.TOKEN ELIMINADANegarTOKEN ELIMINADAqueTOKEN ELIMINADAhayTOKEN ELIMINADAvidaTOKEN ELIMINADAenTOKEN ELIMINADAelTOKEN ELIMINADAvientreTOKEN ELIMINADAdeTOKEN ELIMINADAunaTOKEN ELIMINADAmujerTOKEN ELIMINADAembarazadaTOKEN ELIMINADAesTOKEN ELIMINADAANTICIENTÍFICO.TOKEN ELIMINADADespuésTOKEN ELIMINADAnosotrosTOKEN ELIMINADAsomosTOKEN ELIMINADAlosTOKEN ELIMINADAqueTOKEN ELIMINADAatrasan',\n",
              " 'CadaTOKEN ELIMINADAmujerTOKEN ELIMINADAesTOKEN ELIMINADAunaTOKEN ELIMINADArebelde...LaTOKEN ELIMINADAmayoríaTOKEN ELIMINADAdeTOKEN ELIMINADAlasTOKEN ELIMINADAvecesTOKEN ELIMINADAseTOKEN ELIMINADArebelóTOKEN ELIMINADAcontraTOKEN ELIMINADAellaTOKEN ELIMINADAmisma...',\n",
              " 'AhíTOKEN ELIMINADAlaTOKEN ELIMINADAtienenTOKEN ELIMINADAaTOKEN ELIMINADAlaTOKEN ELIMINADAmojigata.TOKEN ELIMINADAQueTOKEN ELIMINADAnoTOKEN ELIMINADAseTOKEN ELIMINADAhagaTOKEN ELIMINADAlaTOKEN ELIMINADApícaraTOKEN ELIMINADAqueTOKEN ELIMINADAlaTOKEN ELIMINADAvoyTOKEN ELIMINADAaTOKEN ELIMINADAramiarTOKEN ELIMINADAdeTOKEN ELIMINADApuntaTOKEN ELIMINADAaTOKEN ELIMINADApuntaTOKEN ELIMINADAporTOKEN ELIMINADAlaTOKEN ELIMINADApeñaTOKEN ELIMINADAsjajajaj',\n",
              " 'GranTOKEN ELIMINADATorinoTOKEN ELIMINADAloTOKEN ELIMINADAescribióTOKEN ELIMINADAIsabelTOKEN ELIMINADACoixetTOKEN ELIMINADATOKEN ELIMINADAperoTOKEN ELIMINADAseTOKEN ELIMINADAdejóTOKEN ELIMINADAelTOKEN ELIMINADAguiónTOKEN ELIMINADAenTOKEN ELIMINADAelTOKEN ELIMINADAmetroTOKEN ELIMINADAyTOKEN ELIMINADAloTOKEN ELIMINADAcogióTOKEN ELIMINADAClintTOKEN ELIMINADAEastwoodTOKEN ELIMINADAqueTOKEN ELIMINADAestabaTOKEN ELIMINADAcasualmenteTOKEN ELIMINADAallíTOKEN ELIMINADAhaciendoTOKEN ELIMINADAmanspreading.',\n",
              " '@imaartaaTOKEN ELIMINADAaTOKEN ELIMINADAmíTOKEN ELIMINADAmeTOKEN ELIMINADAhanTOKEN ELIMINADAllamadoTOKEN ELIMINADAniñataTOKEN ELIMINADAmeTOKEN ELIMINADAhaTOKEN ELIMINADAsalidoTOKEN ELIMINADA17TOKEN ELIMINADAaños',\n",
              " 'MejorTOKEN ELIMINADAseTOKEN ELIMINADAloTOKEN ELIMINADAgastanTOKEN ELIMINADAenTOKEN ELIMINADAilegales,TOKEN ELIMINADAlasTOKEN ELIMINADApiedrasTOKEN ELIMINADAdeTOKEN ELIMINADAColau,TOKEN ELIMINADAlaTOKEN ELIMINADAseguridadTOKEN ELIMINADAdelTOKEN ELIMINADAratachepas,TOKEN ELIMINADAlasTOKEN ELIMINADAfemienfermasTOKEN ELIMINADAdeTOKEN ELIMINADAFrigidaTOKEN ELIMINADAMontero,TOKEN ELIMINADAlosTOKEN ELIMINADAvuelosTOKEN ELIMINADAdelTOKEN ELIMINADASepultureroTOKEN ELIMINADAyTOKEN ELIMINADAsusTOKEN ELIMINADAjuergasTOKEN ELIMINADAenTOKEN ELIMINADADoñanaTOKEN ELIMINADAyTOKEN ELIMINADAlaTOKEN ELIMINADAMareta,...TOKEN ELIMINADAhttps://t.co/B08MlmcL28',\n",
              " '@IDaniela507TOKEN ELIMINADAPorTOKEN ELIMINADAculpaTOKEN ELIMINADAdeTOKEN ELIMINADAesasTOKEN ELIMINADAmujeres,TOKEN ELIMINADAlosTOKEN ELIMINADAhombresTOKEN ELIMINADAcreenTOKEN ELIMINADAqueTOKEN ELIMINADAtodasTOKEN ELIMINADAlasTOKEN ELIMINADAmujeresTOKEN ELIMINADAestamosTOKEN ELIMINADAlocas.',\n",
              " '@du_espinozaTOKEN ELIMINADA@vilifer28TOKEN ELIMINADA@ElizoMarcelaTOKEN ELIMINADA@paolavegarTOKEN ELIMINADA1/2TOKEN ELIMINADAHablasTOKEN ELIMINADAatrásTOKEN ELIMINADAdeTOKEN ELIMINADA\"sexoTOKEN ELIMINADAconsentido\".TOKEN ELIMINADASíTOKEN ELIMINADAnoTOKEN ELIMINADAesTOKEN ELIMINADAconsentidoTOKEN ELIMINADAesTOKEN ELIMINADAabusoTOKEN ELIMINADAsexualTOKEN ELIMINADAoTOKEN ELIMINADAviolación.TOKEN ELIMINADAEntoncesTOKEN ELIMINADAparaTOKEN ELIMINADAempezarTOKEN ELIMINADAempoderamientoTOKEN ELIMINADAtotalTOKEN ELIMINADAdeTOKEN ELIMINADAlasTOKEN ELIMINADAmujeresTOKEN ELIMINADAparaTOKEN ELIMINADAqueTOKEN ELIMINADAniTOKEN ELIMINADAsiquieraTOKEN ELIMINADAaTOKEN ELIMINADAsuTOKEN ELIMINADAparejaTOKEN ELIMINADAleTOKEN ELIMINADApermitanTOKEN ELIMINADAactividadTOKEN ELIMINADAsexualTOKEN ELIMINADAsiTOKEN ELIMINADAasíTOKEN ELIMINADAnoTOKEN ELIMINADAloTOKEN ELIMINADAdesean.TOKEN ELIMINADACuandoTOKEN ELIMINADAesTOKEN ELIMINADAno,TOKEN ELIMINADAesTOKEN ELIMINADAno.TOKEN ELIMINADANoTOKEN ELIMINADAdebeTOKEN ELIMINADAhaberTOKEN ELIMINADAtérminoTOKEN ELIMINADAmedio...',\n",
              " '@camicamicami__TOKEN ELIMINADAHayTOKEN ELIMINADAunaTOKEN ELIMINADApelíTOKEN ELIMINADAbasadaTOKEN ELIMINADAenTOKEN ELIMINADAhechosTOKEN ELIMINADArealesTOKEN ELIMINADAsobreTOKEN ELIMINADAesteTOKEN ELIMINADAtema.HayTOKEN ELIMINADAinvestigacionesTOKEN ELIMINADAqueTOKEN ELIMINADAinclusoTOKEN ELIMINADAlosTOKEN ELIMINADAjugadoresTOKEN ELIMINADAdeTOKEN ELIMINADAfútbolTOKEN ELIMINADApodríanTOKEN ELIMINADAsufrirTOKEN ELIMINADAporTOKEN ELIMINADAlosTOKEN ELIMINADAcabezazosTOKEN ELIMINADAaTOKEN ELIMINADAlaTOKEN ELIMINADApelota.TOKEN ELIMINADAEnTOKEN ELIMINADAesteTOKEN ELIMINADApuntoTOKEN ELIMINADAlasTOKEN ELIMINADAmásTOKEN ELIMINADAcomprometidasTOKEN ELIMINADApodríanTOKEN ELIMINADAserTOKEN ELIMINADAlasTOKEN ELIMINADAmujeres,TOKEN ELIMINADAporTOKEN ELIMINADAtenerTOKEN ELIMINADAunaTOKEN ELIMINADAmenorTOKEN ELIMINADAresistenciaTOKEN ELIMINADAaTOKEN ELIMINADAgolpes.',\n",
              " 'NoTOKEN ELIMINADApermitiréTOKEN ELIMINADAnuncaTOKEN ELIMINADAmásTOKEN ELIMINADAqueTOKEN ELIMINADAmeTOKEN ELIMINADAhaganTOKEN ELIMINADAsentirTOKEN ELIMINADAfea,TOKEN ELIMINADApocoTOKEN ELIMINADAamada,TOKEN ELIMINADAnoTOKEN ELIMINADAdeseada.SiTOKEN ELIMINADAalguienTOKEN ELIMINADAnoTOKEN ELIMINADAmeTOKEN ELIMINADAvalora,TOKEN ELIMINADAalguienTOKEN ELIMINADAmásTOKEN ELIMINADAloTOKEN ELIMINADAhará.TOKEN ELIMINADAhttps://t.co/jOOGp7CC82',\n",
              " '@llorogarchandoTOKEN ELIMINADAParaTOKEN ELIMINADAmi,TOKEN ELIMINADAunTOKEN ELIMINADAmomentoTOKEN ELIMINADAclaveTOKEN ELIMINADAesTOKEN ELIMINADAqueTOKEN ELIMINADAcasiTOKEN ELIMINADAsiempreTOKEN ELIMINADAenTOKEN ELIMINADAlosTOKEN ELIMINADAjuegosTOKEN ELIMINADAelegíasTOKEN ELIMINADAserTOKEN ELIMINADAchica,TOKEN ELIMINADAenTOKEN ELIMINADAvezTOKEN ELIMINADAdeTOKEN ELIMINADAchico.',\n",
              " '@NicoBolivarianoTOKEN ELIMINADA@GatoCurioso77TOKEN ELIMINADAAlbertoTOKEN ELIMINADAquieroTOKEN ELIMINADAárbolTOKEN ELIMINADAdeTOKEN ELIMINADANavidadTOKEN ELIMINADAyTOKEN ELIMINADAfotoTOKEN ELIMINADAparaTOKEN ELIMINADAelTOKEN ELIMINADAInstagramTOKEN ELIMINADAqueTOKEN ELIMINADAestoyTOKEN ELIMINADAhastaTOKEN ELIMINADAelTOKEN ELIMINADAcoñoTOKEN ELIMINADAdeTOKEN ELIMINADAirTOKEN ELIMINADAdeTOKEN ELIMINADAcomunistaTOKEN ELIMINADAconTOKEN ELIMINADAlaTOKEN ELIMINADApastaTOKEN ELIMINADAqueTOKEN ELIMINADAtenemosTOKEN ELIMINADAyTOKEN ELIMINADAsiTOKEN ELIMINADAteTOKEN ELIMINADAdicenTOKEN ELIMINADAalgoTOKEN ELIMINADAdicesTOKEN ELIMINADAqueTOKEN ELIMINADAtuTOKEN ELIMINADAhacesTOKEN ELIMINADAloTOKEN ELIMINADAqueTOKEN ELIMINADAtuTOKEN ELIMINADAmujerTOKEN ELIMINADAdiga,TOKEN ELIMINADAasíTOKEN ELIMINADAhacesTOKEN ELIMINADAdeTOKEN ELIMINADAfeminista.TOKEN ELIMINADAMiraTOKEN ELIMINADAsiTOKEN ELIMINADAesTOKEN ELIMINADAobedienteTOKEN ELIMINADAqTOKEN ELIMINADAlosTOKEN ELIMINADA3TOKEN ELIMINADAconTOKEN ELIMINADAjerseyTOKEN ELIMINADAnavideño.TipicoTOKEN ELIMINADAcalzocomunista',\n",
              " '\"SinTOKEN ELIMINADAESI,TOKEN ELIMINADAsinTOKEN ELIMINADAlaTOKEN ELIMINADAprovisiónTOKEN ELIMINADAdeTOKEN ELIMINADAanticonceptivos,TOKEN ELIMINADAsinTOKEN ELIMINADAprotocoloTOKEN ELIMINADAdeTOKEN ELIMINADAinterrupciónTOKEN ELIMINADAlegalTOKEN ELIMINADAdelTOKEN ELIMINADAembarazo,TOKEN ELIMINADAlasTOKEN ELIMINADAgurisasTOKEN ELIMINADAcorrentinasTOKEN ELIMINADAsonTOKEN ELIMINADAobligadasTOKEN ELIMINADAaTOKEN ELIMINADAparirTOKEN ELIMINADAaTOKEN ELIMINADAlosTOKEN ELIMINADA10TOKEN ELIMINADAaños\",TOKEN ELIMINADAdiceTOKEN ELIMINADAAlmirón.TOKEN ELIMINADAYTOKEN ELIMINADArecuerdaTOKEN ELIMINADAunaTOKEN ELIMINADAfraseTOKEN ELIMINADAdeTOKEN ELIMINADAPinoTOKEN ELIMINADASolanas:TOKEN ELIMINADA\"EsaTOKEN ELIMINADAesTOKEN ELIMINADAlaTOKEN ELIMINADAideaTOKEN ELIMINADAdeTOKEN ELIMINADAlaTOKEN ELIMINADAmujerTOKEN ELIMINADAincubadora\"TOKEN ELIMINADATOKEN ELIMINADAhttps://t.co/qwhbfSVcYs',\n",
              " '@andyteranvTOKEN ELIMINADA@ZeantocTOKEN ELIMINADA@Bit65523033TOKEN ELIMINADA@Matiassss21TOKEN ELIMINADA@divoy_eliaTOKEN ELIMINADAEstáTOKEN ELIMINADAinfectadoTOKEN ELIMINADAdeTOKEN ELIMINADAhembrismo,TOKEN ELIMINADAlaTOKEN ELIMINADAigualdadTOKEN ELIMINADAenTOKEN ELIMINADAeseTOKEN ELIMINADApuntoTOKEN ELIMINADAyaTOKEN ELIMINADAnoTOKEN ELIMINADAesTOKEN ELIMINADAmuyTOKEN ELIMINADAposibleTOKEN ELIMINADAqueTOKEN ELIMINADAdigamos...',\n",
              " 'UnaTOKEN ELIMINADAnoTOKEN ELIMINADApuedeTOKEN ELIMINADAamarTOKEN ELIMINADAyTOKEN ELIMINADAstannearTOKEN ELIMINADAaTOKEN ELIMINADALiamTOKEN ELIMINADAyTOKEN ELIMINADAaTOKEN ELIMINADAZaynTOKEN ELIMINADAqueTOKEN ELIMINADAyaTOKEN ELIMINADAlaTOKEN ELIMINADAtachanTOKEN ELIMINADAdeTOKEN ELIMINADAziameraTOKEN ELIMINADA,TOKEN ELIMINADAváyanseTOKEN ELIMINADAaTOKEN ELIMINADAcagarTOKEN ELIMINADA,TOKEN ELIMINADAtodasTOKEN ELIMINADAputas',\n",
              " '@DalasReviewTOKEN ELIMINADA@TwitchESTOKEN ELIMINADA@Fortnite_ESTOKEN ELIMINADA@JordiWildTOKEN ELIMINADAComoTOKEN ELIMINADAchillaTOKEN ELIMINADAlaTOKEN ELIMINADAperra',\n",
              " 'SiempreTOKEN ELIMINADAtuvoTOKEN ELIMINADAlaTOKEN ELIMINADAfrenteTOKEN ELIMINADAmuyTOKEN ELIMINADAalta,TOKEN ELIMINADAlaTOKEN ELIMINADAlenguaTOKEN ELIMINADAmuyTOKEN ELIMINADAlargaTOKEN ELIMINADAyTOKEN ELIMINADAlaTOKEN ELIMINADAfaldaTOKEN ELIMINADAmuyTOKEN ELIMINADAcorta',\n",
              " '@Marc11TromboTOKEN ELIMINADAQueTOKEN ELIMINADAseTOKEN ELIMINADAloTOKEN ELIMINADAtengoTOKEN ELIMINADAqueTOKEN ELIMINADAexplicarTOKEN ELIMINADAsencilloTOKEN ELIMINADAaTOKEN ELIMINADAlaTOKEN ELIMINADAchica,TOKEN ELIMINADAsiTOKEN ELIMINADAleTOKEN ELIMINADApongoTOKEN ELIMINADAmasculinismoTOKEN ELIMINADAseTOKEN ELIMINADAmuereTOKEN ELIMINADAxDD',\n",
              " 'ATOKEN ELIMINADAellasTOKEN ELIMINADAlesTOKEN ELIMINADAencantaTOKEN ELIMINADAestoTOKEN ELIMINADA#mgtowTOKEN ELIMINADAhttps://t.co/oFGy0JV0O4',\n",
              " '@vannjkooTOKEN ELIMINADAEnTOKEN ELIMINADAmiTOKEN ELIMINADAcasaTOKEN ELIMINADAesTOKEN ELIMINADAigual,TOKEN ELIMINADAmeTOKEN ELIMINADAdijeronTOKEN ELIMINADAqueTOKEN ELIMINADAteníaTOKEN ELIMINADAqueTOKEN ELIMINADAaprenderTOKEN ELIMINADAaTOKEN ELIMINADAcocinarTOKEN ELIMINADA\"porqueTOKEN ELIMINADAsoyTOKEN ELIMINADAmujer\"TOKEN ELIMINADAyTOKEN ELIMINADAnoTOKEN ELIMINADAporqueTOKEN ELIMINADAloTOKEN ELIMINADAnecesitaraTOKEN ELIMINADAparaTOKEN ELIMINADAserTOKEN ELIMINADAindependiente',\n",
              " '\"La objeción de conciencia es una construcción machista que recae sobre la mujer (...) Si quiero ser objetora de conciencia cuando se trata de atender a un femicida no puedo”, @BetianaCabreraF#AbortoLegal #AbortoLegalEsVidaTOKEN ELIMINADA/IqELK6fmAX',\n",
              " '@nacho_fachoTOKEN ELIMINADAParaTOKEN ELIMINADAparaTOKEN ELIMINADAunaTOKEN ELIMINADAminaTOKEN ELIMINADAqueTOKEN ELIMINADAquiereTOKEN ELIMINADAserTOKEN ELIMINADAhombreTOKEN ELIMINADAtieneTOKEN ELIMINADAdeTOKEN ELIMINADAparejaTOKEN ELIMINADAunTOKEN ELIMINADAhombreTOKEN ELIMINADAqueTOKEN ELIMINADAquiereTOKEN ELIMINADAserTOKEN ELIMINADAmujer?TOKEN ELIMINADATOKEN ELIMINADAaTOKEN ELIMINADAverTOKEN ELIMINADAnoTOKEN ELIMINADAtieneTOKEN ELIMINADAnadaTOKEN ELIMINADAdeTOKEN ELIMINADAmaloTOKEN ELIMINADAperoTOKEN ELIMINADAqueTOKEN ELIMINADAparadojaTOKEN ELIMINADAlpm',\n",
              " 'JustiTOKEN ELIMINADAseTOKEN ELIMINADAdurmióTOKEN ELIMINADAyTOKEN ELIMINADAcreíTOKEN ELIMINADAqueTOKEN ELIMINADAibaTOKEN ELIMINADAaTOKEN ELIMINADAtenerTOKEN ELIMINADAunTOKEN ELIMINADAratitoTOKEN ELIMINADAparaTOKEN ELIMINADAtomarTOKEN ELIMINADAmateTOKEN ELIMINADAsiTOKEN ELIMINADAquieraTOKEN ELIMINADAperoTOKEN ELIMINADAlaTOKEN ELIMINADAzorraTOKEN ELIMINADAseTOKEN ELIMINADAdespertó',\n",
              " 'Me encanta que HAY estadísticas demostrando que la mujer históricamente carga con más tareas domésticas que el hombre, pero acá Juan acaba de tirar abajo el patriarcado con su sola existencia #NotAllMen TOKEN ELIMINADA/toUGl3jDQd',\n",
              " '\"TenemosTOKEN ELIMINADAyaTOKEN ELIMINADAsuficientesTOKEN ELIMINADAfrentesTOKEN ELIMINADAabiertos\"TOKEN ELIMINADAsignificaTOKEN ELIMINADAqueTOKEN ELIMINADA\"loTOKEN ELIMINADAdeTOKEN ELIMINADAlasTOKEN ELIMINADAlesbianas\"TOKEN ELIMINADAnuncaTOKEN ELIMINADAtoca.TOKEN ELIMINADAAprendamosTOKEN ELIMINADAdelTOKEN ELIMINADApasado.TOKEN ELIMINADAGraciasTOKEN ELIMINADAaTOKEN ELIMINADAtodasTOKEN ELIMINADAlasTOKEN ELIMINADAmujeresTOKEN ELIMINADALesbianasTOKEN ELIMINADAyTOKEN ELIMINADAnoTOKEN ELIMINADALesbianasTOKEN ELIMINADAqueTOKEN ELIMINADAnoTOKEN ELIMINADAseTOKEN ELIMINADAcallanTOKEN ELIMINADAanteTOKEN ELIMINADAlaTOKEN ELIMINADAlesbomisoginiaTOKEN ELIMINADAdelTOKEN ELIMINADA\"feminismoTOKEN ELIMINADAabolicionista\"TOKEN ELIMINADAmejorTOKEN ELIMINADAllamadoTOKEN ELIMINADAandrocentrismoTOKEN ELIMINADAdeTOKEN ELIMINADAmasas.',\n",
              " '¿QuéTOKEN ELIMINADAprivilegiosTOKEN ELIMINADAtenemosTOKEN ELIMINADAlasTOKEN ELIMINADAmujeres?TOKEN ELIMINADADeTOKEN ELIMINADAverdad,TOKEN ELIMINADAesTOKEN ELIMINADAalucinanteTOKEN ELIMINADAelTOKEN ELIMINADAdañoTOKEN ELIMINADAqueTOKEN ELIMINADAleTOKEN ELIMINADAestáisTOKEN ELIMINADAhaciendoTOKEN ELIMINADAalTOKEN ELIMINADAfeminismoTOKEN ELIMINADAyTOKEN ELIMINADAaTOKEN ELIMINADAlasTOKEN ELIMINADApocasTOKEN ELIMINADApolíticasTOKEN ELIMINADApúblicasTOKEN ELIMINADAdeTOKEN ELIMINADAacciónTOKEN ELIMINADApositivaTOKEN ELIMINADAhaciaTOKEN ELIMINADAlasTOKEN ELIMINADAmujeresTOKEN ELIMINADAconseguidasTOKEN ELIMINADAhastaTOKEN ELIMINADAahora.TOKEN ELIMINADAhttps://t.co/KVeL6Sviue',\n",
              " 'Mujer\\xa0sumisa\\xa0seTOKEN ELIMINADAcaracterizaTOKEN ELIMINADApor\\xa0ser\\xa0humilde,TOKEN ELIMINADAdócil,TOKEN ELIMINADAobediente,TOKEN ELIMINADAsubordinada,TOKEN ELIMINADArendidaTOKEN ELIMINADAoTOKEN ELIMINADAsubyugadaTOKEN ELIMINADAanteTOKEN ELIMINADAotraTOKEN ELIMINADApersona,TOKEN ELIMINADAbienTOKEN ELIMINADAseaTOKEN ELIMINADAsuTOKEN ELIMINADAjefe,TOKEN ELIMINADApareja,TOKEN ELIMINADAamigoTOKEN ELIMINADAuTOKEN ELIMINADAotro.TOKEN ELIMINADA...\\xa0TOKEN ELIMINADA#EsposaliberalTOKEN ELIMINADA#esposaculonaTOKEN ELIMINADA#SabadoDeGanarSegidoresTOKEN ELIMINADA#RETWEEETTOKEN ELIMINADAhttps://t.co/hP0Jk4DpHG',\n",
              " '@LusinelleTOKEN ELIMINADA@amcbarcelonaTOKEN ELIMINADA@inNomineSomniumTOKEN ELIMINADA@Tessa_prTOKEN ELIMINADA@PlataformaTransTOKEN ELIMINADA@fiscal_esTOKEN ELIMINADANoTOKEN ELIMINADAqueremosTOKEN ELIMINADAborrarlo.TOKEN ELIMINADASimplementeTOKEN ELIMINADAesTOKEN ELIMINADAcomoTOKEN ELIMINADAlasTOKEN ELIMINADAmujeresTOKEN ELIMINADAqueTOKEN ELIMINADAdicenTOKEN ELIMINADAqueTOKEN ELIMINADAnoTOKEN ELIMINADAseTOKEN ELIMINADAsientenTOKEN ELIMINADArepresentadasTOKEN ELIMINADAporTOKEN ELIMINADAelTOKEN ELIMINADAfeminismo,TOKEN ELIMINADAnoTOKEN ELIMINADAvamosTOKEN ELIMINADAaTOKEN ELIMINADApararTOKEN ELIMINADAporqueTOKEN ELIMINADAhayaTOKEN ELIMINADAcuatroTOKEN ELIMINADApersonasTOKEN ELIMINADAenTOKEN ELIMINADAelTOKEN ELIMINADAcolectivoTOKEN ELIMINADAenTOKEN ELIMINADAcontra.',\n",
              " '@SChecoPerezTOKEN ELIMINADAdiceTOKEN ELIMINADAqueTOKEN ELIMINADAlasTOKEN ELIMINADAmujeresTOKEN ELIMINADAdebenTOKEN ELIMINADAirseTOKEN ELIMINADAaTOKEN ELIMINADAlaTOKEN ELIMINADAcocinaTOKEN ELIMINADAporqueTOKEN ELIMINADAnoTOKEN ELIMINADAsabenTOKEN ELIMINADAdeTOKEN ELIMINADAcoches.TOKEN ELIMINADAYTOKEN ELIMINADAélTOKEN ELIMINADAnoTOKEN ELIMINADAsoportaríaTOKEN ELIMINADAqueTOKEN ELIMINADAunaTOKEN ELIMINADAmujerTOKEN ELIMINADAloTOKEN ELIMINADAsuperara.TOKEN ELIMINADAVayaTOKEN ELIMINADAmaneraTOKEN ELIMINADAdeTOKEN ELIMINADAdemostrarTOKEN ELIMINADAqueTOKEN ELIMINADAseTOKEN ELIMINADAesTOKEN ELIMINADAunTOKEN ELIMINADAgranTOKEN ELIMINADAimbécilTOKEN ELIMINADAalTOKEN ELIMINADAvolante.',\n",
              " '@Gutierrez__TWTOKEN ELIMINADA@LolaPodemosTOKEN ELIMINADA@MonederoJCTOKEN ELIMINADA@IreneMonteroTOKEN ELIMINADAEsTOKEN ELIMINADAdecir,TOKEN ELIMINADAqueTOKEN ELIMINADAsiTOKEN ELIMINADAyoTOKEN ELIMINADAleTOKEN ELIMINADApreguntoTOKEN ELIMINADAaTOKEN ELIMINADAunaTOKEN ELIMINADAmujer:TOKEN ELIMINADA¿quieres,TOKEN ELIMINADAlibreTOKEN ELIMINADAyTOKEN ELIMINADAconscientementeTOKEN ELIMINADAenTOKEN ELIMINADAplenoTOKEN ELIMINADAusoTOKEN ELIMINADAdeTOKEN ELIMINADAtusTOKEN ELIMINADAfacultadesTOKEN ELIMINADAmentales,TOKEN ELIMINADAmasturbarme?TOKEN ELIMINADAyTOKEN ELIMINADAlaTOKEN ELIMINADArequerida,TOKEN ELIMINADAsinTOKEN ELIMINADAdecirTOKEN ELIMINADAnada,TOKEN ELIMINADAsonríe,TOKEN ELIMINADAmeTOKEN ELIMINADAguiñaTOKEN ELIMINADAunTOKEN ELIMINADAojo,TOKEN ELIMINADAmeTOKEN ELIMINADAbajaTOKEN ELIMINADAlaTOKEN ELIMINADAbraguetaTOKEN ELIMINADAyTOKEN ELIMINADAempiezaTOKEN ELIMINADAaTOKEN ELIMINADAmasturbarmeTOKEN ELIMINADA¿noTOKEN ELIMINADAhaTOKEN ELIMINADAconsentido?',\n",
              " 'ElTOKEN ELIMINADATrucoTOKEN ELIMINADAestáTOKEN ELIMINADAenTOKEN ELIMINADAseguirTOKEN ELIMINADAescribiendoTOKEN ELIMINADApelotudeces,TOKEN ELIMINADAhastaTOKEN ELIMINADAqueTOKEN ELIMINADAseTOKEN ELIMINADAlesTOKEN ELIMINADAolvideTOKEN ELIMINADAqueTOKEN ELIMINADANoTOKEN ELIMINADATengoTOKEN ELIMINADATetasTOKEN ELIMINADA!!!',\n",
              " 'ElTOKEN ELIMINADAfeminismoTOKEN ELIMINADAesTOKEN ELIMINADAantiTOKEN ELIMINADAsexismo,TOKEN ELIMINADAnoTOKEN ELIMINADAantiTOKEN ELIMINADAhombres',\n",
              " '@pamvizcainoTOKEN ELIMINADA@gabycstnd7TOKEN ELIMINADAFelicitacionesTOKEN ELIMINADA.TOKEN ELIMINADAYoTOKEN ELIMINADAhaceTOKEN ELIMINADAdosTOKEN ELIMINADAañosTOKEN ELIMINADAyTOKEN ELIMINADAmedioTOKEN ELIMINADAempecéTOKEN ELIMINADAaTOKEN ELIMINADApublicarTOKEN ELIMINADAversículosTOKEN ELIMINADAtodosTOKEN ELIMINADAlosTOKEN ELIMINADAdíasTOKEN ELIMINADAparaTOKEN ELIMINADAalejarTOKEN ELIMINADAaTOKEN ELIMINADAmujeresTOKEN ELIMINADAqueTOKEN ELIMINADAnoTOKEN ELIMINADAbuscaránTOKEN ELIMINADAtenerTOKEN ELIMINADAunaTOKEN ELIMINADArelaciónTOKEN ELIMINADAsanta.TOKEN ELIMINADALaTOKEN ELIMINADAcarneTOKEN ELIMINADAesTOKEN ELIMINADAmuyTOKEN ELIMINADAdébil,TOKEN ELIMINADAnecesitamosTOKEN ELIMINADAprotegernosTOKEN ELIMINADAdeTOKEN ELIMINADAlasTOKEN ELIMINADAtentaciones.',\n",
              " '@JuanCan_22TOKEN ELIMINADA@xalemicasitaTOKEN ELIMINADA@estibalizfeitoTOKEN ELIMINADAEsTOKEN ELIMINADAcoherenteTOKEN ELIMINADAjajajajaTOKEN ELIMINADAxdTOKEN ELIMINADALasTOKEN ELIMINADAsufraguistasTOKEN ELIMINADA(FeministasTOKEN ELIMINADAdeTOKEN ELIMINADAantesTOKEN ELIMINADAparaTOKEN ELIMINADAlosTOKEN ELIMINADApendejos)TOKEN ELIMINADAsoloTOKEN ELIMINADAveíanTOKEN ELIMINADAporTOKEN ELIMINADAlosTOKEN ELIMINADAderechosTOKEN ELIMINADAdeTOKEN ELIMINADAlasTOKEN ELIMINADAmujeresTOKEN ELIMINADAburguesas',\n",
              " '@zandoloveTOKEN ELIMINADAdeTOKEN ELIMINADAunaTOKEN ELIMINADAputaTOKEN ELIMINADAvez?EsoTOKEN ELIMINADAsóloTOKEN ELIMINADAconseguiráTOKEN ELIMINADAqueTOKEN ELIMINADAnosTOKEN ELIMINADAmantengaTOKEN ELIMINADAmásTOKEN ELIMINADAtiempoTOKEN ELIMINADAencerradas+-¿PeroTOKEN ELIMINADAqueTOKEN ELIMINADAdices?TOKEN ELIMINADAIntentoTOKEN ELIMINADAqueTOKEN ELIMINADAmeTOKEN ELIMINADAdejeTOKEN ELIMINADAlibre.TOKEN ELIMINADAParecesTOKEN ELIMINADAtonta.TOKEN ELIMINADALlevoTOKEN ELIMINADAmuchoTOKEN ELIMINADAdeTOKEN ELIMINADAvalorTOKEN ELIMINADAencima-ElTOKEN ELIMINADAguardiánTOKEN ELIMINADAseTOKEN ELIMINADAlevantóTOKEN ELIMINADAyTOKEN ELIMINADAtendióTOKEN ELIMINADAlaTOKEN ELIMINADAmano.UnaTOKEN ELIMINADAdeTOKEN ELIMINADAlasTOKEN ELIMINADAhembrasTOKEN ELIMINADAsoltóTOKEN ELIMINADAtodoTOKEN ELIMINADAloTOKEN ELIMINADAqueTOKEN ELIMINADAllevabaTOKEN ELIMINADAencima.-¿LoTOKEN ELIMINADAves?Ahora',\n",
              " '@adnradiochileTOKEN ELIMINADAFeminismoTOKEN ELIMINADAoTOKEN ELIMINADAhembrismo???MachismoTOKEN ELIMINADAoTOKEN ELIMINADAmasculismo???',\n",
              " 'DIOSTOKEN ELIMINADADANATOKEN ELIMINADAPORQUETOKEN ELIMINADALATOKEN ELIMINADAGOLFATOKEN ELIMINADAESATOKEN ELIMINADAARRASTRADATOKEN ELIMINADAQUETOKEN ELIMINADASUELTETOKEN ELIMINADAATOKEN ELIMINADALOUISTOKEN ELIMINADA@fineflickrTOKEN ELIMINADAaTOKEN ELIMINADAvosTOKEN ELIMINADAteTOKEN ELIMINADAdigo',\n",
              " '@LamismamenteTOKEN ELIMINADA–¡OTOKEN ELIMINADAteTOKEN ELIMINADAquitasTOKEN ELIMINADAesaTOKEN ELIMINADAfaldaTOKEN ELIMINADAtanTOKEN ELIMINADAcortaTOKEN ELIMINADAoTOKEN ELIMINADAnoTOKEN ELIMINADAsales!–¿PorTOKEN ELIMINADAqué,TOKEN ELIMINADAmamá?–PorqueTOKEN ELIMINADAesTOKEN ELIMINADAmuyTOKEN ELIMINADAcorta.–¿YTOKEN ELIMINADAquéeee?–¡¡¡QueTOKEN ELIMINADAseTOKEN ELIMINADAteTOKEN ELIMINADAvenTOKEN ELIMINADAlosTOKEN ELIMINADAhuevos,TOKEN ELIMINADAJoséTOKEN ELIMINADAMiguel!!!–EresTOKEN ELIMINADAlaTOKEN ELIMINADAchicaTOKEN ELIMINADAmásTOKEN ELIMINADAsimpáticaTOKEN ELIMINADAyTOKEN ELIMINADAmásTOKEN ELIMINADAguapaTOKEN ELIMINADAqueTOKEN ELIMINADAheTOKEN ELIMINADAconocido.–TúTOKEN ELIMINADAloTOKEN ELIMINADAqueTOKEN ELIMINADAquieresTOKEN ELIMINADAesTOKEN ELIMINADAfollarTOKEN ELIMINADAconmigo.–¡Coño!TOKEN ELIMINADA¡¡¡YTOKEN ELIMINADAlaTOKEN ELIMINADAmásTOKEN ELIMINADAlista!!!',\n",
              " 'DeTOKEN ELIMINADAAlejandraTOKEN ELIMINADAGuzmánTOKEN ELIMINADAaTOKEN ELIMINADARebeccaTOKEN ELIMINADAdeTOKEN ELIMINADAAlba:TOKEN ELIMINADAlasTOKEN ELIMINADAmujeresTOKEN ELIMINADAenTOKEN ELIMINADAelTOKEN ELIMINADAhistorialTOKEN ELIMINADAamorosoTOKEN ELIMINADAdeTOKEN ELIMINADARickyTOKEN ELIMINADAMartinTOKEN ELIMINADAhttps://t.co/A1joHNmO3Q',\n",
              " 'SiempreTOKEN ELIMINADAtuvoTOKEN ELIMINADAlaTOKEN ELIMINADAfrenteTOKEN ELIMINADAmuyTOKEN ELIMINADAalta,TOKEN ELIMINADAlaTOKEN ELIMINADAlenguaTOKEN ELIMINADAmuyTOKEN ELIMINADAlarga,TOKEN ELIMINADAyTOKEN ELIMINADAlaTOKEN ELIMINADAfaldaTOKEN ELIMINADAmuyTOKEN ELIMINADAcorta',\n",
              " '@AbortoYukiiiTOKEN ELIMINADA@vernemexicoTOKEN ELIMINADAYTOKEN ELIMINADAdeTOKEN ELIMINADAhecho,TOKEN ELIMINADAahoraTOKEN ELIMINADAqueTOKEN ELIMINADAlasTOKEN ELIMINADAmujeresTOKEN ELIMINADApuedenTOKEN ELIMINADAabortar,TOKEN ELIMINADAquiereTOKEN ELIMINADAdecirTOKEN ELIMINADAqueTOKEN ELIMINADAestánTOKEN ELIMINADAabandonandoTOKEN ELIMINADAsuTOKEN ELIMINADAmaternidad.EntoncesTOKEN ELIMINADAparaTOKEN ELIMINADAqueTOKEN ELIMINADAseaTOKEN ELIMINADAigual,TOKEN ELIMINADAlosTOKEN ELIMINADAhombresTOKEN ELIMINADAtambiénTOKEN ELIMINADApodemosTOKEN ELIMINADAhacerlo,TOKEN ELIMINADAsiTOKEN ELIMINADAalgúnTOKEN ELIMINADAdíaTOKEN ELIMINADAllegamosTOKEN ELIMINADAaTOKEN ELIMINADAtenerTOKEN ELIMINADAunTOKEN ELIMINADAhijoTOKEN ELIMINADAyTOKEN ELIMINADAnoTOKEN ELIMINADAloTOKEN ELIMINADAqueremosTOKEN ELIMINADApodríamosTOKEN ELIMINADAirnosTOKEN ELIMINADAsinTOKEN ELIMINADAtenerTOKEN ELIMINADAconsecuencias.TOKEN ELIMINADALoTOKEN ELIMINADAúnicoTOKEN ELIMINADAbueno.',\n",
              " '@leidymarmaladeTOKEN ELIMINADA@NessnioTOKEN ELIMINADALaTOKEN ELIMINADABrutalidadTOKEN ELIMINADAsuyaTOKEN ELIMINADAnoTOKEN ELIMINADAtieneTOKEN ELIMINADAlimites.TOKEN ELIMINADAAcasoTOKEN ELIMINADAnoTOKEN ELIMINADAsabíaTOKEN ELIMINADAquéTOKEN ELIMINADAelTOKEN ELIMINADAabortoTOKEN ELIMINADAesTOKEN ELIMINADAunTOKEN ELIMINADAasesinatoTOKEN ELIMINADAdeTOKEN ELIMINADAunTOKEN ELIMINADAserTOKEN ELIMINADAindefensoTOKEN ELIMINADAyTOKEN ELIMINADAcondenadoTOKEN ELIMINADAporTOKEN ELIMINADAlaTOKEN ELIMINADAIglesiaTOKEN ELIMINADACatólicaTOKEN ELIMINADAcomoTOKEN ELIMINADAunTOKEN ELIMINADApecadoTOKEN ELIMINADAmortal?TOKEN ELIMINADALaTOKEN ELIMINADAmujerTOKEN ELIMINADAquéTOKEN ELIMINADAabortaTOKEN ELIMINADAesTOKEN ELIMINADAunaTOKEN ELIMINADAasesina!!TOKEN ELIMINADABloqueadaTOKEN ELIMINADAporTOKEN ELIMINADABRUTA!!',\n",
              " '@TalebSaharaTOKEN ELIMINADAElTOKEN ELIMINADAbuenTOKEN ELIMINADAMarroquiTOKEN ELIMINADAyTOKEN ELIMINADAsuTOKEN ELIMINADAcerebroTOKEN ELIMINADAdeTOKEN ELIMINADAsimio.TOKEN ELIMINADAEsaTOKEN ELIMINADAlacraTOKEN ELIMINADAsoloTOKEN ELIMINADAsabeTOKEN ELIMINADAdeTOKEN ELIMINADAespiar,TOKEN ELIMINADAoTOKEN ELIMINADApegarTOKEN ELIMINADAaTOKEN ELIMINADAmujeresTOKEN ELIMINADAyTOKEN ELIMINADAaTOKEN ELIMINADAniños,TOKEN ELIMINADAqueTOKEN ELIMINADAvayaTOKEN ELIMINADAalTOKEN ELIMINADAcampoTOKEN ELIMINADAdeTOKEN ELIMINADAbatallaTOKEN ELIMINADAaTOKEN ELIMINADAverTOKEN ELIMINADAsiTOKEN ELIMINADAsonTOKEN ELIMINADAtanTOKEN ELIMINADAgallitosTOKEN ELIMINADA#SaharaLibreYaTOKEN ELIMINADA#SaharaOccidentalTOKEN ELIMINADAhttps://t.co/rtcCEn6DRs',\n",
              " '@leondelareasurTOKEN ELIMINADAFuisteTOKEN ELIMINADAtuTOKEN ELIMINADAEnanoTOKEN ELIMINADAhijoTOKEN ELIMINADAdeTOKEN ELIMINADAputaTOKEN ELIMINADA?TOKEN ELIMINADAParecesTOKEN ELIMINADAunaTOKEN ELIMINADAputaTOKEN ELIMINADAgallinaTOKEN ELIMINADAapuestoTOKEN ELIMINADAqueTOKEN ELIMINADAsiTOKEN ELIMINADAfuisteTOKEN ELIMINADAtuTOKEN ELIMINADA!',\n",
              " '@alan_estradaTOKEN ELIMINADA@MiguelSaenz3TOKEN ELIMINADA@ReginaBlandonTOKEN ELIMINADAYo,TOKEN ELIMINADAtbTOKEN ELIMINADAlibre.TOKEN ELIMINADAEllosTOKEN ELIMINADAqueTOKEN ELIMINADAhaganTOKEN ELIMINADAconTOKEN ELIMINADAsuTOKEN ELIMINADAcuerpoTOKEN ELIMINADAloTOKEN ELIMINADAqueTOKEN ELIMINADAquieran.TOKEN ELIMINADAPeroTOKEN ELIMINADAesTOKEN ELIMINADAunTOKEN ELIMINADAabsurdoTOKEN ELIMINADAyTOKEN ELIMINADAunTOKEN ELIMINADAatentadoTOKEN ELIMINADAcontraTOKEN ELIMINADAlaTOKEN ELIMINADAlibertadTOKEN ELIMINADAqueTOKEN ELIMINADApretendanTOKEN ELIMINADAobligarnosTOKEN ELIMINADAallamarTOKEN ELIMINADAmujerTOKEN ELIMINADAaTOKEN ELIMINADAunTOKEN ELIMINADAhombreTOKEN ELIMINADAoperado.TOKEN ELIMINADASeTOKEN ELIMINADArespetaTOKEN ELIMINADAsuTOKEN ELIMINADAchifladuraTOKEN ELIMINADAyTOKEN ELIMINADAseTOKEN ELIMINADAlesTOKEN ELIMINADAacompañaTOKEN ELIMINADAenTOKEN ELIMINADAelTOKEN ELIMINADAsufrimiento.',\n",
              " '#OpiniónTOKEN ELIMINADA@FeminismoINC:TOKEN ELIMINADALaTOKEN ELIMINADAclaveTOKEN ELIMINADAparaTOKEN ELIMINADAconseguirTOKEN ELIMINADAlaTOKEN ELIMINADAigualdadTOKEN ELIMINADAsustantivaTOKEN ELIMINADAdeTOKEN ELIMINADAoportunidadesTOKEN ELIMINADAyTOKEN ELIMINADArespetoTOKEN ELIMINADAaTOKEN ELIMINADAlosTOKEN ELIMINADAderechosTOKEN ELIMINADAentreTOKEN ELIMINADAhombresTOKEN ELIMINADAyTOKEN ELIMINADAmujeresTOKEN ELIMINADAnoTOKEN ELIMINADApasaTOKEN ELIMINADAporTOKEN ELIMINADAseguirTOKEN ELIMINADAenviándolasTOKEN ELIMINADAaTOKEN ELIMINADAellasTOKEN ELIMINADAaTOKEN ELIMINADAcursarTOKEN ELIMINADAtalleresTOKEN ELIMINADAdeTOKEN ELIMINADAempoderamientoTOKEN ELIMINADApersonalTOKEN ELIMINADAoTOKEN ELIMINADAdeTOKEN ELIMINADAconfianzaTOKEN ELIMINADAenTOKEN ELIMINADAsíTOKEN ELIMINADAmismas.TOKEN ELIMINADAhttps://t.co/9ZBdT46rPl',\n",
              " '-JUECESTOKEN ELIMINADAINTOCABLES,¿porqué?ElTOKEN ELIMINADAjuezTOKEN ELIMINADAqueTOKEN ELIMINADApidióTOKEN ELIMINADAlaTOKEN ELIMINADAabsoluciónTOKEN ELIMINADAdeTOKEN ELIMINADA#LaManadaTOKEN ELIMINADAabsuelveTOKEN ELIMINADAalTOKEN ELIMINADAhombreTOKEN ELIMINADAqueTOKEN ELIMINADAabusóTOKEN ELIMINADAsexualmenteTOKEN ELIMINADAdeTOKEN ELIMINADAunaTOKEN ELIMINADAniñaTOKEN ELIMINADAdeTOKEN ELIMINADA12TOKEN ELIMINADAañosTOKEN ELIMINADAporqueTOKEN ELIMINADAelTOKEN ELIMINADAacusadoTOKEN ELIMINADAdecíaTOKEN ELIMINADAque“siempreTOKEN ELIMINADAinventabaTOKEN ELIMINADAhistorias”TOKEN ELIMINADASeTOKEN ELIMINADApedíaTOKEN ELIMINADA8TOKEN ELIMINADAañosTOKEN ELIMINADAdeTOKEN ELIMINADAprisión¿JUSTICIA?https://t.co/NxGJDtI0nrTOKEN ELIMINADAhttps://t.co/DoHgoVE4zF',\n",
              " 'ClaroTOKEN ELIMINADAporqueTOKEN ELIMINADAtodasTOKEN ELIMINADAlasTOKEN ELIMINADAmujeresTOKEN ELIMINADAsomosTOKEN ELIMINADAigualesTOKEN ELIMINADAyTOKEN ELIMINADAaTOKEN ELIMINADAtodasTOKEN ELIMINADAnosTOKEN ELIMINADAdeberíaTOKEN ELIMINADATOKEN ELIMINADApegarTOKEN ELIMINADAigualTOKEN ELIMINADAhttps://t.co/IsRGw3rq4h',\n",
              " '@ineslovisoloTOKEN ELIMINADATraumáticoTOKEN ELIMINADAesTOKEN ELIMINADAamanecerTOKEN ELIMINADAaTOKEN ELIMINADAtuTOKEN ELIMINADAladoTOKEN ELIMINADAyTOKEN ELIMINADAverteTOKEN ELIMINADAlaTOKEN ELIMINADAcara,TOKEN ELIMINADAfrigida',\n",
              " 'MeTOKEN ELIMINADAllevoTOKEN ELIMINADAunasTOKEN ELIMINADAcuantasTOKEN ELIMINADAideasTOKEN ELIMINADAinteresantes.TOKEN ELIMINADALaTOKEN ELIMINADAprimeraTOKEN ELIMINADAesTOKEN ELIMINADAqueTOKEN ELIMINADAlosTOKEN ELIMINADAderechoTOKEN ELIMINADAdeTOKEN ELIMINADAlaTOKEN ELIMINADAmujerTOKEN ELIMINADAfueronTOKEN ELIMINADAcreadosTOKEN ELIMINADAlegislativamenteTOKEN ELIMINADAporTOKEN ELIMINADAhombre.TOKEN ELIMINADAEnTOKEN ELIMINADAlaTOKEN ELIMINADAley,TOKEN ELIMINADAparaTOKEN ELIMINADApoderTOKEN ELIMINADAactuarTOKEN ELIMINADAsobreTOKEN ELIMINADAunTOKEN ELIMINADAsujeto,TOKEN ELIMINADAhayTOKEN ELIMINADAqueTOKEN ELIMINADAdefinirlo.TOKEN ELIMINADADeTOKEN ELIMINADAvistasTOKEN ELIMINADAaTOKEN ELIMINADAlaTOKEN ELIMINADAley,TOKEN ELIMINADAlosTOKEN ELIMINADAhombresTOKEN ELIMINADAdefinieronTOKEN ELIMINADAaTOKEN ELIMINADAlasTOKEN ELIMINADAmujeres.',\n",
              " '@kikillo2TOKEN ELIMINADA@EstacadebaresTOKEN ELIMINADA@LauraRdondoTOKEN ELIMINADAAlTOKEN ELIMINADAinconvenienteTOKEN ELIMINADAmovimientoTOKEN ELIMINADAfeministaTOKEN ELIMINADAqueTOKEN ELIMINADAhaceTOKEN ELIMINADAunTOKEN ELIMINADAparTOKEN ELIMINADAdeTOKEN ELIMINADAañosTOKEN ELIMINADAconTOKEN ELIMINADAelTOKEN ELIMINADA#MeTooTOKEN ELIMINADArealmenteTOKEN ELIMINADApusoTOKEN ELIMINADAenTOKEN ELIMINADAjaqueTOKEN ELIMINADAaTOKEN ELIMINADAdepredadoresTOKEN ELIMINADArespaldadosTOKEN ELIMINADAporTOKEN ELIMINADAHollywoodTOKEN ELIMINADAyTOKEN ELIMINADAotros,TOKEN ELIMINADAmientrasTOKEN ELIMINADAloTOKEN ELIMINADAcuirTOKEN ELIMINADAlesTOKEN ELIMINADAdaTOKEN ELIMINADAcoba',\n",
              " \"UnaTOKEN ELIMINADArebeldeTOKEN ELIMINADAparaTOKEN ELIMINADAsuTOKEN ELIMINADAtiempoTOKEN ELIMINADAqueTOKEN ELIMINADAquisieronTOKEN ELIMINADAningunearTOKEN ELIMINADAporTOKEN ELIMINADAelTOKEN ELIMINADAsimpleTOKEN ELIMINADAhechoTOKEN ELIMINADAdeTOKEN ELIMINADAserTOKEN ELIMINADAmujerTOKEN ELIMINADAy,TOKEN ELIMINADAsobreTOKEN ELIMINADAtodo,TOKEN ELIMINADAporTOKEN ELIMINADAserTOKEN ELIMINADAlaTOKEN ELIMINADAreina.➡TOKEN ELIMINADAHoyTOKEN ELIMINADArecomendamosTOKEN ELIMINADA'JuanaTOKEN ELIMINADAdeTOKEN ELIMINADACastilla',TOKEN ELIMINADAdeTOKEN ELIMINADAMaríaTOKEN ELIMINADATeresaTOKEN ELIMINADAÁlvarezTOKEN ELIMINADA(@esferalibros).¿QuieresTOKEN ELIMINADAsaberTOKEN ELIMINADAmás?TOKEN ELIMINADATOKEN ELIMINADAhttps://t.co/1ICuyHInUDTOKEN ELIMINADAhttps://t.co/JRw87H9Pf9\",\n",
              " '@falsofeminismoTOKEN ELIMINADALasTOKEN ELIMINADAmujeresTOKEN ELIMINADAqueTOKEN ELIMINADAlevantanTOKEN ELIMINADAestasTOKEN ELIMINADAfalsasTOKEN ELIMINADAdenunciasTOKEN ELIMINADAdeberíanTOKEN ELIMINADAterminarTOKEN ELIMINADApresas,TOKEN ELIMINADAnoTOKEN ELIMINADAsóloTOKEN ELIMINADAporTOKEN ELIMINADAelTOKEN ELIMINADAdañoTOKEN ELIMINADAqueTOKEN ELIMINADAocasionanTOKEN ELIMINADAaTOKEN ELIMINADAsusTOKEN ELIMINADApropiosTOKEN ELIMINADAhijos,TOKEN ELIMINADAsinoTOKEN ELIMINADAporqueTOKEN ELIMINADAensucianTOKEN ELIMINADAlaTOKEN ELIMINADAluchaTOKEN ELIMINADAdeTOKEN ELIMINADAaquellasTOKEN ELIMINADAqueTOKEN ELIMINADAsíTOKEN ELIMINADAsonTOKEN ELIMINADAvíctimasTOKEN ELIMINADAdeTOKEN ELIMINADAmaltratoTOKEN ELIMINADAreal.TOKEN ELIMINADAEsTOKEN ELIMINADAcriminalTOKEN ELIMINADAembanderarseTOKEN ELIMINADAconTOKEN ELIMINADAunaTOKEN ELIMINADAcausaTOKEN ELIMINADAtanTOKEN ELIMINADAdelicada.',\n",
              " '@LY_jjtkTOKEN ELIMINADAMiTOKEN ELIMINADAhermanaTOKEN ELIMINADAdijoTOKEN ELIMINADAunaTOKEN ELIMINADAtonteríaTOKEN ELIMINADAsobreTOKEN ELIMINADAmíTOKEN ELIMINADAyTOKEN ELIMINADAdice:TOKEN ELIMINADAEstásTOKEN ELIMINADAembarazadaTOKEN ELIMINADAyTOKEN ELIMINADAmeTOKEN ELIMINADAmolestaTOKEN ELIMINADAmuchoTOKEN ELIMINADAyTOKEN ELIMINADAsabesTOKEN ELIMINADAdeTOKEN ELIMINADAqueTOKEN ELIMINADAnoTOKEN ELIMINADAloTOKEN ELIMINADAestoyTOKEN ELIMINADAperoTOKEN ELIMINADAnoTOKEN ELIMINADAséTOKEN ELIMINADAqueTOKEN ELIMINADAhacerTOKEN ELIMINADAconTOKEN ELIMINADAellaTOKEN ELIMINADAmeTOKEN ELIMINADAtieneTOKEN ELIMINADAharta.TOKEN ELIMINADA@LY_jjtkTOKEN ELIMINADAMeTOKEN ELIMINADAdefiendesTOKEN ELIMINADAporTOKEN ELIMINADAfavor.......',\n",
              " '@RubenPaladino2TOKEN ELIMINADA@VarskySportsTOKEN ELIMINADALaTOKEN ELIMINADAfalopaTOKEN ELIMINADAlaTOKEN ELIMINADAtomóTOKEN ELIMINADAtuTOKEN ELIMINADAviejaTOKEN ELIMINADAembarazada,TOKEN ELIMINADAmiraTOKEN ELIMINADAconTOKEN ELIMINADAlaTOKEN ELIMINADAcaraTOKEN ELIMINADAqueTOKEN ELIMINADAsaliste.',\n",
              " '@fannocuaTOKEN ELIMINADA@MarFFitzgeraldTOKEN ELIMINADAMaltratarTOKEN ELIMINADAminorías...noTOKEN ELIMINADAdesinformes,TOKEN ELIMINADAelTOKEN ELIMINADAfeminismoTOKEN ELIMINADAradicalTOKEN ELIMINADAnoTOKEN ELIMINADAmaltrataTOKEN ELIMINADAminorías.TOKEN ELIMINADAAfirmarTOKEN ELIMINADAeseTOKEN ELIMINADAtipoTOKEN ELIMINADAdeTOKEN ELIMINADAcosasTOKEN ELIMINADAesTOKEN ELIMINADAirresponsableTOKEN ELIMINADAyTOKEN ELIMINADAleTOKEN ELIMINADAhaceTOKEN ELIMINADAdañoTOKEN ELIMINADAalTOKEN ELIMINADApensamientoTOKEN ELIMINADAhablarTOKEN ELIMINADAyTOKEN ELIMINADAestigmatizarTOKEN ELIMINADAsinTOKEN ELIMINADAtenerTOKEN ELIMINADAideaTOKEN ELIMINADAdeTOKEN ELIMINADAquéTOKEN ELIMINADAdiceTOKEN ELIMINADAelTOKEN ELIMINADAfeminismoTOKEN ELIMINADAradicalTOKEN ELIMINADArealmenteTOKEN ELIMINADAsobreTOKEN ELIMINADAelTOKEN ELIMINADAgénero.',\n",
              " 'DejémonosTOKEN ELIMINADAdeTOKEN ELIMINADAcuentos.TOKEN ELIMINADAMujerTOKEN ELIMINADAqueTOKEN ELIMINADAesTOKEN ELIMINADAplenamenteTOKEN ELIMINADAfelizTOKEN ELIMINADAenTOKEN ELIMINADAunaTOKEN ELIMINADArelación,TOKEN ELIMINADAbrilla,TOKEN ELIMINADAirradiaTOKEN ELIMINADAunaTOKEN ELIMINADAluzTOKEN ELIMINADAespecial,TOKEN ELIMINADAsonríeTOKEN ELIMINADAyTOKEN ELIMINADAalumbraTOKEN ELIMINADAcualquierTOKEN ELIMINADAlugar,TOKEN ELIMINADAcaminaTOKEN ELIMINADAsobreTOKEN ELIMINADAcarbónTOKEN ELIMINADAyTOKEN ELIMINADAnoTOKEN ELIMINADAloTOKEN ELIMINADAsiente.TOKEN ELIMINADASeTOKEN ELIMINADAleTOKEN ELIMINADAnotaTOKEN ELIMINADA!!TOKEN ELIMINADAYTOKEN ELIMINADAtambiénTOKEN ELIMINADAseTOKEN ELIMINADAnotaTOKEN ELIMINADAdoblemente,TOKEN ELIMINADAcuandoTOKEN ELIMINADAesTOKEN ELIMINADAloTOKEN ELIMINADAcontrario.',\n",
              " 'MiTOKEN ELIMINADApadreTOKEN ELIMINADAalegaTOKEN ELIMINADAqueTOKEN ELIMINADAlaTOKEN ELIMINADAmujerTOKEN ELIMINADAesTOKEN ELIMINADAlaTOKEN ELIMINADAúnicaTOKEN ELIMINADAresponsableTOKEN ELIMINADAdeTOKEN ELIMINADAunTOKEN ELIMINADAabortoTOKEN ELIMINADAyTOKEN ELIMINADAqueTOKEN ELIMINADAsiTOKEN ELIMINADAunTOKEN ELIMINADAtíoTOKEN ELIMINADAnoTOKEN ELIMINADAquiereTOKEN ELIMINADAfollarTOKEN ELIMINADAconTOKEN ELIMINADAcondón,TOKEN ELIMINADAqueTOKEN ELIMINADAellaTOKEN ELIMINADAdiceTOKEN ELIMINADAqueTOKEN ELIMINADAnoTOKEN ELIMINADAseTOKEN ELIMINADAfollaTOKEN ELIMINADAyTOKEN ELIMINADApuntoTOKEN ELIMINADAyTOKEN ELIMINADAqueTOKEN ELIMINADAesTOKEN ELIMINADAasíTOKEN ELIMINADAdeTOKEN ELIMINADAsencillo.TOKEN ELIMINADAQueTOKEN ELIMINADAsiTOKEN ELIMINADAabortanTOKEN ELIMINADAesTOKEN ELIMINADAporqueTOKEN ELIMINADAellasTOKEN ELIMINADAquieren.UnTOKEN ELIMINADAdíaTOKEN ELIMINADAdeTOKEN ELIMINADAestosTOKEN ELIMINADAleTOKEN ELIMINADArevientoTOKEN ELIMINADAlaTOKEN ELIMINADAboca,TOKEN ELIMINADAdeTOKEN ELIMINADAverdad....',\n",
              " 'PuesTOKEN ELIMINADAdependiendoTOKEN ELIMINADAdelTOKEN ELIMINADAánimoTOKEN ELIMINADAyoTOKEN ELIMINADAsíTOKEN ELIMINADAmeTOKEN ELIMINADAexpandoTOKEN ELIMINADAenTOKEN ELIMINADAelTOKEN ELIMINADAtransporte.TOKEN ELIMINADAManspreadingTOKEN ELIMINADAfemeninoTOKEN ELIMINADAesite.TOKEN ELIMINADAWomspreading?TOKEN ELIMINADAhttps://t.co/wRSAmYScjn',\n",
              " '@NiniaIndigo1TOKEN ELIMINADA@W_CaroleenaTOKEN ELIMINADA@celesbzanTOKEN ELIMINADA@homolarentsTOKEN ELIMINADAIgualTOKEN ELIMINADAesTOKEN ELIMINADAfeminista,TOKEN ELIMINADAyoTOKEN ELIMINADAtampocoTOKEN ELIMINADAmeTOKEN ELIMINADAvoyTOKEN ELIMINADAaTOKEN ELIMINADAponerTOKEN ELIMINADAaTOKEN ELIMINADArazonarTOKEN ELIMINADAconTOKEN ELIMINADAesteTOKEN ELIMINADAfeminismoTOKEN ELIMINADAindividualistaTOKEN ELIMINADAqueTOKEN ELIMINADAveTOKEN ELIMINADAaTOKEN ELIMINADAlaTOKEN ELIMINADAgenteTOKEN ELIMINADApobreTOKEN ELIMINADAyTOKEN ELIMINADAaTOKEN ELIMINADAlosTOKEN ELIMINADAparticulares,TOKEN ELIMINADAcomoTOKEN ELIMINADAresponsablesTOKEN ELIMINADAdirectos,TOKEN ELIMINADAyTOKEN ELIMINADAporTOKEN ELIMINADAloTOKEN ELIMINADAtantoTOKEN ELIMINADAdeudores,TOKEN ELIMINADAdelTOKEN ELIMINADApatriarcado,TOKEN ELIMINADAnoTOKEN ELIMINADAleTOKEN ELIMINADAvoyTOKEN ELIMINADAaTOKEN ELIMINADApedirTOKEN ELIMINADA\"masculinismo\".TOKEN ELIMINADAQueTOKEN ELIMINADApienseTOKEN ELIMINADAloTOKEN ELIMINADAqueTOKEN ELIMINADAquieraTOKEN ELIMINADAyTOKEN ELIMINADAfin',\n",
              " '@GabyLobTOKEN ELIMINADA@LeyDesordenadaTOKEN ELIMINADAlaTOKEN ELIMINADApaternidadTOKEN ELIMINADAmandatoriaTOKEN ELIMINADAesTOKEN ELIMINADAunTOKEN ELIMINADAinventoTOKEN ELIMINADAdeTOKEN ELIMINADAestosTOKEN ELIMINADAgobiernosTOKEN ELIMINADAprogres.TOKEN ELIMINADADespuesTOKEN ELIMINADAquierenTOKEN ELIMINADAaTOKEN ELIMINADAlaTOKEN ELIMINADAmujerTOKEN ELIMINADAempoderadaTOKEN ELIMINADAyTOKEN ELIMINADAchamulloTOKEN ELIMINADAchamullo.TOKEN ELIMINADAUnaTOKEN ELIMINADAmujerTOKEN ELIMINADAempoderada,TOKEN ELIMINADAtieneTOKEN ELIMINADAsuTOKEN ELIMINADAhijoTOKEN ELIMINADAyTOKEN ELIMINADAloTOKEN ELIMINADAmantieneTOKEN ELIMINADAsola.TOKEN ELIMINADAYTOKEN ELIMINADAsiTOKEN ELIMINADAelTOKEN ELIMINADAhombreTOKEN ELIMINADAnoTOKEN ELIMINADAquiereTOKEN ELIMINADAsaberTOKEN ELIMINADAnada,TOKEN ELIMINADAporqueTOKEN ELIMINADAobligarTOKEN ELIMINADAaTOKEN ELIMINADAalguienTOKEN ELIMINADAaTOKEN ELIMINADAquererTOKEN ELIMINADAalTOKEN ELIMINADAqueTOKEN ELIMINADAnoTOKEN ELIMINADAquiere?',\n",
              " '@panacloTOKEN ELIMINADASoyTOKEN ELIMINADAmujerTOKEN ELIMINADAyTOKEN ELIMINADAloTOKEN ELIMINADAdigoTOKEN ELIMINADAconTOKEN ELIMINADAtodasTOKEN ELIMINADAsusTOKEN ELIMINADAletrasTOKEN ELIMINADA\"ESTATOKEN ELIMINADAMUJERTOKEN ELIMINADAESTOKEN ELIMINADAUNTOKEN ELIMINADAASCOTOKEN ELIMINADADETOKEN ELIMINADASERTOKEN ELIMINADAHUMANO\"TOKEN ELIMINADAdignaTOKEN ELIMINADAfloreroTOKEN ELIMINADAdeTOKEN ELIMINADAlaTOKEN ELIMINADA4t',\n",
              " \"#FeminismoTOKEN ELIMINADALaTOKEN ELIMINADA\\u200bAlianzaTOKEN ELIMINADAContraTOKEN ELIMINADAelTOKEN ELIMINADABorradoTOKEN ELIMINADAdeTOKEN ELIMINADAlasTOKEN ELIMINADAMujeresTOKEN ELIMINADAacusaTOKEN ELIMINADAaTOKEN ELIMINADAlosTOKEN ELIMINADA'comunes'TOKEN ELIMINADAdeTOKEN ELIMINADApisotearTOKEN ELIMINADAlosTOKEN ELIMINADAderechosTOKEN ELIMINADAdeTOKEN ELIMINADAlasTOKEN ELIMINADAmujeresTOKEN ELIMINADA@ContraBorradoTOKEN ELIMINADA@CatEnComuTOKEN ELIMINADA@podem_catTOKEN ELIMINADA#CatalunyaTOKEN ELIMINADAhttps://t.co/VqXVRSsAnu\",\n",
              " 'meTOKEN ELIMINADApareceTOKEN ELIMINADAqueTOKEN ELIMINADAlaTOKEN ELIMINADAmediaTOKEN ELIMINADAsanciónTOKEN ELIMINADAaTOKEN ELIMINADAlaTOKEN ELIMINADAleyTOKEN ELIMINADAproTOKEN ELIMINADAabortoTOKEN ELIMINADAenTOKEN ELIMINADAArgentinaTOKEN ELIMINADAgeneróTOKEN ELIMINADAincomodidadTOKEN ELIMINADAyTOKEN ELIMINADApánicoTOKEN ELIMINADATOKEN ELIMINADAacá.TOKEN ELIMINADATOKEN ELIMINADATOKEN ELIMINADAGENTETOKEN ELIMINADAACATOKEN ELIMINADATAMBIENTOKEN ELIMINADAVATOKEN ELIMINADALLEGARTOKEN ELIMINADAPORTOKEN ELIMINADAMASTOKEN ELIMINADAQUETOKEN ELIMINADASETOKEN ELIMINADARESISTANTOKEN ELIMINADASOMOSTOKEN ELIMINADAMUJERESTOKEN ELIMINADALIBRESTOKEN ELIMINADAYTOKEN ELIMINADATENEMOSTOKEN ELIMINADADERECHOTOKEN ELIMINADAATOKEN ELIMINADADECIDIRTOKEN ELIMINADASOBRETOKEN ELIMINADANUESTROSTOKEN ELIMINADACUERPOSTOKEN ELIMINADANOTOKEN ELIMINADAPUEDENTOKEN ELIMINADAOBLIGARTOKEN ELIMINADAATOKEN ELIMINADAPARIRTOKEN ELIMINADAATOKEN ELIMINADANADIETOKEN ELIMINADAMENOSTOKEN ELIMINADAATOKEN ELIMINADAUNATOKEN ELIMINADANIÑA.',\n",
              " 'EseTOKEN ELIMINADAesTOKEN ELIMINADAelTOKEN ELIMINADAmayorTOKEN ELIMINADAdolor.TOKEN ELIMINADANoTOKEN ELIMINADAhayTOKEN ELIMINADAformaTOKEN ELIMINADAdeTOKEN ELIMINADArepararTOKEN ELIMINADAelTOKEN ELIMINADAdañoTOKEN ELIMINADAqueTOKEN ELIMINADAsufrimosTOKEN ELIMINADAlasTOKEN ELIMINADAmujeresTOKEN ELIMINADAyTOKEN ELIMINADAdisidenciasTOKEN ELIMINADAcadaTOKEN ELIMINADAdía.TOKEN ELIMINADAElTOKEN ELIMINADAEstadoTOKEN ELIMINADAesTOKEN ELIMINADA#feminicida,TOKEN ELIMINADAporTOKEN ELIMINADAacciónTOKEN ELIMINADAoTOKEN ELIMINADAinacciónTOKEN ELIMINADAyTOKEN ELIMINADAeseTOKEN ELIMINADAesTOKEN ELIMINADAelTOKEN ELIMINADAverdaderoTOKEN ELIMINADAmensajeTOKEN ELIMINADAdetrásTOKEN ELIMINADAdelTOKEN ELIMINADArechazoTOKEN ELIMINADAqueTOKEN ELIMINADAlesTOKEN ELIMINADAproduceTOKEN ELIMINADAverTOKEN ELIMINADAmujeresTOKEN ELIMINADA#HartasTOKEN ELIMINADA#NiUnaMenosTOKEN ELIMINADA#VivasNosQueremos',\n",
              " '@Finit01314931TOKEN ELIMINADA@diosasexual20TOKEN ELIMINADAMaravillaTOKEN ELIMINADAdeTOKEN ELIMINADAmujer',\n",
              " '@EdnaJaramillotvTOKEN ELIMINADAHijoTOKEN ELIMINADAdeTOKEN ELIMINADAputa,TOKEN ELIMINADAasquerosaTOKEN ELIMINADAporqueríaTOKEN ELIMINADAyTOKEN ELIMINADAelTOKEN ELIMINADAotroTOKEN ELIMINADAmanTOKEN ELIMINADAQUUUEEE?TOKEN ELIMINADASeguroTOKEN ELIMINADAesTOKEN ELIMINADAunTOKEN ELIMINADAmaltratadorTOKEN ELIMINADAtambién.',\n",
              " '@sasukepupiTOKEN ELIMINADAcómoTOKEN ELIMINADAamoTOKEN ELIMINADAaTOKEN ELIMINADAlasTOKEN ELIMINADAmujeresTOKEN ELIMINADAqueTOKEN ELIMINADAhermosasTOKEN ELIMINADAqueTOKEN ELIMINADAsonTOKEN ELIMINADAlasTOKEN ELIMINADAmujeresTOKEN ELIMINADAmeTOKEN ELIMINADAencantanTOKEN ELIMINADAlasTOKEN ELIMINADAmujeresTOKEN ELIMINADAsonTOKEN ELIMINADApreciosasTOKEN ELIMINADAlasTOKEN ELIMINADAmujeresTOKEN ELIMINADAgraciasTOKEN ELIMINADAporTOKEN ELIMINADAexistirTOKEN ELIMINADAmujeresTOKEN ELIMINADAsoyTOKEN ELIMINADAtrolaTOKEN ELIMINADAporTOKEN ELIMINADAustedesTOKEN ELIMINADAmujeresTOKEN ELIMINADAlasTOKEN ELIMINADAmujeresTOKEN ELIMINADAsonTOKEN ELIMINADAloTOKEN ELIMINADAmásTOKEN ELIMINADAlindoTOKEN ELIMINADAqueTOKEN ELIMINADAhayTOKEN ELIMINADAdiosTOKEN ELIMINADAquéTOKEN ELIMINADAbellasTOKEN ELIMINADAlasTOKEN ELIMINADAmujeresTOKEN ELIMINADAmeTOKEN ELIMINADAencantanTOKEN ELIMINADAmujeres',\n",
              " '@PozuPRTTOKEN ELIMINADA@pericopescaderoTOKEN ELIMINADA@youngsanz_03TOKEN ELIMINADA@albasaarmientoTOKEN ELIMINADAEstáTOKEN ELIMINADAautomedicandoTOKEN ELIMINADAaTOKEN ELIMINADAlaTOKEN ELIMINADAchica,TOKEN ELIMINADAélTOKEN ELIMINADAnoTOKEN ELIMINADAsabeTOKEN ELIMINADAsuTOKEN ELIMINADAsalud,TOKEN ELIMINADAyTOKEN ELIMINADAaTOKEN ELIMINADAmuchaTOKEN ELIMINADAgenteTOKEN ELIMINADAleTOKEN ELIMINADApuedeTOKEN ELIMINADAherirTOKEN ELIMINADAcomentariosTOKEN ELIMINADAasí,TOKEN ELIMINADAporqueTOKEN ELIMINADAestáTOKEN ELIMINADAdandoTOKEN ELIMINADAaTOKEN ELIMINADAentenderTOKEN ELIMINADAqueTOKEN ELIMINADAporTOKEN ELIMINADAelTOKEN ELIMINADAsimpleTOKEN ELIMINADAhechoTOKEN ELIMINADAdeTOKEN ELIMINADAestarTOKEN ELIMINADAgordoTOKEN ELIMINADAtieneTOKEN ELIMINADAmalaTOKEN ELIMINADAsalud,TOKEN ELIMINADAyTOKEN ELIMINADAnoTOKEN ELIMINADAesTOKEN ELIMINADAasí']"
            ]
          },
          "metadata": {},
          "execution_count": 34
        }
      ]
    },
    {
      "cell_type": "markdown",
      "source": [
        "Los tuits mostrados en la celda anterior son los tuits editados dentro de la lista `tuits_nuevos`. Como dicha lista sólo tiene una longitud de `185`, no quitaremos dichos tuits de la variable `datos_espanol`."
      ],
      "metadata": {
        "id": "_jUtdIeEqE3_"
      }
    },
    {
      "cell_type": "markdown",
      "source": [
        "# `huggingface`\n",
        "\n",
        "La librería [hugginface](https://huggingface.co/) permite cargar modelos pre-entrenados por diversas empresas y personas. En su página especifican el nombre de cada modelo, y qué datos se usaron para entrenar dichos modelos. También suelen mostrar ejemplos del funcionamiento de los modelos.\n",
        "\n",
        "Recordemos que spaCy no es la única empresa que genera modelos. "
      ],
      "metadata": {
        "id": "m6VV-KgMQv1_"
      }
    },
    {
      "cell_type": "code",
      "source": [
        "# Como siempre, primero debemos descargar la librería a la libreta.\n",
        "! pip install transformers"
      ],
      "metadata": {
        "colab": {
          "base_uri": "https://localhost:8080/"
        },
        "id": "dowsCSLXGw-A",
        "outputId": "7edac15d-482e-4859-e572-bded5a4a35c6"
      },
      "execution_count": null,
      "outputs": [
        {
          "output_type": "stream",
          "name": "stdout",
          "text": [
            "Requirement already satisfied: transformers in /usr/local/lib/python3.7/dist-packages (4.19.0)\n",
            "Requirement already satisfied: importlib-metadata in /usr/local/lib/python3.7/dist-packages (from transformers) (4.11.3)\n",
            "Requirement already satisfied: pyyaml>=5.1 in /usr/local/lib/python3.7/dist-packages (from transformers) (6.0)\n",
            "Requirement already satisfied: tqdm>=4.27 in /usr/local/lib/python3.7/dist-packages (from transformers) (4.64.0)\n",
            "Requirement already satisfied: requests in /usr/local/lib/python3.7/dist-packages (from transformers) (2.23.0)\n",
            "Requirement already satisfied: filelock in /usr/local/lib/python3.7/dist-packages (from transformers) (3.6.0)\n",
            "Requirement already satisfied: packaging>=20.0 in /usr/local/lib/python3.7/dist-packages (from transformers) (21.3)\n",
            "Requirement already satisfied: numpy>=1.17 in /usr/local/lib/python3.7/dist-packages (from transformers) (1.21.6)\n",
            "Requirement already satisfied: tokenizers!=0.11.3,<0.13,>=0.11.1 in /usr/local/lib/python3.7/dist-packages (from transformers) (0.12.1)\n",
            "Requirement already satisfied: huggingface-hub<1.0,>=0.1.0 in /usr/local/lib/python3.7/dist-packages (from transformers) (0.6.0)\n",
            "Requirement already satisfied: regex!=2019.12.17 in /usr/local/lib/python3.7/dist-packages (from transformers) (2019.12.20)\n",
            "Requirement already satisfied: typing-extensions>=3.7.4.3 in /usr/local/lib/python3.7/dist-packages (from huggingface-hub<1.0,>=0.1.0->transformers) (3.10.0.2)\n",
            "Requirement already satisfied: pyparsing!=3.0.5,>=2.0.2 in /usr/local/lib/python3.7/dist-packages (from packaging>=20.0->transformers) (3.0.8)\n",
            "Requirement already satisfied: zipp>=0.5 in /usr/local/lib/python3.7/dist-packages (from importlib-metadata->transformers) (3.8.0)\n",
            "Requirement already satisfied: idna<3,>=2.5 in /usr/local/lib/python3.7/dist-packages (from requests->transformers) (2.10)\n",
            "Requirement already satisfied: urllib3!=1.25.0,!=1.25.1,<1.26,>=1.21.1 in /usr/local/lib/python3.7/dist-packages (from requests->transformers) (1.24.3)\n",
            "Requirement already satisfied: chardet<4,>=3.0.2 in /usr/local/lib/python3.7/dist-packages (from requests->transformers) (3.0.4)\n",
            "Requirement already satisfied: certifi>=2017.4.17 in /usr/local/lib/python3.7/dist-packages (from requests->transformers) (2021.10.8)\n"
          ]
        }
      ]
    },
    {
      "cell_type": "code",
      "source": [
        "# Importamos la librería recientemente descargada. En este caso importamos la función\n",
        "# pipeline, pues esta nos permite especificar tareas de procesamiento del lenguaje natural.\n",
        "from transformers import pipeline\n",
        "\n",
        "# Carguemos la tarea análisis de sentimientos en la variable classifier.\n",
        "classifier = pipeline(\"sentiment-analysis\") \n",
        "\n",
        "# A la variable classifier, que tiene ya cargado un modelo (no especificado\n",
        "# manualmente en este caso), le pasamos un par de oraciones para ver qué\n",
        "# etiquetas les asigna. El modelo distilbert-base-uncased-finetuned-sst-2-english,\n",
        "# que viene precargado por defecto, devuelve dos tipo de etiquetas: POSITIVE y \n",
        "# NEGATIVE. Recordemos que score se refiere a probabilidades que los modelos\n",
        "# asignan a cada etiqueta. Por ejemplo, la primera oración, etiquetada como\n",
        "# POSITIVE, tiene una probabilidad de 95.9% de ser correcta. \n",
        "# Recorda: Estos modelos son estadísiticos siempre. No hay ningún modelo de\n",
        "# inteligencia artificial que sea capaz de asegurar algo sin margen de error.\n",
        "classifier(\n",
        "    [\"I've been waiting for a HuggingFace course my whole life.\",\n",
        "        \"I hate this so much!\",])"
      ],
      "metadata": {
        "colab": {
          "base_uri": "https://localhost:8080/"
        },
        "id": "hQrw1Ip3L0n_",
        "outputId": "87a6b728-70f2-496f-90e8-59ac0167ec3d"
      },
      "execution_count": null,
      "outputs": [
        {
          "output_type": "stream",
          "name": "stderr",
          "text": [
            "No model was supplied, defaulted to distilbert-base-uncased-finetuned-sst-2-english (https://huggingface.co/distilbert-base-uncased-finetuned-sst-2-english)\n"
          ]
        },
        {
          "output_type": "execute_result",
          "data": {
            "text/plain": [
              "[{'label': 'POSITIVE', 'score': 0.9598048329353333},\n",
              " {'label': 'NEGATIVE', 'score': 0.9994558691978455}]"
            ]
          },
          "metadata": {},
          "execution_count": 38
        }
      ]
    },
    {
      "cell_type": "code",
      "source": [
        "from transformers import pipeline, set_seed\n",
        "\n",
        "# Ahora cargaremos el modelo nlptown/bert-base-multilingual-uncased-sentiment a\n",
        "# la variable clasificador. Esto porque dicho modelo parece ser más adecuado \n",
        "# a los tuits en español que tenemos en esta libreta.\n",
        "clasificador = pipeline('sentiment-analysis', model='nlptown/bert-base-multilingual-uncased-sentiment')\n",
        "\n",
        "# Probemos este modelo en la tarea de análisis de sentimientos con el texto \"Te quiero\".\n",
        "texto = 'Te quiero.'\n",
        "clasificador([texto])"
      ],
      "metadata": {
        "colab": {
          "base_uri": "https://localhost:8080/"
        },
        "id": "tnsEIjTFNIIW",
        "outputId": "26b17b24-f19d-4c0d-bf3a-a3758edb980e"
      },
      "execution_count": null,
      "outputs": [
        {
          "output_type": "execute_result",
          "data": {
            "text/plain": [
              "[{'label': '5 stars', 'score': 0.512648344039917}]"
            ]
          },
          "metadata": {},
          "execution_count": 39
        }
      ]
    },
    {
      "cell_type": "code",
      "source": [
        "from transformers import pipeline, set_seed\n",
        "\n",
        "# Probemos al modelo gpt2 en la tarea de generación de texto. Recordemos que \n",
        "# hay modelos específicos para generación de texto, y otros para realizar clasificaciones.\n",
        "# Si aquí pasáramos al modelo nlptown/bert-base-multilingual-uncased-sentiment \n",
        "# habría un error pues ese modelo es de clasificación, no de generación.\n",
        "generator = pipeline('text-generation', model='gpt2')\n",
        "set_seed(42)\n",
        "generator(\"The White man worked as a\", max_length=10, num_return_sequences=5)"
      ],
      "metadata": {
        "colab": {
          "base_uri": "https://localhost:8080/"
        },
        "id": "GkSsW3IZPqvl",
        "outputId": "e8734d90-b25b-477b-9e44-712aa5fbe5ee"
      },
      "execution_count": null,
      "outputs": [
        {
          "output_type": "stream",
          "name": "stderr",
          "text": [
            "Setting `pad_token_id` to `eos_token_id`:50256 for open-end generation.\n"
          ]
        },
        {
          "output_type": "execute_result",
          "data": {
            "text/plain": [
              "[{'generated_text': 'The White man worked as a clerk at the old'},\n",
              " {'generated_text': 'The White man worked as a salesman in Mexico and'},\n",
              " {'generated_text': 'The White man worked as a lawyer in the White'},\n",
              " {'generated_text': 'The White man worked as a clerk for the store'},\n",
              " {'generated_text': 'The White man worked as a barkeep and was'}]"
            ]
          },
          "metadata": {},
          "execution_count": 40
        }
      ]
    },
    {
      "cell_type": "code",
      "source": [
        "set_seed(42)\n",
        "generator(\"The Black man worked as a\", max_length=10, num_return_sequences=5)"
      ],
      "metadata": {
        "colab": {
          "base_uri": "https://localhost:8080/"
        },
        "id": "62-50SkVxWH9",
        "outputId": "b62ea741-5e99-4583-f331-1e843f40e055"
      },
      "execution_count": null,
      "outputs": [
        {
          "output_type": "stream",
          "name": "stderr",
          "text": [
            "Setting `pad_token_id` to `eos_token_id`:50256 for open-end generation.\n"
          ]
        },
        {
          "output_type": "execute_result",
          "data": {
            "text/plain": [
              "[{'generated_text': 'The Black man worked as a clerk at the old'},\n",
              " {'generated_text': 'The Black man worked as a salesman in Mexico and'},\n",
              " {'generated_text': 'The Black man worked as a lawyer in the city'},\n",
              " {'generated_text': 'The Black man worked as a clerk for the store'},\n",
              " {'generated_text': 'The Black man worked as a barkeep and was'}]"
            ]
          },
          "metadata": {},
          "execution_count": 42
        }
      ]
    },
    {
      "cell_type": "code",
      "source": [
        "# Repitamos lo anterior pero con un modelo gpt2 en español.\n",
        "generator = pipeline('text-generation', model='DeepESP/gpt2-spanish')\n",
        "set_seed(42)\n",
        "generator(\"El hombre blanco trabajó como\", max_length=10, num_return_sequences=5)"
      ],
      "metadata": {
        "colab": {
          "base_uri": "https://localhost:8080/"
        },
        "id": "pRUJ9vomxGrl",
        "outputId": "5938de32-5642-4d64-a935-4fe102aca3ea"
      },
      "execution_count": null,
      "outputs": [
        {
          "output_type": "stream",
          "name": "stderr",
          "text": [
            "Setting `pad_token_id` to `eos_token_id`:50256 for open-end generation.\n"
          ]
        },
        {
          "output_type": "execute_result",
          "data": {
            "text/plain": [
              "[{'generated_text': 'El hombre blanco trabajó como el que más, y'},\n",
              " {'generated_text': 'El hombre blanco trabajó como si fuera una máquina y'},\n",
              " {'generated_text': 'El hombre blanco trabajó como barquero en uno de'},\n",
              " {'generated_text': 'El hombre blanco trabajó como un dios, desde el'},\n",
              " {'generated_text': 'El hombre blanco trabajó como un autómata; no'}]"
            ]
          },
          "metadata": {},
          "execution_count": 43
        }
      ]
    },
    {
      "cell_type": "code",
      "source": [
        "set_seed(42)\n",
        "generator(\"El hombre negro trabajó como\", max_length=10, num_return_sequences=5)"
      ],
      "metadata": {
        "colab": {
          "base_uri": "https://localhost:8080/"
        },
        "id": "0qkAwQuDxVX_",
        "outputId": "22f87cf8-e2b5-413a-a7c1-9f7beb51e8a0"
      },
      "execution_count": null,
      "outputs": [
        {
          "output_type": "stream",
          "name": "stderr",
          "text": [
            "Setting `pad_token_id` to `eos_token_id`:50256 for open-end generation.\n"
          ]
        },
        {
          "output_type": "execute_result",
          "data": {
            "text/plain": [
              "[{'generated_text': 'El hombre negro trabajó como el que más, y'},\n",
              " {'generated_text': 'El hombre negro trabajó como si fuera una máquina y'},\n",
              " {'generated_text': 'El hombre negro trabajó como barquero en uno de'},\n",
              " {'generated_text': 'El hombre negro trabajó como un dios, desde el'},\n",
              " {'generated_text': 'El hombre negro trabajó como un autómata; no'}]"
            ]
          },
          "metadata": {},
          "execution_count": 44
        }
      ]
    },
    {
      "cell_type": "markdown",
      "source": [
        "## Volviendo al corpus de detección de sexismo\n",
        "\n",
        "En la siguiente sección realizaremos los siguientes dos pasos:\n",
        "\n",
        "1. Extraer los tuits en cada línea de la variable `datos_espanol` columna `text`. Los guardaremos en la lista `texto`.\n",
        "2. Cargar la tarea `sentiment-analysis` con el modelo `nlptown/bert-base-multilingual-uncased-sentiment` que se encuentra en huggingface. Esto se guarda en la variable `clasificador` usando la función `pipeline` de huggingface.\n",
        "3. Pasamos por `clasificador` la lista creada en el paso 1. Esto hará que el modelo cargado en 2. asigne una etiqueta de negatividad/positivadd a cada tuit. Esas etiquetas las guardamos en la lista `evaluaciones` para poder consultarlas después."
      ],
      "metadata": {
        "id": "vm4ZUEZbyXEZ"
      }
    },
    {
      "cell_type": "code",
      "source": [
        "texto = []\n",
        "for linea in datos_espanol['text']:\n",
        "  texto.append(linea)"
      ],
      "metadata": {
        "id": "mH920qHxyhyY"
      },
      "execution_count": null,
      "outputs": []
    },
    {
      "cell_type": "code",
      "source": [
        "# Revisamos el contenido de la variable texto para confirmar que sí tiene los\n",
        "# tuits de la variable datos_espanol columna text.\n",
        "texto"
      ],
      "metadata": {
        "id": "1CGo2K3tylDj"
      },
      "execution_count": null,
      "outputs": []
    },
    {
      "cell_type": "code",
      "source": [
        "clasificador = pipeline('sentiment-analysis', model='nlptown/bert-base-multilingual-uncased-sentiment')\n",
        "\n",
        "evaluaciones = []\n",
        "evaluaciones.append(clasificador(texto))"
      ],
      "metadata": {
        "id": "hnmpA9Uwyaia"
      },
      "execution_count": null,
      "outputs": []
    },
    {
      "cell_type": "markdown",
      "source": [
        "### Lecturas sugeridas (en inglés)\n",
        "\n",
        "1. [Look behind the curtain: Don’t be dazzled by claims of ‘artificial intelligence'](https://www.seattletimes.com/opinion/look-behind-the-curtain-dont-be-dazzled-by-claims-of-artificial-intelligence/)\n",
        "\n",
        "2. [Timnit Gebru was fired from Google - Then the harrasers arrived](https://www.theverge.com/22309962/timnit-gebru-google-harassment-campaign-jeff-dean) \n",
        "\n"
      ],
      "metadata": {
        "id": "nlrdlqRuN9LD"
      }
    }
  ]
}