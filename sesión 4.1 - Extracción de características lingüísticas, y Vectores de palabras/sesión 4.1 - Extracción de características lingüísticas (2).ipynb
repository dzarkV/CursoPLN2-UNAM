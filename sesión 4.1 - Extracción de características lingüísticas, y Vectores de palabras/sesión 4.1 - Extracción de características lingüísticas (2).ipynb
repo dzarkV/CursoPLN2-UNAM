{
  "cells": [
    {
      "cell_type": "code",
      "execution_count": 1,
      "metadata": {
        "colab": {
          "base_uri": "https://localhost:8080/"
        },
        "id": "yh4g890jpZkw",
        "outputId": "ddbe5366-d77d-4ba9-a4c8-efd988851f23"
      },
      "outputs": [
        {
          "output_type": "stream",
          "name": "stdout",
          "text": [
            "Requirement already satisfied: spacy in /usr/local/lib/python3.7/dist-packages (2.2.4)\n",
            "Collecting spacy\n",
            "  Downloading spacy-3.3.0-cp37-cp37m-manylinux_2_17_x86_64.manylinux2014_x86_64.whl (6.2 MB)\n",
            "\u001b[K     |████████████████████████████████| 6.2 MB 6.7 MB/s \n",
            "\u001b[?25hRequirement already satisfied: cymem<2.1.0,>=2.0.2 in /usr/local/lib/python3.7/dist-packages (from spacy) (2.0.6)\n",
            "Requirement already satisfied: setuptools in /usr/local/lib/python3.7/dist-packages (from spacy) (57.4.0)\n",
            "Collecting pathy>=0.3.5\n",
            "  Downloading pathy-0.6.1-py3-none-any.whl (42 kB)\n",
            "\u001b[K     |████████████████████████████████| 42 kB 1.4 MB/s \n",
            "\u001b[?25hRequirement already satisfied: murmurhash<1.1.0,>=0.28.0 in /usr/local/lib/python3.7/dist-packages (from spacy) (1.0.7)\n",
            "Collecting catalogue<2.1.0,>=2.0.6\n",
            "  Downloading catalogue-2.0.7-py3-none-any.whl (17 kB)\n",
            "Requirement already satisfied: numpy>=1.15.0 in /usr/local/lib/python3.7/dist-packages (from spacy) (1.21.6)\n",
            "Collecting langcodes<4.0.0,>=3.2.0\n",
            "  Downloading langcodes-3.3.0-py3-none-any.whl (181 kB)\n",
            "\u001b[K     |████████████████████████████████| 181 kB 51.4 MB/s \n",
            "\u001b[?25hRequirement already satisfied: blis<0.8.0,>=0.4.0 in /usr/local/lib/python3.7/dist-packages (from spacy) (0.4.1)\n",
            "Requirement already satisfied: tqdm<5.0.0,>=4.38.0 in /usr/local/lib/python3.7/dist-packages (from spacy) (4.64.0)\n",
            "Collecting typing-extensions<4.0.0.0,>=3.7.4\n",
            "  Downloading typing_extensions-3.10.0.2-py3-none-any.whl (26 kB)\n",
            "Collecting spacy-loggers<2.0.0,>=1.0.0\n",
            "  Downloading spacy_loggers-1.0.2-py3-none-any.whl (7.2 kB)\n",
            "Requirement already satisfied: packaging>=20.0 in /usr/local/lib/python3.7/dist-packages (from spacy) (21.3)\n",
            "Requirement already satisfied: preshed<3.1.0,>=3.0.2 in /usr/local/lib/python3.7/dist-packages (from spacy) (3.0.6)\n",
            "Requirement already satisfied: requests<3.0.0,>=2.13.0 in /usr/local/lib/python3.7/dist-packages (from spacy) (2.23.0)\n",
            "Collecting thinc<8.1.0,>=8.0.14\n",
            "  Downloading thinc-8.0.15-cp37-cp37m-manylinux_2_17_x86_64.manylinux2014_x86_64.whl (653 kB)\n",
            "\u001b[K     |████████████████████████████████| 653 kB 45.4 MB/s \n",
            "\u001b[?25hCollecting srsly<3.0.0,>=2.4.3\n",
            "  Downloading srsly-2.4.3-cp37-cp37m-manylinux_2_17_x86_64.manylinux2014_x86_64.whl (457 kB)\n",
            "\u001b[K     |████████████████████████████████| 457 kB 45.5 MB/s \n",
            "\u001b[?25hCollecting pydantic!=1.8,!=1.8.1,<1.9.0,>=1.7.4\n",
            "  Downloading pydantic-1.8.2-cp37-cp37m-manylinux2014_x86_64.whl (10.1 MB)\n",
            "\u001b[K     |████████████████████████████████| 10.1 MB 30.0 MB/s \n",
            "\u001b[?25hRequirement already satisfied: jinja2 in /usr/local/lib/python3.7/dist-packages (from spacy) (2.11.3)\n",
            "Collecting typer<0.5.0,>=0.3.0\n",
            "  Downloading typer-0.4.1-py3-none-any.whl (27 kB)\n",
            "Collecting spacy-legacy<3.1.0,>=3.0.9\n",
            "  Downloading spacy_legacy-3.0.9-py2.py3-none-any.whl (20 kB)\n",
            "Requirement already satisfied: wasabi<1.1.0,>=0.9.1 in /usr/local/lib/python3.7/dist-packages (from spacy) (0.9.1)\n",
            "Requirement already satisfied: zipp>=0.5 in /usr/local/lib/python3.7/dist-packages (from catalogue<2.1.0,>=2.0.6->spacy) (3.8.0)\n",
            "Requirement already satisfied: pyparsing!=3.0.5,>=2.0.2 in /usr/local/lib/python3.7/dist-packages (from packaging>=20.0->spacy) (3.0.8)\n",
            "Collecting smart-open<6.0.0,>=5.0.0\n",
            "  Downloading smart_open-5.2.1-py3-none-any.whl (58 kB)\n",
            "\u001b[K     |████████████████████████████████| 58 kB 4.8 MB/s \n",
            "\u001b[?25hRequirement already satisfied: idna<3,>=2.5 in /usr/local/lib/python3.7/dist-packages (from requests<3.0.0,>=2.13.0->spacy) (2.10)\n",
            "Requirement already satisfied: certifi>=2017.4.17 in /usr/local/lib/python3.7/dist-packages (from requests<3.0.0,>=2.13.0->spacy) (2021.10.8)\n",
            "Requirement already satisfied: urllib3!=1.25.0,!=1.25.1,<1.26,>=1.21.1 in /usr/local/lib/python3.7/dist-packages (from requests<3.0.0,>=2.13.0->spacy) (1.24.3)\n",
            "Requirement already satisfied: chardet<4,>=3.0.2 in /usr/local/lib/python3.7/dist-packages (from requests<3.0.0,>=2.13.0->spacy) (3.0.4)\n",
            "Requirement already satisfied: click<9.0.0,>=7.1.1 in /usr/local/lib/python3.7/dist-packages (from typer<0.5.0,>=0.3.0->spacy) (7.1.2)\n",
            "Requirement already satisfied: MarkupSafe>=0.23 in /usr/local/lib/python3.7/dist-packages (from jinja2->spacy) (2.0.1)\n",
            "Installing collected packages: typing-extensions, catalogue, typer, srsly, smart-open, pydantic, thinc, spacy-loggers, spacy-legacy, pathy, langcodes, spacy\n",
            "  Attempting uninstall: typing-extensions\n",
            "    Found existing installation: typing-extensions 4.2.0\n",
            "    Uninstalling typing-extensions-4.2.0:\n",
            "      Successfully uninstalled typing-extensions-4.2.0\n",
            "  Attempting uninstall: catalogue\n",
            "    Found existing installation: catalogue 1.0.0\n",
            "    Uninstalling catalogue-1.0.0:\n",
            "      Successfully uninstalled catalogue-1.0.0\n",
            "  Attempting uninstall: srsly\n",
            "    Found existing installation: srsly 1.0.5\n",
            "    Uninstalling srsly-1.0.5:\n",
            "      Successfully uninstalled srsly-1.0.5\n",
            "  Attempting uninstall: smart-open\n",
            "    Found existing installation: smart-open 6.0.0\n",
            "    Uninstalling smart-open-6.0.0:\n",
            "      Successfully uninstalled smart-open-6.0.0\n",
            "  Attempting uninstall: thinc\n",
            "    Found existing installation: thinc 7.4.0\n",
            "    Uninstalling thinc-7.4.0:\n",
            "      Successfully uninstalled thinc-7.4.0\n",
            "  Attempting uninstall: spacy\n",
            "    Found existing installation: spacy 2.2.4\n",
            "    Uninstalling spacy-2.2.4:\n",
            "      Successfully uninstalled spacy-2.2.4\n",
            "\u001b[31mERROR: pip's dependency resolver does not currently take into account all the packages that are installed. This behaviour is the source of the following dependency conflicts.\n",
            "tensorflow 2.8.0 requires tf-estimator-nightly==2.8.0.dev2021122109, which is not installed.\u001b[0m\n",
            "Successfully installed catalogue-2.0.7 langcodes-3.3.0 pathy-0.6.1 pydantic-1.8.2 smart-open-5.2.1 spacy-3.3.0 spacy-legacy-3.0.9 spacy-loggers-1.0.2 srsly-2.4.3 thinc-8.0.15 typer-0.4.1 typing-extensions-3.10.0.2\n",
            "Collecting es-dep-news-trf==3.3.0\n",
            "  Downloading https://github.com/explosion/spacy-models/releases/download/es_dep_news_trf-3.3.0/es_dep_news_trf-3.3.0-py3-none-any.whl (410.2 MB)\n",
            "\u001b[K     |████████████████████████████████| 410.2 MB 10 kB/s \n",
            "\u001b[?25hRequirement already satisfied: spacy<3.4.0,>=3.3.0.dev0 in /usr/local/lib/python3.7/dist-packages (from es-dep-news-trf==3.3.0) (3.3.0)\n",
            "Collecting spacy-transformers<1.2.0,>=1.1.2\n",
            "  Downloading spacy_transformers-1.1.5-py2.py3-none-any.whl (51 kB)\n",
            "\u001b[K     |████████████████████████████████| 51 kB 143 kB/s \n",
            "\u001b[?25hRequirement already satisfied: requests<3.0.0,>=2.13.0 in /usr/local/lib/python3.7/dist-packages (from spacy<3.4.0,>=3.3.0.dev0->es-dep-news-trf==3.3.0) (2.23.0)\n",
            "Requirement already satisfied: thinc<8.1.0,>=8.0.14 in /usr/local/lib/python3.7/dist-packages (from spacy<3.4.0,>=3.3.0.dev0->es-dep-news-trf==3.3.0) (8.0.15)\n",
            "Requirement already satisfied: numpy>=1.15.0 in /usr/local/lib/python3.7/dist-packages (from spacy<3.4.0,>=3.3.0.dev0->es-dep-news-trf==3.3.0) (1.21.6)\n",
            "Requirement already satisfied: typing-extensions<4.0.0.0,>=3.7.4 in /usr/local/lib/python3.7/dist-packages (from spacy<3.4.0,>=3.3.0.dev0->es-dep-news-trf==3.3.0) (3.10.0.2)\n",
            "Requirement already satisfied: pathy>=0.3.5 in /usr/local/lib/python3.7/dist-packages (from spacy<3.4.0,>=3.3.0.dev0->es-dep-news-trf==3.3.0) (0.6.1)\n",
            "Requirement already satisfied: cymem<2.1.0,>=2.0.2 in /usr/local/lib/python3.7/dist-packages (from spacy<3.4.0,>=3.3.0.dev0->es-dep-news-trf==3.3.0) (2.0.6)\n",
            "Requirement already satisfied: spacy-legacy<3.1.0,>=3.0.9 in /usr/local/lib/python3.7/dist-packages (from spacy<3.4.0,>=3.3.0.dev0->es-dep-news-trf==3.3.0) (3.0.9)\n",
            "Requirement already satisfied: langcodes<4.0.0,>=3.2.0 in /usr/local/lib/python3.7/dist-packages (from spacy<3.4.0,>=3.3.0.dev0->es-dep-news-trf==3.3.0) (3.3.0)\n",
            "Requirement already satisfied: srsly<3.0.0,>=2.4.3 in /usr/local/lib/python3.7/dist-packages (from spacy<3.4.0,>=3.3.0.dev0->es-dep-news-trf==3.3.0) (2.4.3)\n",
            "Requirement already satisfied: packaging>=20.0 in /usr/local/lib/python3.7/dist-packages (from spacy<3.4.0,>=3.3.0.dev0->es-dep-news-trf==3.3.0) (21.3)\n",
            "Requirement already satisfied: murmurhash<1.1.0,>=0.28.0 in /usr/local/lib/python3.7/dist-packages (from spacy<3.4.0,>=3.3.0.dev0->es-dep-news-trf==3.3.0) (1.0.7)\n",
            "Requirement already satisfied: typer<0.5.0,>=0.3.0 in /usr/local/lib/python3.7/dist-packages (from spacy<3.4.0,>=3.3.0.dev0->es-dep-news-trf==3.3.0) (0.4.1)\n",
            "Requirement already satisfied: tqdm<5.0.0,>=4.38.0 in /usr/local/lib/python3.7/dist-packages (from spacy<3.4.0,>=3.3.0.dev0->es-dep-news-trf==3.3.0) (4.64.0)\n",
            "Requirement already satisfied: preshed<3.1.0,>=3.0.2 in /usr/local/lib/python3.7/dist-packages (from spacy<3.4.0,>=3.3.0.dev0->es-dep-news-trf==3.3.0) (3.0.6)\n",
            "Requirement already satisfied: setuptools in /usr/local/lib/python3.7/dist-packages (from spacy<3.4.0,>=3.3.0.dev0->es-dep-news-trf==3.3.0) (57.4.0)\n",
            "Requirement already satisfied: spacy-loggers<2.0.0,>=1.0.0 in /usr/local/lib/python3.7/dist-packages (from spacy<3.4.0,>=3.3.0.dev0->es-dep-news-trf==3.3.0) (1.0.2)\n",
            "Requirement already satisfied: jinja2 in /usr/local/lib/python3.7/dist-packages (from spacy<3.4.0,>=3.3.0.dev0->es-dep-news-trf==3.3.0) (2.11.3)\n",
            "Requirement already satisfied: wasabi<1.1.0,>=0.9.1 in /usr/local/lib/python3.7/dist-packages (from spacy<3.4.0,>=3.3.0.dev0->es-dep-news-trf==3.3.0) (0.9.1)\n",
            "Requirement already satisfied: catalogue<2.1.0,>=2.0.6 in /usr/local/lib/python3.7/dist-packages (from spacy<3.4.0,>=3.3.0.dev0->es-dep-news-trf==3.3.0) (2.0.7)\n",
            "Requirement already satisfied: blis<0.8.0,>=0.4.0 in /usr/local/lib/python3.7/dist-packages (from spacy<3.4.0,>=3.3.0.dev0->es-dep-news-trf==3.3.0) (0.4.1)\n",
            "Requirement already satisfied: pydantic!=1.8,!=1.8.1,<1.9.0,>=1.7.4 in /usr/local/lib/python3.7/dist-packages (from spacy<3.4.0,>=3.3.0.dev0->es-dep-news-trf==3.3.0) (1.8.2)\n",
            "Requirement already satisfied: zipp>=0.5 in /usr/local/lib/python3.7/dist-packages (from catalogue<2.1.0,>=2.0.6->spacy<3.4.0,>=3.3.0.dev0->es-dep-news-trf==3.3.0) (3.8.0)\n",
            "Requirement already satisfied: pyparsing!=3.0.5,>=2.0.2 in /usr/local/lib/python3.7/dist-packages (from packaging>=20.0->spacy<3.4.0,>=3.3.0.dev0->es-dep-news-trf==3.3.0) (3.0.8)\n",
            "Requirement already satisfied: smart-open<6.0.0,>=5.0.0 in /usr/local/lib/python3.7/dist-packages (from pathy>=0.3.5->spacy<3.4.0,>=3.3.0.dev0->es-dep-news-trf==3.3.0) (5.2.1)\n",
            "Requirement already satisfied: idna<3,>=2.5 in /usr/local/lib/python3.7/dist-packages (from requests<3.0.0,>=2.13.0->spacy<3.4.0,>=3.3.0.dev0->es-dep-news-trf==3.3.0) (2.10)\n",
            "Requirement already satisfied: urllib3!=1.25.0,!=1.25.1,<1.26,>=1.21.1 in /usr/local/lib/python3.7/dist-packages (from requests<3.0.0,>=2.13.0->spacy<3.4.0,>=3.3.0.dev0->es-dep-news-trf==3.3.0) (1.24.3)\n",
            "Requirement already satisfied: chardet<4,>=3.0.2 in /usr/local/lib/python3.7/dist-packages (from requests<3.0.0,>=2.13.0->spacy<3.4.0,>=3.3.0.dev0->es-dep-news-trf==3.3.0) (3.0.4)\n",
            "Requirement already satisfied: certifi>=2017.4.17 in /usr/local/lib/python3.7/dist-packages (from requests<3.0.0,>=2.13.0->spacy<3.4.0,>=3.3.0.dev0->es-dep-news-trf==3.3.0) (2021.10.8)\n",
            "Collecting transformers<4.18.0,>=3.4.0\n",
            "  Downloading transformers-4.17.0-py3-none-any.whl (3.8 MB)\n",
            "\u001b[K     |████████████████████████████████| 3.8 MB 11.5 MB/s \n",
            "\u001b[?25hRequirement already satisfied: torch>=1.6.0 in /usr/local/lib/python3.7/dist-packages (from spacy-transformers<1.2.0,>=1.1.2->es-dep-news-trf==3.3.0) (1.11.0+cu113)\n",
            "Collecting spacy-alignments<1.0.0,>=0.7.2\n",
            "  Downloading spacy_alignments-0.8.5-cp37-cp37m-manylinux_2_17_x86_64.manylinux2014_x86_64.whl (1.1 MB)\n",
            "\u001b[K     |████████████████████████████████| 1.1 MB 51.5 MB/s \n",
            "\u001b[?25hCollecting pyyaml>=5.1\n",
            "  Downloading PyYAML-6.0-cp37-cp37m-manylinux_2_5_x86_64.manylinux1_x86_64.manylinux_2_12_x86_64.manylinux2010_x86_64.whl (596 kB)\n",
            "\u001b[K     |████████████████████████████████| 596 kB 49.5 MB/s \n",
            "\u001b[?25hRequirement already satisfied: regex!=2019.12.17 in /usr/local/lib/python3.7/dist-packages (from transformers<4.18.0,>=3.4.0->spacy-transformers<1.2.0,>=1.1.2->es-dep-news-trf==3.3.0) (2019.12.20)\n",
            "Requirement already satisfied: filelock in /usr/local/lib/python3.7/dist-packages (from transformers<4.18.0,>=3.4.0->spacy-transformers<1.2.0,>=1.1.2->es-dep-news-trf==3.3.0) (3.6.0)\n",
            "Collecting huggingface-hub<1.0,>=0.1.0\n",
            "  Downloading huggingface_hub-0.6.0-py3-none-any.whl (84 kB)\n",
            "\u001b[K     |████████████████████████████████| 84 kB 3.4 MB/s \n",
            "\u001b[?25hRequirement already satisfied: importlib-metadata in /usr/local/lib/python3.7/dist-packages (from transformers<4.18.0,>=3.4.0->spacy-transformers<1.2.0,>=1.1.2->es-dep-news-trf==3.3.0) (4.11.3)\n",
            "Collecting tokenizers!=0.11.3,>=0.11.1\n",
            "  Downloading tokenizers-0.12.1-cp37-cp37m-manylinux_2_12_x86_64.manylinux2010_x86_64.whl (6.6 MB)\n",
            "\u001b[K     |████████████████████████████████| 6.6 MB 44.8 MB/s \n",
            "\u001b[?25hCollecting sacremoses\n",
            "  Downloading sacremoses-0.0.53.tar.gz (880 kB)\n",
            "\u001b[K     |████████████████████████████████| 880 kB 61.2 MB/s \n",
            "\u001b[?25hRequirement already satisfied: click<9.0.0,>=7.1.1 in /usr/local/lib/python3.7/dist-packages (from typer<0.5.0,>=0.3.0->spacy<3.4.0,>=3.3.0.dev0->es-dep-news-trf==3.3.0) (7.1.2)\n",
            "Requirement already satisfied: MarkupSafe>=0.23 in /usr/local/lib/python3.7/dist-packages (from jinja2->spacy<3.4.0,>=3.3.0.dev0->es-dep-news-trf==3.3.0) (2.0.1)\n",
            "Requirement already satisfied: six in /usr/local/lib/python3.7/dist-packages (from sacremoses->transformers<4.18.0,>=3.4.0->spacy-transformers<1.2.0,>=1.1.2->es-dep-news-trf==3.3.0) (1.15.0)\n",
            "Requirement already satisfied: joblib in /usr/local/lib/python3.7/dist-packages (from sacremoses->transformers<4.18.0,>=3.4.0->spacy-transformers<1.2.0,>=1.1.2->es-dep-news-trf==3.3.0) (1.1.0)\n",
            "Building wheels for collected packages: sacremoses\n",
            "  Building wheel for sacremoses (setup.py) ... \u001b[?25l\u001b[?25hdone\n",
            "  Created wheel for sacremoses: filename=sacremoses-0.0.53-py3-none-any.whl size=895260 sha256=84055a29ac3d0f17cf5fcc16e82d2b8a4820a56b5b9289d0bc37acd92b4a851e\n",
            "  Stored in directory: /root/.cache/pip/wheels/87/39/dd/a83eeef36d0bf98e7a4d1933a4ad2d660295a40613079bafc9\n",
            "Successfully built sacremoses\n",
            "Installing collected packages: pyyaml, tokenizers, sacremoses, huggingface-hub, transformers, spacy-alignments, spacy-transformers, es-dep-news-trf\n",
            "  Attempting uninstall: pyyaml\n",
            "    Found existing installation: PyYAML 3.13\n",
            "    Uninstalling PyYAML-3.13:\n",
            "      Successfully uninstalled PyYAML-3.13\n",
            "Successfully installed es-dep-news-trf-3.3.0 huggingface-hub-0.6.0 pyyaml-6.0 sacremoses-0.0.53 spacy-alignments-0.8.5 spacy-transformers-1.1.5 tokenizers-0.12.1 transformers-4.17.0\n",
            "\u001b[38;5;2m✔ Download and installation successful\u001b[0m\n",
            "You can now load the package via spacy.load('es_dep_news_trf')\n"
          ]
        }
      ],
      "source": [
        "! pip install -U spacy\n",
        "! python -m spacy download es_dep_news_trf"
      ]
    },
    {
      "cell_type": "code",
      "execution_count": 2,
      "metadata": {
        "id": "bf-pV9AUCgUL"
      },
      "outputs": [],
      "source": [
        "import spacy\n",
        "\n",
        "import es_dep_news_trf\n",
        "\n",
        "nlp = es_dep_news_trf.load()"
      ]
    },
    {
      "cell_type": "markdown",
      "metadata": {
        "id": "63SdoHeWC9I5"
      },
      "source": [
        "# Retomando el ejercicio de las sesiones 2 y 3"
      ]
    },
    {
      "cell_type": "markdown",
      "metadata": {
        "id": "uVggYnjVo_mN"
      },
      "source": [
        "Paso 1: Definir la ruta de Drive en la cual esta guardado nuestro archivo.\n",
        "\n",
        "Paso 2: Cargar esos datos en una variable llamada `datos`. En este caso el comando `sep=\"\\t\"` es necesario cuando nuestros datos están en formato `.tsv`.\n",
        "\n",
        "Paso 3: Imprimir la variable `datos`."
      ]
    },
    {
      "cell_type": "code",
      "execution_count": 3,
      "metadata": {
        "colab": {
          "base_uri": "https://localhost:8080/",
          "height": 424
        },
        "id": "JwpmiUKbEBPc",
        "outputId": "fbf36960-7d4f-4229-a680-3fb673f8cf26"
      },
      "outputs": [
        {
          "output_type": "execute_result",
          "data": {
            "text/plain": [
              "      test_case    id   source language  \\\n",
              "0     EXIST2021     1  twitter       en   \n",
              "1     EXIST2021     2  twitter       en   \n",
              "2     EXIST2021     3  twitter       en   \n",
              "3     EXIST2021     4  twitter       en   \n",
              "4     EXIST2021     5  twitter       en   \n",
              "...         ...   ...      ...      ...   \n",
              "6972  EXIST2021  6973  twitter       es   \n",
              "6973  EXIST2021  6974  twitter       es   \n",
              "6974  EXIST2021  6975  twitter       es   \n",
              "6975  EXIST2021  6976  twitter       es   \n",
              "6976  EXIST2021  6977  twitter       es   \n",
              "\n",
              "                                                   text       task1  \\\n",
              "0     She calls herself \"anti-feminazi\" how about sh...      sexist   \n",
              "1     Now, back to these women, the brave and the be...  non-sexist   \n",
              "2     @CurvyBandida @Xalynne_B Wow, your skirt is ve...      sexist   \n",
              "3     @AurelieGuiboud Incredible!  Beautiful!But I l...  non-sexist   \n",
              "4     i find it extremely hard to believe that kelly...  non-sexist   \n",
              "...                                                 ...         ...   \n",
              "6972  Estamos igual sin pareja, pero puedes besar a ...  non-sexist   \n",
              "6973                          2020 hijo de re mil putas  non-sexist   \n",
              "6974  SEGURAMENTE ESTA CHICA NO COBRA EL DINERO QUE ...  non-sexist   \n",
              "6975     @safetyaitana mi madre dice q va fea y i agree      sexist   \n",
              "6976  ¿En vuestras casas también tenéis esa tradició...      sexist   \n",
              "\n",
              "                       task2  \n",
              "0     ideological-inequality  \n",
              "1                 non-sexist  \n",
              "2            objectification  \n",
              "3                 non-sexist  \n",
              "4                 non-sexist  \n",
              "...                      ...  \n",
              "6972              non-sexist  \n",
              "6973              non-sexist  \n",
              "6974              non-sexist  \n",
              "6975         objectification  \n",
              "6976  stereotyping-dominance  \n",
              "\n",
              "[6977 rows x 7 columns]"
            ],
            "text/html": [
              "\n",
              "  <div id=\"df-6677d4c2-7ce3-45b6-980e-73972f88e43a\">\n",
              "    <div class=\"colab-df-container\">\n",
              "      <div>\n",
              "<style scoped>\n",
              "    .dataframe tbody tr th:only-of-type {\n",
              "        vertical-align: middle;\n",
              "    }\n",
              "\n",
              "    .dataframe tbody tr th {\n",
              "        vertical-align: top;\n",
              "    }\n",
              "\n",
              "    .dataframe thead th {\n",
              "        text-align: right;\n",
              "    }\n",
              "</style>\n",
              "<table border=\"1\" class=\"dataframe\">\n",
              "  <thead>\n",
              "    <tr style=\"text-align: right;\">\n",
              "      <th></th>\n",
              "      <th>test_case</th>\n",
              "      <th>id</th>\n",
              "      <th>source</th>\n",
              "      <th>language</th>\n",
              "      <th>text</th>\n",
              "      <th>task1</th>\n",
              "      <th>task2</th>\n",
              "    </tr>\n",
              "  </thead>\n",
              "  <tbody>\n",
              "    <tr>\n",
              "      <th>0</th>\n",
              "      <td>EXIST2021</td>\n",
              "      <td>1</td>\n",
              "      <td>twitter</td>\n",
              "      <td>en</td>\n",
              "      <td>She calls herself \"anti-feminazi\" how about sh...</td>\n",
              "      <td>sexist</td>\n",
              "      <td>ideological-inequality</td>\n",
              "    </tr>\n",
              "    <tr>\n",
              "      <th>1</th>\n",
              "      <td>EXIST2021</td>\n",
              "      <td>2</td>\n",
              "      <td>twitter</td>\n",
              "      <td>en</td>\n",
              "      <td>Now, back to these women, the brave and the be...</td>\n",
              "      <td>non-sexist</td>\n",
              "      <td>non-sexist</td>\n",
              "    </tr>\n",
              "    <tr>\n",
              "      <th>2</th>\n",
              "      <td>EXIST2021</td>\n",
              "      <td>3</td>\n",
              "      <td>twitter</td>\n",
              "      <td>en</td>\n",
              "      <td>@CurvyBandida @Xalynne_B Wow, your skirt is ve...</td>\n",
              "      <td>sexist</td>\n",
              "      <td>objectification</td>\n",
              "    </tr>\n",
              "    <tr>\n",
              "      <th>3</th>\n",
              "      <td>EXIST2021</td>\n",
              "      <td>4</td>\n",
              "      <td>twitter</td>\n",
              "      <td>en</td>\n",
              "      <td>@AurelieGuiboud Incredible!  Beautiful!But I l...</td>\n",
              "      <td>non-sexist</td>\n",
              "      <td>non-sexist</td>\n",
              "    </tr>\n",
              "    <tr>\n",
              "      <th>4</th>\n",
              "      <td>EXIST2021</td>\n",
              "      <td>5</td>\n",
              "      <td>twitter</td>\n",
              "      <td>en</td>\n",
              "      <td>i find it extremely hard to believe that kelly...</td>\n",
              "      <td>non-sexist</td>\n",
              "      <td>non-sexist</td>\n",
              "    </tr>\n",
              "    <tr>\n",
              "      <th>...</th>\n",
              "      <td>...</td>\n",
              "      <td>...</td>\n",
              "      <td>...</td>\n",
              "      <td>...</td>\n",
              "      <td>...</td>\n",
              "      <td>...</td>\n",
              "      <td>...</td>\n",
              "    </tr>\n",
              "    <tr>\n",
              "      <th>6972</th>\n",
              "      <td>EXIST2021</td>\n",
              "      <td>6973</td>\n",
              "      <td>twitter</td>\n",
              "      <td>es</td>\n",
              "      <td>Estamos igual sin pareja, pero puedes besar a ...</td>\n",
              "      <td>non-sexist</td>\n",
              "      <td>non-sexist</td>\n",
              "    </tr>\n",
              "    <tr>\n",
              "      <th>6973</th>\n",
              "      <td>EXIST2021</td>\n",
              "      <td>6974</td>\n",
              "      <td>twitter</td>\n",
              "      <td>es</td>\n",
              "      <td>2020 hijo de re mil putas</td>\n",
              "      <td>non-sexist</td>\n",
              "      <td>non-sexist</td>\n",
              "    </tr>\n",
              "    <tr>\n",
              "      <th>6974</th>\n",
              "      <td>EXIST2021</td>\n",
              "      <td>6975</td>\n",
              "      <td>twitter</td>\n",
              "      <td>es</td>\n",
              "      <td>SEGURAMENTE ESTA CHICA NO COBRA EL DINERO QUE ...</td>\n",
              "      <td>non-sexist</td>\n",
              "      <td>non-sexist</td>\n",
              "    </tr>\n",
              "    <tr>\n",
              "      <th>6975</th>\n",
              "      <td>EXIST2021</td>\n",
              "      <td>6976</td>\n",
              "      <td>twitter</td>\n",
              "      <td>es</td>\n",
              "      <td>@safetyaitana mi madre dice q va fea y i agree</td>\n",
              "      <td>sexist</td>\n",
              "      <td>objectification</td>\n",
              "    </tr>\n",
              "    <tr>\n",
              "      <th>6976</th>\n",
              "      <td>EXIST2021</td>\n",
              "      <td>6977</td>\n",
              "      <td>twitter</td>\n",
              "      <td>es</td>\n",
              "      <td>¿En vuestras casas también tenéis esa tradició...</td>\n",
              "      <td>sexist</td>\n",
              "      <td>stereotyping-dominance</td>\n",
              "    </tr>\n",
              "  </tbody>\n",
              "</table>\n",
              "<p>6977 rows × 7 columns</p>\n",
              "</div>\n",
              "      <button class=\"colab-df-convert\" onclick=\"convertToInteractive('df-6677d4c2-7ce3-45b6-980e-73972f88e43a')\"\n",
              "              title=\"Convert this dataframe to an interactive table.\"\n",
              "              style=\"display:none;\">\n",
              "        \n",
              "  <svg xmlns=\"http://www.w3.org/2000/svg\" height=\"24px\"viewBox=\"0 0 24 24\"\n",
              "       width=\"24px\">\n",
              "    <path d=\"M0 0h24v24H0V0z\" fill=\"none\"/>\n",
              "    <path d=\"M18.56 5.44l.94 2.06.94-2.06 2.06-.94-2.06-.94-.94-2.06-.94 2.06-2.06.94zm-11 1L8.5 8.5l.94-2.06 2.06-.94-2.06-.94L8.5 2.5l-.94 2.06-2.06.94zm10 10l.94 2.06.94-2.06 2.06-.94-2.06-.94-.94-2.06-.94 2.06-2.06.94z\"/><path d=\"M17.41 7.96l-1.37-1.37c-.4-.4-.92-.59-1.43-.59-.52 0-1.04.2-1.43.59L10.3 9.45l-7.72 7.72c-.78.78-.78 2.05 0 2.83L4 21.41c.39.39.9.59 1.41.59.51 0 1.02-.2 1.41-.59l7.78-7.78 2.81-2.81c.8-.78.8-2.07 0-2.86zM5.41 20L4 18.59l7.72-7.72 1.47 1.35L5.41 20z\"/>\n",
              "  </svg>\n",
              "      </button>\n",
              "      \n",
              "  <style>\n",
              "    .colab-df-container {\n",
              "      display:flex;\n",
              "      flex-wrap:wrap;\n",
              "      gap: 12px;\n",
              "    }\n",
              "\n",
              "    .colab-df-convert {\n",
              "      background-color: #E8F0FE;\n",
              "      border: none;\n",
              "      border-radius: 50%;\n",
              "      cursor: pointer;\n",
              "      display: none;\n",
              "      fill: #1967D2;\n",
              "      height: 32px;\n",
              "      padding: 0 0 0 0;\n",
              "      width: 32px;\n",
              "    }\n",
              "\n",
              "    .colab-df-convert:hover {\n",
              "      background-color: #E2EBFA;\n",
              "      box-shadow: 0px 1px 2px rgba(60, 64, 67, 0.3), 0px 1px 3px 1px rgba(60, 64, 67, 0.15);\n",
              "      fill: #174EA6;\n",
              "    }\n",
              "\n",
              "    [theme=dark] .colab-df-convert {\n",
              "      background-color: #3B4455;\n",
              "      fill: #D2E3FC;\n",
              "    }\n",
              "\n",
              "    [theme=dark] .colab-df-convert:hover {\n",
              "      background-color: #434B5C;\n",
              "      box-shadow: 0px 1px 3px 1px rgba(0, 0, 0, 0.15);\n",
              "      filter: drop-shadow(0px 1px 2px rgba(0, 0, 0, 0.3));\n",
              "      fill: #FFFFFF;\n",
              "    }\n",
              "  </style>\n",
              "\n",
              "      <script>\n",
              "        const buttonEl =\n",
              "          document.querySelector('#df-6677d4c2-7ce3-45b6-980e-73972f88e43a button.colab-df-convert');\n",
              "        buttonEl.style.display =\n",
              "          google.colab.kernel.accessAllowed ? 'block' : 'none';\n",
              "\n",
              "        async function convertToInteractive(key) {\n",
              "          const element = document.querySelector('#df-6677d4c2-7ce3-45b6-980e-73972f88e43a');\n",
              "          const dataTable =\n",
              "            await google.colab.kernel.invokeFunction('convertToInteractive',\n",
              "                                                     [key], {});\n",
              "          if (!dataTable) return;\n",
              "\n",
              "          const docLinkHtml = 'Like what you see? Visit the ' +\n",
              "            '<a target=\"_blank\" href=https://colab.research.google.com/notebooks/data_table.ipynb>data table notebook</a>'\n",
              "            + ' to learn more about interactive tables.';\n",
              "          element.innerHTML = '';\n",
              "          dataTable['output_type'] = 'display_data';\n",
              "          await google.colab.output.renderOutput(dataTable, element);\n",
              "          const docLink = document.createElement('div');\n",
              "          docLink.innerHTML = docLinkHtml;\n",
              "          element.appendChild(docLink);\n",
              "        }\n",
              "      </script>\n",
              "    </div>\n",
              "  </div>\n",
              "  "
            ]
          },
          "metadata": {},
          "execution_count": 3
        }
      ],
      "source": [
        "import pandas as pd\n",
        "\n",
        "ruta = '/content/data/deteccion_sexismo.tsv'\n",
        "\n",
        "datos = pd.read_csv(ruta, sep=\"\\t\")\n",
        "datos"
      ]
    },
    {
      "cell_type": "code",
      "execution_count": 4,
      "metadata": {
        "colab": {
          "base_uri": "https://localhost:8080/",
          "height": 424
        },
        "id": "ZmNo_G5NE_tI",
        "outputId": "05b4e274-549b-466d-ef6a-9d12a84bdbf9"
      },
      "outputs": [
        {
          "output_type": "execute_result",
          "data": {
            "text/plain": [
              "     language                                               text\n",
              "0          en  She calls herself \"anti-feminazi\" how about sh...\n",
              "1          en  Now, back to these women, the brave and the be...\n",
              "2          en  @CurvyBandida @Xalynne_B Wow, your skirt is ve...\n",
              "3          en  @AurelieGuiboud Incredible!  Beautiful!But I l...\n",
              "4          en  i find it extremely hard to believe that kelly...\n",
              "...       ...                                                ...\n",
              "6972       es  Estamos igual sin pareja, pero puedes besar a ...\n",
              "6973       es                          2020 hijo de re mil putas\n",
              "6974       es  SEGURAMENTE ESTA CHICA NO COBRA EL DINERO QUE ...\n",
              "6975       es     @safetyaitana mi madre dice q va fea y i agree\n",
              "6976       es  ¿En vuestras casas también tenéis esa tradició...\n",
              "\n",
              "[6977 rows x 2 columns]"
            ],
            "text/html": [
              "\n",
              "  <div id=\"df-ecbf29fd-18cf-43eb-bccb-31ffba0c43d8\">\n",
              "    <div class=\"colab-df-container\">\n",
              "      <div>\n",
              "<style scoped>\n",
              "    .dataframe tbody tr th:only-of-type {\n",
              "        vertical-align: middle;\n",
              "    }\n",
              "\n",
              "    .dataframe tbody tr th {\n",
              "        vertical-align: top;\n",
              "    }\n",
              "\n",
              "    .dataframe thead th {\n",
              "        text-align: right;\n",
              "    }\n",
              "</style>\n",
              "<table border=\"1\" class=\"dataframe\">\n",
              "  <thead>\n",
              "    <tr style=\"text-align: right;\">\n",
              "      <th></th>\n",
              "      <th>language</th>\n",
              "      <th>text</th>\n",
              "    </tr>\n",
              "  </thead>\n",
              "  <tbody>\n",
              "    <tr>\n",
              "      <th>0</th>\n",
              "      <td>en</td>\n",
              "      <td>She calls herself \"anti-feminazi\" how about sh...</td>\n",
              "    </tr>\n",
              "    <tr>\n",
              "      <th>1</th>\n",
              "      <td>en</td>\n",
              "      <td>Now, back to these women, the brave and the be...</td>\n",
              "    </tr>\n",
              "    <tr>\n",
              "      <th>2</th>\n",
              "      <td>en</td>\n",
              "      <td>@CurvyBandida @Xalynne_B Wow, your skirt is ve...</td>\n",
              "    </tr>\n",
              "    <tr>\n",
              "      <th>3</th>\n",
              "      <td>en</td>\n",
              "      <td>@AurelieGuiboud Incredible!  Beautiful!But I l...</td>\n",
              "    </tr>\n",
              "    <tr>\n",
              "      <th>4</th>\n",
              "      <td>en</td>\n",
              "      <td>i find it extremely hard to believe that kelly...</td>\n",
              "    </tr>\n",
              "    <tr>\n",
              "      <th>...</th>\n",
              "      <td>...</td>\n",
              "      <td>...</td>\n",
              "    </tr>\n",
              "    <tr>\n",
              "      <th>6972</th>\n",
              "      <td>es</td>\n",
              "      <td>Estamos igual sin pareja, pero puedes besar a ...</td>\n",
              "    </tr>\n",
              "    <tr>\n",
              "      <th>6973</th>\n",
              "      <td>es</td>\n",
              "      <td>2020 hijo de re mil putas</td>\n",
              "    </tr>\n",
              "    <tr>\n",
              "      <th>6974</th>\n",
              "      <td>es</td>\n",
              "      <td>SEGURAMENTE ESTA CHICA NO COBRA EL DINERO QUE ...</td>\n",
              "    </tr>\n",
              "    <tr>\n",
              "      <th>6975</th>\n",
              "      <td>es</td>\n",
              "      <td>@safetyaitana mi madre dice q va fea y i agree</td>\n",
              "    </tr>\n",
              "    <tr>\n",
              "      <th>6976</th>\n",
              "      <td>es</td>\n",
              "      <td>¿En vuestras casas también tenéis esa tradició...</td>\n",
              "    </tr>\n",
              "  </tbody>\n",
              "</table>\n",
              "<p>6977 rows × 2 columns</p>\n",
              "</div>\n",
              "      <button class=\"colab-df-convert\" onclick=\"convertToInteractive('df-ecbf29fd-18cf-43eb-bccb-31ffba0c43d8')\"\n",
              "              title=\"Convert this dataframe to an interactive table.\"\n",
              "              style=\"display:none;\">\n",
              "        \n",
              "  <svg xmlns=\"http://www.w3.org/2000/svg\" height=\"24px\"viewBox=\"0 0 24 24\"\n",
              "       width=\"24px\">\n",
              "    <path d=\"M0 0h24v24H0V0z\" fill=\"none\"/>\n",
              "    <path d=\"M18.56 5.44l.94 2.06.94-2.06 2.06-.94-2.06-.94-.94-2.06-.94 2.06-2.06.94zm-11 1L8.5 8.5l.94-2.06 2.06-.94-2.06-.94L8.5 2.5l-.94 2.06-2.06.94zm10 10l.94 2.06.94-2.06 2.06-.94-2.06-.94-.94-2.06-.94 2.06-2.06.94z\"/><path d=\"M17.41 7.96l-1.37-1.37c-.4-.4-.92-.59-1.43-.59-.52 0-1.04.2-1.43.59L10.3 9.45l-7.72 7.72c-.78.78-.78 2.05 0 2.83L4 21.41c.39.39.9.59 1.41.59.51 0 1.02-.2 1.41-.59l7.78-7.78 2.81-2.81c.8-.78.8-2.07 0-2.86zM5.41 20L4 18.59l7.72-7.72 1.47 1.35L5.41 20z\"/>\n",
              "  </svg>\n",
              "      </button>\n",
              "      \n",
              "  <style>\n",
              "    .colab-df-container {\n",
              "      display:flex;\n",
              "      flex-wrap:wrap;\n",
              "      gap: 12px;\n",
              "    }\n",
              "\n",
              "    .colab-df-convert {\n",
              "      background-color: #E8F0FE;\n",
              "      border: none;\n",
              "      border-radius: 50%;\n",
              "      cursor: pointer;\n",
              "      display: none;\n",
              "      fill: #1967D2;\n",
              "      height: 32px;\n",
              "      padding: 0 0 0 0;\n",
              "      width: 32px;\n",
              "    }\n",
              "\n",
              "    .colab-df-convert:hover {\n",
              "      background-color: #E2EBFA;\n",
              "      box-shadow: 0px 1px 2px rgba(60, 64, 67, 0.3), 0px 1px 3px 1px rgba(60, 64, 67, 0.15);\n",
              "      fill: #174EA6;\n",
              "    }\n",
              "\n",
              "    [theme=dark] .colab-df-convert {\n",
              "      background-color: #3B4455;\n",
              "      fill: #D2E3FC;\n",
              "    }\n",
              "\n",
              "    [theme=dark] .colab-df-convert:hover {\n",
              "      background-color: #434B5C;\n",
              "      box-shadow: 0px 1px 3px 1px rgba(0, 0, 0, 0.15);\n",
              "      filter: drop-shadow(0px 1px 2px rgba(0, 0, 0, 0.3));\n",
              "      fill: #FFFFFF;\n",
              "    }\n",
              "  </style>\n",
              "\n",
              "      <script>\n",
              "        const buttonEl =\n",
              "          document.querySelector('#df-ecbf29fd-18cf-43eb-bccb-31ffba0c43d8 button.colab-df-convert');\n",
              "        buttonEl.style.display =\n",
              "          google.colab.kernel.accessAllowed ? 'block' : 'none';\n",
              "\n",
              "        async function convertToInteractive(key) {\n",
              "          const element = document.querySelector('#df-ecbf29fd-18cf-43eb-bccb-31ffba0c43d8');\n",
              "          const dataTable =\n",
              "            await google.colab.kernel.invokeFunction('convertToInteractive',\n",
              "                                                     [key], {});\n",
              "          if (!dataTable) return;\n",
              "\n",
              "          const docLinkHtml = 'Like what you see? Visit the ' +\n",
              "            '<a target=\"_blank\" href=https://colab.research.google.com/notebooks/data_table.ipynb>data table notebook</a>'\n",
              "            + ' to learn more about interactive tables.';\n",
              "          element.innerHTML = '';\n",
              "          dataTable['output_type'] = 'display_data';\n",
              "          await google.colab.output.renderOutput(dataTable, element);\n",
              "          const docLink = document.createElement('div');\n",
              "          docLink.innerHTML = docLinkHtml;\n",
              "          element.appendChild(docLink);\n",
              "        }\n",
              "      </script>\n",
              "    </div>\n",
              "  </div>\n",
              "  "
            ]
          },
          "metadata": {},
          "execution_count": 4
        }
      ],
      "source": [
        "datos.drop(['test_case', 'id', 'source', 'task1', 'task2'], axis=1, inplace=True)\n",
        "datos"
      ]
    },
    {
      "cell_type": "code",
      "execution_count": 5,
      "metadata": {
        "colab": {
          "base_uri": "https://localhost:8080/",
          "height": 424
        },
        "id": "Y1ymgLL4GnfC",
        "outputId": "53003ccf-1da9-48dc-e349-fb688ce6216f"
      },
      "outputs": [
        {
          "output_type": "execute_result",
          "data": {
            "text/plain": [
              "     language                                               text\n",
              "3436       es  Nadie te va a tratar tan bien como un hombre q...\n",
              "3437       es  @lindagisela74 Que rica putita obediente, afor...\n",
              "3438       es  @BicireporteraDF Yo lo hice a los 18 años por ...\n",
              "3439       es  las cosas q sueño son indicios de que yo enrea...\n",
              "3440       es  Pero a la niña le gustó desde que lo vió, así ...\n",
              "...       ...                                                ...\n",
              "6972       es  Estamos igual sin pareja, pero puedes besar a ...\n",
              "6973       es                          2020 hijo de re mil putas\n",
              "6974       es  SEGURAMENTE ESTA CHICA NO COBRA EL DINERO QUE ...\n",
              "6975       es     @safetyaitana mi madre dice q va fea y i agree\n",
              "6976       es  ¿En vuestras casas también tenéis esa tradició...\n",
              "\n",
              "[3541 rows x 2 columns]"
            ],
            "text/html": [
              "\n",
              "  <div id=\"df-47f75e9b-d79e-46eb-aca2-ffcdcbb47f1e\">\n",
              "    <div class=\"colab-df-container\">\n",
              "      <div>\n",
              "<style scoped>\n",
              "    .dataframe tbody tr th:only-of-type {\n",
              "        vertical-align: middle;\n",
              "    }\n",
              "\n",
              "    .dataframe tbody tr th {\n",
              "        vertical-align: top;\n",
              "    }\n",
              "\n",
              "    .dataframe thead th {\n",
              "        text-align: right;\n",
              "    }\n",
              "</style>\n",
              "<table border=\"1\" class=\"dataframe\">\n",
              "  <thead>\n",
              "    <tr style=\"text-align: right;\">\n",
              "      <th></th>\n",
              "      <th>language</th>\n",
              "      <th>text</th>\n",
              "    </tr>\n",
              "  </thead>\n",
              "  <tbody>\n",
              "    <tr>\n",
              "      <th>3436</th>\n",
              "      <td>es</td>\n",
              "      <td>Nadie te va a tratar tan bien como un hombre q...</td>\n",
              "    </tr>\n",
              "    <tr>\n",
              "      <th>3437</th>\n",
              "      <td>es</td>\n",
              "      <td>@lindagisela74 Que rica putita obediente, afor...</td>\n",
              "    </tr>\n",
              "    <tr>\n",
              "      <th>3438</th>\n",
              "      <td>es</td>\n",
              "      <td>@BicireporteraDF Yo lo hice a los 18 años por ...</td>\n",
              "    </tr>\n",
              "    <tr>\n",
              "      <th>3439</th>\n",
              "      <td>es</td>\n",
              "      <td>las cosas q sueño son indicios de que yo enrea...</td>\n",
              "    </tr>\n",
              "    <tr>\n",
              "      <th>3440</th>\n",
              "      <td>es</td>\n",
              "      <td>Pero a la niña le gustó desde que lo vió, así ...</td>\n",
              "    </tr>\n",
              "    <tr>\n",
              "      <th>...</th>\n",
              "      <td>...</td>\n",
              "      <td>...</td>\n",
              "    </tr>\n",
              "    <tr>\n",
              "      <th>6972</th>\n",
              "      <td>es</td>\n",
              "      <td>Estamos igual sin pareja, pero puedes besar a ...</td>\n",
              "    </tr>\n",
              "    <tr>\n",
              "      <th>6973</th>\n",
              "      <td>es</td>\n",
              "      <td>2020 hijo de re mil putas</td>\n",
              "    </tr>\n",
              "    <tr>\n",
              "      <th>6974</th>\n",
              "      <td>es</td>\n",
              "      <td>SEGURAMENTE ESTA CHICA NO COBRA EL DINERO QUE ...</td>\n",
              "    </tr>\n",
              "    <tr>\n",
              "      <th>6975</th>\n",
              "      <td>es</td>\n",
              "      <td>@safetyaitana mi madre dice q va fea y i agree</td>\n",
              "    </tr>\n",
              "    <tr>\n",
              "      <th>6976</th>\n",
              "      <td>es</td>\n",
              "      <td>¿En vuestras casas también tenéis esa tradició...</td>\n",
              "    </tr>\n",
              "  </tbody>\n",
              "</table>\n",
              "<p>3541 rows × 2 columns</p>\n",
              "</div>\n",
              "      <button class=\"colab-df-convert\" onclick=\"convertToInteractive('df-47f75e9b-d79e-46eb-aca2-ffcdcbb47f1e')\"\n",
              "              title=\"Convert this dataframe to an interactive table.\"\n",
              "              style=\"display:none;\">\n",
              "        \n",
              "  <svg xmlns=\"http://www.w3.org/2000/svg\" height=\"24px\"viewBox=\"0 0 24 24\"\n",
              "       width=\"24px\">\n",
              "    <path d=\"M0 0h24v24H0V0z\" fill=\"none\"/>\n",
              "    <path d=\"M18.56 5.44l.94 2.06.94-2.06 2.06-.94-2.06-.94-.94-2.06-.94 2.06-2.06.94zm-11 1L8.5 8.5l.94-2.06 2.06-.94-2.06-.94L8.5 2.5l-.94 2.06-2.06.94zm10 10l.94 2.06.94-2.06 2.06-.94-2.06-.94-.94-2.06-.94 2.06-2.06.94z\"/><path d=\"M17.41 7.96l-1.37-1.37c-.4-.4-.92-.59-1.43-.59-.52 0-1.04.2-1.43.59L10.3 9.45l-7.72 7.72c-.78.78-.78 2.05 0 2.83L4 21.41c.39.39.9.59 1.41.59.51 0 1.02-.2 1.41-.59l7.78-7.78 2.81-2.81c.8-.78.8-2.07 0-2.86zM5.41 20L4 18.59l7.72-7.72 1.47 1.35L5.41 20z\"/>\n",
              "  </svg>\n",
              "      </button>\n",
              "      \n",
              "  <style>\n",
              "    .colab-df-container {\n",
              "      display:flex;\n",
              "      flex-wrap:wrap;\n",
              "      gap: 12px;\n",
              "    }\n",
              "\n",
              "    .colab-df-convert {\n",
              "      background-color: #E8F0FE;\n",
              "      border: none;\n",
              "      border-radius: 50%;\n",
              "      cursor: pointer;\n",
              "      display: none;\n",
              "      fill: #1967D2;\n",
              "      height: 32px;\n",
              "      padding: 0 0 0 0;\n",
              "      width: 32px;\n",
              "    }\n",
              "\n",
              "    .colab-df-convert:hover {\n",
              "      background-color: #E2EBFA;\n",
              "      box-shadow: 0px 1px 2px rgba(60, 64, 67, 0.3), 0px 1px 3px 1px rgba(60, 64, 67, 0.15);\n",
              "      fill: #174EA6;\n",
              "    }\n",
              "\n",
              "    [theme=dark] .colab-df-convert {\n",
              "      background-color: #3B4455;\n",
              "      fill: #D2E3FC;\n",
              "    }\n",
              "\n",
              "    [theme=dark] .colab-df-convert:hover {\n",
              "      background-color: #434B5C;\n",
              "      box-shadow: 0px 1px 3px 1px rgba(0, 0, 0, 0.15);\n",
              "      filter: drop-shadow(0px 1px 2px rgba(0, 0, 0, 0.3));\n",
              "      fill: #FFFFFF;\n",
              "    }\n",
              "  </style>\n",
              "\n",
              "      <script>\n",
              "        const buttonEl =\n",
              "          document.querySelector('#df-47f75e9b-d79e-46eb-aca2-ffcdcbb47f1e button.colab-df-convert');\n",
              "        buttonEl.style.display =\n",
              "          google.colab.kernel.accessAllowed ? 'block' : 'none';\n",
              "\n",
              "        async function convertToInteractive(key) {\n",
              "          const element = document.querySelector('#df-47f75e9b-d79e-46eb-aca2-ffcdcbb47f1e');\n",
              "          const dataTable =\n",
              "            await google.colab.kernel.invokeFunction('convertToInteractive',\n",
              "                                                     [key], {});\n",
              "          if (!dataTable) return;\n",
              "\n",
              "          const docLinkHtml = 'Like what you see? Visit the ' +\n",
              "            '<a target=\"_blank\" href=https://colab.research.google.com/notebooks/data_table.ipynb>data table notebook</a>'\n",
              "            + ' to learn more about interactive tables.';\n",
              "          element.innerHTML = '';\n",
              "          dataTable['output_type'] = 'display_data';\n",
              "          await google.colab.output.renderOutput(dataTable, element);\n",
              "          const docLink = document.createElement('div');\n",
              "          docLink.innerHTML = docLinkHtml;\n",
              "          element.appendChild(docLink);\n",
              "        }\n",
              "      </script>\n",
              "    </div>\n",
              "  </div>\n",
              "  "
            ]
          },
          "metadata": {},
          "execution_count": 5
        }
      ],
      "source": [
        "datos = datos[datos['language'] != 'en']\n",
        "datos"
      ]
    },
    {
      "cell_type": "code",
      "execution_count": null,
      "metadata": {
        "id": "uY1S-8NJG_Sy"
      },
      "outputs": [],
      "source": [
        "tuits = []\n",
        "\n",
        "for tuit in datos['text']:\n",
        "  tuits.append(str(tuit))\n",
        "\n",
        "tuits"
      ]
    },
    {
      "cell_type": "code",
      "execution_count": 7,
      "metadata": {
        "colab": {
          "base_uri": "https://localhost:8080/"
        },
        "id": "AavCd4JVDiKV",
        "outputId": "10decc3e-51a7-45fe-9b8c-486f169dd1c4"
      },
      "outputs": [
        {
          "output_type": "execute_result",
          "data": {
            "text/plain": [
              "3541"
            ]
          },
          "metadata": {},
          "execution_count": 7
        }
      ],
      "source": [
        "len(tuits)"
      ]
    },
    {
      "cell_type": "code",
      "execution_count": 8,
      "metadata": {
        "id": "anbUdaawDiM1",
        "outputId": "acaf9efc-809d-4124-d29c-b99290c8ba3b",
        "colab": {
          "base_uri": "https://localhost:8080/"
        }
      },
      "outputs": [
        {
          "metadata": {
            "tags": null
          },
          "name": "stderr",
          "output_type": "stream",
          "text": [
            "/usr/local/lib/python3.7/dist-packages/torch/autocast_mode.py:162: UserWarning: User provided device_type of 'cuda', but CUDA is not available. Disabling\n",
            "  warnings.warn('User provided device_type of \\'cuda\\', but CUDA is not available. Disabling')\n"
          ]
        }
      ],
      "source": [
        "tokens_texto = []\n",
        "\n",
        "for tuit in tuits:\n",
        "  doc = nlp(tuit)\n",
        "  for token in doc:\n",
        "    if not token.like_url is True: #línea para no incluir en la lista de token las URL\n",
        "      tokens_texto.append(token.text)"
      ]
    },
    {
      "cell_type": "code",
      "execution_count": null,
      "metadata": {
        "id": "fvO8He6IIYql"
      },
      "outputs": [],
      "source": [
        "tokens_texto"
      ]
    },
    {
      "cell_type": "code",
      "execution_count": 9,
      "metadata": {
        "id": "Nux9M1kGKdeT",
        "outputId": "43db3308-e02d-4433-9c9e-6ac258082497",
        "colab": {
          "base_uri": "https://localhost:8080/"
        }
      },
      "outputs": [
        {
          "output_type": "execute_result",
          "data": {
            "text/plain": [
              "114604"
            ]
          },
          "metadata": {},
          "execution_count": 9
        }
      ],
      "source": [
        "len(tokens_texto)"
      ]
    },
    {
      "cell_type": "code",
      "execution_count": 10,
      "metadata": {
        "colab": {
          "base_uri": "https://localhost:8080/"
        },
        "id": "KWmh4DiLGAYJ",
        "outputId": "d2895062-45a6-4d91-f570-1063af7f4757"
      },
      "outputs": [
        {
          "output_type": "stream",
          "name": "stderr",
          "text": [
            "/usr/local/lib/python3.7/dist-packages/torch/autocast_mode.py:162: UserWarning: User provided device_type of 'cuda', but CUDA is not available. Disabling\n",
            "  warnings.warn('User provided device_type of \\'cuda\\', but CUDA is not available. Disabling')\n"
          ]
        }
      ],
      "source": [
        "partes_del_discurso = []\n",
        "explicacion = []\n",
        "\n",
        "for tuit in tuits:\n",
        "  doc = nlp(tuit)\n",
        "  for token in doc:\n",
        "    if not token.like_url is True: #línea para no incluir en la lista de token las URL\n",
        "      partes_del_discurso.append(token.pos_)\n",
        "      explicacion.append(token.tag_)"
      ]
    },
    {
      "cell_type": "code",
      "execution_count": 11,
      "metadata": {
        "colab": {
          "base_uri": "https://localhost:8080/"
        },
        "id": "fz5UBxJEi-ez",
        "outputId": "b46ee2a6-146a-4ef8-f34c-fa441df22747"
      },
      "outputs": [
        {
          "output_type": "execute_result",
          "data": {
            "text/plain": [
              "114604"
            ]
          },
          "metadata": {},
          "execution_count": 11
        }
      ],
      "source": [
        "len(partes_del_discurso)"
      ]
    },
    {
      "cell_type": "code",
      "execution_count": null,
      "metadata": {
        "colab": {
          "background_save": true
        },
        "id": "MjmVea-tQAdP",
        "outputId": "a65fe688-92a0-4858-87eb-b3da31df6581"
      },
      "outputs": [
        {
          "data": {
            "text/plain": [
              "[('NOUN', 18380),\n",
              " ('VERB', 13296),\n",
              " ('DET', 12383),\n",
              " ('ADP', 12301),\n",
              " ('PUNCT', 11416),\n",
              " ('PROPN', 10917),\n",
              " ('PRON', 9186),\n",
              " ('ADJ', 6484),\n",
              " ('ADV', 6159),\n",
              " ('AUX', 5412)]"
            ]
          },
          "execution_count": null,
          "metadata": {},
          "output_type": "execute_result"
        }
      ],
      "source": [
        "from collections import Counter\n",
        "\n",
        "contador_partes_del_discurso = Counter(partes_del_discurso)\n",
        "contador_partes_del_discurso.most_common(10) # POS con tokens de URL"
      ]
    },
    {
      "cell_type": "code",
      "source": [
        "from collections import Counter\n",
        "\n",
        "contador_partes_del_discurso = Counter(partes_del_discurso)\n",
        "contador_partes_del_discurso.most_common(10) # POS sin tokens de URL"
      ],
      "metadata": {
        "id": "ZOnByv2qencF",
        "outputId": "3fee1ada-14b6-4d4e-cdfa-77ee1fd0c2b7",
        "colab": {
          "base_uri": "https://localhost:8080/"
        }
      },
      "execution_count": 12,
      "outputs": [
        {
          "output_type": "execute_result",
          "data": {
            "text/plain": [
              "[('NOUN', 18376),\n",
              " ('VERB', 13294),\n",
              " ('DET', 12381),\n",
              " ('ADP', 12300),\n",
              " ('PUNCT', 11416),\n",
              " ('PROPN', 9899),\n",
              " ('PRON', 9185),\n",
              " ('ADJ', 6481),\n",
              " ('ADV', 6159),\n",
              " ('AUX', 5412)]"
            ]
          },
          "metadata": {},
          "execution_count": 12
        }
      ]
    },
    {
      "cell_type": "markdown",
      "source": [
        "Al comparar las POS sin las URL, el modelo obtiene un poco menos de de POS en general, y, en particular, menos `PROPN`."
      ],
      "metadata": {
        "id": "zUZXmQfafrM8"
      }
    },
    {
      "cell_type": "code",
      "execution_count": null,
      "metadata": {
        "colab": {
          "background_save": true
        },
        "id": "k8WdAHVIGRU_",
        "outputId": "96972d6f-dbcc-4cf9-9a01-6350e2f9bd6e"
      },
      "outputs": [
        {
          "name": "stderr",
          "output_type": "stream",
          "text": [
            "/usr/local/lib/python3.7/dist-packages/torch/autocast_mode.py:162: UserWarning: User provided device_type of 'cuda', but CUDA is not available. Disabling\n",
            "  warnings.warn('User provided device_type of \\'cuda\\', but CUDA is not available. Disabling')\n",
            "/usr/local/lib/python3.7/dist-packages/spacy/glossary.py:19: UserWarning: [W118] Term 'ROOT' not found in glossary. It may however be explained in documentation for the corpora used to train the language. Please check `nlp.meta[\"sources\"]` for any relevant links.\n",
            "  warnings.warn(Warnings.W118.format(term=term))\n",
            "/usr/local/lib/python3.7/dist-packages/spacy/glossary.py:19: UserWarning: [W118] Term 'expl:pv' not found in glossary. It may however be explained in documentation for the corpora used to train the language. Please check `nlp.meta[\"sources\"]` for any relevant links.\n",
            "  warnings.warn(Warnings.W118.format(term=term))\n",
            "/usr/local/lib/python3.7/dist-packages/spacy/glossary.py:19: UserWarning: [W118] Term 'expl:pass' not found in glossary. It may however be explained in documentation for the corpora used to train the language. Please check `nlp.meta[\"sources\"]` for any relevant links.\n",
            "  warnings.warn(Warnings.W118.format(term=term))\n",
            "/usr/local/lib/python3.7/dist-packages/spacy/glossary.py:19: UserWarning: [W118] Term 'expl:impers' not found in glossary. It may however be explained in documentation for the corpora used to train the language. Please check `nlp.meta[\"sources\"]` for any relevant links.\n",
            "  warnings.warn(Warnings.W118.format(term=term))\n"
          ]
        }
      ],
      "source": [
        "etiquetas_dependencias_gramaticales = []\n",
        "explicacion_dependencias = []\n",
        "\n",
        "for tuit in tuits:\n",
        "  doc = nlp(tuit)\n",
        "  for token in doc:\n",
        "    etiquetas_dependencias_gramaticales.append(token.dep_)\n",
        "    explicacion_dependencias.append(spacy.explain(token.dep_))"
      ]
    },
    {
      "cell_type": "code",
      "execution_count": null,
      "metadata": {
        "colab": {
          "background_save": true
        },
        "id": "nr--FvlGMRwd"
      },
      "outputs": [],
      "source": [
        "etiquetas_dependencias_gramaticales"
      ]
    },
    {
      "cell_type": "code",
      "execution_count": null,
      "metadata": {
        "colab": {
          "background_save": true
        },
        "id": "qVbpAR7MQHqo",
        "outputId": "deaf1cec-c95d-47b0-ab47-846bad90bb1c"
      },
      "outputs": [
        {
          "data": {
            "text/plain": [
              "[('det', 12859),\n",
              " ('punct', 11858),\n",
              " ('case', 9683),\n",
              " ('obj', 9008),\n",
              " ('ROOT', 7518),\n",
              " ('advmod', 6588),\n",
              " ('nsubj', 6510),\n",
              " ('mark', 6084),\n",
              " ('nmod', 4363),\n",
              " ('advcl', 4201)]"
            ]
          },
          "execution_count": null,
          "metadata": {},
          "output_type": "execute_result"
        }
      ],
      "source": [
        "contador_etiquetas_dependencias_gramaticales  = Counter(etiquetas_dependencias_gramaticales )\n",
        "contador_etiquetas_dependencias_gramaticales.most_common(10)"
      ]
    },
    {
      "cell_type": "code",
      "execution_count": null,
      "metadata": {
        "colab": {
          "background_save": true
        },
        "id": "Qq6SgvgjN_Ij",
        "outputId": "a675a482-8780-45ce-d60a-11bfd317b626"
      },
      "outputs": [
        {
          "name": "stderr",
          "output_type": "stream",
          "text": [
            "/usr/local/lib/python3.7/dist-packages/torch/autocast_mode.py:162: UserWarning: User provided device_type of 'cuda', but CUDA is not available. Disabling\n",
            "  warnings.warn('User provided device_type of \\'cuda\\', but CUDA is not available. Disabling')\n"
          ]
        }
      ],
      "source": [
        "tokens_con_alfanumericos = []\n",
        "\n",
        "for tuit in tuits:\n",
        "  doc = nlp(tuit)\n",
        "  for token in doc:\n",
        "    tokens_con_alfanumericos.append(token.is_alpha)"
      ]
    },
    {
      "cell_type": "code",
      "execution_count": null,
      "metadata": {
        "colab": {
          "background_save": true
        },
        "id": "okxelpH4QTH-",
        "outputId": "52efbc1c-3674-42cb-b609-d9aebaebf8ca"
      },
      "outputs": [
        {
          "data": {
            "text/plain": [
              "[(True, 96543), (False, 19092)]"
            ]
          },
          "execution_count": null,
          "metadata": {},
          "output_type": "execute_result"
        }
      ],
      "source": [
        "contador_tokens_con_alfanumericos  = Counter(tokens_con_alfanumericos)\n",
        "contador_tokens_con_alfanumericos.most_common(10)"
      ]
    },
    {
      "cell_type": "code",
      "execution_count": null,
      "metadata": {
        "id": "L9lgian0OS03"
      },
      "outputs": [],
      "source": [
        "tokens_con_minusculas = []\n",
        "\n",
        "for tuit in tuits:\n",
        "  doc = nlp(tuit)\n",
        "  for token in doc:\n",
        "    tokens_con_minusculas.append(token.is_lower)"
      ]
    },
    {
      "cell_type": "code",
      "execution_count": null,
      "metadata": {
        "id": "q0t19nCtQYB-"
      },
      "outputs": [],
      "source": [
        "contador_tokens_con_minusculas  = Counter(tokens_con_minusculas)\n",
        "contador_tokens_con_minusculas.most_common(10)"
      ]
    },
    {
      "cell_type": "code",
      "execution_count": null,
      "metadata": {
        "id": "rP-nK8UsOXcm"
      },
      "outputs": [],
      "source": [
        "tokens_con_mayusculas = []\n",
        "\n",
        "for tuit in tuits:\n",
        "  doc = nlp(tuit)\n",
        "  for token in doc:\n",
        "    tokens_con_mayusculas.append(token.is_upper)"
      ]
    },
    {
      "cell_type": "code",
      "execution_count": null,
      "metadata": {
        "id": "pD-ODPzXQZMi"
      },
      "outputs": [],
      "source": [
        "contador_tokens_con_mayusculas  = Counter(tokens_con_mayusculas)\n",
        "contador_tokens_con_mayusculas.most_common(10)"
      ]
    },
    {
      "cell_type": "code",
      "execution_count": null,
      "metadata": {
        "id": "yii6MMLyOXe8"
      },
      "outputs": [],
      "source": [
        "tokens_de_signos_de_puntuacion = []\n",
        "\n",
        "for tuit in tuits:\n",
        "  doc = nlp(tuit)\n",
        "  for token in doc:\n",
        "    tokens_de_signos_de_puntuacion.append(token.is_punct)"
      ]
    },
    {
      "cell_type": "code",
      "execution_count": null,
      "metadata": {
        "id": "8z-h9K41QZwS"
      },
      "outputs": [],
      "source": [
        "contador_tokens_de_signos_de_puntuacion = Counter(tokens_de_signos_de_puntuacion)\n",
        "contador_tokens_de_signos_de_puntuacion.most_common(10)"
      ]
    },
    {
      "cell_type": "code",
      "execution_count": null,
      "metadata": {
        "id": "0JmiNxghPEX3"
      },
      "outputs": [],
      "source": [
        "lemmas = []\n",
        "\n",
        "for tuit in tuits:\n",
        "  doc = nlp(tuit)\n",
        "  for token in doc:\n",
        "    lemmas.append(token.lemma_)"
      ]
    },
    {
      "cell_type": "code",
      "execution_count": null,
      "metadata": {
        "id": "mXllf6NynYB2"
      },
      "outputs": [],
      "source": [
        "lemmas"
      ]
    },
    {
      "cell_type": "markdown",
      "metadata": {
        "id": "jeCEc3PSwgGS"
      },
      "source": [
        "# Siguiente paso: Obtener sólo ciertas POS\n",
        "\n",
        "Anteriormente hemos:\n",
        "\n",
        "1. Cargado un modelo de español de spaCy.\n",
        "2. Cargado un conjunto de datos usando pandas.\n",
        "3. Hecho limpieza de los datos (eliminación de ciertas columnas, eliminación de tuits marcados como 'en', etc.)\n",
        "4. Procesado los datos usando el modelo de español precargado.\n",
        "5. Extraído las tokens, POS, dependencias sintácticas, tokens alfanuméricos, etc. de nuestros datos.\n",
        "\n",
        "Ahora, usando la información del paso 5, extraeremos **sólo** ciertas POS que nos interesen. Antes extraímos todas las POS de nuestros datos, pero a veces no queremos eso. \n",
        "\n",
        "Para obtener sólo las POS que nos interesen, debemos incluir un ciclo `if` que coondicione la extracción a lo que queramos. "
      ]
    },
    {
      "cell_type": "markdown",
      "metadata": {
        "id": "6yypASGswddT"
      },
      "source": [
        "![Screen Shot 2022-05-02 at 12.11.16.png](data:image/png;base64,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)"
      ]
    },
    {
      "cell_type": "markdown",
      "metadata": {
        "id": "aNVycwYLxeDc"
      },
      "source": [
        "Ejemplo: Extraeremos sólo los tokens POS que concuerden con la etiqueta `ADJ`. \n",
        "\n",
        "Lo que pasará es que, de todas las POS, guardaremos sólo las tokens cuya POS sea igual a `ADJ`. O sea, obtendremos sólo los tokens que spaCy haya etiquetado como adjetivos.\n",
        "\n",
        "Recordemos que la lista `partes_del_discurso` generada anteriormente ya contiene todas las POS de nuestros datos. Crearemos una lista idéntica, pero le agregaremos los `tokens.text`, pues anteriormente sólo guardamos los `token.pos_` con el fin de no sólo obtener todas las etiquetas sino los tokens a los cuales les correspondan esas etiquetas."
      ]
    },
    {
      "cell_type": "code",
      "execution_count": null,
      "metadata": {
        "id": "0vMWWaLaxdKt"
      },
      "outputs": [],
      "source": [
        "# esta lista contendrá sólo los tokens que hayan sido etiquetados como \"ADJ\".\n",
        "tokens_adjetivos = []\n",
        "\n",
        "for tuit in tuits:\n",
        "  doc = nlp(tuit)\n",
        "  for token in doc:\n",
        "    if token.pos_ == 'ADJ':\n",
        "      tokens_adjetivos.append(token.text)"
      ]
    },
    {
      "cell_type": "markdown",
      "metadata": {
        "id": "6uAarO1LwkhD"
      },
      "source": [
        "\n",
        "A continuación repetiremos lo mismo pero para obtener solo los `token.text` cuyo `token.pos_` sea `VERB`."
      ]
    },
    {
      "cell_type": "code",
      "execution_count": null,
      "metadata": {
        "id": "JP8_loaIwfVN"
      },
      "outputs": [],
      "source": [
        "# esta lista contendrá sólo los tokens que hayan sido etiquetados como \"ADJ\".\n",
        "tokens_verbos = []\n",
        "\n",
        "for tuit in tuits:\n",
        "  doc = nlp(tuit)\n",
        "  for token in doc:\n",
        "    if token.pos_ == 'VERB':\n",
        "      tokens_verbos.append(token.text)"
      ]
    },
    {
      "cell_type": "markdown",
      "metadata": {
        "id": "pK7vhfCTzo8Q"
      },
      "source": [
        "Ahora escribiremos una **función** que tome dos parámetros:\n",
        "1. Una lista (en este caso la hemos nombrado `tuits`) que contenga strings.\n",
        "2. Un string `POS` que indique el tipo de `token.text` que deseemos obtener.\n",
        "\n",
        "La función nos devolverá una lista con los `token.text` que hayamos indicado en el parámetro.\n",
        "\n",
        "Esta es una ventaja de usar objetos en Python; estos nos permiten reutilizar nuesto código."
      ]
    },
    {
      "cell_type": "code",
      "execution_count": null,
      "metadata": {
        "id": "P0XQaLzYz6pm"
      },
      "outputs": [],
      "source": [
        "def obtiene_pos(tuits, parametro):\n",
        "  # esta lista contendrá sólo los tokens que hayan sido etiquetados como \"parametro\".\n",
        "  tokens_finales = []\n",
        "  for tuit in tuits:\n",
        "    doc = nlp(tuit)\n",
        "    for token in doc:\n",
        "      # str(parametro) toma al parámetro `parametro` de entrada, y lo usa para \n",
        "      # ponerle la condición de extracción a Python. Si el usuario de la función\n",
        "      # pone parámetro='ADJ', la línea 11 será token.pos_ == 'ADJ'.\n",
        "      if token.pos_ == str(parametro):\n",
        "        tokens_finales.append(token.text)\n",
        "  # es importante siempre poner un return seguido de lo que queramos que nuestra\n",
        "  # función nos devuelva al final de su ejecución.\n",
        "  return tokens_finales"
      ]
    },
    {
      "cell_type": "markdown",
      "metadata": {
        "id": "FxedFwJ90xJa"
      },
      "source": [
        "Probemos nuestra función, guardando nuestros resultados en una nueva variable."
      ]
    },
    {
      "cell_type": "code",
      "execution_count": null,
      "metadata": {
        "id": "3jWH_3e201y1"
      },
      "outputs": [],
      "source": [
        "tokens_adv = obtiene_pos(tuits, 'ADV')"
      ]
    },
    {
      "cell_type": "code",
      "execution_count": null,
      "metadata": {
        "id": "ZbLL33aK1AT1"
      },
      "outputs": [],
      "source": [
        "print(tokens_adv)"
      ]
    },
    {
      "cell_type": "markdown",
      "metadata": {
        "id": "yepxTtQy1HeJ"
      },
      "source": [
        "Podemos reutilizar la función anterior para obtener todos los `token.text` que deseemos de cualquier lista."
      ]
    }
  ],
  "metadata": {
    "colab": {
      "collapsed_sections": [],
      "name": "sesión 4.1 -Extracción de características lingüísticas (2)",
      "provenance": []
    },
    "kernelspec": {
      "display_name": "Python 3",
      "name": "python3"
    },
    "language_info": {
      "name": "python"
    }
  },
  "nbformat": 4,
  "nbformat_minor": 0
}